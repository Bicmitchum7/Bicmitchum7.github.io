{
 "cells": [
  {
   "cell_type": "code",
   "execution_count": 18,
   "metadata": {},
   "outputs": [
    {
     "data": {
      "text/plain": [
       "(2201, 13)"
      ]
     },
     "execution_count": 18,
     "metadata": {},
     "output_type": "execute_result"
    }
   ],
   "source": [
    "import pandas as pd\n",
    "df = pd.read_excel('FlightDelays.xlsx', 'Data_for_Analysis')\n",
    "df.shape"
   ]
  },
  {
   "cell_type": "code",
   "execution_count": 19,
   "metadata": {},
   "outputs": [
    {
     "name": "stdout",
     "output_type": "stream",
     "text": [
      "Requirement already satisfied: pandas_ml in c:\\users\\mitchell\\anaconda3\\lib\\site-packages (0.6.1)\n",
      "Requirement already satisfied: enum34 in c:\\users\\mitchell\\anaconda3\\lib\\site-packages (from pandas_ml) (1.1.10)\n",
      "Requirement already satisfied: pandas>=0.19.0 in c:\\users\\mitchell\\anaconda3\\lib\\site-packages (from pandas_ml) (0.24.2)\n",
      "Requirement already satisfied: numpy>=1.12.0 in c:\\users\\mitchell\\anaconda3\\lib\\site-packages (from pandas>=0.19.0->pandas_ml) (1.18.1)\n",
      "Requirement already satisfied: pytz>=2011k in c:\\users\\mitchell\\anaconda3\\lib\\site-packages (from pandas>=0.19.0->pandas_ml) (2019.3)\n",
      "Requirement already satisfied: python-dateutil>=2.5.0 in c:\\users\\mitchell\\anaconda3\\lib\\site-packages (from pandas>=0.19.0->pandas_ml) (2.8.1)\n",
      "Requirement already satisfied: six>=1.5 in c:\\users\\mitchell\\anaconda3\\lib\\site-packages (from python-dateutil>=2.5.0->pandas>=0.19.0->pandas_ml) (1.14.0)\n",
      "Note: you may need to restart the kernel to use updated packages.\n"
     ]
    }
   ],
   "source": [
    "pip install pandas_ml"
   ]
  },
  {
   "cell_type": "code",
   "execution_count": 20,
   "metadata": {},
   "outputs": [
    {
     "data": {
      "text/html": [
       "<div>\n",
       "<style scoped>\n",
       "    .dataframe tbody tr th:only-of-type {\n",
       "        vertical-align: middle;\n",
       "    }\n",
       "\n",
       "    .dataframe tbody tr th {\n",
       "        vertical-align: top;\n",
       "    }\n",
       "\n",
       "    .dataframe thead th {\n",
       "        text-align: right;\n",
       "    }\n",
       "</style>\n",
       "<table border=\"1\" class=\"dataframe\">\n",
       "  <thead>\n",
       "    <tr style=\"text-align: right;\">\n",
       "      <th></th>\n",
       "      <th>CRS_DEP_TIME</th>\n",
       "      <th>CARRIER</th>\n",
       "      <th>DEP_TIME</th>\n",
       "      <th>DEST</th>\n",
       "      <th>DISTANCE</th>\n",
       "      <th>FL_DATE</th>\n",
       "      <th>FL_NUM</th>\n",
       "      <th>ORIGIN</th>\n",
       "      <th>Weather</th>\n",
       "      <th>DAY_WEEK</th>\n",
       "      <th>DAY_OF_MONTH</th>\n",
       "      <th>TAIL_NUM</th>\n",
       "      <th>Flight Status</th>\n",
       "    </tr>\n",
       "  </thead>\n",
       "  <tbody>\n",
       "    <tr>\n",
       "      <th>0</th>\n",
       "      <td>1455</td>\n",
       "      <td>OH</td>\n",
       "      <td>1455</td>\n",
       "      <td>JFK</td>\n",
       "      <td>184</td>\n",
       "      <td>2004-01-01</td>\n",
       "      <td>5935</td>\n",
       "      <td>BWI</td>\n",
       "      <td>0</td>\n",
       "      <td>4</td>\n",
       "      <td>1</td>\n",
       "      <td>N940CA</td>\n",
       "      <td>ontime</td>\n",
       "    </tr>\n",
       "    <tr>\n",
       "      <th>1</th>\n",
       "      <td>1640</td>\n",
       "      <td>DH</td>\n",
       "      <td>1640</td>\n",
       "      <td>JFK</td>\n",
       "      <td>213</td>\n",
       "      <td>2004-01-01</td>\n",
       "      <td>6155</td>\n",
       "      <td>DCA</td>\n",
       "      <td>0</td>\n",
       "      <td>4</td>\n",
       "      <td>1</td>\n",
       "      <td>N405FJ</td>\n",
       "      <td>ontime</td>\n",
       "    </tr>\n",
       "    <tr>\n",
       "      <th>2</th>\n",
       "      <td>1245</td>\n",
       "      <td>DH</td>\n",
       "      <td>1245</td>\n",
       "      <td>LGA</td>\n",
       "      <td>229</td>\n",
       "      <td>2004-01-01</td>\n",
       "      <td>7208</td>\n",
       "      <td>IAD</td>\n",
       "      <td>0</td>\n",
       "      <td>4</td>\n",
       "      <td>1</td>\n",
       "      <td>N695BR</td>\n",
       "      <td>ontime</td>\n",
       "    </tr>\n",
       "    <tr>\n",
       "      <th>3</th>\n",
       "      <td>1715</td>\n",
       "      <td>DH</td>\n",
       "      <td>1709</td>\n",
       "      <td>LGA</td>\n",
       "      <td>229</td>\n",
       "      <td>2004-01-01</td>\n",
       "      <td>7215</td>\n",
       "      <td>IAD</td>\n",
       "      <td>0</td>\n",
       "      <td>4</td>\n",
       "      <td>1</td>\n",
       "      <td>N662BR</td>\n",
       "      <td>ontime</td>\n",
       "    </tr>\n",
       "    <tr>\n",
       "      <th>4</th>\n",
       "      <td>1039</td>\n",
       "      <td>DH</td>\n",
       "      <td>1035</td>\n",
       "      <td>LGA</td>\n",
       "      <td>229</td>\n",
       "      <td>2004-01-01</td>\n",
       "      <td>7792</td>\n",
       "      <td>IAD</td>\n",
       "      <td>0</td>\n",
       "      <td>4</td>\n",
       "      <td>1</td>\n",
       "      <td>N698BR</td>\n",
       "      <td>ontime</td>\n",
       "    </tr>\n",
       "  </tbody>\n",
       "</table>\n",
       "</div>"
      ],
      "text/plain": [
       "   CRS_DEP_TIME CARRIER  DEP_TIME DEST  DISTANCE    FL_DATE  FL_NUM ORIGIN  \\\n",
       "0          1455      OH      1455  JFK       184 2004-01-01    5935    BWI   \n",
       "1          1640      DH      1640  JFK       213 2004-01-01    6155    DCA   \n",
       "2          1245      DH      1245  LGA       229 2004-01-01    7208    IAD   \n",
       "3          1715      DH      1709  LGA       229 2004-01-01    7215    IAD   \n",
       "4          1039      DH      1035  LGA       229 2004-01-01    7792    IAD   \n",
       "\n",
       "   Weather  DAY_WEEK  DAY_OF_MONTH TAIL_NUM Flight Status  \n",
       "0        0         4             1   N940CA        ontime  \n",
       "1        0         4             1   N405FJ        ontime  \n",
       "2        0         4             1   N695BR        ontime  \n",
       "3        0         4             1   N662BR        ontime  \n",
       "4        0         4             1   N698BR        ontime  "
      ]
     },
     "execution_count": 20,
     "metadata": {},
     "output_type": "execute_result"
    }
   ],
   "source": [
    "df.head()"
   ]
  },
  {
   "cell_type": "code",
   "execution_count": 21,
   "metadata": {},
   "outputs": [
    {
     "data": {
      "text/html": [
       "<div>\n",
       "<style scoped>\n",
       "    .dataframe tbody tr th:only-of-type {\n",
       "        vertical-align: middle;\n",
       "    }\n",
       "\n",
       "    .dataframe tbody tr th {\n",
       "        vertical-align: top;\n",
       "    }\n",
       "\n",
       "    .dataframe thead th {\n",
       "        text-align: right;\n",
       "    }\n",
       "</style>\n",
       "<table border=\"1\" class=\"dataframe\">\n",
       "  <thead>\n",
       "    <tr style=\"text-align: right;\">\n",
       "      <th></th>\n",
       "      <th>CRS_DEP_TIME</th>\n",
       "      <th>DEP_TIME</th>\n",
       "      <th>DISTANCE</th>\n",
       "      <th>FL_NUM</th>\n",
       "      <th>Weather</th>\n",
       "      <th>DAY_WEEK</th>\n",
       "      <th>DAY_OF_MONTH</th>\n",
       "    </tr>\n",
       "  </thead>\n",
       "  <tbody>\n",
       "    <tr>\n",
       "      <th>count</th>\n",
       "      <td>2201.000000</td>\n",
       "      <td>2201.000000</td>\n",
       "      <td>2201.000000</td>\n",
       "      <td>2201.000000</td>\n",
       "      <td>2201.000000</td>\n",
       "      <td>2201.000000</td>\n",
       "      <td>2201.000000</td>\n",
       "    </tr>\n",
       "    <tr>\n",
       "      <th>mean</th>\n",
       "      <td>1371.938664</td>\n",
       "      <td>1369.298955</td>\n",
       "      <td>211.871422</td>\n",
       "      <td>3815.086324</td>\n",
       "      <td>0.014539</td>\n",
       "      <td>3.905498</td>\n",
       "      <td>16.024989</td>\n",
       "    </tr>\n",
       "    <tr>\n",
       "      <th>std</th>\n",
       "      <td>432.697149</td>\n",
       "      <td>442.462754</td>\n",
       "      <td>13.316815</td>\n",
       "      <td>2409.750224</td>\n",
       "      <td>0.119725</td>\n",
       "      <td>1.903149</td>\n",
       "      <td>8.677390</td>\n",
       "    </tr>\n",
       "    <tr>\n",
       "      <th>min</th>\n",
       "      <td>600.000000</td>\n",
       "      <td>10.000000</td>\n",
       "      <td>169.000000</td>\n",
       "      <td>746.000000</td>\n",
       "      <td>0.000000</td>\n",
       "      <td>1.000000</td>\n",
       "      <td>1.000000</td>\n",
       "    </tr>\n",
       "    <tr>\n",
       "      <th>25%</th>\n",
       "      <td>1000.000000</td>\n",
       "      <td>1004.000000</td>\n",
       "      <td>213.000000</td>\n",
       "      <td>2156.000000</td>\n",
       "      <td>0.000000</td>\n",
       "      <td>2.000000</td>\n",
       "      <td>8.000000</td>\n",
       "    </tr>\n",
       "    <tr>\n",
       "      <th>50%</th>\n",
       "      <td>1455.000000</td>\n",
       "      <td>1450.000000</td>\n",
       "      <td>214.000000</td>\n",
       "      <td>2385.000000</td>\n",
       "      <td>0.000000</td>\n",
       "      <td>4.000000</td>\n",
       "      <td>16.000000</td>\n",
       "    </tr>\n",
       "    <tr>\n",
       "      <th>75%</th>\n",
       "      <td>1710.000000</td>\n",
       "      <td>1709.000000</td>\n",
       "      <td>214.000000</td>\n",
       "      <td>6155.000000</td>\n",
       "      <td>0.000000</td>\n",
       "      <td>5.000000</td>\n",
       "      <td>23.000000</td>\n",
       "    </tr>\n",
       "    <tr>\n",
       "      <th>max</th>\n",
       "      <td>2130.000000</td>\n",
       "      <td>2330.000000</td>\n",
       "      <td>229.000000</td>\n",
       "      <td>7924.000000</td>\n",
       "      <td>1.000000</td>\n",
       "      <td>7.000000</td>\n",
       "      <td>31.000000</td>\n",
       "    </tr>\n",
       "  </tbody>\n",
       "</table>\n",
       "</div>"
      ],
      "text/plain": [
       "       CRS_DEP_TIME     DEP_TIME     DISTANCE       FL_NUM      Weather  \\\n",
       "count   2201.000000  2201.000000  2201.000000  2201.000000  2201.000000   \n",
       "mean    1371.938664  1369.298955   211.871422  3815.086324     0.014539   \n",
       "std      432.697149   442.462754    13.316815  2409.750224     0.119725   \n",
       "min      600.000000    10.000000   169.000000   746.000000     0.000000   \n",
       "25%     1000.000000  1004.000000   213.000000  2156.000000     0.000000   \n",
       "50%     1455.000000  1450.000000   214.000000  2385.000000     0.000000   \n",
       "75%     1710.000000  1709.000000   214.000000  6155.000000     0.000000   \n",
       "max     2130.000000  2330.000000   229.000000  7924.000000     1.000000   \n",
       "\n",
       "          DAY_WEEK  DAY_OF_MONTH  \n",
       "count  2201.000000   2201.000000  \n",
       "mean      3.905498     16.024989  \n",
       "std       1.903149      8.677390  \n",
       "min       1.000000      1.000000  \n",
       "25%       2.000000      8.000000  \n",
       "50%       4.000000     16.000000  \n",
       "75%       5.000000     23.000000  \n",
       "max       7.000000     31.000000  "
      ]
     },
     "execution_count": 21,
     "metadata": {},
     "output_type": "execute_result"
    }
   ],
   "source": [
    "df.describe()"
   ]
  },
  {
   "cell_type": "code",
   "execution_count": 22,
   "metadata": {},
   "outputs": [
    {
     "data": {
      "text/plain": [
       "ontime     1773\n",
       "delayed     428\n",
       "Name: Flight Status, dtype: int64"
      ]
     },
     "execution_count": 22,
     "metadata": {},
     "output_type": "execute_result"
    }
   ],
   "source": [
    "#check the balance of the categories in dependent variable\n",
    "#This would give us the naive rule\n",
    "df['Flight Status'].value_counts()"
   ]
  },
  {
   "cell_type": "code",
   "execution_count": 23,
   "metadata": {},
   "outputs": [
    {
     "data": {
      "text/plain": [
       "ontime     0.805543\n",
       "delayed    0.194457\n",
       "Name: Flight Status, dtype: float64"
      ]
     },
     "execution_count": 23,
     "metadata": {},
     "output_type": "execute_result"
    }
   ],
   "source": [
    "#calculate proportions of the above\n",
    "df['Flight Status'].value_counts()/df['Flight Status'].count()"
   ]
  },
  {
   "cell_type": "code",
   "execution_count": 24,
   "metadata": {},
   "outputs": [],
   "source": [
    "X = df.loc[:, ['CARRIER', 'DAY_WEEK', 'Weather',\n",
    "               'DEST', 'ORIGIN', 'CRS_DEP_TIME']]\n",
    "y = pd.Categorical(df['Flight Status'], \n",
    "                   categories=['ontime', 'delayed'])\n",
    "y = y.codes"
   ]
  },
  {
   "cell_type": "code",
   "execution_count": 25,
   "metadata": {},
   "outputs": [],
   "source": [
    "#bin departure time\n",
    "from scipy import stats\n",
    "dept_time = df['CRS_DEP_TIME']\n",
    "dep_time_bins=[659, 759, 859, 959, 1059, 1159, 1259, 1359, 1459, 1559, 1659, 1759, 1859, 1959, 2059]\n",
    "\n",
    "#arguments: X, values, bins\n",
    "statistic, bin_edges, dep_time_bin_number = stats.binned_statistic(\n",
    "    dept_time, dept_time, bins=dep_time_bins)\n",
    "X['CRS_DEP_TIME'] = dep_time_bin_number"
   ]
  },
  {
   "cell_type": "code",
   "execution_count": 26,
   "metadata": {},
   "outputs": [
    {
     "name": "stdout",
     "output_type": "stream",
     "text": [
      "<class 'pandas.core.frame.DataFrame'>\n",
      "RangeIndex: 2201 entries, 0 to 2200\n",
      "Data columns (total 38 columns):\n",
      "Weather            2201 non-null int64\n",
      "CARRIER_CO         2201 non-null uint8\n",
      "CARRIER_DH         2201 non-null uint8\n",
      "CARRIER_DL         2201 non-null uint8\n",
      "CARRIER_MQ         2201 non-null uint8\n",
      "CARRIER_OH         2201 non-null uint8\n",
      "CARRIER_RU         2201 non-null uint8\n",
      "CARRIER_UA         2201 non-null uint8\n",
      "CARRIER_US         2201 non-null uint8\n",
      "DEST_EWR           2201 non-null uint8\n",
      "DEST_JFK           2201 non-null uint8\n",
      "DEST_LGA           2201 non-null uint8\n",
      "ORIGIN_BWI         2201 non-null uint8\n",
      "ORIGIN_DCA         2201 non-null uint8\n",
      "ORIGIN_IAD         2201 non-null uint8\n",
      "CRS_DEP_TIME_0     2201 non-null uint8\n",
      "CRS_DEP_TIME_1     2201 non-null uint8\n",
      "CRS_DEP_TIME_2     2201 non-null uint8\n",
      "CRS_DEP_TIME_3     2201 non-null uint8\n",
      "CRS_DEP_TIME_4     2201 non-null uint8\n",
      "CRS_DEP_TIME_5     2201 non-null uint8\n",
      "CRS_DEP_TIME_6     2201 non-null uint8\n",
      "CRS_DEP_TIME_7     2201 non-null uint8\n",
      "CRS_DEP_TIME_8     2201 non-null uint8\n",
      "CRS_DEP_TIME_9     2201 non-null uint8\n",
      "CRS_DEP_TIME_10    2201 non-null uint8\n",
      "CRS_DEP_TIME_11    2201 non-null uint8\n",
      "CRS_DEP_TIME_12    2201 non-null uint8\n",
      "CRS_DEP_TIME_13    2201 non-null uint8\n",
      "CRS_DEP_TIME_14    2201 non-null uint8\n",
      "CRS_DEP_TIME_15    2201 non-null uint8\n",
      "DAY_WEEK_1         2201 non-null uint8\n",
      "DAY_WEEK_2         2201 non-null uint8\n",
      "DAY_WEEK_3         2201 non-null uint8\n",
      "DAY_WEEK_4         2201 non-null uint8\n",
      "DAY_WEEK_5         2201 non-null uint8\n",
      "DAY_WEEK_6         2201 non-null uint8\n",
      "DAY_WEEK_7         2201 non-null uint8\n",
      "dtypes: int64(1), uint8(37)\n",
      "memory usage: 96.8 KB\n"
     ]
    }
   ],
   "source": [
    "#get dummies for categorical variables\n",
    "X = pd.get_dummies(X, columns=['CARRIER', \n",
    "            'DEST', 'ORIGIN', 'CRS_DEP_TIME', 'DAY_WEEK'])\n",
    "X.info()"
   ]
  },
  {
   "cell_type": "code",
   "execution_count": 27,
   "metadata": {},
   "outputs": [
    {
     "data": {
      "text/plain": [
       "DCA    1370\n",
       "IAD     686\n",
       "BWI     145\n",
       "Name: ORIGIN, dtype: int64"
      ]
     },
     "execution_count": 27,
     "metadata": {},
     "output_type": "execute_result"
    }
   ],
   "source": [
    "df['ORIGIN'].value_counts()"
   ]
  },
  {
   "cell_type": "code",
   "execution_count": 28,
   "metadata": {},
   "outputs": [
    {
     "data": {
      "text/plain": [
       "1455    138\n",
       "1300    109\n",
       "1900     99\n",
       "700      92\n",
       "2120     90\n",
       "1500     77\n",
       "900      77\n",
       "1700     74\n",
       "840      62\n",
       "1715     61\n",
       "1245     61\n",
       "1830     58\n",
       "630      57\n",
       "1030     56\n",
       "1430     52\n",
       "1630     51\n",
       "1730     50\n",
       "1530     50\n",
       "1100     48\n",
       "1400     46\n",
       "2100     45\n",
       "1600     45\n",
       "800      40\n",
       "2030     31\n",
       "1240     31\n",
       "850      31\n",
       "1645     30\n",
       "1230     28\n",
       "930      28\n",
       "1710     28\n",
       "1800     27\n",
       "1720     27\n",
       "1640     27\n",
       "830      26\n",
       "600      26\n",
       "1359     25\n",
       "730      24\n",
       "1610     24\n",
       "1000     23\n",
       "1200     22\n",
       "640      22\n",
       "2000     22\n",
       "645      21\n",
       "1525     21\n",
       "1130     20\n",
       "1930     20\n",
       "1330     19\n",
       "735      17\n",
       "1040     15\n",
       "1039      6\n",
       "1515      5\n",
       "1315      4\n",
       "845       3\n",
       "925       3\n",
       "2130      2\n",
       "759       2\n",
       "1605      1\n",
       "1520      1\n",
       "1725      1\n",
       "Name: CRS_DEP_TIME, dtype: int64"
      ]
     },
     "execution_count": 28,
     "metadata": {},
     "output_type": "execute_result"
    }
   ],
   "source": [
    "df['CRS_DEP_TIME'].value_counts()"
   ]
  },
  {
   "cell_type": "code",
   "execution_count": 29,
   "metadata": {},
   "outputs": [
    {
     "data": {
      "text/plain": [
       "5    391\n",
       "4    372\n",
       "3    320\n",
       "1    308\n",
       "2    307\n",
       "7    253\n",
       "6    250\n",
       "Name: DAY_WEEK, dtype: int64"
      ]
     },
     "execution_count": 29,
     "metadata": {},
     "output_type": "execute_result"
    }
   ],
   "source": [
    "df['DAY_WEEK'].value_counts()"
   ]
  },
  {
   "cell_type": "code",
   "execution_count": 30,
   "metadata": {},
   "outputs": [],
   "source": [
    "X = X.drop(columns=['CARRIER_DH', 'CRS_DEP_TIME_7',\n",
    "                  'ORIGIN_DCA', 'DEST_JFK', 'DAY_WEEK_5'])"
   ]
  },
  {
   "cell_type": "code",
   "execution_count": 31,
   "metadata": {},
   "outputs": [],
   "source": [
    "from sklearn.linear_model import LogisticRegression\n",
    "from sklearn.model_selection import train_test_split\n",
    "X_train, X_test, y_train, y_test = train_test_split(X, y,\n",
    "                                                  test_size = .1,\n",
    "                                                  random_state=20, \n",
    "                                                    stratify=y )"
   ]
  },
  {
   "cell_type": "code",
   "execution_count": 32,
   "metadata": {},
   "outputs": [
    {
     "name": "stdout",
     "output_type": "stream",
     "text": [
      "Predicted  False  True  __all__\n",
      "Actual                         \n",
      "False       1592     3     1595\n",
      "True         357    28      385\n",
      "__all__     1949    31     1980\n",
      "population: 1980\n",
      "P: 385\n",
      "N: 1595\n",
      "PositiveTest: 31\n",
      "NegativeTest: 1949\n",
      "TP: 28\n",
      "TN: 1592\n",
      "FP: 3\n",
      "FN: 357\n",
      "TPR: 0.07272727272727272\n",
      "TNR: 0.9981191222570532\n",
      "PPV: 0.9032258064516129\n",
      "NPV: 0.8168291431503335\n",
      "FPR: 0.0018808777429467085\n",
      "FDR: 0.0967741935483871\n",
      "FNR: 0.9272727272727272\n",
      "ACC: 0.8181818181818182\n",
      "F1_score: 0.1346153846153846\n",
      "MCC: 0.22586123476577044\n",
      "informedness: 0.07084639498432588\n",
      "markedness: 0.7200549496019464\n",
      "prevalence: 0.19444444444444445\n",
      "LRP: 38.666666666666664\n",
      "LRN: 0.9290201005025126\n",
      "DOR: 41.62091503267973\n",
      "FOR: 0.1831708568496665\n"
     ]
    }
   ],
   "source": [
    "# run 10-fold cross validation as well as use a 10% hold out set\n",
    "\n",
    "from sklearn.model_selection import cross_val_predict\n",
    "from pandas_ml import ConfusionMatrix\n",
    "clf = LogisticRegression(random_state=2, solver='liblinear')\n",
    "y_pred = cross_val_predict(clf, X_train, y_train, cv=10)\n",
    "cm = ConfusionMatrix(y_train, y_pred)\n",
    "print(cm)\n",
    "cm.print_stats()"
   ]
  },
  {
   "cell_type": "code",
   "execution_count": 33,
   "metadata": {},
   "outputs": [
    {
     "name": "stdout",
     "output_type": "stream",
     "text": [
      "Predicted  False  True  __all__\n",
      "Actual                         \n",
      "False        178     0      178\n",
      "True          37     6       43\n",
      "__all__      215     6      221\n",
      "population: 221\n",
      "P: 43\n",
      "N: 178\n",
      "PositiveTest: 6\n",
      "NegativeTest: 215\n",
      "TP: 6\n",
      "TN: 178\n",
      "FP: 0\n",
      "FN: 37\n",
      "TPR: 0.13953488372093023\n",
      "TNR: 1.0\n",
      "PPV: 1.0\n",
      "NPV: 0.827906976744186\n",
      "FPR: 0.0\n",
      "FDR: 0.0\n",
      "FNR: 0.8604651162790697\n",
      "ACC: 0.832579185520362\n",
      "F1_score: 0.24489795918367346\n",
      "MCC: 0.3398851331431648\n",
      "informedness: 0.13953488372093026\n",
      "markedness: 0.827906976744186\n",
      "prevalence: 0.19457013574660634\n",
      "LRP: inf\n",
      "LRN: 0.8604651162790697\n",
      "DOR: inf\n",
      "FOR: 0.17209302325581396\n"
     ]
    },
    {
     "name": "stderr",
     "output_type": "stream",
     "text": [
      "C:\\Users\\Mitchell\\anaconda3\\lib\\site-packages\\pandas_ml\\confusion_matrix\\bcm.py:330: RuntimeWarning: divide by zero encountered in double_scalars\n",
      "  return(np.float64(self.TPR) / self.FPR)\n"
     ]
    }
   ],
   "source": [
    "#now lets test on our test set\n",
    "clf.fit(X_train, y_train)\n",
    "y_pred = clf.predict(X_test)\n",
    "cm = ConfusionMatrix(y_test, y_pred)\n",
    "print(cm)\n",
    "cm.print_stats()"
   ]
  },
  {
   "cell_type": "code",
   "execution_count": 34,
   "metadata": {},
   "outputs": [
    {
     "data": {
      "image/png": "[encoded data removed]",
      "text/plain": [
       "<Figure size 432x288 with 1 Axes>"
      ]
     },
     "metadata": {
      "needs_background": "light"
     },
     "output_type": "display_data"
    }
   ],
   "source": [
    "%matplotlib inline\n",
    "import matplotlib.pyplot as plt\n",
    "from sklearn.metrics import roc_curve, auc\n",
    "\n",
    "y_scores = clf.predict_proba(X_test)\n",
    "fpr, tpr, thresholds = roc_curve(y_test, y_scores[:, 1])#False positive rate and true positive rate values \n",
    "roc_auc = auc(fpr, tpr) # area under the curve\n",
    "plt.figure()\n",
    "lw = 2\n",
    "plt.plot(fpr, tpr, color='darkorange',\n",
    "         lw=lw, label='ROC curve (area = %0.2f)' % roc_auc)\n",
    "plt.plot([0, 1], [0, 1], color='navy', lw=lw, linestyle='--') #naive rule\n",
    "plt.xlim([0.0, 1.0])\n",
    "plt.ylim([0.0, 1.05])\n",
    "plt.xlabel('False Positive Rate')\n",
    "plt.ylabel('True Positive Rate')\n",
    "plt.title('Receiver operating characteristic (ROC) curve')\n",
    "plt.legend(loc=\"lower right\")\n",
    "plt.show()"
   ]
  },
  {
   "cell_type": "code",
   "execution_count": 35,
   "metadata": {},
   "outputs": [
    {
     "name": "stdout",
     "output_type": "stream",
     "text": [
      "Coefficients: \n",
      " [['Weather' 3.2298629804752146]\n",
      " ['CARRIER_CO' 0.30337994993750456]\n",
      " ['CARRIER_DL' -0.5813492044611389]\n",
      " ['CARRIER_MQ' 0.3561614057430618]\n",
      " ['CARRIER_OH' -0.74884722657902]\n",
      " ['CARRIER_RU' -0.051030381569728354]\n",
      " ['CARRIER_UA' -0.42408847318676074]\n",
      " ['CARRIER_US' -0.9887669010567541]\n",
      " ['DEST_EWR' 0.04400996090722184]\n",
      " ['DEST_LGA' 0.15391439266092888]\n",
      " ['ORIGIN_BWI' 0.5874897806953562]\n",
      " ['ORIGIN_IAD' 0.31860203627418704]\n",
      " ['CRS_DEP_TIME_0' -0.12930866360774032]\n",
      " ['CRS_DEP_TIME_1' 0.10415073002683517]\n",
      " ['CRS_DEP_TIME_2' 0.0203014311433883]\n",
      " ['CRS_DEP_TIME_3' -0.6745767203832354]\n",
      " ['CRS_DEP_TIME_4' -0.22979930543055452]\n",
      " ['CRS_DEP_TIME_5' -0.0534353833859567]\n",
      " ['CRS_DEP_TIME_6' 0.0734865741164906]\n",
      " ['CRS_DEP_TIME_8' 0.5615281469188865]\n",
      " ['CRS_DEP_TIME_9' 0.7427559605884401]\n",
      " ['CRS_DEP_TIME_10' 0.26308172436840693]\n",
      " ['CRS_DEP_TIME_11' 0.5412763239686879]\n",
      " ['CRS_DEP_TIME_12' 0.22657553998956925]\n",
      " ['CRS_DEP_TIME_13' 1.013655797447888]\n",
      " ['CRS_DEP_TIME_14' 0.8201368002968059]\n",
      " ['CRS_DEP_TIME_15' 0.644555494749937]\n",
      " ['DAY_WEEK_1' 0.3874919444851097]\n",
      " ['DAY_WEEK_2' 0.026675955599545473]\n",
      " ['DAY_WEEK_3' 0.034598743245274975]\n",
      " ['DAY_WEEK_4' -0.303321329426812]\n",
      " ['DAY_WEEK_6' -0.7602693996747152]\n",
      " ['DAY_WEEK_7' 0.45995043424072124]]\n"
     ]
    }
   ],
   "source": [
    "import numpy as np\n",
    "coefficients = np.column_stack((X.columns, np.reshape(clf.coef_, -1))) #join column names and coeffcients\n",
    "print('Coefficients: \\n', coefficients)"
   ]
  },
  {
   "cell_type": "code",
   "execution_count": null,
   "metadata": {},
   "outputs": [],
   "source": []
  }
 ],
 "metadata": {
  "kernelspec": {
   "display_name": "Python 3",
   "language": "python",
   "name": "python3"
  },
  "language_info": {
   "codemirror_mode": {
    "name": "ipython",
    "version": 3
   },
   "file_extension": ".py",
   "mimetype": "text/x-python",
   "name": "python",
   "nbconvert_exporter": "python",
   "pygments_lexer": "ipython3",
   "version": "3.7.6"
  }
 },
 "nbformat": 4,
 "nbformat_minor": 2
}
