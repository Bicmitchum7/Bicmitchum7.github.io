{
 "cells": [
  {
   "cell_type": "markdown",
   "metadata": {},
   "source": [
    "### Objectives :"
   ]
  },
  {
   "cell_type": "markdown",
   "metadata": {},
   "source": [
    "Which features increase your chances of winning a game and try and predict other games based on the first 10min worth of game data ?\n",
    "\n",
    "Method - Classification"
   ]
  },
  {
   "cell_type": "markdown",
   "metadata": {},
   "source": [
    "### Data description :"
   ]
  },
  {
   "cell_type": "markdown",
   "metadata": {},
   "source": [
    "This .csv file contains approx. 10k ranked games (from high Diamond to low Master). Each row is a unique game and features have been collected after the first 10 minutes of the game. Column gameId can be used to collect more attributes from Riot API, column blueWins is the target.\n",
    "\n",
    "\n",
    "Fields include:\n",
    "\n",
    "game - IdUnique RIOT ID of the game. Can be used with the Riot Games API.\n",
    "\n",
    "blueWins(Dependent variable) - The target column. 1 if the blue team has won, 0 otherwise.\n",
    "\n",
    "blueWardsPlaced (Independent variable)- Number of warding totems placed by the blue team on the map\n",
    "\n",
    "blueWardsDestroyed (Independent variable)- Number of enemy warding totems the blue team has destroyed\n",
    "\n",
    "blueFirstBlood (Independent variable) - First kill of the game. 1 if the blue team did the first kill, 0 otherwise\n",
    "\n",
    "blueKills (Independent variable) - Number of enemies killed by the blue team\n",
    "\n",
    "blueDeaths (Independent variable)- Number of deaths (blue team)\n",
    "\n",
    "blueAssists (Independent variable)- Number of kill assists (blue team)\n",
    "\n",
    "blueEliteMonsters (Independent variable)- Number of elite monsters killed by the blue team (Dragons and Heralds)\n",
    "\n",
    "blueDragons (Independent variable)- Number of dragons killed by the blue team\n",
    "\n",
    "blueHeralds (Independent variable) - Number of heralds killed by the blue team\n",
    "\n",
    "blueTowers (Independent variable) - DestroyedNumber of structures destroyed by the blue team (towers...)\n",
    "\n",
    "blueTotalGold (Independent variable) - Blue team total gold\n",
    "\n",
    "blueAvgLevel (Independent variable) - Blue team average champion level\n",
    "\n",
    "blueTotalExperience (Independent variable) (Independent variable) - Blue team total experience\n",
    "\n",
    "blueTotalMinionsKilled (Independent variable)- Blue team total minions killed (CS)\n",
    "\n",
    "blueTotalJungleMinionsKilled (Independent variable)- Blue team total jungle monsters killed\n",
    "\n",
    "blueGoldDiff (Independent variable) - Blue team gold difference compared to the enemy team\n",
    "\n",
    "blueExperienceDiff (Independent variable) - Blue team experience difference compared to the enemy team\n",
    "\n",
    "blueCSPerMin (Independent variable) - Blue team CS (minions) per minute\n",
    "\n",
    "blueGoldPerMin - (Independent variable) Blue team gold per minute\n",
    "\n",
    "redWardsPlaced (Independent variable) - Number of warding totems placed by the red team on the map\n",
    "\n",
    "redWardsDestroyed (Independent variable) - Number of enemy warding totems the red team has destroyed\n",
    "\n",
    "redFirstBlood (Independent variable) - First kill of the game. 1 if the red team did the first kill, 0 otherwise\n",
    "\n",
    "redKills (Independent variable) - Number of enemies killed by the red team\n",
    "\n",
    "redDeaths (Independent variable) - Number of deaths (red team)\n",
    "\n",
    "redAssists (Independent variable) - Number of kill assists (red team)\n",
    "\n",
    "redEliteMonsters (Independent variable) - Number of elite monsters killed by the red team (Dragons and Heralds)\n",
    "\n",
    "redDragons (Independent variable) - Number of dragons killed by the red team\n",
    "\n",
    "redHeralds (Independent variable) - Number of heralds killed by the red team\n",
    "\n",
    "redTowersDestroyed (Independent variable) - Number of structures destroyed by the red team (towers...)\n",
    "\n",
    "redTotalGold (Independent variable) - Red team total gold\n",
    "\n",
    "redAvgLevel (Independent variable) - Red team average champion level\n",
    "\n",
    "redTotalExperience (Independent variable) - Red team total experience\n",
    "\n",
    "redTotalMinionsKilled (Independent variable) - Red team total minions killed (CS)\n",
    "\n",
    "redTotalJungleMinionsKilled (Independent variable) - Red team total jungle monsters killed\n",
    "\n",
    "redGoldDiff (Independent variable) - Red team gold difference compared to the enemy team\n",
    "\n",
    "redExperienceDiff (Independent variable) - Red team experience difference compared to the enemy team\n",
    "\n",
    "redCSPerMin (Independent variable) - Red team CS (minions) per minute\n",
    "\n",
    "redGoldPerMin (Independent variable) - Red team gold per minute"
   ]
  },
  {
   "cell_type": "markdown",
   "metadata": {},
   "source": [
    "### Duplicate analysis : "
   ]
  },
  {
   "cell_type": "code",
   "execution_count": 1,
   "metadata": {},
   "outputs": [
    {
     "data": {
      "application/vnd.jupyter.widget-view+json": {
       "model_id": "89e0ecb8dd2447029e9c84458501d13c",
       "version_major": 2,
       "version_minor": 0
      },
      "text/plain": [
       "VBox()"
      ]
     },
     "metadata": {},
     "output_type": "display_data"
    },
    {
     "name": "stdout",
     "output_type": "stream",
     "text": [
      "Starting Spark application\n"
     ]
    },
    {
     "data": {
      "text/html": [
       "<table>\n",
       "<tr><th>ID</th><th>YARN Application ID</th><th>Kind</th><th>State</th><th>Spark UI</th><th>Driver log</th><th>Current session?</th></tr><tr><td>3</td><td>application_1588303416860_0004</td><td>pyspark</td><td>idle</td><td><a target=\"_blank\" href=\"http://ip-172-31-42-121.ec2.internal:20888/proxy/application_1588303416860_0004/\">Link</a></td><td><a target=\"_blank\" href=\"http://ip-172-31-35-130.ec2.internal:8042/node/containerlogs/container_1588303416860_0004_01_000001/livy\">Link</a></td><td>✔</td></tr></table>"
      ],
      "text/plain": [
       "<IPython.core.display.HTML object>"
      ]
     },
     "metadata": {},
     "output_type": "display_data"
    },
    {
     "data": {
      "application/vnd.jupyter.widget-view+json": {
       "model_id": "",
       "version_major": 2,
       "version_minor": 0
      },
      "text/plain": [
       "FloatProgress(value=0.0, bar_style='info', description='Progress:', layout=Layout(height='25px', width='50%'),…"
      ]
     },
     "metadata": {},
     "output_type": "display_data"
    },
    {
     "name": "stdout",
     "output_type": "stream",
     "text": [
      "SparkSession available as 'spark'.\n"
     ]
    },
    {
     "data": {
      "application/vnd.jupyter.widget-view+json": {
       "model_id": "",
       "version_major": 2,
       "version_minor": 0
      },
      "text/plain": [
       "FloatProgress(value=0.0, bar_style='info', description='Progress:', layout=Layout(height='25px', width='50%'),…"
      ]
     },
     "metadata": {},
     "output_type": "display_data"
    }
   ],
   "source": [
    "from pyspark.sql.types import *\n",
    "\n",
    "gameSchema = StructType([\n",
    "    StructField(\"gameId\", DoubleType(), False),\n",
    "    StructField(\"blueWins\", IntegerType(), False),\n",
    "    StructField(\"blueWardsPlaced\", IntegerType(), False),\n",
    "    StructField(\"blueWardsDestroyed\", IntegerType(), False),\n",
    "    StructField(\"blueFirstBlood\", IntegerType(), False),\n",
    "    StructField(\"blueKills\", IntegerType(), False),\n",
    "    StructField(\"blueDeaths\", IntegerType(), False),\n",
    "    StructField(\"blueAssists\", IntegerType(), False),\n",
    "    StructField(\"blueEliteMonsters\", IntegerType(), False),\n",
    "    StructField(\"blueDragons\", IntegerType(), False),\n",
    "    StructField(\"blueHeralds\", IntegerType(), False),\n",
    "    StructField(\"blueTowersDestroyed\", IntegerType(), False),\n",
    "    StructField(\"blueTotalGold\", IntegerType(), False),\n",
    "    StructField(\"blueAvgLevel\", DoubleType(), False),\n",
    "    StructField(\"blueTotalExperience\", IntegerType(), False),\n",
    "    StructField(\"blueTotalMinionsKilled\", IntegerType(), False),\n",
    "    StructField(\"blueTotalJungleMinionsKilled\", IntegerType(), False),\n",
    "    StructField(\"blueGoldDiff\", IntegerType(), False),\n",
    "    StructField(\"blueExperienceDiff\", IntegerType(), False),\n",
    "    StructField(\"blueCSPerMin\", DoubleType(), False),\n",
    "    StructField(\"blueGoldPerMin\", DoubleType(), False),\n",
    "    StructField(\"redWardsPlaced\", IntegerType(), False),\n",
    "    StructField(\"redWardsDestroyed\", IntegerType(), False),\n",
    "    StructField(\"redFirstBlood\", IntegerType(), False),\n",
    "    StructField(\"redKills\", IntegerType(), False),\n",
    "    StructField(\"redDeaths\", IntegerType(), False),\n",
    "    StructField(\"redAssists\", IntegerType(), False),\n",
    "    StructField(\"redEliteMonsters\", IntegerType(), False),\n",
    "    StructField(\"redDragons\", IntegerType(), False),\n",
    "    StructField(\"redHeralds\", IntegerType(), False),\n",
    "    StructField(\"redTowersDestroyed\", IntegerType(), False),\n",
    "    StructField(\"redTotalGold\", IntegerType(), False),\n",
    "    StructField(\"redAvgLevel\", DoubleType(), False),\n",
    "    StructField(\"redTotalExperience\", IntegerType(), False),\n",
    "    StructField(\"redTotalMinionsKilled\", IntegerType(), False),\n",
    "    StructField(\"redTotalJungleMinionsKilled\", IntegerType(), False),\n",
    "    StructField(\"redGoldDiff\", IntegerType(), False),\n",
    "    StructField(\"redExperienceDiff\", IntegerType(), False),\n",
    "    StructField(\"redCSPerMin\", DoubleType(), False),\n",
    "    StructField(\"redGoldPerMin\", DoubleType(), False),\n",
    "])\n",
    "\n",
    "games = spark.read.csv('s3://cis4567-mitchell/HadoopCluster/high_diamond_ranked_10min.csv',\n",
    "                      schema=gameSchema, header=True)"
   ]
  },
  {
   "cell_type": "code",
   "execution_count": 2,
   "metadata": {},
   "outputs": [
    {
     "data": {
      "application/vnd.jupyter.widget-view+json": {
       "model_id": "7092f8524a844b859d7bbb9311f6de47",
       "version_major": 2,
       "version_minor": 0
      },
      "text/plain": [
       "VBox()"
      ]
     },
     "metadata": {},
     "output_type": "display_data"
    },
    {
     "data": {
      "application/vnd.jupyter.widget-view+json": {
       "model_id": "",
       "version_major": 2,
       "version_minor": 0
      },
      "text/plain": [
       "FloatProgress(value=0.0, bar_style='info', description='Progress:', layout=Layout(height='25px', width='50%'),…"
      ]
     },
     "metadata": {},
     "output_type": "display_data"
    },
    {
     "name": "stdout",
     "output_type": "stream",
     "text": [
      "(9879, 9879)"
     ]
    }
   ],
   "source": [
    "# this line of code will count the number of records(games) and count the number of unique games. \n",
    "#The result is that all of these games are unique, meaning there are no repeating games.\n",
    "games.count(), games.distinct().count()"
   ]
  },
  {
   "cell_type": "markdown",
   "metadata": {},
   "source": [
    "### Duplicated GAMEIDs"
   ]
  },
  {
   "cell_type": "code",
   "execution_count": 3,
   "metadata": {},
   "outputs": [
    {
     "data": {
      "application/vnd.jupyter.widget-view+json": {
       "model_id": "da52a2e6089a472ebb4547d2145f59f5",
       "version_major": 2,
       "version_minor": 0
      },
      "text/plain": [
       "VBox()"
      ]
     },
     "metadata": {},
     "output_type": "display_data"
    },
    {
     "data": {
      "application/vnd.jupyter.widget-view+json": {
       "model_id": "",
       "version_major": 2,
       "version_minor": 0
      },
      "text/plain": [
       "FloatProgress(value=0.0, bar_style='info', description='Progress:', layout=Layout(height='25px', width='50%'),…"
      ]
     },
     "metadata": {},
     "output_type": "display_data"
    },
    {
     "name": "stdout",
     "output_type": "stream",
     "text": [
      "+--------------+----------------------+\n",
      "|CountOfGAMEIDs|CountOfDistinctGAMEIDs|\n",
      "+--------------+----------------------+\n",
      "|          9879|                  9879|\n",
      "+--------------+----------------------+"
     ]
    }
   ],
   "source": [
    "# are there any duplicated GAMEIDs? There are no duplicate gameids\n",
    "import pyspark.sql.functions as fn\n",
    "\n",
    "games.agg(\n",
    "      fn.count('gameId').alias('CountOfGAMEIDs')\n",
    "    , fn.countDistinct('gameId').alias('CountOfDistinctGAMEIDs')\n",
    ").show()"
   ]
  },
  {
   "cell_type": "code",
   "execution_count": 4,
   "metadata": {},
   "outputs": [
    {
     "data": {
      "application/vnd.jupyter.widget-view+json": {
       "model_id": "b77b7fc28a834610b7693978ea90594e",
       "version_major": 2,
       "version_minor": 0
      },
      "text/plain": [
       "VBox()"
      ]
     },
     "metadata": {},
     "output_type": "display_data"
    },
    {
     "data": {
      "application/vnd.jupyter.widget-view+json": {
       "model_id": "",
       "version_major": 2,
       "version_minor": 0
      },
      "text/plain": [
       "FloatProgress(value=0.0, bar_style='info', description='Progress:', layout=Layout(height='25px', width='50%'),…"
      ]
     },
     "metadata": {},
     "output_type": "display_data"
    },
    {
     "name": "stdout",
     "output_type": "stream",
     "text": [
      "+------+-----+\n",
      "|gameId|count|\n",
      "+------+-----+\n",
      "+------+-----+"
     ]
    }
   ],
   "source": [
    "# what id is duplicated?\n",
    "# Output - No duplicate if Yes drop the value\n",
    "(\n",
    "    games\n",
    "    .groupby('gameId')\n",
    "    .count()\n",
    "    .filter('count > 1')\n",
    "    .show()\n",
    ")"
   ]
  },
  {
   "cell_type": "markdown",
   "metadata": {},
   "source": [
    "# Handling missing observations"
   ]
  },
  {
   "cell_type": "markdown",
   "metadata": {},
   "source": [
    "### Missing observations per row"
   ]
  },
  {
   "cell_type": "code",
   "execution_count": 5,
   "metadata": {},
   "outputs": [
    {
     "data": {
      "application/vnd.jupyter.widget-view+json": {
       "model_id": "6f209f366a9e4b62905859c86c1356e8",
       "version_major": 2,
       "version_minor": 0
      },
      "text/plain": [
       "VBox()"
      ]
     },
     "metadata": {},
     "output_type": "display_data"
    },
    {
     "data": {
      "application/vnd.jupyter.widget-view+json": {
       "model_id": "",
       "version_major": 2,
       "version_minor": 0
      },
      "text/plain": [
       "FloatProgress(value=0.0, bar_style='info', description='Progress:', layout=Layout(height='25px', width='50%'),…"
      ]
     },
     "metadata": {},
     "output_type": "display_data"
    },
    {
     "name": "stdout",
     "output_type": "stream",
     "text": [
      "0"
     ]
    }
   ],
   "source": [
    "#examine if there are any rows with missing values There no missing values in the rows, meaning our dataset requires\n",
    "#no imputation or dropping of any values\n",
    "games.rdd.map(\n",
    "           lambda row: (\n",
    "                 row['gameId']\n",
    "               , sum([c == None for c in row])\n",
    "           )\n",
    "        )\\\n",
    "        .filter(lambda el: el[1] >= 1)\\\n",
    "        .count()"
   ]
  },
  {
   "cell_type": "markdown",
   "metadata": {},
   "source": [
    "### Missing observations per column"
   ]
  },
  {
   "cell_type": "code",
   "execution_count": 6,
   "metadata": {},
   "outputs": [
    {
     "data": {
      "application/vnd.jupyter.widget-view+json": {
       "model_id": "8627a3eb839d494585d717b3b2268db8",
       "version_major": 2,
       "version_minor": 0
      },
      "text/plain": [
       "VBox()"
      ]
     },
     "metadata": {},
     "output_type": "display_data"
    },
    {
     "data": {
      "application/vnd.jupyter.widget-view+json": {
       "model_id": "",
       "version_major": 2,
       "version_minor": 0
      },
      "text/plain": [
       "FloatProgress(value=0.0, bar_style='info', description='Progress:', layout=Layout(height='25px', width='50%'),…"
      ]
     },
     "metadata": {},
     "output_type": "display_data"
    },
    {
     "name": "stdout",
     "output_type": "stream",
     "text": [
      "gameId_miss 0.0\n",
      "blueWins_miss 0.0\n",
      "blueWardsPlaced_miss 0.0\n",
      "blueWardsDestroyed_miss 0.0\n",
      "blueFirstBlood_miss 0.0\n",
      "blueKills_miss 0.0\n",
      "blueDeaths_miss 0.0\n",
      "blueAssists_miss 0.0\n",
      "blueEliteMonsters_miss 0.0\n",
      "blueDragons_miss 0.0\n",
      "blueHeralds_miss 0.0\n",
      "blueTowersDestroyed_miss 0.0\n",
      "blueTotalGold_miss 0.0\n",
      "blueAvgLevel_miss 0.0\n",
      "blueTotalExperience_miss 0.0\n",
      "blueTotalMinionsKilled_miss 0.0\n",
      "blueTotalJungleMinionsKilled_miss 0.0\n",
      "blueGoldDiff_miss 0.0\n",
      "blueExperienceDiff_miss 0.0\n",
      "blueCSPerMin_miss 0.0\n",
      "blueGoldPerMin_miss 0.0\n",
      "redWardsPlaced_miss 0.0\n",
      "redWardsDestroyed_miss 0.0\n",
      "redFirstBlood_miss 0.0\n",
      "redKills_miss 0.0\n",
      "redDeaths_miss 0.0\n",
      "redAssists_miss 0.0\n",
      "redEliteMonsters_miss 0.0\n",
      "redDragons_miss 0.0\n",
      "redHeralds_miss 0.0\n",
      "redTowersDestroyed_miss 0.0\n",
      "redTotalGold_miss 0.0\n",
      "redAvgLevel_miss 0.0\n",
      "redTotalExperience_miss 0.0\n",
      "redTotalMinionsKilled_miss 0.0\n",
      "redTotalJungleMinionsKilled_miss 0.0\n",
      "redGoldDiff_miss 0.0\n",
      "redExperienceDiff_miss 0.0\n",
      "redCSPerMin_miss 0.0\n",
      "redGoldPerMin_miss 0.0"
     ]
    }
   ],
   "source": [
    "#count percentage of missing values in each column. There no missing values in columns either, meaning our dataset requires\n",
    "#no imputation or dropping of any values\n",
    "for k, v in sorted(\n",
    "    games.agg(*[\n",
    "               (1 - (fn.count(c) / fn.count('*')))\n",
    "                    .alias(c + '_miss')\n",
    "               for c in games.columns\n",
    "           ])\n",
    "        .collect()[0]\n",
    "        .asDict()\n",
    "        .items()\n",
    "    , key=lambda el: el[1]\n",
    "    , reverse=True\n",
    "):\n",
    "    print(k, v)"
   ]
  },
  {
   "cell_type": "markdown",
   "metadata": {},
   "source": [
    "# Handling outliers for blue team"
   ]
  },
  {
   "cell_type": "code",
   "execution_count": 7,
   "metadata": {},
   "outputs": [
    {
     "data": {
      "application/vnd.jupyter.widget-view+json": {
       "model_id": "1b13c4e7e42d4017b9a608cad0ef8f9e",
       "version_major": 2,
       "version_minor": 0
      },
      "text/plain": [
       "VBox()"
      ]
     },
     "metadata": {},
     "output_type": "display_data"
    },
    {
     "data": {
      "application/vnd.jupyter.widget-view+json": {
       "model_id": "",
       "version_major": 2,
       "version_minor": 0
      },
      "text/plain": [
       "FloatProgress(value=0.0, bar_style='info', description='Progress:', layout=Layout(height='25px', width='50%'),…"
      ]
     },
     "metadata": {},
     "output_type": "display_data"
    },
    {
     "name": "stdout",
     "output_type": "stream",
     "text": [
      "blueTotalGold [15472.0, 17284.0]\n",
      "blueTotalExperience [17217.0, 18613.0]\n",
      "+-------------+---------------+---------------------+\n",
      "|       gameId|blueTotalGold_o|blueTotalExperience_o|\n",
      "+-------------+---------------+---------------------+\n",
      "|4.519157822E9|          false|                false|\n",
      "|4.523371949E9|          false|                false|\n",
      "| 4.52147453E9|          false|                false|\n",
      "|4.524384067E9|          false|                false|\n",
      "|4.436033771E9|          false|                false|\n",
      "|4.475365709E9|          false|                false|\n",
      "|4.493010632E9|          false|                false|\n",
      "|4.496759358E9|          false|                false|\n",
      "| 4.44304803E9|          false|                false|\n",
      "|4.509433346E9|          false|                false|\n",
      "|4.452162573E9|          false|                false|\n",
      "|4.453038156E9|          false|                false|\n",
      "|4.515594785E9|          false|                false|\n",
      "|4.524924257E9|          false|                false|\n",
      "|4.516505202E9|          false|                false|\n",
      "|4.482120064E9|          false|                false|\n",
      "|4.523758462E9|          false|                 true|\n",
      "|4.503636905E9|          false|                false|\n",
      "|4.486384947E9|          false|                false|\n",
      "|4.457103291E9|          false|                false|\n",
      "|4.472164226E9|          false|                false|\n",
      "|4.445294621E9|          false|                false|\n",
      "|4.480384157E9|          false|                false|\n",
      "|4.520898233E9|          false|                false|\n",
      "|4.522124566E9|          false|                false|\n",
      "|4.523978853E9|          false|                false|\n",
      "|4.507834811E9|          false|                false|\n",
      "|4.501319968E9|          false|                false|\n",
      "|4.519148589E9|          false|                false|\n",
      "|4.484877784E9|          false|                false|\n",
      "|4.466931235E9|          false|                false|\n",
      "| 4.52418957E9|          false|                false|\n",
      "| 4.50338007E9|          false|                false|\n",
      "|4.497858921E9|          false|                false|\n",
      "|4.509242024E9|          false|                false|\n",
      "| 4.52429655E9|          false|                false|\n",
      "|4.516034199E9|          false|                false|\n",
      "|4.504386463E9|          false|                false|\n",
      "|4.523799496E9|          false|                false|\n",
      "| 4.37993185E9|          false|                false|\n",
      "| 4.52385815E9|          false|                false|\n",
      "|4.459778854E9|          false|                false|\n",
      "|4.499523222E9|          false|                false|\n",
      "| 4.47702931E9|          false|                false|\n",
      "|4.525037711E9|          false|                false|\n",
      "|4.459414345E9|          false|                false|\n",
      "| 4.50566404E9|          false|                false|\n",
      "|4.439587692E9|          false|                false|\n",
      "|4.508000311E9|          false|                false|\n",
      "|4.513365614E9|          false|                false|\n",
      "|4.473252742E9|          false|                false|\n",
      "| 4.43813889E9|          false|                false|\n",
      "|4.467008289E9|          false|                false|\n",
      "|4.492625917E9|          false|                false|\n",
      "|4.502901044E9|          false|                false|\n",
      "|4.467732013E9|          false|                false|\n",
      "| 4.51440251E9|          false|                false|\n",
      "|4.521277262E9|          false|                false|\n",
      "|4.521752962E9|          false|                false|\n",
      "|4.514070165E9|           true|                false|\n",
      "|4.525056568E9|          false|                false|\n",
      "|4.521255103E9|          false|                false|\n",
      "|4.510728488E9|          false|                false|\n",
      "|4.516919746E9|          false|                false|\n",
      "|4.499868617E9|          false|                false|\n",
      "|4.514234813E9|          false|                false|\n",
      "|4.513591449E9|          false|                false|\n",
      "|4.471416203E9|          false|                false|\n",
      "|4.521227315E9|          false|                false|\n",
      "|4.424144387E9|          false|                false|\n",
      "|4.517806218E9|          false|                false|\n",
      "|4.479974478E9|          false|                false|\n",
      "|4.423018162E9|          false|                false|\n",
      "|4.518401885E9|          false|                false|\n",
      "| 4.52520873E9|          false|                false|\n",
      "|4.512774492E9|          false|                false|\n",
      "|4.522772001E9|          false|                false|\n",
      "|4.464439713E9|          false|                false|\n",
      "|4.479823004E9|          false|                false|\n",
      "|4.507330276E9|          false|                false|\n",
      "|4.447392049E9|          false|                false|\n",
      "|4.521089901E9|          false|                false|\n",
      "|4.427944005E9|          false|                false|\n",
      "| 4.50978438E9|          false|                false|\n",
      "|4.524411421E9|          false|                false|\n",
      "|4.519898107E9|          false|                false|\n",
      "|4.517633575E9|          false|                false|\n",
      "|4.521948875E9|          false|                false|\n",
      "|4.509102299E9|          false|                false|\n",
      "|4.525041896E9|          false|                false|\n",
      "|4.515706467E9|          false|                false|\n",
      "|4.476006621E9|          false|                false|\n",
      "|4.499940691E9|          false|                false|\n",
      "|4.426644547E9|          false|                false|\n",
      "|4.525072812E9|          false|                false|\n",
      "|4.524217548E9|          false|                false|\n",
      "|4.499622849E9|          false|                false|\n",
      "|4.499844894E9|          false|                false|\n",
      "|4.460534353E9|          false|                false|\n",
      "|4.495269641E9|          false|                false|\n",
      "|4.524995677E9|          false|                false|\n",
      "|4.464596479E9|          false|                false|\n",
      "|4.452452649E9|          false|                false|\n",
      "|4.420481816E9|          false|                false|\n",
      "|4.412895789E9|          false|                false|\n",
      "|4.525114135E9|          false|                false|\n",
      "|4.496624699E9|          false|                false|\n",
      "|4.522663961E9|          false|                false|\n",
      "|4.522251387E9|          false|                false|\n",
      "|4.472377536E9|          false|                false|\n",
      "|4.466226469E9|          false|                false|\n",
      "|4.473936532E9|          false|                false|\n",
      "|4.524445302E9|          false|                false|\n",
      "|4.459740551E9|          false|                 true|\n",
      "|4.463542711E9|          false|                false|\n",
      "|4.508629003E9|          false|                false|\n",
      "|4.475094281E9|          false|                false|\n",
      "|4.513430767E9|          false|                false|\n",
      "|4.508634893E9|          false|                false|\n",
      "| 4.52279236E9|          false|                false|\n",
      "|4.507927084E9|          false|                false|\n",
      "|4.522505411E9|          false|                false|\n",
      "|4.454104215E9|          false|                false|\n",
      "|4.516166112E9|          false|                false|\n",
      "|4.454239214E9|          false|                false|\n",
      "|4.517801069E9|          false|                false|\n",
      "|4.518738712E9|          false|                false|\n",
      "|4.497571086E9|          false|                false|\n",
      "|4.477243448E9|          false|                false|\n",
      "|4.386507847E9|          false|                false|\n",
      "|4.474136526E9|          false|                false|\n",
      "|4.523618632E9|          false|                false|\n",
      "|4.507859079E9|          false|                false|\n",
      "|4.524740998E9|          false|                false|\n",
      "|4.512162103E9|          false|                false|\n",
      "|4.465066223E9|          false|                false|\n",
      "|4.523411488E9|          false|                false|\n",
      "|4.524017392E9|          false|                false|\n",
      "|4.513054107E9|          false|                false|\n",
      "|4.478629184E9|          false|                false|\n",
      "|4.395598976E9|          false|                false|\n",
      "|4.524952056E9|          false|                 true|\n",
      "|4.453994009E9|          false|                false|\n",
      "|4.462358723E9|          false|                false|\n",
      "|4.512811324E9|          false|                false|\n",
      "|4.438263187E9|          false|                false|\n",
      "|4.483907436E9|          false|                false|\n",
      "|4.521937261E9|          false|                false|\n",
      "|4.515587675E9|          false|                false|\n",
      "|4.517493567E9|          false|                false|\n",
      "|4.469549199E9|          false|                false|\n",
      "|4.500100836E9|          false|                false|\n",
      "|4.451727242E9|          false|                false|\n",
      "|4.462194525E9|          false|                false|\n",
      "|4.481415061E9|          false|                false|\n",
      "|4.519169394E9|          false|                false|\n",
      "|4.449504375E9|           true|                 true|\n",
      "| 4.46850324E9|          false|                false|\n",
      "|4.495708706E9|          false|                false|\n",
      "|  4.5053573E9|          false|                false|\n",
      "|4.523723534E9|          false|                false|\n",
      "|4.479157446E9|          false|                false|\n",
      "|4.518376722E9|          false|                false|\n",
      "|4.521259209E9|          false|                false|\n",
      "|4.471123041E9|          false|                false|\n",
      "|4.524913184E9|          false|                false|\n",
      "|4.514301047E9|          false|                false|\n",
      "|4.512184541E9|          false|                false|\n",
      "|  4.5178238E9|          false|                false|\n",
      "|4.518835789E9|          false|                false|\n",
      "|4.510355472E9|          false|                false|\n",
      "|4.512067346E9|          false|                false|\n",
      "|4.514106633E9|          false|                false|\n",
      "|4.522399054E9|          false|                false|\n",
      "|4.519443312E9|          false|                false|\n",
      "|4.523035934E9|          false|                false|\n",
      "|4.429486916E9|          false|                false|\n",
      "|4.482052361E9|          false|                false|\n",
      "|4.522798631E9|          false|                false|\n",
      "|4.477176627E9|          false|                false|\n",
      "|4.475170098E9|          false|                false|\n",
      "|4.432091797E9|          false|                false|\n",
      "|4.495710198E9|          false|                false|\n",
      "|4.520931258E9|          false|                false|\n",
      "|4.424048842E9|          false|                false|\n",
      "|4.512915759E9|          false|                 true|\n",
      "|4.476065129E9|          false|                false|\n",
      "|4.494781192E9|          false|                false|\n",
      "|4.525224702E9|          false|                false|\n",
      "|4.475925954E9|          false|                false|\n",
      "|4.516121686E9|          false|                false|\n",
      "|4.420667626E9|          false|                false|\n",
      "| 4.48949411E9|           true|                false|\n",
      "|4.523340688E9|          false|                false|\n",
      "|4.496344135E9|          false|                false|\n",
      "|4.524697287E9|          false|                false|\n",
      "|4.523386766E9|          false|                false|\n",
      "|4.518474732E9|          false|                false|\n",
      "|4.486453937E9|          false|                false|\n",
      "|4.496397328E9|          false|                false|\n",
      "|4.520768462E9|          false|                false|\n",
      "|4.518654959E9|          false|                false|\n",
      "|4.519058321E9|          false|                false|\n",
      "|4.512960247E9|          false|                false|\n",
      "|4.445314635E9|          false|                false|\n",
      "|4.477030195E9|          false|                false|\n",
      "|4.497887298E9|          false|                 true|\n",
      "|4.459403995E9|          false|                false|\n",
      "|4.489079383E9|          false|                false|\n",
      "|4.516695912E9|          false|                false|\n",
      "|4.490435808E9|          false|                false|\n",
      "|4.524895124E9|          false|                false|\n",
      "|4.519469738E9|          false|                false|\n",
      "|  4.5235272E9|          false|                false|\n",
      "|4.453080532E9|          false|                false|\n",
      "| 4.52330353E9|           true|                false|\n",
      "|4.495003373E9|          false|                false|\n",
      "|4.524303571E9|          false|                false|\n",
      "|4.490487724E9|          false|                false|\n",
      "|4.515381064E9|          false|                false|\n",
      "|4.512271556E9|          false|                false|\n",
      "|4.452824789E9|          false|                false|\n",
      "|4.481234929E9|          false|                false|\n",
      "|4.500668824E9|          false|                false|\n",
      "|4.521663948E9|          false|                false|\n",
      "|4.525067275E9|          false|                false|\n",
      "| 4.49650339E9|          false|                false|\n",
      "|4.519912865E9|          false|                false|\n",
      "|4.447426572E9|          false|                false|\n",
      "|4.493407357E9|          false|                false|\n",
      "|4.459426947E9|          false|                false|\n",
      "|4.519988685E9|          false|                false|\n",
      "|4.519844846E9|          false|                false|\n",
      "|4.525070748E9|          false|                false|\n",
      "|4.465204267E9|          false|                false|\n",
      "|4.517684472E9|          false|                false|\n",
      "|4.517646191E9|          false|                false|\n",
      "|4.459901632E9|          false|                false|\n",
      "|4.495413031E9|          false|                false|\n",
      "|4.519612989E9|          false|                false|\n",
      "| 4.40671652E9|          false|                false|\n",
      "|4.525184804E9|          false|                false|\n",
      "|4.524569254E9|          false|                false|\n",
      "|4.431143877E9|          false|                false|\n",
      "|4.446797537E9|          false|                false|\n",
      "|4.524403652E9|          false|                false|\n",
      "|4.524260824E9|          false|                false|\n",
      "|4.440119391E9|           true|                 true|\n",
      "|4.518199999E9|          false|                false|\n",
      "|4.520967143E9|          false|                false|\n",
      "| 4.49821649E9|          false|                false|\n",
      "|4.493677959E9|          false|                false|\n",
      "|4.523093613E9|          false|                false|\n",
      "| 4.43725719E9|          false|                false|\n",
      "|4.521897707E9|          false|                false|\n",
      "|4.467164835E9|          false|                false|\n",
      "|4.521542696E9|          false|                false|\n",
      "| 4.49546444E9|          false|                false|\n",
      "|4.452038425E9|          false|                false|\n",
      "|4.515821204E9|          false|                false|\n",
      "|4.502922066E9|          false|                false|\n",
      "|4.384241438E9|          false|                false|\n",
      "|4.466040137E9|          false|                false|\n",
      "|4.476661914E9|          false|                false|\n",
      "|4.458282675E9|          false|                false|\n",
      "|4.507871318E9|          false|                false|\n",
      "|4.431970864E9|          false|                false|\n",
      "|4.516600859E9|          false|                false|\n",
      "|4.499806829E9|          false|                false|\n",
      "|4.472532304E9|          false|                false|\n",
      "|4.444232401E9|          false|                false|\n",
      "|4.521519484E9|          false|                false|\n",
      "|4.515353277E9|          false|                false|\n",
      "|4.524248852E9|          false|                false|\n",
      "|4.521172111E9|          false|                false|\n",
      "|4.517776491E9|          false|                false|\n",
      "|4.519368335E9|          false|                false|\n",
      "|4.523639973E9|          false|                false|\n",
      "|4.522111616E9|          false|                false|\n",
      "| 4.52118825E9|          false|                false|\n",
      "|4.493154896E9|          false|                false|\n",
      "|4.512775669E9|          false|                false|\n",
      "|4.505100164E9|          false|                false|\n",
      "|4.439464616E9|          false|                false|\n",
      "|4.515793486E9|          false|                false|\n",
      "|4.505809782E9|          false|                false|\n",
      "|4.502875704E9|          false|                false|\n",
      "|4.475734964E9|          false|                false|\n",
      "|4.482233269E9|          false|                false|\n",
      "|4.511770317E9|          false|                false|\n",
      "|4.524067975E9|          false|                false|\n",
      "|4.474977192E9|          false|                false|\n",
      "|4.467242137E9|          false|                false|\n",
      "|4.521516098E9|          false|                false|\n",
      "|4.475861894E9|          false|                false|\n",
      "|4.473365528E9|          false|                false|\n",
      "|4.520554639E9|          false|                false|\n",
      "|4.519562141E9|          false|                false|\n",
      "|4.477654399E9|          false|                false|\n",
      "|4.524744736E9|          false|                false|\n",
      "|4.437489184E9|          false|                false|\n",
      "|4.516668528E9|          false|                false|\n",
      "|4.519159286E9|          false|                false|\n",
      "|4.519850833E9|          false|                false|\n",
      "|4.517486439E9|          false|                false|\n",
      "|4.524983213E9|          false|                false|\n",
      "|4.518971056E9|          false|                false|\n",
      "|4.519735486E9|          false|                false|\n",
      "|4.474578405E9|          false|                false|\n",
      "|4.495526731E9|          false|                false|\n",
      "|4.523588445E9|          false|                false|\n",
      "|4.496025643E9|          false|                false|\n",
      "|4.449279281E9|          false|                false|\n",
      "|4.524290588E9|          false|                false|\n",
      "|4.481379221E9|          false|                false|\n",
      "|4.497057886E9|          false|                false|\n",
      "|4.457248839E9|          false|                false|\n",
      "| 4.46252949E9|          false|                false|\n",
      "|4.511728953E9|          false|                false|\n",
      "|4.455484063E9|          false|                false|\n",
      "|4.492027887E9|          false|                false|\n",
      "|4.500738441E9|          false|                false|\n",
      "|4.472130589E9|          false|                false|\n",
      "|4.509440283E9|          false|                false|\n",
      "|4.522207567E9|          false|                false|\n",
      "|4.492532758E9|          false|                false|\n",
      "|4.521901284E9|          false|                false|\n",
      "|4.524952365E9|          false|                false|\n",
      "|4.506175906E9|          false|                false|\n",
      "|4.462044332E9|          false|                 true|\n",
      "|4.490186049E9|          false|                false|\n",
      "|4.484406104E9|          false|                false|\n",
      "|4.525016329E9|          false|                false|\n",
      "|4.500061522E9|          false|                false|\n",
      "| 4.51940506E9|          false|                false|\n",
      "| 4.48910768E9|          false|                false|\n",
      "|4.524853879E9|          false|                false|\n",
      "|4.519652445E9|          false|                false|\n",
      "|4.479492497E9|           true|                false|\n",
      "|4.477014254E9|          false|                false|\n",
      "|4.474899637E9|          false|                false|\n",
      "|4.448166002E9|          false|                false|\n",
      "|4.518035441E9|          false|                false|\n",
      "|4.524924561E9|          false|                false|\n",
      "|4.519402514E9|          false|                false|\n",
      "|4.439902649E9|          false|                false|\n",
      "|4.471437748E9|          false|                false|\n",
      "|4.452202569E9|          false|                false|\n",
      "|4.519983082E9|          false|                false|\n",
      "|4.514792667E9|          false|                false|\n",
      "|4.524404606E9|          false|                false|\n",
      "|4.517159658E9|          false|                false|\n",
      "|4.490111763E9|          false|                false|\n",
      "| 4.51161576E9|          false|                false|\n",
      "|4.460035354E9|          false|                false|\n",
      "|4.524340253E9|          false|                false|\n",
      "|4.494288234E9|          false|                false|\n",
      "|4.503193235E9|          false|                false|\n",
      "|4.487544482E9|          false|                false|\n",
      "|4.522841712E9|          false|                false|\n",
      "|4.492447049E9|          false|                false|\n",
      "|4.515497599E9|           true|                 true|\n",
      "|4.515307399E9|          false|                false|\n",
      "|4.520027205E9|          false|                false|\n",
      "|4.525124678E9|          false|                false|\n",
      "|4.506399392E9|          false|                false|\n",
      "|4.520037654E9|          false|                false|\n",
      "|4.513253618E9|          false|                false|\n",
      "|4.523092782E9|          false|                false|\n",
      "|4.510100587E9|          false|                false|\n",
      "|4.522265559E9|          false|                false|\n",
      "|4.502459201E9|          false|                false|\n",
      "|4.449297701E9|          false|                 true|\n",
      "|4.524992548E9|          false|                false|\n",
      "| 4.52418234E9|          false|                false|\n",
      "|4.522266897E9|          false|                false|\n",
      "| 4.46874109E9|          false|                false|\n",
      "|4.519229802E9|          false|                false|\n",
      "|4.464483348E9|          false|                false|\n",
      "|4.501451685E9|          false|                false|\n",
      "|4.523922035E9|          false|                false|\n",
      "|4.481186047E9|          false|                false|\n",
      "|4.486987445E9|          false|                false|\n",
      "|4.509259241E9|          false|                false|\n",
      "|4.513456428E9|          false|                false|\n",
      "|4.507030336E9|          false|                false|\n",
      "|4.520529866E9|          false|                false|\n",
      "|4.525050175E9|          false|                false|\n",
      "|4.519754998E9|          false|                false|\n",
      "|4.439457123E9|          false|                false|\n",
      "|4.524643428E9|          false|                false|\n",
      "|4.521007618E9|          false|                false|\n",
      "|4.508648866E9|          false|                false|\n",
      "|4.481875944E9|          false|                false|\n",
      "|4.481977173E9|          false|                false|\n",
      "|4.524221277E9|          false|                false|\n",
      "|4.491767708E9|          false|                false|\n",
      "| 4.51338195E9|          false|                false|\n",
      "|4.520706889E9|          false|                false|\n",
      "|4.510979839E9|          false|                false|\n",
      "|4.497747862E9|          false|                false|\n",
      "|4.499933829E9|          false|                false|\n",
      "|4.444218395E9|          false|                false|\n",
      "|4.524806566E9|          false|                false|\n",
      "|4.462632051E9|          false|                false|\n",
      "|4.522260081E9|          false|                false|\n",
      "|4.455390955E9|          false|                false|\n",
      "|4.517939505E9|          false|                false|\n",
      "|4.524528416E9|          false|                false|\n",
      "|4.525067296E9|          false|                false|\n",
      "|4.454069388E9|          false|                false|\n",
      "|4.503433498E9|          false|                false|\n",
      "|4.510734919E9|          false|                false|\n",
      "| 4.46444731E9|          false|                false|\n",
      "|4.429977573E9|          false|                false|\n",
      "|4.522461341E9|          false|                false|\n",
      "|4.517741452E9|          false|                false|\n",
      "|4.500724758E9|          false|                false|\n",
      "|4.494319705E9|          false|                false|\n",
      "|4.444096628E9|          false|                false|\n",
      "|4.521510642E9|          false|                false|\n",
      "| 4.41224053E9|          false|                false|\n",
      "|4.420941972E9|          false|                false|\n",
      "|4.514097912E9|          false|                false|\n",
      "|4.491135325E9|          false|                false|\n",
      "|4.488824515E9|          false|                false|\n",
      "|4.515453856E9|          false|                false|\n",
      "|4.420829528E9|          false|                false|\n",
      "|4.503381304E9|          false|                false|\n",
      "|4.515654011E9|          false|                false|\n",
      "| 4.49289439E9|          false|                false|\n",
      "|4.472568378E9|          false|                false|\n",
      "|4.471422338E9|          false|                false|\n",
      "|4.525151632E9|          false|                false|\n",
      "|4.519414547E9|           true|                false|\n",
      "|4.440874432E9|          false|                false|\n",
      "|4.471153063E9|          false|                false|\n",
      "| 4.52244912E9|          false|                false|\n",
      "|4.501354453E9|          false|                false|\n",
      "| 4.46505028E9|          false|                false|\n",
      "|4.509589971E9|          false|                false|\n",
      "|4.505606908E9|          false|                false|\n",
      "|4.517684494E9|          false|                false|\n",
      "|4.516180818E9|          false|                false|\n",
      "|4.524074861E9|          false|                false|\n",
      "|4.524837884E9|          false|                false|\n",
      "| 4.46739751E9|          false|                false|\n",
      "| 4.49831656E9|          false|                false|\n",
      "|4.494819577E9|          false|                false|\n",
      "|4.454214561E9|          false|                false|\n",
      "|4.508718134E9|          false|                false|\n",
      "|4.518971206E9|          false|                false|\n",
      "|4.519649032E9|          false|                false|\n",
      "|4.487076086E9|          false|                false|\n",
      "| 4.52041973E9|          false|                false|\n",
      "|4.510885108E9|          false|                false|\n",
      "|4.500739258E9|          false|                false|\n",
      "|4.524783374E9|          false|                false|\n",
      "|4.465119134E9|          false|                false|\n",
      "|4.515577349E9|          false|                false|\n",
      "|4.465188797E9|          false|                false|\n",
      "|4.523720024E9|          false|                false|\n",
      "|4.512168503E9|          false|                false|\n",
      "|4.441802146E9|          false|                false|\n",
      "|4.525106974E9|          false|                false|\n",
      "|4.519124601E9|          false|                false|\n",
      "|4.469638547E9|          false|                false|\n",
      "|4.520617571E9|          false|                false|\n",
      "|4.520513993E9|          false|                false|\n",
      "|4.446190086E9|          false|                false|\n",
      "|4.479055235E9|          false|                false|\n",
      "|4.525053035E9|          false|                false|\n",
      "|4.460529664E9|          false|                false|\n",
      "| 4.48949492E9|          false|                 true|\n",
      "|4.524863981E9|          false|                false|\n",
      "|4.508452416E9|          false|                false|\n",
      "| 4.51817358E9|          false|                 true|\n",
      "|4.497643645E9|          false|                false|\n",
      "|4.496490767E9|          false|                false|\n",
      "| 4.52113766E9|          false|                false|\n",
      "|4.522864178E9|          false|                false|\n",
      "|4.418117776E9|          false|                false|\n",
      "|4.487261308E9|          false|                false|\n",
      "|4.472053682E9|          false|                false|\n",
      "|4.523322393E9|          false|                false|\n",
      "|4.450801674E9|          false|                false|\n",
      "|4.518527027E9|          false|                false|\n",
      "| 4.51577157E9|          false|                false|\n",
      "| 4.50352098E9|          false|                false|\n",
      "|4.525008225E9|          false|                false|\n",
      "|4.522447446E9|          false|                false|\n",
      "|4.500531155E9|          false|                false|\n",
      "|4.524832772E9|          false|                false|\n",
      "|4.521575223E9|          false|                false|\n",
      "|4.502356627E9|          false|                false|\n",
      "|4.502093881E9|          false|                false|\n",
      "| 4.46997607E9|          false|                false|\n",
      "|4.515929996E9|          false|                false|\n",
      "|4.522286152E9|          false|                false|\n",
      "| 4.52496685E9|          false|                false|\n",
      "+-------------+---------------+---------------------+\n",
      "only showing top 500 rows"
     ]
    }
   ],
   "source": [
    "#This piece of code will search for outliers using IQR it will first calculate Q1 and then Q3 and \n",
    "#subtract them from each other to get IQR. Once that is calculated it will find the upper and lower bounds\n",
    "# Then finally any record outside those bounds will be flagged as an outlier.\n",
    "features = ['blueTotalGold', 'blueTotalExperience']\n",
    "quantiles = [0.25, 0.75]\n",
    "\n",
    "cut_off_points = []\n",
    "\n",
    "#getting Q1 and Q3\n",
    "#The third parameter, set to 0.05, is relative target precision to achieve (>= 0).\n",
    "#If set to zero, the exact quantiles are computed, which could be very expensive. \n",
    "for feature in features:\n",
    "    quants = games.approxQuantile(feature, quantiles, 0.05)\n",
    "    print(feature, quants)\n",
    "    IQR = quants[1] - quants[0]\n",
    "    cut_off_points.append((feature, [\n",
    "        quants[0] - 1.5 * IQR,\n",
    "        quants[1] + 1.5 * IQR,\n",
    "    ]))\n",
    "\n",
    "cut_off_points = dict(cut_off_points)\n",
    "\n",
    "outliers = games.select(*['gameId'] + [\n",
    "       (\n",
    "           (games[f] < cut_off_points[f][0]) |\n",
    "           (games[f] > cut_off_points[f][1])\n",
    "       ).alias(f + '_o') for f in features\n",
    "  ])\n",
    "outliers.show(500)"
   ]
  },
  {
   "cell_type": "code",
   "execution_count": 8,
   "metadata": {},
   "outputs": [
    {
     "data": {
      "application/vnd.jupyter.widget-view+json": {
       "model_id": "2372e3f5fc54421e9fbfef7354d1a545",
       "version_major": 2,
       "version_minor": 0
      },
      "text/plain": [
       "VBox()"
      ]
     },
     "metadata": {},
     "output_type": "display_data"
    },
    {
     "data": {
      "application/vnd.jupyter.widget-view+json": {
       "model_id": "",
       "version_major": 2,
       "version_minor": 0
      },
      "text/plain": [
       "FloatProgress(value=0.0, bar_style='info', description='Progress:', layout=Layout(height='25px', width='50%'),…"
      ]
     },
     "metadata": {},
     "output_type": "display_data"
    },
    {
     "name": "stdout",
     "output_type": "stream",
     "text": [
      "+-------------+--------+-------------+------------+\n",
      "|       gameId|blueWins|blueTotalGold|blueAvgLevel|\n",
      "+-------------+--------+-------------+------------+\n",
      "|4.523758462E9|       1|        19733|         7.6|\n",
      "|4.514070165E9|       0|        20278|         7.2|\n",
      "|4.459740551E9|       0|        16834|         6.2|\n",
      "|4.524952056E9|       0|        14720|         6.2|\n",
      "|4.449504375E9|       1|        20038|         7.8|\n",
      "|4.512915759E9|       0|        13286|         6.2|\n",
      "| 4.48949411E9|       1|        20317|         7.4|\n",
      "|4.497887298E9|       0|        13438|         5.8|\n",
      "| 4.52330353E9|       1|        20294|         6.8|\n",
      "|4.440119391E9|       1|        21095|         7.6|\n",
      "|4.462044332E9|       0|        15600|         6.2|\n",
      "|4.479492497E9|       1|        20225|         6.6|\n",
      "|4.515497599E9|       1|        20139|         7.8|\n",
      "|4.449297701E9|       0|        13428|         6.0|\n",
      "|4.519414547E9|       1|        20127|         7.0|\n",
      "| 4.48949492E9|       0|        13916|         6.2|\n",
      "| 4.51817358E9|       1|        18640|         7.4|\n",
      "|4.520999253E9|       1|        20047|         7.2|\n",
      "|4.496656923E9|       1|        20387|         7.0|\n",
      "|4.506788897E9|       0|        14033|         6.2|\n",
      "|4.524260253E9|       1|        20352|         7.4|\n",
      "|4.486943775E9|       1|        20380|         7.2|\n",
      "|4.469192486E9|       1|        21132|         7.2|\n",
      "|4.482285408E9|       0|        13449|         6.4|\n",
      "|4.458860802E9|       0|        18860|         8.0|\n",
      "|4.468533756E9|       1|        20218|         7.2|\n",
      "|4.497751825E9|       0|        15351|         6.0|\n",
      "|4.511080723E9|       0|        12747|         6.0|\n",
      "|4.457404294E9|       1|        23335|         7.6|\n",
      "|4.469758473E9|       1|        20273|         7.2|\n",
      "|4.500666491E9|       1|        20103|         6.8|\n",
      "|4.513335453E9|       0|        13794|         6.0|\n",
      "|4.524049652E9|       1|        18168|         7.4|\n",
      "|4.478080352E9|       0|        12988|         6.2|\n",
      "|4.485746291E9|       1|        20251|         7.4|\n",
      "|4.522319938E9|       1|        20175|         7.4|\n",
      "|4.521449532E9|       0|        13049|         6.2|\n",
      "|4.524994987E9|       1|        20075|         7.0|\n",
      "|4.455125565E9|       0|        14377|         6.4|\n",
      "|4.510751913E9|       0|        15069|         6.2|\n",
      "|4.522178683E9|       0|        13555|         6.0|\n",
      "|4.523038174E9|       0|        13126|         6.0|\n",
      "|4.471503799E9|       1|        20862|         7.0|\n",
      "|4.513293772E9|       0|        13820|         5.8|\n",
      "|4.521182941E9|       1|        20619|         7.4|\n",
      "|4.521299727E9|       1|        19452|         7.6|\n",
      "|4.464340157E9|       0|        14353|         6.2|\n",
      "|4.520645604E9|       1|        20183|         7.6|\n",
      "|4.495147066E9|       0|        13267|         6.2|\n",
      "|4.473770063E9|       1|        20711|         7.6|\n",
      "|4.522025457E9|       0|        20317|         7.0|\n",
      "| 4.50650956E9|       1|        20151|         7.4|\n",
      "|4.431984647E9|       0|        12798|         5.8|\n",
      "|4.521830295E9|       0|        16331|         6.4|\n",
      "|4.525228858E9|       1|        20295|         7.2|\n",
      "|4.511735384E9|       1|        18599|         7.2|\n",
      "| 4.45200172E9|       0|        12798|         5.4|\n",
      "| 4.47242883E9|       0|        13636|         6.2|\n",
      "|4.473506921E9|       0|        20086|         7.0|\n",
      "|4.444371751E9|       0|        13945|         5.8|\n",
      "|4.469723831E9|       1|        21051|         7.4|\n",
      "|4.436503508E9|       1|        21016|         7.4|\n",
      "|4.520799474E9|       1|        21352|         7.6|\n",
      "|4.494522299E9|       0|        13896|         5.6|\n",
      "|4.462104144E9|       0|        15330|         6.2|\n",
      "|4.505017372E9|       1|        22228|         7.2|\n",
      "| 4.49971526E9|       0|        13462|         5.4|\n",
      "|4.496308488E9|       1|        21462|         6.8|\n",
      "|4.513819617E9|       0|        15465|         6.0|\n",
      "|4.480250709E9|       1|        21711|         7.4|\n",
      "|4.518499489E9|       0|        13494|         5.8|\n",
      "|4.496878235E9|       0|        13649|         6.0|\n",
      "|4.522272294E9|       1|        20186|         7.2|\n",
      "|4.495300852E9|       1|        20183|         7.6|\n",
      "|4.471506446E9|       1|        21416|         7.6|\n",
      "|4.523819154E9|       1|        20294|         7.0|\n",
      "|4.521949679E9|       0|        15307|         6.4|\n",
      "|4.513297103E9|       0|        14608|         6.0|\n",
      "| 4.51067871E9|       0|        14459|         6.4|\n",
      "|4.489628926E9|       0|        14696|         6.2|\n",
      "|4.518337928E9|       1|        21986|         7.4|\n",
      "|4.482930107E9|       1|        20319|         7.2|\n",
      "|4.511218061E9|       1|        22296|         7.8|\n",
      "|4.500504137E9|       1|        20028|         7.0|\n",
      "|4.494748194E9|       1|        20176|         7.0|\n",
      "|4.467196417E9|       1|        19313|         7.8|\n",
      "|4.443034912E9|       1|        20018|         7.6|\n",
      "| 4.51098313E9|       0|        12926|         6.2|\n",
      "|4.521731006E9|       0|        14208|         6.4|\n",
      "|4.491372975E9|       1|        19629|         7.6|\n",
      "|4.518840906E9|       0|        12598|         6.0|\n",
      "|4.519506293E9|       0|        13493|         6.2|\n",
      "|4.513249754E9|       1|        21728|         7.4|\n",
      "|4.519262585E9|       1|        20979|         7.6|\n",
      "|4.525291177E9|       0|        16300|         5.8|\n",
      "|4.456349492E9|       0|        18233|         7.6|\n",
      "|4.505683852E9|       1|        20955|         7.2|\n",
      "|4.477478034E9|       0|        14642|         6.2|\n",
      "|4.446183119E9|       1|        20389|         7.4|\n",
      "| 4.51617666E9|       1|        20403|         7.4|\n",
      "|4.516724538E9|       1|        19318|         7.8|\n",
      "|4.522148176E9|       1|        17555|         7.8|\n",
      "|4.499628579E9|       0|        15487|         6.0|\n",
      "|4.519147034E9|       0|        15541|         6.2|\n",
      "|4.502928407E9|       1|        20114|         7.0|\n",
      "|4.492674623E9|       1|        20173|         7.4|\n",
      "|4.504495749E9|       1|        22449|         7.4|\n",
      "|4.519670667E9|       1|        17604|         7.4|\n",
      "|4.460927725E9|       1|        22177|         7.8|\n",
      "|4.462139744E9|       1|        20567|         7.4|\n",
      "|4.462681802E9|       0|        15631|         6.4|\n",
      "|4.523300561E9|       1|        19280|         7.6|\n",
      "|4.499921176E9|       0|        14689|         6.0|\n",
      "| 4.49579167E9|       1|        20043|         7.8|\n",
      "|4.462313921E9|       1|        23359|         7.4|\n",
      "|4.513544189E9|       0|        12292|         5.8|\n",
      "|4.522855501E9|       1|        20587|         7.4|\n",
      "| 4.46055238E9|       1|        23349|         7.6|\n",
      "|4.460718392E9|       0|        12002|         6.0|\n",
      "|4.450382504E9|       1|        19570|         7.8|\n",
      "|4.522844464E9|       0|        14035|         6.2|\n",
      "|4.518516978E9|       1|        20603|         7.4|\n",
      "|4.516748968E9|       0|        14280|         6.2|\n",
      "| 4.44919403E9|       1|        20558|         7.0|\n",
      "| 4.47380074E9|       1|        20853|         7.6|\n",
      "|4.518146165E9|       0|        14416|         5.2|\n",
      "|4.518123913E9|       1|        17773|         7.6|\n",
      "| 4.47396939E9|       0|        14813|         6.0|\n",
      "|4.525237424E9|       1|        21046|         7.4|\n",
      "|4.523517991E9|       0|        13229|         6.4|\n",
      "|4.457806317E9|       0|        20136|         7.4|\n",
      "|4.505255448E9|       1|        20136|         7.8|\n",
      "|4.523821481E9|       1|        20005|         7.4|\n",
      "|4.506646295E9|       1|        20611|         7.0|\n",
      "|4.519439702E9|       1|        20145|         7.4|\n",
      "|4.472741177E9|       1|        19336|         7.8|\n",
      "|4.521099004E9|       1|        21089|         7.0|\n",
      "|4.497565171E9|       1|        20853|         7.4|\n",
      "|4.524160541E9|       1|        20176|         7.6|\n",
      "|4.499860078E9|       1|        14298|         6.4|\n",
      "|4.462061093E9|       1|        21386|         7.4|\n",
      "|4.516101575E9|       1|        20827|         7.4|\n",
      "| 4.50043511E9|       1|        22845|         7.4|\n",
      "|4.523694899E9|       1|        20488|         6.8|\n",
      "|4.521167272E9|       1|        21056|         7.2|\n",
      "| 4.51681676E9|       1|        20471|         7.6|\n",
      "|4.524720967E9|       1|        17628|         6.2|\n",
      "| 4.50954676E9|       1|        20111|         7.0|\n",
      "|4.506573625E9|       0|        13121|         6.0|\n",
      "|4.452298627E9|       1|        21314|         7.2|\n",
      "|4.484592452E9|       1|        20188|         7.2|\n",
      "| 4.44248465E9|       0|        13569|         6.0|\n",
      "|4.516011875E9|       1|        22433|         7.4|\n",
      "|4.519160523E9|       1|        16076|         6.2|\n",
      "|4.492858161E9|       1|        20998|         7.2|\n",
      "|4.519863866E9|       1|        21285|         7.4|\n",
      "|4.495200388E9|       0|        13489|         6.0|\n",
      "|4.491235821E9|       1|        20961|         7.6|\n",
      "|4.519994537E9|       0|        14011|         6.4|\n",
      "|4.459705547E9|       1|        16997|         7.8|\n",
      "|4.460567207E9|       0|        20269|         7.4|\n",
      "|4.518622747E9|       1|        20065|         7.2|\n",
      "|4.492870986E9|       1|        20316|         7.4|\n",
      "|4.518071306E9|       1|        20855|         7.2|\n",
      "|  4.4930577E9|       1|        20308|         7.0|\n",
      "|4.468130569E9|       0|        14676|         6.2|\n",
      "|4.523459818E9|       0|        14098|         6.2|\n",
      "|4.517889362E9|       0|        15521|         6.2|\n",
      "|4.494396355E9|       0|        16582|         6.4|\n",
      "|4.508973225E9|       0|        14815|         6.2|\n",
      "|4.449074537E9|       1|        20259|         7.0|\n",
      "|4.518026363E9|       1|        21755|         7.2|\n",
      "|4.465044945E9|       1|        20943|         7.6|\n",
      "|4.525093722E9|       1|        20833|         7.6|\n",
      "|4.488366121E9|       1|        20067|         7.4|\n",
      "|4.521189222E9|       1|        21699|         7.6|\n",
      "|4.513547989E9|       1|        21658|         7.6|\n",
      "|4.473758044E9|       0|        13853|         6.2|\n",
      "|4.462131057E9|       1|        20996|         7.2|\n",
      "|4.516517025E9|       1|        17301|         7.8|\n",
      "|4.513734399E9|       1|        18595|         7.6|\n",
      "| 4.52090055E9|       1|        17743|         7.6|\n",
      "|4.523365971E9|       1|        20310|         7.4|\n",
      "|4.522611565E9|       1|        20030|         7.2|\n",
      "|4.441973762E9|       1|        21908|         7.4|\n",
      "|4.462678795E9|       0|        14272|         6.0|\n",
      "|4.476255781E9|       1|        20036|         7.2|\n",
      "|4.519183876E9|       1|        18866|         7.6|\n",
      "| 4.46800658E9|       0|        15064|         6.2|\n",
      "|4.470291861E9|       1|        20721|         7.0|\n",
      "|4.477855283E9|       1|        20932|         7.2|\n",
      "|4.492999384E9|       1|        20983|         7.2|\n",
      "|4.516088555E9|       1|        20685|         8.0|\n",
      "|4.510713167E9|       0|        14304|         6.0|\n",
      "|4.519249108E9|       0|        12698|         6.2|\n",
      "|4.505369566E9|       1|        21872|         7.2|\n",
      "|4.524220083E9|       1|        21266|         7.4|\n",
      "| 4.44623591E9|       1|        20329|         7.6|\n",
      "|4.518140055E9|       1|        20543|         7.6|\n",
      "|4.522688388E9|       1|        21437|         7.2|\n",
      "|4.500463152E9|       0|        14023|         6.4|\n",
      "|4.524400852E9|       1|        21927|         7.4|\n",
      "|4.500634961E9|       1|        20028|         7.4|\n",
      "| 4.47723806E9|       1|        22212|         7.4|\n",
      "|4.515840054E9|       1|        17771|         7.8|\n",
      "| 4.51870591E9|       1|        20125|         7.4|\n",
      "|4.480429391E9|       1|        21382|         7.2|\n",
      "|4.524341789E9|       1|        20206|         7.4|\n",
      "|4.463534767E9|       1|        20190|         7.2|\n",
      "|4.515245246E9|       1|        16571|         6.2|\n",
      "|4.521756971E9|       1|        20604|         6.8|\n",
      "|4.524840446E9|       0|        13742|         5.6|\n",
      "|4.471303802E9|       1|        20134|         7.4|\n",
      "|4.499965552E9|       1|        20127|         7.2|\n",
      "|4.520490742E9|       0|        14566|         5.8|\n",
      "|4.520952475E9|       0|        13508|         6.2|\n",
      "|4.438793603E9|       0|        18978|         7.6|\n",
      "|4.520967053E9|       1|        19082|         7.6|\n",
      "|4.521076774E9|       1|        20828|         7.2|\n",
      "|4.459271455E9|       1|        20617|         7.4|\n",
      "| 4.47982806E9|       0|        13729|         6.2|\n",
      "|4.449098709E9|       1|        19673|         7.6|\n",
      "|4.523726698E9|       0|        13511|         5.8|\n",
      "|4.489955666E9|       1|        21893|         7.6|\n",
      "|4.509908881E9|       1|        22472|         7.6|\n",
      "|4.471229287E9|       0|        13980|         6.2|\n",
      "|4.515500466E9|       0|        13932|         6.0|\n",
      "|4.516872097E9|       1|        14339|         6.0|\n",
      "|4.458718389E9|       1|        20084|         6.8|\n",
      "|4.495708633E9|       0|        14352|         6.4|\n",
      "|4.521865491E9|       1|        21087|         7.6|\n",
      "|4.491835607E9|       1|        21747|         7.4|\n",
      "|4.407377509E9|       1|        20822|         6.8|\n",
      "| 4.51786089E9|       1|        23424|         7.4|\n",
      "|4.477434539E9|       1|        17993|         7.8|\n",
      "|4.524133023E9|       0|        14587|         6.2|\n",
      "|4.524763167E9|       1|        22745|         6.8|\n",
      "| 4.45667722E9|       0|        14194|         6.2|\n",
      "|4.521738539E9|       1|        21442|         7.6|\n",
      "|4.514331863E9|       1|        20300|         7.4|\n",
      "|4.415032113E9|       0|        13961|         6.2|\n",
      "|4.459617456E9|       0|        18073|         7.6|\n",
      "|4.499681914E9|       0|        12622|         5.8|\n",
      "|4.519000412E9|       0|        12300|         6.0|\n",
      "|4.515468378E9|       1|        13711|         6.2|\n",
      "|4.470543217E9|       1|        20305|         7.4|\n",
      "|4.421794878E9|       1|        20860|         7.2|\n",
      "|4.467537493E9|       0|        13817|         6.4|\n",
      "|4.473949665E9|       1|        21202|         7.8|\n",
      "|4.494519313E9|       1|        20699|         7.4|\n",
      "| 4.51463328E9|       0|        20887|         7.0|\n",
      "|4.488853318E9|       0|        13380|         6.2|\n",
      "| 4.41012752E9|       1|        18125|         7.8|\n",
      "|4.483425458E9|       0|        15898|         5.8|\n",
      "|4.517859191E9|       0|        14595|         6.4|\n",
      "|4.514482057E9|       0|        12403|         5.2|\n",
      "|4.522596231E9|       1|        20170|         7.2|\n",
      "| 4.46073084E9|       1|        20029|         7.4|\n",
      "|4.526837498E9|       1|        20302|         7.0|\n",
      "|4.516544412E9|       1|        20236|         7.0|\n",
      "|4.494291659E9|       0|        13099|         5.8|\n",
      "|4.520727484E9|       0|        12713|         6.0|\n",
      "| 4.50619899E9|       0|        12682|         6.6|\n",
      "|4.481181249E9|       0|        12519|         6.0|\n",
      "|4.508126925E9|       1|        21512|         7.2|\n",
      "|4.526227837E9|       1|        19425|         7.4|\n",
      "|4.499273242E9|       1|        20182|         7.6|\n",
      "|4.508732146E9|       1|        20067|         7.0|\n",
      "|4.489234827E9|       1|        14780|         6.0|\n",
      "|4.527285889E9|       0|        13337|         6.0|\n",
      "|4.492762371E9|       1|        20169|         7.0|\n",
      "|4.526934596E9|       1|        17854|         7.6|\n",
      "|4.474734161E9|       0|        14901|         6.2|\n",
      "|4.495742635E9|       1|        20177|         7.8|\n",
      "|4.525171527E9|       1|        14887|         6.4|\n",
      "|4.448485009E9|       0|        12971|         6.4|\n",
      "|4.473795908E9|       1|        19456|         7.8|\n",
      "|4.523304225E9|       0|        15381|         6.2|\n",
      "|4.522574543E9|       0|        20007|         7.0|\n",
      "|  4.4594073E9|       1|        20063|         7.4|\n",
      "|4.508130828E9|       1|        19904|         7.6|\n",
      "|4.515656149E9|       1|        20666|         7.2|\n",
      "|4.497064417E9|       1|        19847|         7.2|\n",
      "|4.464656056E9|       1|        21783|         7.6|\n",
      "|4.440425565E9|       1|        22162|         7.8|\n",
      "|4.526199603E9|       0|        15147|         6.4|\n",
      "|4.478560803E9|       0|        16218|         6.0|\n",
      "|4.474969616E9|       1|        20245|         7.2|\n",
      "|4.491334204E9|       1|        19610|         7.6|\n",
      "|4.498463657E9|       0|        15740|         6.0|\n",
      "|4.468599765E9|       1|        20346|         7.4|\n",
      "|4.495446798E9|       1|        20218|         7.0|\n",
      "|4.447488924E9|       1|        20010|         7.2|\n",
      "|4.489712719E9|       1|        20012|         7.2|\n",
      "|4.447657197E9|       1|        20341|         7.4|\n",
      "|4.477246818E9|       1|        19994|         7.6|\n",
      "|4.444878201E9|       1|        20909|         7.4|\n",
      "|4.465308301E9|       0|        10730|         4.8|\n",
      "|4.459832099E9|       1|        19155|         7.6|\n",
      "|4.513065219E9|       0|        14007|         6.2|\n",
      "|4.521611009E9|       0|        15938|         6.2|\n",
      "|4.305726781E9|       1|        20351|         7.4|\n",
      "|4.512604685E9|       0|        14366|         6.0|\n",
      "|4.508388395E9|       1|        21883|         7.8|\n",
      "|4.500526206E9|       1|        20795|         7.2|\n",
      "|4.486550579E9|       1|        21132|         7.6|\n",
      "|4.467974505E9|       1|        20245|         7.6|\n",
      "|4.446121207E9|       1|        20560|         7.4|\n",
      "|4.471718204E9|       1|        21703|         7.2|\n",
      "|4.467275928E9|       1|        15142|         6.2|\n",
      "|4.525380642E9|       0|        20066|         7.2|\n",
      "|4.496865743E9|       0|        14281|         6.2|\n",
      "|4.527314623E9|       1|        20271|         7.2|\n",
      "|4.447641028E9|       0|        16978|         5.6|\n",
      "|4.517670386E9|       0|        13172|         6.0|\n",
      "|4.524969913E9|       1|        21020|         7.6|\n",
      "|  4.4898708E9|       1|        20876|         7.6|\n",
      "|4.515934716E9|       1|        20330|         7.0|\n",
      "| 4.51536379E9|       0|        13772|         6.0|\n",
      "|4.461601023E9|       1|        18288|         7.6|\n",
      "|4.526755326E9|       0|        14494|         6.4|\n",
      "| 4.48947742E9|       1|        20124|         7.4|\n",
      "|4.522564932E9|       1|        18314|         7.6|\n",
      "|4.433590023E9|       1|        20095|         7.6|\n",
      "|4.511011052E9|       1|        23278|         7.8|\n",
      "|4.485978471E9|       1|        20032|         7.4|\n",
      "|4.527319271E9|       1|        21257|         7.4|\n",
      "|4.519801172E9|       0|        14316|         6.2|\n",
      "|4.495631767E9|       1|        20464|         7.4|\n",
      "|4.515642835E9|       1|        21297|         7.2|\n",
      "|4.526845864E9|       0|        13337|         6.0|\n",
      "|4.508892154E9|       0|        17418|         6.2|\n",
      "|4.517653649E9|       1|        21663|         7.4|\n",
      "|4.527645576E9|       1|        20943|         7.4|\n",
      "|4.525587151E9|       1|        20433|         7.4|\n",
      "|4.518078785E9|       1|        20880|         7.4|\n",
      "|4.526634972E9|       0|        20668|         7.6|\n",
      "|4.527478355E9|       1|        20109|         7.2|\n",
      "|4.516106075E9|       0|        14511|         6.2|\n",
      "|4.507113802E9|       1|        21070|         7.2|\n",
      "| 4.52752829E9|       0|        13016|         5.6|\n",
      "|4.499534916E9|       1|        19383|         7.6|\n",
      "|4.502370552E9|       1|        15091|         6.2|\n",
      "|4.527528512E9|       1|        22697|         7.6|\n",
      "|4.525911373E9|       1|        23701|         7.8|\n",
      "|4.516068485E9|       0|        12837|         6.2|\n",
      "|4.527127873E9|       0|        13006|         6.0|\n",
      "|4.524024822E9|       1|        20860|         7.4|\n",
      "|4.492577817E9|       0|        13769|         6.2|\n",
      "|4.523620825E9|       1|        22049|         7.4|\n",
      "|4.506946392E9|       1|        14321|         6.0|\n",
      "|4.526750578E9|       0|        15265|         6.0|\n",
      "|4.498547883E9|       1|        19907|         7.6|\n",
      "|4.512246178E9|       1|        20151|         7.4|\n",
      "|4.526960902E9|       0|        20419|         7.6|\n",
      "|4.524799428E9|       1|        18322|         7.4|\n",
      "|4.517907839E9|       1|        20844|         7.2|\n",
      "|4.523917327E9|       1|        20344|         7.0|\n",
      "|4.510184598E9|       0|        12886|         6.0|\n",
      "|4.519991691E9|       0|        13908|         5.4|\n",
      "|4.519024034E9|       1|        20356|         7.0|\n",
      "|4.525971352E9|       0|        14157|         6.0|\n",
      "|4.502220585E9|       1|        22134|         7.6|\n",
      "|4.527592753E9|       1|        13719|         6.4|\n",
      "|4.525626729E9|       1|        20236|         6.8|\n",
      "|4.524224668E9|       1|        21278|         7.4|\n",
      "|4.510986413E9|       1|        20027|         7.2|\n",
      "|4.511813987E9|       1|        20070|         7.2|\n",
      "|4.475185229E9|       1|        20920|         7.2|\n",
      "|4.502334465E9|       1|        20639|         7.2|\n",
      "|4.518264766E9|       1|        20289|         7.2|\n",
      "|4.510803003E9|       1|        20540|         7.6|\n",
      "|  4.5222014E9|       1|        20861|         7.0|\n",
      "|4.508674756E9|       0|        13418|         5.8|\n",
      "|4.509560405E9|       1|        22173|         7.4|\n",
      "|4.506730764E9|       1|        18704|         7.6|\n",
      "|4.499811143E9|       1|        20026|         7.2|\n",
      "| 4.51984448E9|       0|        14838|         6.0|\n",
      "|4.517814495E9|       0|        21055|         7.2|\n",
      "|4.518209107E9|       1|        20541|         7.4|\n",
      "|4.511130155E9|       0|        13886|         6.0|\n",
      "| 4.49972452E9|       1|        19814|         7.6|\n",
      "|4.517946996E9|       0|        12941|         6.4|\n",
      "|4.524941419E9|       1|        23205|         7.0|\n",
      "|4.523127328E9|       0|        13824|         6.2|\n",
      "|4.518241123E9|       0|        12178|         4.6|\n",
      "|4.527729232E9|       0|        14478|         6.2|\n",
      "+-------------+--------+-------------+------------+"
     ]
    }
   ],
   "source": [
    "#show the rows containing outliers\n",
    "with_outliers_flag = games.join(outliers, on='gameId')\n",
    "\n",
    "(\n",
    "    with_outliers_flag\n",
    "    .filter('blueTotalGold_o OR blueTotalExperience_o')\n",
    "    .select('gameId', 'blueWins', 'blueTotalGold', 'blueAvgLevel')\n",
    "    .show(500)\n",
    ")"
   ]
  },
  {
   "cell_type": "code",
   "execution_count": 9,
   "metadata": {},
   "outputs": [
    {
     "data": {
      "application/vnd.jupyter.widget-view+json": {
       "model_id": "f19d38385e78410d955546e725574cfc",
       "version_major": 2,
       "version_minor": 0
      },
      "text/plain": [
       "VBox()"
      ]
     },
     "metadata": {},
     "output_type": "display_data"
    },
    {
     "data": {
      "application/vnd.jupyter.widget-view+json": {
       "model_id": "",
       "version_major": 2,
       "version_minor": 0
      },
      "text/plain": [
       "FloatProgress(value=0.0, bar_style='info', description='Progress:', layout=Layout(height='25px', width='50%'),…"
      ]
     },
     "metadata": {},
     "output_type": "display_data"
    },
    {
     "name": "stdout",
     "output_type": "stream",
     "text": [
      "+-------------+--------+---------------+------------------+--------------+---------+----------+-----------+-----------------+-----------+-----------+-------------------+-------------+------------+-------------------+----------------------+----------------------------+------------+------------------+------------+--------------+--------------+-----------------+-------------+--------+---------+----------+----------------+----------+----------+------------------+------------+-----------+------------------+---------------------+---------------------------+-----------+-----------------+-----------+-------------+\n",
      "|       gameId|blueWins|blueWardsPlaced|blueWardsDestroyed|blueFirstBlood|blueKills|blueDeaths|blueAssists|blueEliteMonsters|blueDragons|blueHeralds|blueTowersDestroyed|blueTotalGold|blueAvgLevel|blueTotalExperience|blueTotalMinionsKilled|blueTotalJungleMinionsKilled|blueGoldDiff|blueExperienceDiff|blueCSPerMin|blueGoldPerMin|redWardsPlaced|redWardsDestroyed|redFirstBlood|redKills|redDeaths|redAssists|redEliteMonsters|redDragons|redHeralds|redTowersDestroyed|redTotalGold|redAvgLevel|redTotalExperience|redTotalMinionsKilled|redTotalJungleMinionsKilled|redGoldDiff|redExperienceDiff|redCSPerMin|redGoldPerMin|\n",
      "+-------------+--------+---------------+------------------+--------------+---------+----------+-----------+-----------------+-----------+-----------+-------------------+-------------+------------+-------------------+----------------------+----------------------------+------------+------------------+------------+--------------+--------------+-----------------+-------------+--------+---------+----------+----------------+----------+----------+------------------+------------+-----------+------------------+---------------------+---------------------------+-----------+-----------------+-----------+-------------+\n",
      "|4.519157822E9|       0|             28|                 2|             1|        9|         6|         11|                0|          0|          0|                  0|        17210|         6.6|              17039|                   195|                          36|         643|                -8|        19.5|        1721.0|            15|                6|            0|       6|        9|         8|               0|         0|         0|                 0|       16567|        6.8|             17047|                  197|                         55|       -643|                8|       19.7|       1656.7|\n",
      "+-------------+--------+---------------+------------------+--------------+---------+----------+-----------+-----------------+-----------+-----------+-------------------+-------------+------------+-------------------+----------------------+----------------------------+------------+------------------+------------+--------------+--------------+-----------------+-------------+--------+---------+----------+----------------+----------+----------+------------------+------------+-----------+------------------+---------------------+---------------------------+-----------+-----------------+-----------+-------------+\n",
      "only showing top 1 row"
     ]
    }
   ],
   "source": [
    "#filter outliers between blueTotalGold and blueTotalExperience so we can run descriptive statistics\n",
    "no_outliers = (\n",
    "    with_outliers_flag\n",
    "    .filter('!(blueTotalGold_o OR blueTotalExperience_o)')\n",
    "    .select(games.columns)\n",
    ")\n",
    "no_outliers.show(1)"
   ]
  },
  {
   "cell_type": "markdown",
   "metadata": {},
   "source": [
    "# Exploring descriptive statistics for blue team"
   ]
  },
  {
   "cell_type": "code",
   "execution_count": 10,
   "metadata": {},
   "outputs": [
    {
     "data": {
      "application/vnd.jupyter.widget-view+json": {
       "model_id": "d3b6aacd417349fd99da9ad35d6d856b",
       "version_major": 2,
       "version_minor": 0
      },
      "text/plain": [
       "VBox()"
      ]
     },
     "metadata": {},
     "output_type": "display_data"
    },
    {
     "data": {
      "application/vnd.jupyter.widget-view+json": {
       "model_id": "",
       "version_major": 2,
       "version_minor": 0
      },
      "text/plain": [
       "FloatProgress(value=0.0, bar_style='info', description='Progress:', layout=Layout(height='25px', width='50%'),…"
      ]
     },
     "metadata": {},
     "output_type": "display_data"
    },
    {
     "name": "stdout",
     "output_type": "stream",
     "text": [
      "+-------+------------------+-------------------+\n",
      "|summary|     blueTotalGold|blueTotalExperience|\n",
      "+-------+------------------+-------------------+\n",
      "|  count|              9492|               9492|\n",
      "|   mean|16432.632743362832| 17924.282764433206|\n",
      "| stddev|1378.2355242993713|  1086.624679687705|\n",
      "|    min|             12756|              15124|\n",
      "|    max|             19993|              20693|\n",
      "+-------+------------------+-------------------+"
     ]
    }
   ],
   "source": [
    "#describe numeric features. \n",
    "#blueTotalGold mean is 16432.63 which the graph will be showed in this range. Stddev is low which graph should close to avg.\n",
    "#blueTotalExperience mean is 17924.28 which the graph will be showed in this range. Stddev is low which graph should close to avg.\n",
    "descriptive_stats = no_outliers.describe(features)\n",
    "descriptive_stats.show()"
   ]
  },
  {
   "cell_type": "code",
   "execution_count": 11,
   "metadata": {},
   "outputs": [
    {
     "data": {
      "application/vnd.jupyter.widget-view+json": {
       "model_id": "7bbc55d054f84be29afca65d29155b89",
       "version_major": 2,
       "version_minor": 0
      },
      "text/plain": [
       "VBox()"
      ]
     },
     "metadata": {},
     "output_type": "display_data"
    },
    {
     "data": {
      "application/vnd.jupyter.widget-view+json": {
       "model_id": "",
       "version_major": 2,
       "version_minor": 0
      },
      "text/plain": [
       "FloatProgress(value=0.0, bar_style='info', description='Progress:', layout=Layout(height='25px', width='50%'),…"
      ]
     },
     "metadata": {},
     "output_type": "display_data"
    },
    {
     "name": "stdout",
     "output_type": "stream",
     "text": [
      "+-------------------+\n",
      "|      avg(blueWins)|\n",
      "+-------------------+\n",
      "|0.49336283185840707|\n",
      "+-------------------+"
     ]
    }
   ],
   "source": [
    "#blue win rate is around 49.34% lower than red team without outliers\n",
    "no_outliers.agg(\n",
    "    {'blueWins': 'mean'}\n",
    ").show()"
   ]
  },
  {
   "cell_type": "code",
   "execution_count": 12,
   "metadata": {},
   "outputs": [
    {
     "data": {
      "application/vnd.jupyter.widget-view+json": {
       "model_id": "feb64a7b232b4603882e656733af5d4e",
       "version_major": 2,
       "version_minor": 0
      },
      "text/plain": [
       "VBox()"
      ]
     },
     "metadata": {},
     "output_type": "display_data"
    },
    {
     "data": {
      "application/vnd.jupyter.widget-view+json": {
       "model_id": "",
       "version_major": 2,
       "version_minor": 0
      },
      "text/plain": [
       "FloatProgress(value=0.0, bar_style='info', description='Progress:', layout=Layout(height='25px', width='50%'),…"
      ]
     },
     "metadata": {},
     "output_type": "display_data"
    },
    {
     "name": "stdout",
     "output_type": "stream",
     "text": [
      "+------------------+\n",
      "|     avg(blueWins)|\n",
      "+------------------+\n",
      "|0.4990383642069035|\n",
      "+------------------+"
     ]
    }
   ],
   "source": [
    "#blue win rate is around 49.90% better than blue team with outliers\n",
    "games.agg(\n",
    "    {'blueWins': 'mean'}\n",
    ").show()"
   ]
  },
  {
   "cell_type": "markdown",
   "metadata": {},
   "source": [
    "# Computing correlations"
   ]
  },
  {
   "cell_type": "code",
   "execution_count": 13,
   "metadata": {},
   "outputs": [
    {
     "data": {
      "application/vnd.jupyter.widget-view+json": {
       "model_id": "d5767121341b4ff7924275cb2955a9a7",
       "version_major": 2,
       "version_minor": 0
      },
      "text/plain": [
       "VBox()"
      ]
     },
     "metadata": {},
     "output_type": "display_data"
    },
    {
     "data": {
      "application/vnd.jupyter.widget-view+json": {
       "model_id": "",
       "version_major": 2,
       "version_minor": 0
      },
      "text/plain": [
       "FloatProgress(value=0.0, bar_style='info', description='Progress:', layout=Layout(height='25px', width='50%'),…"
      ]
     },
     "metadata": {},
     "output_type": "display_data"
    },
    {
     "name": "stdout",
     "output_type": "stream",
     "text": [
      "0.6461935239836535"
     ]
    }
   ],
   "source": [
    "#High correlation!\n",
    "(\n",
    "    no_outliers\n",
    "    .corr('blueTotalGold', 'blueTotalExperience')\n",
    ")"
   ]
  },
  {
   "cell_type": "code",
   "execution_count": 14,
   "metadata": {},
   "outputs": [
    {
     "data": {
      "application/vnd.jupyter.widget-view+json": {
       "model_id": "7cee180b1e5d4a16b8e48414c7184407",
       "version_major": 2,
       "version_minor": 0
      },
      "text/plain": [
       "VBox()"
      ]
     },
     "metadata": {},
     "output_type": "display_data"
    },
    {
     "data": {
      "application/vnd.jupyter.widget-view+json": {
       "model_id": "",
       "version_major": 2,
       "version_minor": 0
      },
      "text/plain": [
       "FloatProgress(value=0.0, bar_style='info', description='Progress:', layout=Layout(height='25px', width='50%'),…"
      ]
     },
     "metadata": {},
     "output_type": "display_data"
    },
    {
     "name": "stdout",
     "output_type": "stream",
     "text": [
      "+-------------------+-------------+-------------------+\n",
      "|             Column|blueTotalGold|blueTotalExperience|\n",
      "+-------------------+-------------+-------------------+\n",
      "|      blueTotalGold|          1.0| 0.6461935239836535|\n",
      "|blueTotalExperience|         null|                1.0|\n",
      "+-------------------+-------------+-------------------+"
     ]
    }
   ],
   "source": [
    "#create correlations table\n",
    "n_features = len(features)\n",
    "\n",
    "corr = []\n",
    "\n",
    "for i in range(0, n_features):\n",
    "    temp = [None] * i\n",
    "\n",
    "    for j in range(i, n_features):\n",
    "        temp.append(no_outliers.corr(features[i], features[j]))\n",
    "    corr.append([features[i]] + temp)\n",
    "\n",
    "correlations = spark.createDataFrame(corr, ['Column'] + features)\n",
    "\n",
    "correlations.show()"
   ]
  },
  {
   "cell_type": "markdown",
   "metadata": {},
   "source": [
    "# Drawing histograms for blue team with Outliers"
   ]
  },
  {
   "cell_type": "code",
   "execution_count": 15,
   "metadata": {},
   "outputs": [
    {
     "data": {
      "application/vnd.jupyter.widget-view+json": {
       "model_id": "5e7d0d4b739f47e7b2ef298444bbaddc",
       "version_major": 2,
       "version_minor": 0
      },
      "text/plain": [
       "VBox()"
      ]
     },
     "metadata": {},
     "output_type": "display_data"
    },
    {
     "data": {
      "application/vnd.jupyter.widget-view+json": {
       "model_id": "",
       "version_major": 2,
       "version_minor": 0
      },
      "text/plain": [
       "FloatProgress(value=0.0, bar_style='info', description='Progress:', layout=Layout(height='25px', width='50%'),…"
      ]
     },
     "metadata": {},
     "output_type": "display_data"
    }
   ],
   "source": [
    "#generate bins and count of each bin\n",
    "histogram_gms = (\n",
    "    games\n",
    "    .select('blueTotalGold')\n",
    "    .rdd\n",
    "    .flatMap(lambda record: record)\n",
    "    .histogram(5)\n",
    ")"
   ]
  },
  {
   "cell_type": "code",
   "execution_count": 16,
   "metadata": {},
   "outputs": [
    {
     "data": {
      "application/vnd.jupyter.widget-view+json": {
       "model_id": "b6a87a8786b942f7a50cfeea79814e40",
       "version_major": 2,
       "version_minor": 0
      },
      "text/plain": [
       "VBox()"
      ]
     },
     "metadata": {},
     "output_type": "display_data"
    },
    {
     "data": {
      "application/vnd.jupyter.widget-view+json": {
       "model_id": "",
       "version_major": 2,
       "version_minor": 0
      },
      "text/plain": [
       "FloatProgress(value=0.0, bar_style='info', description='Progress:', layout=Layout(height='25px', width='50%'),…"
      ]
     },
     "metadata": {},
     "output_type": "display_data"
    },
    {
     "name": "stdout",
     "output_type": "stream",
     "text": [
      "[10730.0, 13324.2, 15918.4, 18512.6, 21106.8, 23701]\n",
      "[69, 3632, 5206, 919, 53]\n",
      "([10730.0, 13324.2, 15918.4, 18512.6, 21106.8, 23701], [69, 3632, 5206, 919, 53])"
     ]
    }
   ],
   "source": [
    "#.histogram() generates two arrays: \n",
    "#1) list of bin bounds, \n",
    "#2) count of elements in corresponding bin\n",
    "for i in histogram_gms:\n",
    "    print(i)\n",
    "    \n",
    "histogram_gms"
   ]
  },
  {
   "cell_type": "code",
   "execution_count": 17,
   "metadata": {},
   "outputs": [
    {
     "data": {
      "application/vnd.jupyter.widget-view+json": {
       "model_id": "58579af0b04f4981acddacabcaff2798",
       "version_major": 2,
       "version_minor": 0
      },
      "text/plain": [
       "VBox()"
      ]
     },
     "metadata": {},
     "output_type": "display_data"
    },
    {
     "data": {
      "application/vnd.jupyter.widget-view+json": {
       "model_id": "",
       "version_major": 2,
       "version_minor": 0
      },
      "text/plain": [
       "FloatProgress(value=0.0, bar_style='info', description='Progress:', layout=Layout(height='25px', width='50%'),…"
      ]
     },
     "metadata": {},
     "output_type": "display_data"
    },
    {
     "name": "stdout",
     "output_type": "stream",
     "text": [
      "[10730.0,13324.2)\n",
      "[13324.2,15918.4)\n",
      "[15918.4,18512.6)\n",
      "[18512.6,21106.8)\n",
      "[21106.8,23701)"
     ]
    }
   ],
   "source": [
    "#display bin ranges\n",
    "for i in range(len(histogram_gms[0])-1):\n",
    "    print('[' + str(round(histogram_gms[0][i],2))\n",
    "        + ',' + str(round(histogram_gms[0][i+1],2))\n",
    "          + ')'\n",
    "         )"
   ]
  },
  {
   "cell_type": "code",
   "execution_count": 18,
   "metadata": {},
   "outputs": [
    {
     "data": {
      "application/vnd.jupyter.widget-view+json": {
       "model_id": "822b0645344a485fb47f8d423d02f121",
       "version_major": 2,
       "version_minor": 0
      },
      "text/plain": [
       "VBox()"
      ]
     },
     "metadata": {},
     "output_type": "display_data"
    },
    {
     "data": {
      "application/vnd.jupyter.widget-view+json": {
       "model_id": "",
       "version_major": 2,
       "version_minor": 0
      },
      "text/plain": [
       "FloatProgress(value=0.0, bar_style='info', description='Progress:', layout=Layout(height='25px', width='50%'),…"
      ]
     },
     "metadata": {},
     "output_type": "display_data"
    },
    {
     "name": "stdout",
     "output_type": "stream",
     "text": [
      "[(1, 'one'), (2, 'two'), (3, 'three')]"
     ]
    }
   ],
   "source": [
    "#Python zip function returns an iterator of tuples based on the iterable object\n",
    "numberList = [1, 2, 3]\n",
    "strList = ['one', 'two', 'three']\n",
    "result = zip(numberList, strList)\n",
    "print(sorted(result))"
   ]
  },
  {
   "cell_type": "code",
   "execution_count": 19,
   "metadata": {},
   "outputs": [
    {
     "data": {
      "application/vnd.jupyter.widget-view+json": {
       "model_id": "66f264ded9de4a4cab0417f47aab971b",
       "version_major": 2,
       "version_minor": 0
      },
      "text/plain": [
       "VBox()"
      ]
     },
     "metadata": {},
     "output_type": "display_data"
    },
    {
     "data": {
      "application/vnd.jupyter.widget-view+json": {
       "model_id": "",
       "version_major": 2,
       "version_minor": 0
      },
      "text/plain": [
       "FloatProgress(value=0.0, bar_style='info', description='Progress:', layout=Layout(height='25px', width='50%'),…"
      ]
     },
     "metadata": {},
     "output_type": "display_data"
    },
    {
     "name": "stdout",
     "output_type": "stream",
     "text": [
      "[(10730.0, 69), (13324.2, 3632), (15918.4, 5206), (18512.6, 919), (21106.8, 53)]"
     ]
    }
   ],
   "source": [
    "#symbol * unpacks histogram_MPG and passes the two compoonents to zip as parameters\n",
    "#zip(*histogram_MPG) = zip(histogram_MPG[0], histogram_MPG[1])\n",
    "sorted(zip(*histogram_gms))"
   ]
  },
  {
   "cell_type": "code",
   "execution_count": 20,
   "metadata": {},
   "outputs": [
    {
     "data": {
      "application/vnd.jupyter.widget-view+json": {
       "model_id": "",
       "version_major": 2,
       "version_minor": 0
      },
      "text/plain": [
       "FloatProgress(value=0.0, bar_style='info', description='Progress:', layout=Layout(height='25px', width='50%'),…"
      ]
     },
     "metadata": {},
     "output_type": "display_data"
    },
    {
     "data": {
      "application/vnd.jupyter.widget-view+json": {
       "model_id": "",
       "version_major": 2,
       "version_minor": 0
      },
      "text/plain": [
       "FloatProgress(value=0.0, bar_style='info', description='Progress:', layout=Layout(height='25px', width='50%'),…"
      ]
     },
     "metadata": {},
     "output_type": "display_data"
    }
   ],
   "source": [
    "%%spark -o hist_GMS\n",
    "#The above Spark magic exports histogram_gms to local node running the notebook\n",
    "#So that we can use the local object to draw a histogram\n",
    "import pandas as pd\n",
    "hist_GMS =  spark.createDataFrame(\n",
    "    list(zip(*histogram_gms)), \n",
    "    ['bins', 'counts'])"
   ]
  },
  {
   "cell_type": "code",
   "execution_count": 21,
   "metadata": {},
   "outputs": [
    {
     "data": {
      "text/html": [
       "\n",
       "    <div class=\"bk-root\">\n",
       "        <a href=\"https://bokeh.org\" target=\"_blank\" class=\"bk-logo bk-logo-small bk-logo-notebook\"></a>\n",
       "        <span id=\"1001\">Loading BokehJS ...</span>\n",
       "    </div>"
      ]
     },
     "metadata": {},
     "output_type": "display_data"
    },
    {
     "data": {
      "application/javascript": [
       "\n",
       "(function(root) {\n",
       "  function now() {\n",
       "    return new Date();\n",
       "  }\n",
       "\n",
       "  var force = true;\n",
       "\n",
       "  if (typeof root._bokeh_onload_callbacks === \"undefined\" || force === true) {\n",
       "    root._bokeh_onload_callbacks = [];\n",
       "    root._bokeh_is_loading = undefined;\n",
       "  }\n",
       "\n",
       "  var JS_MIME_TYPE = 'application/javascript';\n",
       "  var HTML_MIME_TYPE = 'text/html';\n",
       "  var EXEC_MIME_TYPE = 'application/vnd.bokehjs_exec.v0+json';\n",
       "  var CLASS_NAME = 'output_bokeh rendered_html';\n",
       "\n",
       "  /**\n",
       "   * Render data to the DOM node\n",
       "   */\n",
       "  function render(props, node) {\n",
       "    var script = document.createElement(\"script\");\n",
       "    node.appendChild(script);\n",
       "  }\n",
       "\n",
       "  /**\n",
       "   * Handle when an output is cleared or removed\n",
       "   */\n",
       "  function handleClearOutput(event, handle) {\n",
       "    var cell = handle.cell;\n",
       "\n",
       "    var id = cell.output_area._bokeh_element_id;\n",
       "    var server_id = cell.output_area._bokeh_server_id;\n",
       "    // Clean up Bokeh references\n",
       "    if (id != null && id in Bokeh.index) {\n",
       "      Bokeh.index[id].model.document.clear();\n",
       "      delete Bokeh.index[id];\n",
       "    }\n",
       "\n",
       "    if (server_id !== undefined) {\n",
       "      // Clean up Bokeh references\n",
       "      var cmd = \"from bokeh.io.state import curstate; print(curstate().uuid_to_server['\" + server_id + \"'].get_sessions()[0].document.roots[0]._id)\";\n",
       "      cell.notebook.kernel.execute(cmd, {\n",
       "        iopub: {\n",
       "          output: function(msg) {\n",
       "            var id = msg.content.text.trim();\n",
       "            if (id in Bokeh.index) {\n",
       "              Bokeh.index[id].model.document.clear();\n",
       "              delete Bokeh.index[id];\n",
       "            }\n",
       "          }\n",
       "        }\n",
       "      });\n",
       "      // Destroy server and session\n",
       "      var cmd = \"import bokeh.io.notebook as ion; ion.destroy_server('\" + server_id + \"')\";\n",
       "      cell.notebook.kernel.execute(cmd);\n",
       "    }\n",
       "  }\n",
       "\n",
       "  /**\n",
       "   * Handle when a new output is added\n",
       "   */\n",
       "  function handleAddOutput(event, handle) {\n",
       "    var output_area = handle.output_area;\n",
       "    var output = handle.output;\n",
       "\n",
       "    // limit handleAddOutput to display_data with EXEC_MIME_TYPE content only\n",
       "    if ((output.output_type != \"display_data\") || (!output.data.hasOwnProperty(EXEC_MIME_TYPE))) {\n",
       "      return\n",
       "    }\n",
       "\n",
       "    var toinsert = output_area.element.find(\".\" + CLASS_NAME.split(' ')[0]);\n",
       "\n",
       "    if (output.metadata[EXEC_MIME_TYPE][\"id\"] !== undefined) {\n",
       "      toinsert[toinsert.length - 1].firstChild.textContent = output.data[JS_MIME_TYPE];\n",
       "      // store reference to embed id on output_area\n",
       "      output_area._bokeh_element_id = output.metadata[EXEC_MIME_TYPE][\"id\"];\n",
       "    }\n",
       "    if (output.metadata[EXEC_MIME_TYPE][\"server_id\"] !== undefined) {\n",
       "      var bk_div = document.createElement(\"div\");\n",
       "      bk_div.innerHTML = output.data[HTML_MIME_TYPE];\n",
       "      var script_attrs = bk_div.children[0].attributes;\n",
       "      for (var i = 0; i < script_attrs.length; i++) {\n",
       "        toinsert[toinsert.length - 1].firstChild.setAttribute(script_attrs[i].name, script_attrs[i].value);\n",
       "      }\n",
       "      // store reference to server id on output_area\n",
       "      output_area._bokeh_server_id = output.metadata[EXEC_MIME_TYPE][\"server_id\"];\n",
       "    }\n",
       "  }\n",
       "\n",
       "  function register_renderer(events, OutputArea) {\n",
       "\n",
       "    function append_mime(data, metadata, element) {\n",
       "      // create a DOM node to render to\n",
       "      var toinsert = this.create_output_subarea(\n",
       "        metadata,\n",
       "        CLASS_NAME,\n",
       "        EXEC_MIME_TYPE\n",
       "      );\n",
       "      this.keyboard_manager.register_events(toinsert);\n",
       "      // Render to node\n",
       "      var props = {data: data, metadata: metadata[EXEC_MIME_TYPE]};\n",
       "      render(props, toinsert[toinsert.length - 1]);\n",
       "      element.append(toinsert);\n",
       "      return toinsert\n",
       "    }\n",
       "\n",
       "    /* Handle when an output is cleared or removed */\n",
       "    events.on('clear_output.CodeCell', handleClearOutput);\n",
       "    events.on('delete.Cell', handleClearOutput);\n",
       "\n",
       "    /* Handle when a new output is added */\n",
       "    events.on('output_added.OutputArea', handleAddOutput);\n",
       "\n",
       "    /**\n",
       "     * Register the mime type and append_mime function with output_area\n",
       "     */\n",
       "    OutputArea.prototype.register_mime_type(EXEC_MIME_TYPE, append_mime, {\n",
       "      /* Is output safe? */\n",
       "      safe: true,\n",
       "      /* Index of renderer in `output_area.display_order` */\n",
       "      index: 0\n",
       "    });\n",
       "  }\n",
       "\n",
       "  // register the mime type if in Jupyter Notebook environment and previously unregistered\n",
       "  if (root.Jupyter !== undefined) {\n",
       "    var events = require('base/js/events');\n",
       "    var OutputArea = require('notebook/js/outputarea').OutputArea;\n",
       "\n",
       "    if (OutputArea.prototype.mime_types().indexOf(EXEC_MIME_TYPE) == -1) {\n",
       "      register_renderer(events, OutputArea);\n",
       "    }\n",
       "  }\n",
       "\n",
       "  \n",
       "  if (typeof (root._bokeh_timeout) === \"undefined\" || force === true) {\n",
       "    root._bokeh_timeout = Date.now() + 5000;\n",
       "    root._bokeh_failed_load = false;\n",
       "  }\n",
       "\n",
       "  var NB_LOAD_WARNING = {'data': {'text/html':\n",
       "     \"<div style='background-color: #fdd'>\\n\"+\n",
       "     \"<p>\\n\"+\n",
       "     \"BokehJS does not appear to have successfully loaded. If loading BokehJS from CDN, this \\n\"+\n",
       "     \"may be due to a slow or bad network connection. Possible fixes:\\n\"+\n",
       "     \"</p>\\n\"+\n",
       "     \"<ul>\\n\"+\n",
       "     \"<li>re-rerun `output_notebook()` to attempt to load from CDN again, or</li>\\n\"+\n",
       "     \"<li>use INLINE resources instead, as so:</li>\\n\"+\n",
       "     \"</ul>\\n\"+\n",
       "     \"<code>\\n\"+\n",
       "     \"from bokeh.resources import INLINE\\n\"+\n",
       "     \"output_notebook(resources=INLINE)\\n\"+\n",
       "     \"</code>\\n\"+\n",
       "     \"</div>\"}};\n",
       "\n",
       "  function display_loaded() {\n",
       "    var el = document.getElementById(\"1001\");\n",
       "    if (el != null) {\n",
       "      el.textContent = \"BokehJS is loading...\";\n",
       "    }\n",
       "    if (root.Bokeh !== undefined) {\n",
       "      if (el != null) {\n",
       "        el.textContent = \"BokehJS \" + root.Bokeh.version + \" successfully loaded.\";\n",
       "      }\n",
       "    } else if (Date.now() < root._bokeh_timeout) {\n",
       "      setTimeout(display_loaded, 100)\n",
       "    }\n",
       "  }\n",
       "\n",
       "\n",
       "  function run_callbacks() {\n",
       "    try {\n",
       "      root._bokeh_onload_callbacks.forEach(function(callback) {\n",
       "        if (callback != null)\n",
       "          callback();\n",
       "      });\n",
       "    } finally {\n",
       "      delete root._bokeh_onload_callbacks\n",
       "    }\n",
       "    console.debug(\"Bokeh: all callbacks have finished\");\n",
       "  }\n",
       "\n",
       "  function load_libs(css_urls, js_urls, callback) {\n",
       "    if (css_urls == null) css_urls = [];\n",
       "    if (js_urls == null) js_urls = [];\n",
       "\n",
       "    root._bokeh_onload_callbacks.push(callback);\n",
       "    if (root._bokeh_is_loading > 0) {\n",
       "      console.debug(\"Bokeh: BokehJS is being loaded, scheduling callback at\", now());\n",
       "      return null;\n",
       "    }\n",
       "    if (js_urls == null || js_urls.length === 0) {\n",
       "      run_callbacks();\n",
       "      return null;\n",
       "    }\n",
       "    console.debug(\"Bokeh: BokehJS not loaded, scheduling load and callback at\", now());\n",
       "    root._bokeh_is_loading = css_urls.length + js_urls.length;\n",
       "\n",
       "    function on_load() {\n",
       "      root._bokeh_is_loading--;\n",
       "      if (root._bokeh_is_loading === 0) {\n",
       "        console.debug(\"Bokeh: all BokehJS libraries/stylesheets loaded\");\n",
       "        run_callbacks()\n",
       "      }\n",
       "    }\n",
       "\n",
       "    function on_error() {\n",
       "      console.error(\"failed to load \" + url);\n",
       "    }\n",
       "\n",
       "    for (var i = 0; i < css_urls.length; i++) {\n",
       "      var url = css_urls[i];\n",
       "      const element = document.createElement(\"link\");\n",
       "      element.onload = on_load;\n",
       "      element.onerror = on_error;\n",
       "      element.rel = \"stylesheet\";\n",
       "      element.type = \"text/css\";\n",
       "      element.href = url;\n",
       "      console.debug(\"Bokeh: injecting link tag for BokehJS stylesheet: \", url);\n",
       "      document.body.appendChild(element);\n",
       "    }\n",
       "\n",
       "    for (var i = 0; i < js_urls.length; i++) {\n",
       "      var url = js_urls[i];\n",
       "      var element = document.createElement('script');\n",
       "      element.onload = on_load;\n",
       "      element.onerror = on_error;\n",
       "      element.async = false;\n",
       "      element.src = url;\n",
       "      console.debug(\"Bokeh: injecting script tag for BokehJS library: \", url);\n",
       "      document.head.appendChild(element);\n",
       "    }\n",
       "  };var element = document.getElementById(\"1001\");\n",
       "  if (element == null) {\n",
       "    console.error(\"Bokeh: ERROR: autoload.js configured with elementid '1001' but no matching script tag was found. \")\n",
       "    return false;\n",
       "  }\n",
       "\n",
       "  function inject_raw_css(css) {\n",
       "    const element = document.createElement(\"style\");\n",
       "    element.appendChild(document.createTextNode(css));\n",
       "    document.body.appendChild(element);\n",
       "  }\n",
       "\n",
       "  \n",
       "  var js_urls = [\"https://cdn.pydata.org/bokeh/release/bokeh-1.4.0.min.js\", \"https://cdn.pydata.org/bokeh/release/bokeh-widgets-1.4.0.min.js\", \"https://cdn.pydata.org/bokeh/release/bokeh-tables-1.4.0.min.js\", \"https://cdn.pydata.org/bokeh/release/bokeh-gl-1.4.0.min.js\"];\n",
       "  var css_urls = [];\n",
       "  \n",
       "\n",
       "  var inline_js = [\n",
       "    function(Bokeh) {\n",
       "      Bokeh.set_log_level(\"info\");\n",
       "    },\n",
       "    function(Bokeh) {\n",
       "    \n",
       "    \n",
       "    }\n",
       "  ];\n",
       "\n",
       "  function run_inline_js() {\n",
       "    \n",
       "    if (root.Bokeh !== undefined || force === true) {\n",
       "      \n",
       "    for (var i = 0; i < inline_js.length; i++) {\n",
       "      inline_js[i].call(root, root.Bokeh);\n",
       "    }\n",
       "    if (force === true) {\n",
       "        display_loaded();\n",
       "      }} else if (Date.now() < root._bokeh_timeout) {\n",
       "      setTimeout(run_inline_js, 100);\n",
       "    } else if (!root._bokeh_failed_load) {\n",
       "      console.log(\"Bokeh: BokehJS failed to load within specified timeout.\");\n",
       "      root._bokeh_failed_load = true;\n",
       "    } else if (force !== true) {\n",
       "      var cell = $(document.getElementById(\"1001\")).parents('.cell').data().cell;\n",
       "      cell.output_area.append_execute_result(NB_LOAD_WARNING)\n",
       "    }\n",
       "\n",
       "  }\n",
       "\n",
       "  if (root._bokeh_is_loading === 0) {\n",
       "    console.debug(\"Bokeh: BokehJS loaded, going straight to plotting\");\n",
       "    run_inline_js();\n",
       "  } else {\n",
       "    load_libs(css_urls, js_urls, function() {\n",
       "      console.debug(\"Bokeh: BokehJS plotting callback run at\", now());\n",
       "      run_inline_js();\n",
       "    });\n",
       "  }\n",
       "}(window));"
      ],
      "application/vnd.bokehjs_load.v0+json": "\n(function(root) {\n  function now() {\n    return new Date();\n  }\n\n  var force = true;\n\n  if (typeof root._bokeh_onload_callbacks === \"undefined\" || force === true) {\n    root._bokeh_onload_callbacks = [];\n    root._bokeh_is_loading = undefined;\n  }\n\n  \n\n  \n  if (typeof (root._bokeh_timeout) === \"undefined\" || force === true) {\n    root._bokeh_timeout = Date.now() + 5000;\n    root._bokeh_failed_load = false;\n  }\n\n  var NB_LOAD_WARNING = {'data': {'text/html':\n     \"<div style='background-color: #fdd'>\\n\"+\n     \"<p>\\n\"+\n     \"BokehJS does not appear to have successfully loaded. If loading BokehJS from CDN, this \\n\"+\n     \"may be due to a slow or bad network connection. Possible fixes:\\n\"+\n     \"</p>\\n\"+\n     \"<ul>\\n\"+\n     \"<li>re-rerun `output_notebook()` to attempt to load from CDN again, or</li>\\n\"+\n     \"<li>use INLINE resources instead, as so:</li>\\n\"+\n     \"</ul>\\n\"+\n     \"<code>\\n\"+\n     \"from bokeh.resources import INLINE\\n\"+\n     \"output_notebook(resources=INLINE)\\n\"+\n     \"</code>\\n\"+\n     \"</div>\"}};\n\n  function display_loaded() {\n    var el = document.getElementById(\"1001\");\n    if (el != null) {\n      el.textContent = \"BokehJS is loading...\";\n    }\n    if (root.Bokeh !== undefined) {\n      if (el != null) {\n        el.textContent = \"BokehJS \" + root.Bokeh.version + \" successfully loaded.\";\n      }\n    } else if (Date.now() < root._bokeh_timeout) {\n      setTimeout(display_loaded, 100)\n    }\n  }\n\n\n  function run_callbacks() {\n    try {\n      root._bokeh_onload_callbacks.forEach(function(callback) {\n        if (callback != null)\n          callback();\n      });\n    } finally {\n      delete root._bokeh_onload_callbacks\n    }\n    console.debug(\"Bokeh: all callbacks have finished\");\n  }\n\n  function load_libs(css_urls, js_urls, callback) {\n    if (css_urls == null) css_urls = [];\n    if (js_urls == null) js_urls = [];\n\n    root._bokeh_onload_callbacks.push(callback);\n    if (root._bokeh_is_loading > 0) {\n      console.debug(\"Bokeh: BokehJS is being loaded, scheduling callback at\", now());\n      return null;\n    }\n    if (js_urls == null || js_urls.length === 0) {\n      run_callbacks();\n      return null;\n    }\n    console.debug(\"Bokeh: BokehJS not loaded, scheduling load and callback at\", now());\n    root._bokeh_is_loading = css_urls.length + js_urls.length;\n\n    function on_load() {\n      root._bokeh_is_loading--;\n      if (root._bokeh_is_loading === 0) {\n        console.debug(\"Bokeh: all BokehJS libraries/stylesheets loaded\");\n        run_callbacks()\n      }\n    }\n\n    function on_error() {\n      console.error(\"failed to load \" + url);\n    }\n\n    for (var i = 0; i < css_urls.length; i++) {\n      var url = css_urls[i];\n      const element = document.createElement(\"link\");\n      element.onload = on_load;\n      element.onerror = on_error;\n      element.rel = \"stylesheet\";\n      element.type = \"text/css\";\n      element.href = url;\n      console.debug(\"Bokeh: injecting link tag for BokehJS stylesheet: \", url);\n      document.body.appendChild(element);\n    }\n\n    for (var i = 0; i < js_urls.length; i++) {\n      var url = js_urls[i];\n      var element = document.createElement('script');\n      element.onload = on_load;\n      element.onerror = on_error;\n      element.async = false;\n      element.src = url;\n      console.debug(\"Bokeh: injecting script tag for BokehJS library: \", url);\n      document.head.appendChild(element);\n    }\n  };var element = document.getElementById(\"1001\");\n  if (element == null) {\n    console.error(\"Bokeh: ERROR: autoload.js configured with elementid '1001' but no matching script tag was found. \")\n    return false;\n  }\n\n  function inject_raw_css(css) {\n    const element = document.createElement(\"style\");\n    element.appendChild(document.createTextNode(css));\n    document.body.appendChild(element);\n  }\n\n  \n  var js_urls = [\"https://cdn.pydata.org/bokeh/release/bokeh-1.4.0.min.js\", \"https://cdn.pydata.org/bokeh/release/bokeh-widgets-1.4.0.min.js\", \"https://cdn.pydata.org/bokeh/release/bokeh-tables-1.4.0.min.js\", \"https://cdn.pydata.org/bokeh/release/bokeh-gl-1.4.0.min.js\"];\n  var css_urls = [];\n  \n\n  var inline_js = [\n    function(Bokeh) {\n      Bokeh.set_log_level(\"info\");\n    },\n    function(Bokeh) {\n    \n    \n    }\n  ];\n\n  function run_inline_js() {\n    \n    if (root.Bokeh !== undefined || force === true) {\n      \n    for (var i = 0; i < inline_js.length; i++) {\n      inline_js[i].call(root, root.Bokeh);\n    }\n    if (force === true) {\n        display_loaded();\n      }} else if (Date.now() < root._bokeh_timeout) {\n      setTimeout(run_inline_js, 100);\n    } else if (!root._bokeh_failed_load) {\n      console.log(\"Bokeh: BokehJS failed to load within specified timeout.\");\n      root._bokeh_failed_load = true;\n    } else if (force !== true) {\n      var cell = $(document.getElementById(\"1001\")).parents('.cell').data().cell;\n      cell.output_area.append_execute_result(NB_LOAD_WARNING)\n    }\n\n  }\n\n  if (root._bokeh_is_loading === 0) {\n    console.debug(\"Bokeh: BokehJS loaded, going straight to plotting\");\n    run_inline_js();\n  } else {\n    load_libs(css_urls, js_urls, function() {\n      console.debug(\"Bokeh: BokehJS plotting callback run at\", now());\n      run_inline_js();\n    });\n  }\n}(window));"
     },
     "metadata": {},
     "output_type": "display_data"
    },
    {
     "data": {
      "text/html": [
       "\n",
       "\n",
       "\n",
       "\n",
       "\n",
       "\n",
       "  <div class=\"bk-root\" id=\"20c65846-fb3b-423a-97bd-518a027030ad\" data-root-id=\"1002\"></div>\n"
      ]
     },
     "metadata": {},
     "output_type": "display_data"
    },
    {
     "data": {
      "application/javascript": [
       "(function(root) {\n",
       "  function embed_document(root) {\n",
       "    \n",
       "  var docs_json = {\"2273a2a0-2b84-460b-aea0-4a4ea26ed917\":{\"roots\":{\"references\":[{\"attributes\":{\"below\":[{\"id\":\"1013\",\"type\":\"CategoricalAxis\"}],\"center\":[{\"id\":\"1016\",\"type\":\"Grid\"},{\"id\":\"1021\",\"type\":\"Grid\"}],\"left\":[{\"id\":\"1017\",\"type\":\"LinearAxis\"}],\"plot_height\":350,\"renderers\":[{\"id\":\"1038\",\"type\":\"GlyphRenderer\"}],\"title\":{\"id\":\"1003\",\"type\":\"Title\"},\"toolbar\":{\"id\":\"1028\",\"type\":\"Toolbar\"},\"x_range\":{\"id\":\"1005\",\"type\":\"FactorRange\"},\"x_scale\":{\"id\":\"1009\",\"type\":\"CategoricalScale\"},\"y_range\":{\"id\":\"1007\",\"type\":\"DataRange1d\"},\"y_scale\":{\"id\":\"1011\",\"type\":\"LinearScale\"}},\"id\":\"1002\",\"subtype\":\"Figure\",\"type\":\"Plot\"},{\"attributes\":{\"overlay\":{\"id\":\"1047\",\"type\":\"BoxAnnotation\"}},\"id\":\"1024\",\"type\":\"BoxZoomTool\"},{\"attributes\":{},\"id\":\"1025\",\"type\":\"SaveTool\"},{\"attributes\":{},\"id\":\"1026\",\"type\":\"ResetTool\"},{\"attributes\":{\"text\":\"Histogram of blueTotalGold\"},\"id\":\"1003\",\"type\":\"Title\"},{\"attributes\":{},\"id\":\"1027\",\"type\":\"HelpTool\"},{\"attributes\":{\"callback\":null,\"factors\":[\"10730.0\",\"13324.2\",\"15918.4\",\"18512.6\",\"21106.8\"]},\"id\":\"1005\",\"type\":\"FactorRange\"},{\"attributes\":{\"active_drag\":\"auto\",\"active_inspect\":\"auto\",\"active_multi\":null,\"active_scroll\":\"auto\",\"active_tap\":\"auto\",\"tools\":[{\"id\":\"1022\",\"type\":\"PanTool\"},{\"id\":\"1023\",\"type\":\"WheelZoomTool\"},{\"id\":\"1024\",\"type\":\"BoxZoomTool\"},{\"id\":\"1025\",\"type\":\"SaveTool\"},{\"id\":\"1026\",\"type\":\"ResetTool\"},{\"id\":\"1027\",\"type\":\"HelpTool\"}]},\"id\":\"1028\",\"type\":\"Toolbar\"},{\"attributes\":{\"data_source\":{\"id\":\"1035\",\"type\":\"ColumnDataSource\"},\"glyph\":{\"id\":\"1036\",\"type\":\"VBar\"},\"hover_glyph\":null,\"muted_glyph\":null,\"nonselection_glyph\":{\"id\":\"1037\",\"type\":\"VBar\"},\"selection_glyph\":null,\"view\":{\"id\":\"1039\",\"type\":\"CDSView\"}},\"id\":\"1038\",\"type\":\"GlyphRenderer\"},{\"attributes\":{\"callback\":null},\"id\":\"1007\",\"type\":\"DataRange1d\"},{\"attributes\":{},\"id\":\"1009\",\"type\":\"CategoricalScale\"},{\"attributes\":{\"source\":{\"id\":\"1035\",\"type\":\"ColumnDataSource\"}},\"id\":\"1039\",\"type\":\"CDSView\"},{\"attributes\":{},\"id\":\"1011\",\"type\":\"LinearScale\"},{\"attributes\":{\"callback\":null,\"data\":{\"top\":[69,3632,5206,919,53],\"x\":[\"10730.0\",\"13324.2\",\"15918.4\",\"18512.6\",\"21106.8\"]},\"selected\":{\"id\":\"1046\",\"type\":\"Selection\"},\"selection_policy\":{\"id\":\"1045\",\"type\":\"UnionRenderers\"}},\"id\":\"1035\",\"type\":\"ColumnDataSource\"},{\"attributes\":{},\"id\":\"1042\",\"type\":\"CategoricalTickFormatter\"},{\"attributes\":{\"formatter\":{\"id\":\"1042\",\"type\":\"CategoricalTickFormatter\"},\"ticker\":{\"id\":\"1014\",\"type\":\"CategoricalTicker\"}},\"id\":\"1013\",\"type\":\"CategoricalAxis\"},{\"attributes\":{},\"id\":\"1044\",\"type\":\"BasicTickFormatter\"},{\"attributes\":{},\"id\":\"1014\",\"type\":\"CategoricalTicker\"},{\"attributes\":{},\"id\":\"1045\",\"type\":\"UnionRenderers\"},{\"attributes\":{\"ticker\":{\"id\":\"1014\",\"type\":\"CategoricalTicker\"}},\"id\":\"1016\",\"type\":\"Grid\"},{\"attributes\":{},\"id\":\"1046\",\"type\":\"Selection\"},{\"attributes\":{\"formatter\":{\"id\":\"1044\",\"type\":\"BasicTickFormatter\"},\"ticker\":{\"id\":\"1018\",\"type\":\"BasicTicker\"}},\"id\":\"1017\",\"type\":\"LinearAxis\"},{\"attributes\":{\"bottom_units\":\"screen\",\"fill_alpha\":{\"value\":0.5},\"fill_color\":{\"value\":\"lightgrey\"},\"left_units\":\"screen\",\"level\":\"overlay\",\"line_alpha\":{\"value\":1.0},\"line_color\":{\"value\":\"black\"},\"line_dash\":[4,4],\"line_width\":{\"value\":2},\"render_mode\":\"css\",\"right_units\":\"screen\",\"top_units\":\"screen\"},\"id\":\"1047\",\"type\":\"BoxAnnotation\"},{\"attributes\":{},\"id\":\"1018\",\"type\":\"BasicTicker\"},{\"attributes\":{\"dimension\":1,\"ticker\":{\"id\":\"1018\",\"type\":\"BasicTicker\"}},\"id\":\"1021\",\"type\":\"Grid\"},{\"attributes\":{\"fill_color\":{\"value\":\"#1f77b4\"},\"line_color\":{\"value\":\"#1f77b4\"},\"top\":{\"field\":\"top\"},\"width\":{\"value\":0.9},\"x\":{\"field\":\"x\"}},\"id\":\"1036\",\"type\":\"VBar\"},{\"attributes\":{\"fill_alpha\":{\"value\":0.1},\"fill_color\":{\"value\":\"#1f77b4\"},\"line_alpha\":{\"value\":0.1},\"line_color\":{\"value\":\"#1f77b4\"},\"top\":{\"field\":\"top\"},\"width\":{\"value\":0.9},\"x\":{\"field\":\"x\"}},\"id\":\"1037\",\"type\":\"VBar\"},{\"attributes\":{},\"id\":\"1022\",\"type\":\"PanTool\"},{\"attributes\":{},\"id\":\"1023\",\"type\":\"WheelZoomTool\"}],\"root_ids\":[\"1002\"]},\"title\":\"Bokeh Application\",\"version\":\"1.4.0\"}};\n",
       "  var render_items = [{\"docid\":\"2273a2a0-2b84-460b-aea0-4a4ea26ed917\",\"roots\":{\"1002\":\"20c65846-fb3b-423a-97bd-518a027030ad\"}}];\n",
       "  root.Bokeh.embed.embed_items_notebook(docs_json, render_items);\n",
       "\n",
       "  }\n",
       "  if (root.Bokeh !== undefined) {\n",
       "    embed_document(root);\n",
       "  } else {\n",
       "    var attempts = 0;\n",
       "    var timer = setInterval(function(root) {\n",
       "      if (root.Bokeh !== undefined) {\n",
       "        clearInterval(timer);\n",
       "        embed_document(root);\n",
       "      } else {\n",
       "        attempts++;\n",
       "        if (attempts > 100) {\n",
       "          clearInterval(timer);\n",
       "          console.log(\"Bokeh: ERROR: Unable to run BokehJS code because BokehJS library is missing\");\n",
       "        }\n",
       "      }\n",
       "    }, 10, root)\n",
       "  }\n",
       "})(window);"
      ],
      "application/vnd.bokehjs_exec.v0+json": ""
     },
     "metadata": {
      "application/vnd.bokehjs_exec.v0+json": {
       "id": "1002"
      }
     },
     "output_type": "display_data"
    }
   ],
   "source": [
    "%%local\n",
    "#local magic indicates that this cell will run locally (rather than on cluster)\n",
    "#use Bokeh library ti draw the histogram\n",
    "from bokeh.io import show\n",
    "from bokeh.plotting import figure\n",
    "from bokeh.io import output_notebook\n",
    "output_notebook()\n",
    "\n",
    "labels = [str(round(e, 2)) for e in hist_GMS['bins']]\n",
    "\n",
    "p = figure(\n",
    "    x_range=labels, \n",
    "    plot_height=350, \n",
    "    title='Histogram of blueTotalGold'\n",
    ")\n",
    "\n",
    "p.vbar(x=labels, top=hist_GMS['counts'], width=0.9)\n",
    "\n",
    "show(p)\n",
    "#This is the histograms with Outliers to see the whether or not to drop the Outliers.\n",
    "#In this case, there are few records at the tails which it makes the bin become large, so we want to drop the Outliers."
   ]
  },
  {
   "cell_type": "markdown",
   "metadata": {},
   "source": [
    "# Visualizing interactions between features for blue team with Outliers"
   ]
  },
  {
   "cell_type": "code",
   "execution_count": 22,
   "metadata": {},
   "outputs": [
    {
     "data": {
      "application/vnd.jupyter.widget-view+json": {
       "model_id": "",
       "version_major": 2,
       "version_minor": 0
      },
      "text/plain": [
       "FloatProgress(value=0.0, bar_style='info', description='Progress:', layout=Layout(height='25px', width='50%'),…"
      ]
     },
     "metadata": {},
     "output_type": "display_data"
    },
    {
     "data": {
      "application/vnd.jupyter.widget-view+json": {
       "model_id": "",
       "version_major": 2,
       "version_minor": 0
      },
      "text/plain": [
       "FloatProgress(value=0.0, bar_style='info', description='Progress:', layout=Layout(height='25px', width='50%'),…"
      ]
     },
     "metadata": {},
     "output_type": "display_data"
    }
   ],
   "source": [
    "%%spark -o scatter\n",
    "#spark magic moves dataframe to local\n",
    "scatter = (\n",
    "    games\n",
    "    .select('blueTotalGold', 'blueTotalExperience')\n",
    ")"
   ]
  },
  {
   "cell_type": "code",
   "execution_count": 23,
   "metadata": {},
   "outputs": [
    {
     "data": {
      "text/html": [
       "\n",
       "    <div class=\"bk-root\">\n",
       "        <a href=\"https://bokeh.org\" target=\"_blank\" class=\"bk-logo bk-logo-small bk-logo-notebook\"></a>\n",
       "        <span id=\"1096\">Loading BokehJS ...</span>\n",
       "    </div>"
      ]
     },
     "metadata": {},
     "output_type": "display_data"
    },
    {
     "data": {
      "application/javascript": [
       "\n",
       "(function(root) {\n",
       "  function now() {\n",
       "    return new Date();\n",
       "  }\n",
       "\n",
       "  var force = true;\n",
       "\n",
       "  if (typeof root._bokeh_onload_callbacks === \"undefined\" || force === true) {\n",
       "    root._bokeh_onload_callbacks = [];\n",
       "    root._bokeh_is_loading = undefined;\n",
       "  }\n",
       "\n",
       "  var JS_MIME_TYPE = 'application/javascript';\n",
       "  var HTML_MIME_TYPE = 'text/html';\n",
       "  var EXEC_MIME_TYPE = 'application/vnd.bokehjs_exec.v0+json';\n",
       "  var CLASS_NAME = 'output_bokeh rendered_html';\n",
       "\n",
       "  /**\n",
       "   * Render data to the DOM node\n",
       "   */\n",
       "  function render(props, node) {\n",
       "    var script = document.createElement(\"script\");\n",
       "    node.appendChild(script);\n",
       "  }\n",
       "\n",
       "  /**\n",
       "   * Handle when an output is cleared or removed\n",
       "   */\n",
       "  function handleClearOutput(event, handle) {\n",
       "    var cell = handle.cell;\n",
       "\n",
       "    var id = cell.output_area._bokeh_element_id;\n",
       "    var server_id = cell.output_area._bokeh_server_id;\n",
       "    // Clean up Bokeh references\n",
       "    if (id != null && id in Bokeh.index) {\n",
       "      Bokeh.index[id].model.document.clear();\n",
       "      delete Bokeh.index[id];\n",
       "    }\n",
       "\n",
       "    if (server_id !== undefined) {\n",
       "      // Clean up Bokeh references\n",
       "      var cmd = \"from bokeh.io.state import curstate; print(curstate().uuid_to_server['\" + server_id + \"'].get_sessions()[0].document.roots[0]._id)\";\n",
       "      cell.notebook.kernel.execute(cmd, {\n",
       "        iopub: {\n",
       "          output: function(msg) {\n",
       "            var id = msg.content.text.trim();\n",
       "            if (id in Bokeh.index) {\n",
       "              Bokeh.index[id].model.document.clear();\n",
       "              delete Bokeh.index[id];\n",
       "            }\n",
       "          }\n",
       "        }\n",
       "      });\n",
       "      // Destroy server and session\n",
       "      var cmd = \"import bokeh.io.notebook as ion; ion.destroy_server('\" + server_id + \"')\";\n",
       "      cell.notebook.kernel.execute(cmd);\n",
       "    }\n",
       "  }\n",
       "\n",
       "  /**\n",
       "   * Handle when a new output is added\n",
       "   */\n",
       "  function handleAddOutput(event, handle) {\n",
       "    var output_area = handle.output_area;\n",
       "    var output = handle.output;\n",
       "\n",
       "    // limit handleAddOutput to display_data with EXEC_MIME_TYPE content only\n",
       "    if ((output.output_type != \"display_data\") || (!output.data.hasOwnProperty(EXEC_MIME_TYPE))) {\n",
       "      return\n",
       "    }\n",
       "\n",
       "    var toinsert = output_area.element.find(\".\" + CLASS_NAME.split(' ')[0]);\n",
       "\n",
       "    if (output.metadata[EXEC_MIME_TYPE][\"id\"] !== undefined) {\n",
       "      toinsert[toinsert.length - 1].firstChild.textContent = output.data[JS_MIME_TYPE];\n",
       "      // store reference to embed id on output_area\n",
       "      output_area._bokeh_element_id = output.metadata[EXEC_MIME_TYPE][\"id\"];\n",
       "    }\n",
       "    if (output.metadata[EXEC_MIME_TYPE][\"server_id\"] !== undefined) {\n",
       "      var bk_div = document.createElement(\"div\");\n",
       "      bk_div.innerHTML = output.data[HTML_MIME_TYPE];\n",
       "      var script_attrs = bk_div.children[0].attributes;\n",
       "      for (var i = 0; i < script_attrs.length; i++) {\n",
       "        toinsert[toinsert.length - 1].firstChild.setAttribute(script_attrs[i].name, script_attrs[i].value);\n",
       "      }\n",
       "      // store reference to server id on output_area\n",
       "      output_area._bokeh_server_id = output.metadata[EXEC_MIME_TYPE][\"server_id\"];\n",
       "    }\n",
       "  }\n",
       "\n",
       "  function register_renderer(events, OutputArea) {\n",
       "\n",
       "    function append_mime(data, metadata, element) {\n",
       "      // create a DOM node to render to\n",
       "      var toinsert = this.create_output_subarea(\n",
       "        metadata,\n",
       "        CLASS_NAME,\n",
       "        EXEC_MIME_TYPE\n",
       "      );\n",
       "      this.keyboard_manager.register_events(toinsert);\n",
       "      // Render to node\n",
       "      var props = {data: data, metadata: metadata[EXEC_MIME_TYPE]};\n",
       "      render(props, toinsert[toinsert.length - 1]);\n",
       "      element.append(toinsert);\n",
       "      return toinsert\n",
       "    }\n",
       "\n",
       "    /* Handle when an output is cleared or removed */\n",
       "    events.on('clear_output.CodeCell', handleClearOutput);\n",
       "    events.on('delete.Cell', handleClearOutput);\n",
       "\n",
       "    /* Handle when a new output is added */\n",
       "    events.on('output_added.OutputArea', handleAddOutput);\n",
       "\n",
       "    /**\n",
       "     * Register the mime type and append_mime function with output_area\n",
       "     */\n",
       "    OutputArea.prototype.register_mime_type(EXEC_MIME_TYPE, append_mime, {\n",
       "      /* Is output safe? */\n",
       "      safe: true,\n",
       "      /* Index of renderer in `output_area.display_order` */\n",
       "      index: 0\n",
       "    });\n",
       "  }\n",
       "\n",
       "  // register the mime type if in Jupyter Notebook environment and previously unregistered\n",
       "  if (root.Jupyter !== undefined) {\n",
       "    var events = require('base/js/events');\n",
       "    var OutputArea = require('notebook/js/outputarea').OutputArea;\n",
       "\n",
       "    if (OutputArea.prototype.mime_types().indexOf(EXEC_MIME_TYPE) == -1) {\n",
       "      register_renderer(events, OutputArea);\n",
       "    }\n",
       "  }\n",
       "\n",
       "  \n",
       "  if (typeof (root._bokeh_timeout) === \"undefined\" || force === true) {\n",
       "    root._bokeh_timeout = Date.now() + 5000;\n",
       "    root._bokeh_failed_load = false;\n",
       "  }\n",
       "\n",
       "  var NB_LOAD_WARNING = {'data': {'text/html':\n",
       "     \"<div style='background-color: #fdd'>\\n\"+\n",
       "     \"<p>\\n\"+\n",
       "     \"BokehJS does not appear to have successfully loaded. If loading BokehJS from CDN, this \\n\"+\n",
       "     \"may be due to a slow or bad network connection. Possible fixes:\\n\"+\n",
       "     \"</p>\\n\"+\n",
       "     \"<ul>\\n\"+\n",
       "     \"<li>re-rerun `output_notebook()` to attempt to load from CDN again, or</li>\\n\"+\n",
       "     \"<li>use INLINE resources instead, as so:</li>\\n\"+\n",
       "     \"</ul>\\n\"+\n",
       "     \"<code>\\n\"+\n",
       "     \"from bokeh.resources import INLINE\\n\"+\n",
       "     \"output_notebook(resources=INLINE)\\n\"+\n",
       "     \"</code>\\n\"+\n",
       "     \"</div>\"}};\n",
       "\n",
       "  function display_loaded() {\n",
       "    var el = document.getElementById(\"1096\");\n",
       "    if (el != null) {\n",
       "      el.textContent = \"BokehJS is loading...\";\n",
       "    }\n",
       "    if (root.Bokeh !== undefined) {\n",
       "      if (el != null) {\n",
       "        el.textContent = \"BokehJS \" + root.Bokeh.version + \" successfully loaded.\";\n",
       "      }\n",
       "    } else if (Date.now() < root._bokeh_timeout) {\n",
       "      setTimeout(display_loaded, 100)\n",
       "    }\n",
       "  }\n",
       "\n",
       "\n",
       "  function run_callbacks() {\n",
       "    try {\n",
       "      root._bokeh_onload_callbacks.forEach(function(callback) {\n",
       "        if (callback != null)\n",
       "          callback();\n",
       "      });\n",
       "    } finally {\n",
       "      delete root._bokeh_onload_callbacks\n",
       "    }\n",
       "    console.debug(\"Bokeh: all callbacks have finished\");\n",
       "  }\n",
       "\n",
       "  function load_libs(css_urls, js_urls, callback) {\n",
       "    if (css_urls == null) css_urls = [];\n",
       "    if (js_urls == null) js_urls = [];\n",
       "\n",
       "    root._bokeh_onload_callbacks.push(callback);\n",
       "    if (root._bokeh_is_loading > 0) {\n",
       "      console.debug(\"Bokeh: BokehJS is being loaded, scheduling callback at\", now());\n",
       "      return null;\n",
       "    }\n",
       "    if (js_urls == null || js_urls.length === 0) {\n",
       "      run_callbacks();\n",
       "      return null;\n",
       "    }\n",
       "    console.debug(\"Bokeh: BokehJS not loaded, scheduling load and callback at\", now());\n",
       "    root._bokeh_is_loading = css_urls.length + js_urls.length;\n",
       "\n",
       "    function on_load() {\n",
       "      root._bokeh_is_loading--;\n",
       "      if (root._bokeh_is_loading === 0) {\n",
       "        console.debug(\"Bokeh: all BokehJS libraries/stylesheets loaded\");\n",
       "        run_callbacks()\n",
       "      }\n",
       "    }\n",
       "\n",
       "    function on_error() {\n",
       "      console.error(\"failed to load \" + url);\n",
       "    }\n",
       "\n",
       "    for (var i = 0; i < css_urls.length; i++) {\n",
       "      var url = css_urls[i];\n",
       "      const element = document.createElement(\"link\");\n",
       "      element.onload = on_load;\n",
       "      element.onerror = on_error;\n",
       "      element.rel = \"stylesheet\";\n",
       "      element.type = \"text/css\";\n",
       "      element.href = url;\n",
       "      console.debug(\"Bokeh: injecting link tag for BokehJS stylesheet: \", url);\n",
       "      document.body.appendChild(element);\n",
       "    }\n",
       "\n",
       "    for (var i = 0; i < js_urls.length; i++) {\n",
       "      var url = js_urls[i];\n",
       "      var element = document.createElement('script');\n",
       "      element.onload = on_load;\n",
       "      element.onerror = on_error;\n",
       "      element.async = false;\n",
       "      element.src = url;\n",
       "      console.debug(\"Bokeh: injecting script tag for BokehJS library: \", url);\n",
       "      document.head.appendChild(element);\n",
       "    }\n",
       "  };var element = document.getElementById(\"1096\");\n",
       "  if (element == null) {\n",
       "    console.error(\"Bokeh: ERROR: autoload.js configured with elementid '1096' but no matching script tag was found. \")\n",
       "    return false;\n",
       "  }\n",
       "\n",
       "  function inject_raw_css(css) {\n",
       "    const element = document.createElement(\"style\");\n",
       "    element.appendChild(document.createTextNode(css));\n",
       "    document.body.appendChild(element);\n",
       "  }\n",
       "\n",
       "  \n",
       "  var js_urls = [\"https://cdn.pydata.org/bokeh/release/bokeh-1.4.0.min.js\", \"https://cdn.pydata.org/bokeh/release/bokeh-widgets-1.4.0.min.js\", \"https://cdn.pydata.org/bokeh/release/bokeh-tables-1.4.0.min.js\", \"https://cdn.pydata.org/bokeh/release/bokeh-gl-1.4.0.min.js\"];\n",
       "  var css_urls = [];\n",
       "  \n",
       "\n",
       "  var inline_js = [\n",
       "    function(Bokeh) {\n",
       "      Bokeh.set_log_level(\"info\");\n",
       "    },\n",
       "    function(Bokeh) {\n",
       "    \n",
       "    \n",
       "    }\n",
       "  ];\n",
       "\n",
       "  function run_inline_js() {\n",
       "    \n",
       "    if (root.Bokeh !== undefined || force === true) {\n",
       "      \n",
       "    for (var i = 0; i < inline_js.length; i++) {\n",
       "      inline_js[i].call(root, root.Bokeh);\n",
       "    }\n",
       "    if (force === true) {\n",
       "        display_loaded();\n",
       "      }} else if (Date.now() < root._bokeh_timeout) {\n",
       "      setTimeout(run_inline_js, 100);\n",
       "    } else if (!root._bokeh_failed_load) {\n",
       "      console.log(\"Bokeh: BokehJS failed to load within specified timeout.\");\n",
       "      root._bokeh_failed_load = true;\n",
       "    } else if (force !== true) {\n",
       "      var cell = $(document.getElementById(\"1096\")).parents('.cell').data().cell;\n",
       "      cell.output_area.append_execute_result(NB_LOAD_WARNING)\n",
       "    }\n",
       "\n",
       "  }\n",
       "\n",
       "  if (root._bokeh_is_loading === 0) {\n",
       "    console.debug(\"Bokeh: BokehJS loaded, going straight to plotting\");\n",
       "    run_inline_js();\n",
       "  } else {\n",
       "    load_libs(css_urls, js_urls, function() {\n",
       "      console.debug(\"Bokeh: BokehJS plotting callback run at\", now());\n",
       "      run_inline_js();\n",
       "    });\n",
       "  }\n",
       "}(window));"
      ],
      "application/vnd.bokehjs_load.v0+json": "\n(function(root) {\n  function now() {\n    return new Date();\n  }\n\n  var force = true;\n\n  if (typeof root._bokeh_onload_callbacks === \"undefined\" || force === true) {\n    root._bokeh_onload_callbacks = [];\n    root._bokeh_is_loading = undefined;\n  }\n\n  \n\n  \n  if (typeof (root._bokeh_timeout) === \"undefined\" || force === true) {\n    root._bokeh_timeout = Date.now() + 5000;\n    root._bokeh_failed_load = false;\n  }\n\n  var NB_LOAD_WARNING = {'data': {'text/html':\n     \"<div style='background-color: #fdd'>\\n\"+\n     \"<p>\\n\"+\n     \"BokehJS does not appear to have successfully loaded. If loading BokehJS from CDN, this \\n\"+\n     \"may be due to a slow or bad network connection. Possible fixes:\\n\"+\n     \"</p>\\n\"+\n     \"<ul>\\n\"+\n     \"<li>re-rerun `output_notebook()` to attempt to load from CDN again, or</li>\\n\"+\n     \"<li>use INLINE resources instead, as so:</li>\\n\"+\n     \"</ul>\\n\"+\n     \"<code>\\n\"+\n     \"from bokeh.resources import INLINE\\n\"+\n     \"output_notebook(resources=INLINE)\\n\"+\n     \"</code>\\n\"+\n     \"</div>\"}};\n\n  function display_loaded() {\n    var el = document.getElementById(\"1096\");\n    if (el != null) {\n      el.textContent = \"BokehJS is loading...\";\n    }\n    if (root.Bokeh !== undefined) {\n      if (el != null) {\n        el.textContent = \"BokehJS \" + root.Bokeh.version + \" successfully loaded.\";\n      }\n    } else if (Date.now() < root._bokeh_timeout) {\n      setTimeout(display_loaded, 100)\n    }\n  }\n\n\n  function run_callbacks() {\n    try {\n      root._bokeh_onload_callbacks.forEach(function(callback) {\n        if (callback != null)\n          callback();\n      });\n    } finally {\n      delete root._bokeh_onload_callbacks\n    }\n    console.debug(\"Bokeh: all callbacks have finished\");\n  }\n\n  function load_libs(css_urls, js_urls, callback) {\n    if (css_urls == null) css_urls = [];\n    if (js_urls == null) js_urls = [];\n\n    root._bokeh_onload_callbacks.push(callback);\n    if (root._bokeh_is_loading > 0) {\n      console.debug(\"Bokeh: BokehJS is being loaded, scheduling callback at\", now());\n      return null;\n    }\n    if (js_urls == null || js_urls.length === 0) {\n      run_callbacks();\n      return null;\n    }\n    console.debug(\"Bokeh: BokehJS not loaded, scheduling load and callback at\", now());\n    root._bokeh_is_loading = css_urls.length + js_urls.length;\n\n    function on_load() {\n      root._bokeh_is_loading--;\n      if (root._bokeh_is_loading === 0) {\n        console.debug(\"Bokeh: all BokehJS libraries/stylesheets loaded\");\n        run_callbacks()\n      }\n    }\n\n    function on_error() {\n      console.error(\"failed to load \" + url);\n    }\n\n    for (var i = 0; i < css_urls.length; i++) {\n      var url = css_urls[i];\n      const element = document.createElement(\"link\");\n      element.onload = on_load;\n      element.onerror = on_error;\n      element.rel = \"stylesheet\";\n      element.type = \"text/css\";\n      element.href = url;\n      console.debug(\"Bokeh: injecting link tag for BokehJS stylesheet: \", url);\n      document.body.appendChild(element);\n    }\n\n    for (var i = 0; i < js_urls.length; i++) {\n      var url = js_urls[i];\n      var element = document.createElement('script');\n      element.onload = on_load;\n      element.onerror = on_error;\n      element.async = false;\n      element.src = url;\n      console.debug(\"Bokeh: injecting script tag for BokehJS library: \", url);\n      document.head.appendChild(element);\n    }\n  };var element = document.getElementById(\"1096\");\n  if (element == null) {\n    console.error(\"Bokeh: ERROR: autoload.js configured with elementid '1096' but no matching script tag was found. \")\n    return false;\n  }\n\n  function inject_raw_css(css) {\n    const element = document.createElement(\"style\");\n    element.appendChild(document.createTextNode(css));\n    document.body.appendChild(element);\n  }\n\n  \n  var js_urls = [\"https://cdn.pydata.org/bokeh/release/bokeh-1.4.0.min.js\", \"https://cdn.pydata.org/bokeh/release/bokeh-widgets-1.4.0.min.js\", \"https://cdn.pydata.org/bokeh/release/bokeh-tables-1.4.0.min.js\", \"https://cdn.pydata.org/bokeh/release/bokeh-gl-1.4.0.min.js\"];\n  var css_urls = [];\n  \n\n  var inline_js = [\n    function(Bokeh) {\n      Bokeh.set_log_level(\"info\");\n    },\n    function(Bokeh) {\n    \n    \n    }\n  ];\n\n  function run_inline_js() {\n    \n    if (root.Bokeh !== undefined || force === true) {\n      \n    for (var i = 0; i < inline_js.length; i++) {\n      inline_js[i].call(root, root.Bokeh);\n    }\n    if (force === true) {\n        display_loaded();\n      }} else if (Date.now() < root._bokeh_timeout) {\n      setTimeout(run_inline_js, 100);\n    } else if (!root._bokeh_failed_load) {\n      console.log(\"Bokeh: BokehJS failed to load within specified timeout.\");\n      root._bokeh_failed_load = true;\n    } else if (force !== true) {\n      var cell = $(document.getElementById(\"1096\")).parents('.cell').data().cell;\n      cell.output_area.append_execute_result(NB_LOAD_WARNING)\n    }\n\n  }\n\n  if (root._bokeh_is_loading === 0) {\n    console.debug(\"Bokeh: BokehJS loaded, going straight to plotting\");\n    run_inline_js();\n  } else {\n    load_libs(css_urls, js_urls, function() {\n      console.debug(\"Bokeh: BokehJS plotting callback run at\", now());\n      run_inline_js();\n    });\n  }\n}(window));"
     },
     "metadata": {},
     "output_type": "display_data"
    },
    {
     "data": {
      "text/html": [
       "\n",
       "\n",
       "\n",
       "\n",
       "\n",
       "\n",
       "  <div class=\"bk-root\" id=\"b7b22254-873a-4fab-b5b9-aaed8057ccaf\" data-root-id=\"1097\"></div>\n"
      ]
     },
     "metadata": {},
     "output_type": "display_data"
    },
    {
     "data": {
      "application/javascript": [
       "(function(root) {\n",
       "  function embed_document(root) {\n",
       "    \n",
       "  var docs_json = {\"823b500d-5b29-49c9-bbfd-a66ab2bba4fe\":{\"roots\":{\"references\":[{\"attributes\":{\"below\":[{\"id\":\"1108\",\"type\":\"LinearAxis\"}],\"center\":[{\"id\":\"1112\",\"type\":\"Grid\"},{\"id\":\"1117\",\"type\":\"Grid\"}],\"left\":[{\"id\":\"1113\",\"type\":\"LinearAxis\"}],\"renderers\":[{\"id\":\"1134\",\"type\":\"GlyphRenderer\"}],\"title\":{\"id\":\"1098\",\"type\":\"Title\"},\"toolbar\":{\"id\":\"1124\",\"type\":\"Toolbar\"},\"x_range\":{\"id\":\"1100\",\"type\":\"DataRange1d\"},\"x_scale\":{\"id\":\"1104\",\"type\":\"LinearScale\"},\"y_range\":{\"id\":\"1102\",\"type\":\"DataRange1d\"},\"y_scale\":{\"id\":\"1106\",\"type\":\"LinearScale\"}},\"id\":\"1097\",\"subtype\":\"Figure\",\"type\":\"Plot\"},{\"attributes\":{},\"id\":\"1118\",\"type\":\"PanTool\"},{\"attributes\":{\"callback\":null},\"id\":\"1100\",\"type\":\"DataRange1d\"},{\"attributes\":{\"callback\":null},\"id\":\"1102\",\"type\":\"DataRange1d\"},{\"attributes\":{\"fill_alpha\":{\"value\":0.1},\"fill_color\":{\"value\":\"#1f77b4\"},\"line_alpha\":{\"value\":0.1},\"line_color\":{\"value\":\"#1f77b4\"},\"size\":{\"units\":\"screen\",\"value\":10},\"x\":{\"field\":\"x\"},\"y\":{\"field\":\"y\"}},\"id\":\"1133\",\"type\":\"Circle\"},{\"attributes\":{\"active_drag\":\"auto\",\"active_inspect\":\"auto\",\"active_multi\":null,\"active_scroll\":\"auto\",\"active_tap\":\"auto\",\"tools\":[{\"id\":\"1118\",\"type\":\"PanTool\"},{\"id\":\"1119\",\"type\":\"WheelZoomTool\"},{\"id\":\"1120\",\"type\":\"BoxZoomTool\"},{\"id\":\"1121\",\"type\":\"SaveTool\"},{\"id\":\"1122\",\"type\":\"ResetTool\"},{\"id\":\"1123\",\"type\":\"HelpTool\"}]},\"id\":\"1124\",\"type\":\"Toolbar\"},{\"attributes\":{},\"id\":\"1119\",\"type\":\"WheelZoomTool\"},{\"attributes\":{\"axis_label\":\"blueTotalExperience\",\"formatter\":{\"id\":\"1148\",\"type\":\"BasicTickFormatter\"},\"ticker\":{\"id\":\"1114\",\"type\":\"BasicTicker\"}},\"id\":\"1113\",\"type\":\"LinearAxis\"},{\"attributes\":{},\"id\":\"1106\",\"type\":\"LinearScale\"},{\"attributes\":{\"source\":{\"id\":\"1131\",\"type\":\"ColumnDataSource\"}},\"id\":\"1135\",\"type\":\"CDSView\"},{\"attributes\":{},\"id\":\"1123\",\"type\":\"HelpTool\"},{\"attributes\":{\"axis_label\":\"blueTotalGold\",\"formatter\":{\"id\":\"1146\",\"type\":\"BasicTickFormatter\"},\"ticker\":{\"id\":\"1109\",\"type\":\"BasicTicker\"}},\"id\":\"1108\",\"type\":\"LinearAxis\"},{\"attributes\":{},\"id\":\"1114\",\"type\":\"BasicTicker\"},{\"attributes\":{\"data_source\":{\"id\":\"1131\",\"type\":\"ColumnDataSource\"},\"glyph\":{\"id\":\"1132\",\"type\":\"Circle\"},\"hover_glyph\":null,\"muted_glyph\":null,\"nonselection_glyph\":{\"id\":\"1133\",\"type\":\"Circle\"},\"selection_glyph\":null,\"view\":{\"id\":\"1135\",\"type\":\"CDSView\"}},\"id\":\"1134\",\"type\":\"GlyphRenderer\"},{\"attributes\":{},\"id\":\"1146\",\"type\":\"BasicTickFormatter\"},{\"attributes\":{},\"id\":\"1149\",\"type\":\"UnionRenderers\"},{\"attributes\":{\"overlay\":{\"id\":\"1151\",\"type\":\"BoxAnnotation\"}},\"id\":\"1120\",\"type\":\"BoxZoomTool\"},{\"attributes\":{},\"id\":\"1148\",\"type\":\"BasicTickFormatter\"},{\"attributes\":{},\"id\":\"1121\",\"type\":\"SaveTool\"},{\"attributes\":{\"callback\":null,\"data\":{\"x\":[17210,14712,16113,15157,16400,15899,16874,15305,16401,15057,15474,16695,17865,14979,15722,15015,19733,14852,16282,14994,18606,15878,15773,15906,16515,15415,17178,17226,17474,14905,18132,16053,16438,15634,16085,14981,15421,15665,17528,15032,15483,19226,16945,15000,15888,12925,19250,18355,13978,15851,16474,16590,15737,16990,15297,15651,15587,17777,16426,20278,13791,16505,17277,18269,14166,15456,15180,16179,16026,14850,17347,15887,17399,13828,16645,16248,15310,16784,19032,17518,18976,16143,15868,17977,18138,18025,14625,15752,18480,14995,15655,15562,17139,19229,16972,16249,16415,18012,19294,15383,15777,14805,15244,17574,16655,16855,15786,15143,17309,16416,15222,15526,17597,16834,19058,16806,16643,16189,14095,16804,17305,14539,17530,18431,14032,17869,15974,16108,16302,16750,16506,16389,15760,15176,15196,16250,16541,18657,16873,14383,14420,14720,17406,15210,17272,19358,16855,15209,19542,15267,15243,16214,15976,16557,16142,17984,20038,19571,14557,16029,18053,18098,18343,15596,15812,15947,14997,16463,16072,19140,14547,15644,15734,16794,15930,16936,17941,13698,15943,15891,16216,14754,16909,18858,15952,13286,16812,17906,16408,15056,17831,13738,20317,14091,16036,17052,16354,18297,15748,17886,17069,16631,14766,17113,15120,15339,13438,15582,15441,16002,16009,18106,16501,15505,16195,20294,15475,16243,15065,14359,19377,14135,17448,15958,18287,15534,14935,19331,17131,17983,16842,17569,15882,17049,13556,14692,17000,17200,15409,17283,15477,16763,18434,13731,17251,17051,16346,21095,16434,15834,16968,15949,16056,18392,16415,19948,18189,14398,17359,15817,15861,16355,18333,14562,19677,18793,14276,16808,15002,14354,15926,14742,16481,16307,16569,17322,14711,16009,15102,15499,18456,15767,18890,14901,16785,18786,14727,18009,14526,16627,13075,16105,14782,15889,15158,15073,17125,16377,15888,14414,18329,16245,16120,15548,17432,16922,16142,14630,15131,17697,16116,18485,16980,17066,17202,14702,18692,18549,15859,16044,15941,15675,15682,15843,18248,15333,17496,19809,19329,15600,16292,17677,15141,14897,17520,17164,15999,14542,20225,18203,16787,14959,15132,16354,14652,15331,17002,16308,16282,14110,15426,15983,16801,17141,15122,16878,18274,14176,17549,16049,14017,20139,16659,15975,16728,16693,15925,16763,16852,14950,14863,15853,13428,17570,16561,15070,19190,14269,14916,16256,15231,16070,15416,19036,18214,17430,16590,15508,16789,16298,19320,14926,17496,15177,17025,18203,15160,15304,17503,16468,19035,18413,18470,16291,16301,17183,13361,14807,15195,14788,16604,15661,16259,19716,18612,14711,16886,14980,16544,16174,18047,17484,17826,18673,17540,16808,15227,19392,17194,15672,18565,13921,14521,15049,20127,17194,19122,16359,17027,17665,17209,19187,17482,16035,16070,15617,16130,17172,15475,16248,16745,16472,18133,17068,16635,17950,14494,18595,19767,14970,15891,16472,15210,16096,16870,15842,15297,16412,19013,14842,16684,15235,18159,13916,15107,18597,18640,15483,15242,14945,17197,17292,14822,15027,15502,16931,16787,15022,17365,17658,19549,16516,15177,18520,18600,18439,15632,17161,15263,16396,17592,17802,20047,13795,15714,16418,18012,14558,17779,16931,16555,16891,16940,17242,17734,17982,16162,18574,15123,16075,14443,16656,15938,14116,17054,15306,16193,18126,17592,16282,17167,15679,16045,16564,14376,14128,14584,18457,18282,17130,17759,17194,16527,17915,17610,19453,18772,14626,20387,17256,16601,14672,17001,18213,19862,18179,15796,15377,14874,17780,16804,17372,15162,14742,13078,13886,16632,17215,17528,16555,15246,14033,16778,18960,17065,18283,15190,18192,17329,16422,17385,16663,17902,17398,15532,15412,17718,17055,16020,16254,19201,15994,20352,12756,18661,15488,17547,19189,16749,16214,15500,14735,17489,20380,18048,15843,16810,15204,16006,16746,17648,18047,13976,17264,16767,19488,15875,17717,16864,14788,14743,17949,17737,15307,13973,18089,17224,17649,16886,14584,17331,17763,16814,14500,17435,14682,16752,15649,16124,21132,17569,17097,16906,16632,13449,16712,16372,17384,17075,18860,15381,13545,13256,14423,17551,19537,20218,15191,18802,17116,18230,15829,14729,17793,17525,17579,18227,14898,15769,19272,17788,14738,16113,18967,15416,18096,14411,15668,16288,18575,17379,15222,16191,14930,17062,14763,15351,17625,15933,18229,15356,17005,16747,16060,14998,16182,17065,15544,16541,15112,17550,18323,18553,15252,16863,13925,16828,15391,16350,17159,15484,17024,18680,14657,15550,15861,15202,15214,16171,18184,16751,16973,17239,14660,17429,18513,16225,16267,15478,16335,14826,19092,17619,16872,17265,19308,16535,16606,17168,14839,17812,14827,15578,16628,14609,13325,15277,16287,12747,17687,17187,14015,16291,16289,17234,14663,16278,19025,15366,14526,16547,14936,15594,17416,15722,16091,15048,23335,18272,16270,17298,17230,17098,17380,16829,14538,15159,14874,17721,20273,20103,16491,17640,15518,17381,15127,13794,15139,15929,14974,19695,15154,14766,17341,15464,18529,18149,15840,17915,16242,18498,19120,17948,16517,13452,15687,14763,16417,18168,15903,14702,18874,15225,15858,14693,15574,15692,18297,19247,15414,19601,15189,16452,14899,18964,18923,17472,14665,16415,13960,14773,19181,14528,15827,16179,15049,15453,14645,15766,18890,16450,16490,17408,16951,17120,14310,14689,18341,17772,16262,16239,16944,16939,14615,17706,17727,12988,17613,18632,15476,15717,18253,14349,15407,15273,14868,14892,18509,17096,17377,16554,15256,17710,15041,19027,18718,16938,16772,16035,15518,17543,15829,17389,16683,16985,14904,17551,15278,15539,17860,15156,18152,16587,15562,14944,15269,17166,14813,15787,14795,19848,13886,16149,15312,17267,15961,17704,14808,16374,16933,18156,19397,17033,19061,16653,16781,15978,15859,16205,17528,17154,16112,16210,18369,16097,13196,15552,17597,15709,17035,15000,18426,17634,20251,16034,14147,18304,15104,18847,15782,16893,18545,16918,18722,18247,17471,17641,14605,16249,17157,15165,15427,17878,18000,15851,15832,18931,16157,18354,17274,15372,20175,15486,16074,16849,16291,16164,17002,15342,13119,17472,15681,18634,13881,18145,17308,13049,20075,14377,17270,18967,14044,16467,17846,19993,16223,14071,15284,16346,14358,17206,14767,18291,14979,17214,16461,14027,17432,15969,16308,14119,16044,15011,14517,13653,17833,17759,16158,16147,17065,17287,15997,15387,16313,15987,16304,18177,17493,19443,14920,17511,16819,14703,16801,16254,15478,15363,17121,15069,15891,13316,15956,15661,16789,16347,14901,17018,16342,14801,17333,15052,15585,15273,15666,14591,14690,17151,16378,15661,16589,15900,14927,16875,17847,16369,17320,18532,17136,17137,19114,13555,14707,16025,16776,15379,17196,17200,17472,15435,16588,16784,16982,17635,15913,14487,15643,16853,18242,16866,14673,15463,15824,17129,16335,17099,19077,14983,17368,15286,16317,16364,14623,19938,16221,16544,17908,15831,17668,15470,16448,14877,18917,16356,14676,13126,17769,16051,17395,16819,16315,16846,15951,16858,17335,16781,17225,16948,16056,15440,16058,16315,17326,16851,16853,17556,17840,18725,16781,15376,14193,16862,17003,15506,18724,16422,18337,15385,15566,18326,16299,13991,14205,17955,20862,14197,16788,14798,15598,16655,16804,15977,15654,19035,16247,18074,17274,17839,16700,15852,15296,14426,15856,17895,15728,17333,16404,15738,13580,16773,14993,15219,16046,15683,16408,15104,16113,18894,16652,15409,16733,17307,15283,14428,16679,15400,16230,16028,15731,14816,15862,14140,16699,13405,17538,19038,18082,14004,16349,15373,16559,16513,19886,17167,16809,18178,14742,15126,15449,15233,14602,15390,16766,16093,15575,16953,15529,16836,13820,19321,15834,16585,15483,17834,16858,20619,18449,17354,16097,16138,17794,19218,18501,15922,16119,14625,16685,13895,19890,15164,17498,19452,17322,17243,18020,16289,18303,15728,16097,14414,15852,15202,15572,16488,14353,19133,15314,17690,20183,18408,15595,17119,17658,19600,16336,16860,14501,17148,18559,16250,15791,15634,15148,17893,16200,13371,15903,15719,13267,16305,18269,14956,16180,16808,17971,16998,15015,14881,15730,19098,16169,16954,15984,18078,16329,17193,18401,14704,16367,12905,13967,16511,17496,17743,16888,13742,17793,16178,17706,16149,14760,15820,15173,14769,14353,16763,16747,17044,15532,17347,18758,20711,16539,19096,17938,17072,19640,16891,17485,16696,17499,18288,15684,14737,18715,18551,19351,17318,18969,17113,17201,16749,16523,18285,17346,17443,16526,17363,18779,20317,15649,16256,16688,17724,15320,15900,18377,15785,17625,19931,19331,17048,17910,16614,15943,14924,15069,16366,14158,14291,15078,17234,17826,18445,15814,16735,15818,16999,15867,18042,18293,15895,14305,18186,16295,20151,14735,12798,16452,16120,18287,15902,16982,17064,15424,18369,17568,18090,15786,16596,16093,18858,15288,16346,13447,16453,18669,16192,13701,16762,16795,14464,16925,14302,14786,15134,18954,16043,15195,17205,16022,15615,14433,19807,15704,17073,18584,16187,16749,16490,16697,17973,16029,15752,15930,15241,17127,13519,18748,16055,16496,17217,15482,14486,15809,19556,17003,16451,17837,18056,16249,16946,15707,16443,17823,16241,16464,16924,17251,16917,19453,16891,17107,15444,18283,16267,17247,18640,17086,16505,17961,19418,15846,16937,14064,15094,15633,16868,19289,15138,14942,15703,15427,16620,15926,16852,16936,17917,17558,15149,16112,15885,17104,17535,17321,16317,15649,17592,15420,15929,15046,16737,15756,15442,16649,16171,17190,17222,15704,16331,19186,17546,15198,17909,15046,16740,20295,15921,17145,15936,16649,17618,15871,17676,17423,13410,16992,18678,16220,14930,16304,17075,15499,16972,15256,16568,17326,16619,16295,15680,16432,19197,18468,18280,16103,16832,15028,17076,16745,15658,15760,14624,15568,16331,17204,14910,19141,14208,17951,16142,16333,17526,17381,17854,15698,16039,14506,16830,14909,12939,16678,15322,16562,16353,16998,15051,14986,17003,15380,18599,15936,15265,18177,16605,14742,14440,12798,15698,17324,14613,14705,17536,15226,16051,15158,16934,15228,17710,14971,17835,17071,16245,16835,17088,16383,16577,19607,15775,14998,16906,18743,16634,13636,13744,15823,16356,19801,18200,15335,16792,20086,13858,16190,16112,17298,14593,17723,16565,16301,16698,14878,16494,15463,15435,16165,16640,16422,17863,16970,14866,17761,16650,18607,16237,14273,15906,16083,15034,16660,13945,14991,16653,17557,14439,18567,17079,21051,15229,16490,17047,14844,16382,18113,13933,16352,15098,16384,17132,16116,17201,15224,15334,21016,15812,15447,15812,14301,14749,17605,15535,18761,16855,21352,15990,15015,15432,15404,16224,17437,17783,17618,18984,18104,17250,16222,15179,13896,17911,18582,19099,15879,17354,16760,16839,16186,16915,17951,17722,18381,16084,15054,17838,17415,15025,15362,15038,17726,15685,17530,16260,15668,16511,16965,18212,15042,15661,17986,13776,15330,14727,17651,15496,18395,16866,16449,16142,15099,18044,16248,15182,15651,15917,13889,16858,18119,17352,17924,14490,16172,14555,15355,14395,16630,16984,16675,16258,15571,19740,13749,16231,15736,17099,17620,16250,17136,22228,18847,13462,16364,17279,14654,15211,17076,14536,17308,16203,16130,15739,17498,14947,14893,18817,17704,15717,17252,14794,14751,15430,14266,16168,17303,16111,18029,16695,17755,17388,16874,15591,17562,19628,15871,17792,16168,15786,17889,13612,16218,18188,15786,14419,16575,15068,19225,18688,18650,15207,17522,18131,18209,16162,16805,15742,18649,16643,16500,16972,14496,16790,15704,18285,14414,16981,18516,15594,17259,17741,17867,21462,15548,17405,17112,17917,15465,16020,16708,14384,18420,14804,16279,21711,17124,15895,15960,17678,18193,14643,16840,14707,14467,17633,14837,15826,18357,16460,16054,13899,15911,15215,18036,16304,15267,16055,17404,13741,16402,14933,14665,19372,16310,14643,16426,16331,15895,18176,17566,13832,17751,15382,17326,16756,16289,16581,16555,15700,13494,13876,16668,16009,16321,16755,16407,15061,16552,16538,15958,16851,16753,14607,17160,16360,15288,18415,15190,17188,16900,16208,15477,15574,15377,13649,19239,20186,19034,20183,15877,16823,16525,15103,14899,16602,14504,17332,16749,16423,15135,16704,17835,15342,16022,15678,16513,16095,15892,16806,16847,16373,13299,18249,16641,16359,16956,16992,16154,19755,16181,15263,18889,19630,16172,17345,17688,14859,18144,16400,14779,16128,21416,14592,17483,16205,18363,18401,16391,16409,16739,15986,14267,14692,17045,13633,18592,15154,16045,17137,14559,14758,18508,15978,17759,18590,16749,17314,18983,16325,14478,14099,16234,17892,16304,16688,18894,15761,15028,17239,14181,15557,16067,16386,17997,15961,13395,17048,16924,14902,14341,17984,15893,16138,16260,15931,16693,18200,15771,16682,19074,19052,15220,18604,15131,12789,17586,16072,17473,15693,16079,17109,15890,17410,17491,17887,17030,15762,14444,20294,16592,16291,14639,16447,16147,15751,14742,16618,17492,18208,15584,17094,15307,13880,16059,15471,19198,16576,16076,16041,15714,14608,15001,14459,14783,15211,15589,16223,16375,18190,19120,16532,19224,13993,15235,17839,16932,15990,16501,16193,14696,13980,15132,14927,17394,14961,15256,16235,15536,16805,15684,17207,17106,18002,16725,17045,13902,21986,15673,14958,18408,17247,17590,17657,14094,14629,12791,16879,16005,18876,20319,19975,13761,16940,14585,16806,15371,18086,14246,15220,16448,16947,14516,14933,17795,16137,15390,13998,16203,15081,16161,15664,16896,22296,15285,14584,15206,13745,16210,16498,15778,14347,16663,16580,16036,13298,16959,18173,16122,16582,15126,17666,16172,15609,15897,18810,15759,15411,16526,17781,20028,18725,15365,15727,15541,14183,17135,16637,15536,15755,15795,13590,16260,15859,18137,17451,15679,18502,15120,15539,13879,15640,18738,18509,15441,15887,16242,15714,15087,16680,17639,18000,13443,18121,14765,17474,20176,19574,15866,19313,15125,16485,14815,15176,13589,17012,17126,15102,17338,17402,14514,18442,15231,17328,17767,15389,15298,17659,17201,15656,16889,18520,14564,16635,15230,14906,17706,16238,16221,16564,14712,17042,18104,15128,17773,17263,17325,19195,16246,16570,15790,16598,20018,17797,16160,12926,14922,18702,17111,18762,16386,15887,16363,17356,17677,16101,18257,16801,17352,16594,15796,16372,17088,16086,17323,15205,16009,17531,15310,14882,15628,14208,19629,17782,14790,17381,16450,16456,15201,17523,17072,18878,14782,14017,16670,14681,15268,15748,17284,16806,15334,15333,17491,15698,18223,18360,16178,15048,16865,18072,17500,16688,17384,15126,17214,17389,14564,17670,16296,15738,14118,16343,14579,18485,18982,16688,14836,14573,15704,16578,16045,14076,16518,15373,15519,16795,15941,17676,15056,15282,15189,16285,18382,15746,16141,15558,15486,17335,12598,17385,16452,15996,16370,14264,17061,16738,17999,18496,16414,16563,14314,16556,14604,16195,14668,16557,16863,19694,18523,17618,18751,13932,16394,18276,17722,16517,15337,17569,17585,15950,16531,16599,16086,15065,13946,16526,16495,17009,15419,16460,16364,16434,17685,16506,17174,14771,16359,15871,18215,15747,16464,16424,17494,18691,16446,16259,16231,16146,17344,17327,16568,15732,16812,16452,17427,16892,17003,16836,14434,16696,16974,13653,13934,13405,18747,15156,19241,15866,14247,13493,15855,15186,17176,16947,19528,13775,18418,14815,21728,16348,16302,15410,15119,16561,13736,15481,15967,16627,17087,17612,16731,18360,18075,19636,16897,14538,14868,20979,16513,16180,16050,14428,16150,17576,14990,17664,16114,15299,18912,19915,18273,15158,16086,18626,17048,14819,15082,14605,17063,13881,17180,16978,17827,16168,15544,17566,15293,17303,17201,18742,16519,13727,17617,19432,15280,15496,15263,17012,14168,17060,17053,17185,16690,18246,16310,16766,19460],\"y\":[17039,16265,16221,17954,18543,18161,16967,16138,18527,16805,16611,18507,19102,17213,17896,16974,20862,16888,17378,17924,19254,16945,17562,19219,17223,16047,17854,18982,17436,17974,18076,17406,16989,16355,19076,17082,19276,17716,19609,16832,17362,20118,17806,16493,19090,15498,19703,18790,16429,17366,17408,18284,18634,19634,19210,17696,16746,18131,18407,19575,16437,17667,19610,19659,15959,16280,17773,16814,18490,17145,18573,17591,19449,16629,19110,17200,18337,17242,18951,18342,20326,16617,17111,18162,18159,19864,17769,17113,19565,16206,15827,18590,19137,18820,19060,18383,17645,19837,20668,17243,17401,17323,16787,19195,17831,18370,16995,19080,18904,19684,17812,17629,15938,14815,19575,18034,17554,17737,17286,17544,18192,16806,18299,19562,16550,17810,16174,18920,17297,17603,18669,17937,18295,16820,16908,17537,16779,19205,19105,15898,15196,15031,19761,15974,15840,19257,16360,16256,17935,17321,17194,17234,18227,17632,16953,18708,21588,18463,15128,18567,16741,18905,19519,17998,17882,16477,16532,17576,17054,19579,15883,17717,17911,17320,17257,18646,19379,15671,19262,18304,19002,17158,18318,19691,17112,15085,18466,18001,19181,16369,18269,16678,20330,16184,16916,17392,18778,19476,16524,20099,16703,19310,18364,19396,16713,16302,14164,17281,17550,18467,18033,16668,18428,17721,19145,18459,18145,18154,17137,17258,20008,17185,18315,17693,18402,17975,17703,19387,19719,18340,18443,17101,16956,17241,16451,18342,16417,18984,18408,16235,15965,18897,20263,16666,19984,18864,18557,21242,18641,18362,18900,17005,17578,18818,18271,20064,19191,15990,20592,17535,19121,18991,18622,16952,20488,18395,16422,17831,16448,15677,19262,16162,17069,17660,19120,19067,16559,18511,16437,17298,19319,17413,19229,17696,19346,18509,16272,18763,17366,17397,15488,17502,16677,18189,17387,17578,18785,16818,18421,17356,18315,16720,17683,16604,18495,17350,18818,17694,18134,18512,17653,19949,18593,17494,17447,16461,19886,16837,18390,18226,16613,16844,17438,17154,19855,18073,18253,18530,19021,14986,18889,18225,17635,17306,18610,18932,17033,17517,17976,18175,18618,16588,16489,17848,17192,17540,18755,16771,16826,15832,17467,17562,18563,19142,17694,19372,18615,17054,19231,16758,15893,21898,17777,18165,18284,18761,17913,17433,18660,18134,17436,18223,14121,18283,17961,15375,18615,16844,17511,17637,17617,16577,17935,18857,19670,18068,19041,17062,19024,18210,20189,16530,18327,15795,18038,18324,17505,18188,17699,15869,18221,18554,18925,16699,17430,18225,16819,17246,18358,17345,17328,18861,17235,19989,19203,18284,18261,16983,17551,16725,19362,20325,19427,18121,17368,17370,18442,18570,18397,17821,19562,16963,16234,17888,19575,19539,19334,17998,17816,18125,18853,19762,19093,16853,16510,18169,17156,18972,16428,18067,17908,18966,20427,15357,19221,18805,15922,18307,17678,17530,17964,18393,17099,16891,18433,18640,18319,18381,20151,16718,17071,17625,17740,15087,16753,19612,20923,17110,18202,16491,16987,17127,18244,17054,17035,18446,18466,18105,19227,19584,20404,19033,18017,19054,19763,19278,15789,17817,17693,17294,17430,18461,19339,16505,17852,17847,19378,15833,18276,18085,18782,18030,17580,19085,19335,18544,18095,19415,17214,18425,16433,18582,17247,16837,17591,17734,18763,18581,17635,16018,18274,16096,17256,18202,17660,16843,17432,19590,19001,18060,19034,18529,18240,18641,18110,18043,18771,17441,18610,18564,18535,17598,17576,18240,20693,19225,17499,16348,16128,17456,16732,17530,16973,16390,15827,17234,16709,19549,18271,19152,16135,15049,17473,20136,18930,19207,16345,18534,17342,18934,18061,18021,18882,18429,17712,17010,18091,17918,17180,17969,18883,17730,19537,16250,19718,18660,18409,20302,18142,18139,18238,17898,16724,20228,19194,16776,18437,17694,18385,17690,18419,18071,17001,18859,18062,20329,17351,19042,19251,17425,15965,16183,18303,18407,15260,18770,18597,18664,17965,16647,17982,18822,18549,16097,19432,17105,18737,18818,17595,19294,17411,16795,18034,18912,15122,17809,18954,19286,18328,22224,19473,15716,16464,16966,18910,18358,18620,16443,18095,19290,17602,18055,18508,19086,19534,18266,19568,17842,17360,16786,19078,17148,17058,17807,18096,18969,16806,18873,17321,18974,19080,17667,18795,17328,19299,16159,13858,18727,19079,19238,17995,18098,18344,16426,15234,17791,19772,18579,18666,16369,18186,20458,18785,17517,17725,18363,17273,16275,18701,19172,18316,19195,19206,16983,17134,17082,19256,16970,16898,20169,17829,18787,19174,17284,17309,18739,17742,17908,17551,18087,16660,19183,18563,17906,17683,18764,17930,18604,17668,17555,18372,17341,17702,17255,16875,16064,17286,17787,14396,18503,18382,15677,18130,19421,18799,15749,18389,16965,17861,17736,19666,17688,16987,18429,17329,20383,17356,20839,19342,18195,16912,17823,17045,18220,17978,16871,17115,16504,18253,19742,17668,17031,19566,16862,18495,17750,14884,17354,18460,18286,19512,17000,16507,18528,17833,19610,18067,16848,19197,18244,20017,17735,16194,17531,15569,17057,16834,16981,20892,17263,16741,19652,17939,17491,15883,17686,17765,19315,16835,17341,20002,17014,17540,17481,19620,18586,18276,15990,17432,15286,16673,19634,16282,17709,17928,17760,18464,18690,16285,18772,18541,17576,18740,18426,17636,17797,18046,19070,19337,18551,18466,17663,17733,18302,18475,18993,14678,19092,19093,18246,17679,17351,16271,17007,17539,16330,17899,20432,19253,19245,18512,16513,19233,16622,19029,18807,19399,18456,16424,16768,17748,17924,18695,18315,18802,15958,17463,16785,17101,17606,17247,18823,18340,18694,16969,16739,18945,16945,16711,15646,19712,15720,17146,16667,18482,17670,18183,18642,18711,18512,18548,19301,16630,19093,19603,17452,18068,19145,16887,17194,18697,18339,17888,20686,17793,15515,17234,17045,17397,18139,17972,20198,19000,20985,16642,16605,19032,17002,19480,18460,18950,19051,18911,18343,18839,17895,19312,16395,17860,17928,17251,17722,18248,19946,19296,17750,18806,17238,17746,20199,17002,20673,17388,18077,18439,17343,17971,17795,17286,15498,18967,19274,19500,16550,17219,16748,14294,18552,15120,17435,19855,16501,18715,18045,17656,19667,16382,18267,19072,16775,20071,18018,18548,17163,18251,15402,16596,19324,17938,17166,16231,19133,16617,15493,16539,18351,18824,17652,18863,18634,18953,19158,18342,17908,18632,16307,17640,18552,19743,17571,17230,17163,16970,18747,18913,18212,16498,16462,14655,15926,16245,17199,18396,17947,17442,16728,17105,16909,16202,17113,16945,17392,17980,15541,17470,15769,17777,17819,15375,18105,17700,15638,18159,18916,18278,18965,20134,18233,18448,18680,13939,16234,17956,15799,17670,19002,19346,17708,17093,19189,17848,18420,16554,18220,16054,18376,18782,17997,17575,18411,17936,16324,17579,17761,18702,20483,17958,18134,17397,17669,19838,15613,18437,17699,17779,19202,19463,18804,17038,17691,17258,19563,16343,16668,14222,18832,17315,18998,17190,17744,17698,18136,18658,16110,17415,18183,18271,16268,15725,15685,18479,18168,18647,18346,19338,18114,19513,18303,16791,17801,18123,18427,17710,18411,18048,18978,16039,17340,19015,17800,17215,16546,18774,18335,17915,19474,16659,17735,19541,18899,17653,18324,19265,19687,19746,18134,18614,17393,17369,17179,17085,19023,16640,17183,16881,17425,17430,16571,17641,16251,17357,16986,17335,17435,17634,16994,17942,18147,17089,19524,16818,17676,16819,17760,16607,17336,19000,18954,16519,19244,17249,18503,15189,18073,19801,18637,16302,18699,18734,18848,18070,20060,19248,18916,17540,15941,17342,16663,16168,17042,18666,18538,16579,16473,17147,17721,19773,13497,18437,18088,16982,16690,19145,18543,18696,19139,20449,16760,17204,17983,19389,19714,19022,16372,16487,17591,16914,17275,16581,19402,20776,18525,18171,19285,17723,19140,16927,18426,16249,17330,17438,19166,17386,15067,20110,18205,18278,20663,19614,15756,18174,17546,20132,16919,18168,16819,17427,18239,16288,17326,16435,16687,17157,17810,15621,18823,17801,14831,19758,20290,16656,17570,16741,19214,18708,16032,18074,18484,18636,18880,16923,17527,18614,16575,18326,18465,17930,18191,15457,16908,18106,19884,19173,18788,17269,18271,17363,18217,16641,16005,17793,17165,17725,17197,17757,19858,17686,17908,18118,18617,20463,17585,19250,16164,17724,18636,18224,18330,18900,19191,19569,17384,18532,18626,18363,20590,16336,20353,18837,18755,17788,18881,19465,18518,19184,17213,17169,19556,18795,18530,17524,18697,19917,16625,17169,17762,17629,19146,18115,19211,18842,16867,18570,17366,17139,16824,17010,16377,18239,16578,17496,18216,18076,17161,17923,16673,18578,17737,17600,19340,18344,17810,19555,17588,19504,16488,13908,18564,18149,19617,17995,19524,18061,16080,19417,18166,17730,17823,18596,16927,19023,16534,17401,16199,17231,19226,18197,15431,18180,18159,15227,18087,15878,16676,18028,17795,17409,17896,18124,17853,17928,16813,17943,18292,17021,18383,16701,16227,19578,19170,20040,17493,19171,18669,16491,18148,15833,19116,17933,18201,18979,18715,18218,17592,18352,17799,18416,19440,17829,17245,18077,17968,18461,19752,18365,17075,17938,17415,18964,18832,19197,19237,17833,18731,18319,18845,18015,19170,17567,17984,18520,18388,18194,16539,18255,17179,18060,19633,18807,17727,16893,17667,17711,17186,17417,18023,18904,17445,17143,16747,19056,17075,15420,18683,18679,18614,18664,18204,17529,16504,19857,16210,17518,15616,17902,17783,18157,17114,14886,18375,17209,17177,16512,17140,19237,19531,18190,17904,18030,19322,18556,17106,18151,19973,16059,18385,18538,17906,15593,17825,18159,17516,19577,16464,18645,18459,18958,18278,17099,16967,18449,18822,18115,17019,18675,17228,18945,17283,17351,18719,16881,18302,17920,18986,15466,20647,17036,18031,17610,19527,17824,20017,20383,17468,17942,16989,18944,18031,15958,18875,15807,18781,18367,17282,16743,17222,18007,15984,20735,17755,17859,18965,16894,17515,17275,12111,17663,19349,17026,16663,19665,17298,17771,17197,16045,16963,18758,18121,18036,19347,18044,17368,18768,19209,17637,19804,17200,16127,17910,18381,17892,14432,15449,17501,19371,17196,17815,18648,18901,18345,16054,17505,18155,17146,17874,17913,17417,19215,19972,18414,19149,17005,15816,18233,17949,17507,19086,17201,17470,18196,18854,20228,17830,17164,17700,18268,17176,18967,14302,17279,18507,18193,16198,18176,17962,20745,16071,18411,17601,17089,18090,19187,16583,17749,19226,18938,16777,18086,18871,18728,16172,20144,17646,15691,16319,17056,16489,19964,17403,19378,16841,20771,18712,16819,16542,18235,18401,17146,19374,19023,20083,17404,19462,18814,17994,13354,17981,18818,17642,17163,18013,16615,17206,18472,17888,16342,18555,19201,17317,18364,17217,18304,17533,15828,17152,18294,18609,19895,17516,16531,18667,17225,18286,17849,17735,18856,16664,15016,17726,18454,16654,19262,17217,18091,18926,17573,18900,18554,17949,17769,18370,16733,18305,16050,17199,16556,17534,18147,17217,17702,16209,18540,18842,17477,18355,18029,19505,16076,18511,17285,19019,17878,17489,17495,18219,19097,12212,18941,17886,16892,16421,19064,17837,17903,17228,17004,16738,18569,16859,16350,17845,18715,16927,18227,17179,17562,18761,17850,17184,18417,17170,18791,18868,19720,16792,19010,17801,17702,18889,16751,18238,16435,17495,19337,15504,16863,20313,16737,16385,17151,17487,20071,18613,18563,18559,18787,17297,18851,18589,18285,18244,19509,15836,17896,18412,16377,19460,18700,20035,16744,20082,19255,20342,18116,17857,19316,18193,17592,19297,18205,17609,14469,17044,18529,16893,19093,17782,18977,19183,16900,18881,17046,18832,16895,17019,18289,18199,16468,17885,15974,17438,19718,18260,16044,16444,18170,18360,18597,17328,17987,17241,18717,15605,17710,16470,17020,18802,18578,17028,19543,18513,16900,18682,19634,16157,19165,18298,19014,16405,17304,17538,18712,17393,14660,15218,17267,19116,18950,16362,18954,16082,17597,19266,16741,18450,18695,16424,19481,16891,17567,20355,18530,19483,18173,16287,17532,17489,18315,14620,19698,19725,19369,20925,17848,17411,18498,18559,18183,17918,16897,18045,17223,16900,17280,18000,18791,15988,17899,17592,17530,17497,18043,17623,18705,19296,15911,18327,18364,18199,19127,18716,18081,20163,18426,16941,19825,20181,18087,19182,19492,17412,18210,17409,16944,17286,21031,17915,18392,17509,18592,18207,17693,19634,19178,17620,17033,16959,18787,16221,17780,17363,17984,17147,16634,16974,19340,15862,18407,18032,16518,18785,17893,16171,16879,16884,18544,18922,17968,17007,17315,16587,17417,19459,17487,16910,16652,17424,20432,16916,16282,18886,17168,17656,16688,18275,17285,16397,17559,17903,16725,19696,16977,17677,17514,19366,16145,20075,17618,15191,18812,16342,18577,17493,18772,18272,16918,18496,19706,19263,19832,19056,16768,17966,19045,17415,16690,19247,17632,18853,16872,17463,19413,19838,17413,17845,15025,15178,18190,18538,17559,17437,18079,18070,17817,15029,17799,14990,16564,18224,16619,17597,18784,20017,19644,18522,20086,16977,17736,18147,19607,16813,15376,19464,14840,16415,17330,16626,18465,18313,16807,18790,15213,18793,17047,17379,17729,19467,18674,17969,16677,20283,18504,15925,19945,19189,18788,19166,15768,17474,16317,19265,17737,18737,18956,20209,16433,18209,16310,17149,16868,17120,16141,16809,19635,18862,17487,16336,18241,17271,17104,16659,16391,17517,17916,17373,17253,21451,15530,16798,17404,16710,19051,18910,17304,15496,17192,20102,17948,16659,19195,18943,19143,18262,16897,19949,15969,16832,17465,19127,17815,17827,18130,19581,18736,19463,18102,17147,18700,17123,19855,18095,16788,16436,18512,15723,18128,16551,18617,17118,16202,19709,16751,16163,16319,17472,18081,18932,18222,16554,17867,17384,17316,17712,16561,18178,15718,19091,16630,18038,18972,20323,16957,21625,17716,18589,18080,17215,16161,17924,17880,17421,18403,19335,17851,18882,18127,20229,18168,17782,17815,18422,19652,17712,17536,18859,16320,18522,17421,17928,17285,18332,18135,17725,15826,20182,19373,18400,18860,19542,19648,19569,19387,18238,18873,17279,20654,19126,17319,14637,18119,18736,17761,18724,18401,17319,18270,18583,17477,18784,18323,19121,17764,16531,17324,18609,19719,17888,18801,17501,17560,19484,18085,17103,16659,14744,21016,19382,18109,18978,17518,17035,16780,18222,17587,18276,16617,16410,17287,17137,15740,17980,18315,17635,17065,18245,19044,18966,18996,19276,19249,17795,17583,18740,18895,17793,18722,18480,18791,17933,17178,19067,18903,16794,17794,16580,15758,18688,18664,17678,18769,17827,16313,18528,17324,16132,19145,16233,18527,19175,17256,20228,18397,17428,18569,17681,19220,17836,19127,17405,18701,17918,14826,18349,17946,15159,16868,18355,20292,16893,19369,17777,17333,17565,17525,18696,16297,18670,16843,17924,17727,19555,19699,18069,20236,15660,17514,17133,18023,19476,16528,18822,18820,18040,17534,16907,18044,17423,16248,19072,17444,18492,17517,17849,16467,18132,17947,16828,18060,17825,15794,18125,18418,17856,18030,17611,17832,20672,18130,16527,18316,16204,17484,18655,18066,18040,19678,19307,19221,18221,18752,18457,16488,17704,18550,17299,17303,15825,19584,18116,18942,17452,16806,14240,18078,17891,17299,18756,19357,17108,18311,16774,20117,18350,18772,17797,16105,17480,15897,17390,18406,18363,17623,19905,16329,17412,19469,19567,18652,16373,17584,20534,18383,18032,17867,16758,16419,18867,17315,19310,17563,17076,17839,18674,17500,17680,17616,18656,17097,17986,16399,17830,18195,16482,19599,17957,18481,17052,18015,18896,16208,18705,18839,20148,19018,16509,18094,19227,16650,17876,15892,19091,16884,17673,17515,16416,17992,18509,17712,18841,19643]},\"selected\":{\"id\":\"1150\",\"type\":\"Selection\"},\"selection_policy\":{\"id\":\"1149\",\"type\":\"UnionRenderers\"}},\"id\":\"1131\",\"type\":\"ColumnDataSource\"},{\"attributes\":{\"text\":\"Relationship between blueTotalGold and blueTotalExperience\"},\"id\":\"1098\",\"type\":\"Title\"},{\"attributes\":{\"ticker\":{\"id\":\"1109\",\"type\":\"BasicTicker\"}},\"id\":\"1112\",\"type\":\"Grid\"},{\"attributes\":{\"dimension\":1,\"ticker\":{\"id\":\"1114\",\"type\":\"BasicTicker\"}},\"id\":\"1117\",\"type\":\"Grid\"},{\"attributes\":{\"bottom_units\":\"screen\",\"fill_alpha\":{\"value\":0.5},\"fill_color\":{\"value\":\"lightgrey\"},\"left_units\":\"screen\",\"level\":\"overlay\",\"line_alpha\":{\"value\":1.0},\"line_color\":{\"value\":\"black\"},\"line_dash\":[4,4],\"line_width\":{\"value\":2},\"render_mode\":\"css\",\"right_units\":\"screen\",\"top_units\":\"screen\"},\"id\":\"1151\",\"type\":\"BoxAnnotation\"},{\"attributes\":{},\"id\":\"1150\",\"type\":\"Selection\"},{\"attributes\":{\"fill_alpha\":{\"value\":0.2},\"fill_color\":{\"value\":\"#1f77b4\"},\"line_color\":{\"value\":\"#1f77b4\"},\"size\":{\"units\":\"screen\",\"value\":10},\"x\":{\"field\":\"x\"},\"y\":{\"field\":\"y\"}},\"id\":\"1132\",\"type\":\"Circle\"},{\"attributes\":{},\"id\":\"1104\",\"type\":\"LinearScale\"},{\"attributes\":{},\"id\":\"1109\",\"type\":\"BasicTicker\"},{\"attributes\":{},\"id\":\"1122\",\"type\":\"ResetTool\"}],\"root_ids\":[\"1097\"]},\"title\":\"Bokeh Application\",\"version\":\"1.4.0\"}};\n",
       "  var render_items = [{\"docid\":\"823b500d-5b29-49c9-bbfd-a66ab2bba4fe\",\"roots\":{\"1097\":\"b7b22254-873a-4fab-b5b9-aaed8057ccaf\"}}];\n",
       "  root.Bokeh.embed.embed_items_notebook(docs_json, render_items);\n",
       "\n",
       "  }\n",
       "  if (root.Bokeh !== undefined) {\n",
       "    embed_document(root);\n",
       "  } else {\n",
       "    var attempts = 0;\n",
       "    var timer = setInterval(function(root) {\n",
       "      if (root.Bokeh !== undefined) {\n",
       "        clearInterval(timer);\n",
       "        embed_document(root);\n",
       "      } else {\n",
       "        attempts++;\n",
       "        if (attempts > 100) {\n",
       "          clearInterval(timer);\n",
       "          console.log(\"Bokeh: ERROR: Unable to run BokehJS code because BokehJS library is missing\");\n",
       "        }\n",
       "      }\n",
       "    }, 10, root)\n",
       "  }\n",
       "})(window);"
      ],
      "application/vnd.bokehjs_exec.v0+json": ""
     },
     "metadata": {
      "application/vnd.bokehjs_exec.v0+json": {
       "id": "1097"
      }
     },
     "output_type": "display_data"
    }
   ],
   "source": [
    "%%local\n",
    "from bokeh.io import show\n",
    "from bokeh.plotting import figure\n",
    "from bokeh.io import output_notebook\n",
    "output_notebook()\n",
    "p = figure(title = 'Relationship between blueTotalGold and blueTotalExperience')\n",
    "p.xaxis.axis_label = 'blueTotalGold'\n",
    "p.yaxis.axis_label = 'blueTotalExperience'\n",
    "\n",
    "p.circle(  list(scatter['blueTotalGold'])\n",
    "         , list(scatter['blueTotalExperience'])\n",
    "         , fill_alpha=0.2, size=10)\n",
    "\n",
    "show(p)\n",
    "#This is the Scatter Pot with Outliers to see the whether or not to drop the Outliers.\n",
    "#In this case, there are few records at the tails which it makes the bin become large, so we want to drop the Outliers."
   ]
  },
  {
   "cell_type": "markdown",
   "metadata": {},
   "source": [
    "# Drawing histograms for blue team without Outliers"
   ]
  },
  {
   "cell_type": "code",
   "execution_count": 24,
   "metadata": {},
   "outputs": [
    {
     "data": {
      "application/vnd.jupyter.widget-view+json": {
       "model_id": "b648665aefbd49adb00de86f7913d426",
       "version_major": 2,
       "version_minor": 0
      },
      "text/plain": [
       "VBox()"
      ]
     },
     "metadata": {},
     "output_type": "display_data"
    },
    {
     "data": {
      "application/vnd.jupyter.widget-view+json": {
       "model_id": "",
       "version_major": 2,
       "version_minor": 0
      },
      "text/plain": [
       "FloatProgress(value=0.0, bar_style='info', description='Progress:', layout=Layout(height='25px', width='50%'),…"
      ]
     },
     "metadata": {},
     "output_type": "display_data"
    }
   ],
   "source": [
    "#generate bins and count of each bin\n",
    "histogram_MPG = (\n",
    "    no_outliers\n",
    "    .select('blueTotalGold')\n",
    "    .rdd\n",
    "    .flatMap(lambda record: record)\n",
    "    .histogram(5)\n",
    ")"
   ]
  },
  {
   "cell_type": "code",
   "execution_count": 25,
   "metadata": {},
   "outputs": [
    {
     "data": {
      "application/vnd.jupyter.widget-view+json": {
       "model_id": "6b9bf9a207e64682be959ac6703eaec4",
       "version_major": 2,
       "version_minor": 0
      },
      "text/plain": [
       "VBox()"
      ]
     },
     "metadata": {},
     "output_type": "display_data"
    },
    {
     "data": {
      "application/vnd.jupyter.widget-view+json": {
       "model_id": "",
       "version_major": 2,
       "version_minor": 0
      },
      "text/plain": [
       "FloatProgress(value=0.0, bar_style='info', description='Progress:', layout=Layout(height='25px', width='50%'),…"
      ]
     },
     "metadata": {},
     "output_type": "display_data"
    },
    {
     "name": "stdout",
     "output_type": "stream",
     "text": [
      "[12756.0, 14203.4, 15650.8, 17098.2, 18545.6, 19993]\n",
      "[427, 2452, 3651, 2253, 709]\n",
      "([12756.0, 14203.4, 15650.8, 17098.2, 18545.6, 19993], [427, 2452, 3651, 2253, 709])"
     ]
    }
   ],
   "source": [
    "#.histogram() generates two arrays: \n",
    "#1) list of bin bounds, \n",
    "#2) count of elements in corresponding bin\n",
    "for i in histogram_MPG:\n",
    "    print(i)\n",
    "    \n",
    "histogram_MPG"
   ]
  },
  {
   "cell_type": "code",
   "execution_count": 26,
   "metadata": {},
   "outputs": [
    {
     "data": {
      "application/vnd.jupyter.widget-view+json": {
       "model_id": "e225a656b8cd46298545ff6cd1a11728",
       "version_major": 2,
       "version_minor": 0
      },
      "text/plain": [
       "VBox()"
      ]
     },
     "metadata": {},
     "output_type": "display_data"
    },
    {
     "data": {
      "application/vnd.jupyter.widget-view+json": {
       "model_id": "",
       "version_major": 2,
       "version_minor": 0
      },
      "text/plain": [
       "FloatProgress(value=0.0, bar_style='info', description='Progress:', layout=Layout(height='25px', width='50%'),…"
      ]
     },
     "metadata": {},
     "output_type": "display_data"
    },
    {
     "name": "stdout",
     "output_type": "stream",
     "text": [
      "[12756.0,14203.4)\n",
      "[14203.4,15650.8)\n",
      "[15650.8,17098.2)\n",
      "[17098.2,18545.6)\n",
      "[18545.6,19993)"
     ]
    }
   ],
   "source": [
    "#display bin ranges\n",
    "for i in range(len(histogram_MPG[0])-1):\n",
    "    print('[' + str(round(histogram_MPG[0][i],2))\n",
    "        + ',' + str(round(histogram_MPG[0][i+1],2))\n",
    "          + ')'\n",
    "         )"
   ]
  },
  {
   "cell_type": "code",
   "execution_count": 27,
   "metadata": {},
   "outputs": [
    {
     "data": {
      "application/vnd.jupyter.widget-view+json": {
       "model_id": "2196f8ac7c4e407e970a4cb54532786a",
       "version_major": 2,
       "version_minor": 0
      },
      "text/plain": [
       "VBox()"
      ]
     },
     "metadata": {},
     "output_type": "display_data"
    },
    {
     "data": {
      "application/vnd.jupyter.widget-view+json": {
       "model_id": "",
       "version_major": 2,
       "version_minor": 0
      },
      "text/plain": [
       "FloatProgress(value=0.0, bar_style='info', description='Progress:', layout=Layout(height='25px', width='50%'),…"
      ]
     },
     "metadata": {},
     "output_type": "display_data"
    },
    {
     "name": "stdout",
     "output_type": "stream",
     "text": [
      "[(1, 'one'), (2, 'two'), (3, 'three')]"
     ]
    }
   ],
   "source": [
    "#Python zip function returns an iterator of tuples based on the iterable object\n",
    "numberList = [1, 2, 3]\n",
    "strList = ['one', 'two', 'three']\n",
    "result = zip(numberList, strList)\n",
    "print(sorted(result))"
   ]
  },
  {
   "cell_type": "code",
   "execution_count": 28,
   "metadata": {},
   "outputs": [
    {
     "data": {
      "application/vnd.jupyter.widget-view+json": {
       "model_id": "54dca47a222c48c58016a954cbbd47b8",
       "version_major": 2,
       "version_minor": 0
      },
      "text/plain": [
       "VBox()"
      ]
     },
     "metadata": {},
     "output_type": "display_data"
    },
    {
     "data": {
      "application/vnd.jupyter.widget-view+json": {
       "model_id": "",
       "version_major": 2,
       "version_minor": 0
      },
      "text/plain": [
       "FloatProgress(value=0.0, bar_style='info', description='Progress:', layout=Layout(height='25px', width='50%'),…"
      ]
     },
     "metadata": {},
     "output_type": "display_data"
    },
    {
     "name": "stdout",
     "output_type": "stream",
     "text": [
      "[(12756.0, 427), (14203.4, 2452), (15650.8, 3651), (17098.2, 2253), (18545.6, 709)]"
     ]
    }
   ],
   "source": [
    "#symbol * unpacks histogram_MPG and passes the two compoonents to zip as parameters\n",
    "#zip(*histogram_MPG) = zip(histogram_MPG[0], histogram_MPG[1])\n",
    "sorted(zip(*histogram_MPG))"
   ]
  },
  {
   "cell_type": "code",
   "execution_count": 29,
   "metadata": {},
   "outputs": [
    {
     "data": {
      "application/vnd.jupyter.widget-view+json": {
       "model_id": "",
       "version_major": 2,
       "version_minor": 0
      },
      "text/plain": [
       "FloatProgress(value=0.0, bar_style='info', description='Progress:', layout=Layout(height='25px', width='50%'),…"
      ]
     },
     "metadata": {},
     "output_type": "display_data"
    },
    {
     "data": {
      "application/vnd.jupyter.widget-view+json": {
       "model_id": "",
       "version_major": 2,
       "version_minor": 0
      },
      "text/plain": [
       "FloatProgress(value=0.0, bar_style='info', description='Progress:', layout=Layout(height='25px', width='50%'),…"
      ]
     },
     "metadata": {},
     "output_type": "display_data"
    }
   ],
   "source": [
    "%%spark -o hist_MPG \n",
    "#The above Spark magic exports hist_MPG to local node running the notebook\n",
    "#So that we can use the local object to draw a histogram\n",
    "import pandas as pd\n",
    "hist_MPG =  spark.createDataFrame(\n",
    "    list(zip(*histogram_MPG)), \n",
    "    ['bins', 'counts'])"
   ]
  },
  {
   "cell_type": "code",
   "execution_count": 30,
   "metadata": {},
   "outputs": [
    {
     "data": {
      "text/html": [
       "\n",
       "    <div class=\"bk-root\">\n",
       "        <a href=\"https://bokeh.org\" target=\"_blank\" class=\"bk-logo bk-logo-small bk-logo-notebook\"></a>\n",
       "        <span id=\"1200\">Loading BokehJS ...</span>\n",
       "    </div>"
      ]
     },
     "metadata": {},
     "output_type": "display_data"
    },
    {
     "data": {
      "application/javascript": [
       "\n",
       "(function(root) {\n",
       "  function now() {\n",
       "    return new Date();\n",
       "  }\n",
       "\n",
       "  var force = true;\n",
       "\n",
       "  if (typeof root._bokeh_onload_callbacks === \"undefined\" || force === true) {\n",
       "    root._bokeh_onload_callbacks = [];\n",
       "    root._bokeh_is_loading = undefined;\n",
       "  }\n",
       "\n",
       "  var JS_MIME_TYPE = 'application/javascript';\n",
       "  var HTML_MIME_TYPE = 'text/html';\n",
       "  var EXEC_MIME_TYPE = 'application/vnd.bokehjs_exec.v0+json';\n",
       "  var CLASS_NAME = 'output_bokeh rendered_html';\n",
       "\n",
       "  /**\n",
       "   * Render data to the DOM node\n",
       "   */\n",
       "  function render(props, node) {\n",
       "    var script = document.createElement(\"script\");\n",
       "    node.appendChild(script);\n",
       "  }\n",
       "\n",
       "  /**\n",
       "   * Handle when an output is cleared or removed\n",
       "   */\n",
       "  function handleClearOutput(event, handle) {\n",
       "    var cell = handle.cell;\n",
       "\n",
       "    var id = cell.output_area._bokeh_element_id;\n",
       "    var server_id = cell.output_area._bokeh_server_id;\n",
       "    // Clean up Bokeh references\n",
       "    if (id != null && id in Bokeh.index) {\n",
       "      Bokeh.index[id].model.document.clear();\n",
       "      delete Bokeh.index[id];\n",
       "    }\n",
       "\n",
       "    if (server_id !== undefined) {\n",
       "      // Clean up Bokeh references\n",
       "      var cmd = \"from bokeh.io.state import curstate; print(curstate().uuid_to_server['\" + server_id + \"'].get_sessions()[0].document.roots[0]._id)\";\n",
       "      cell.notebook.kernel.execute(cmd, {\n",
       "        iopub: {\n",
       "          output: function(msg) {\n",
       "            var id = msg.content.text.trim();\n",
       "            if (id in Bokeh.index) {\n",
       "              Bokeh.index[id].model.document.clear();\n",
       "              delete Bokeh.index[id];\n",
       "            }\n",
       "          }\n",
       "        }\n",
       "      });\n",
       "      // Destroy server and session\n",
       "      var cmd = \"import bokeh.io.notebook as ion; ion.destroy_server('\" + server_id + \"')\";\n",
       "      cell.notebook.kernel.execute(cmd);\n",
       "    }\n",
       "  }\n",
       "\n",
       "  /**\n",
       "   * Handle when a new output is added\n",
       "   */\n",
       "  function handleAddOutput(event, handle) {\n",
       "    var output_area = handle.output_area;\n",
       "    var output = handle.output;\n",
       "\n",
       "    // limit handleAddOutput to display_data with EXEC_MIME_TYPE content only\n",
       "    if ((output.output_type != \"display_data\") || (!output.data.hasOwnProperty(EXEC_MIME_TYPE))) {\n",
       "      return\n",
       "    }\n",
       "\n",
       "    var toinsert = output_area.element.find(\".\" + CLASS_NAME.split(' ')[0]);\n",
       "\n",
       "    if (output.metadata[EXEC_MIME_TYPE][\"id\"] !== undefined) {\n",
       "      toinsert[toinsert.length - 1].firstChild.textContent = output.data[JS_MIME_TYPE];\n",
       "      // store reference to embed id on output_area\n",
       "      output_area._bokeh_element_id = output.metadata[EXEC_MIME_TYPE][\"id\"];\n",
       "    }\n",
       "    if (output.metadata[EXEC_MIME_TYPE][\"server_id\"] !== undefined) {\n",
       "      var bk_div = document.createElement(\"div\");\n",
       "      bk_div.innerHTML = output.data[HTML_MIME_TYPE];\n",
       "      var script_attrs = bk_div.children[0].attributes;\n",
       "      for (var i = 0; i < script_attrs.length; i++) {\n",
       "        toinsert[toinsert.length - 1].firstChild.setAttribute(script_attrs[i].name, script_attrs[i].value);\n",
       "      }\n",
       "      // store reference to server id on output_area\n",
       "      output_area._bokeh_server_id = output.metadata[EXEC_MIME_TYPE][\"server_id\"];\n",
       "    }\n",
       "  }\n",
       "\n",
       "  function register_renderer(events, OutputArea) {\n",
       "\n",
       "    function append_mime(data, metadata, element) {\n",
       "      // create a DOM node to render to\n",
       "      var toinsert = this.create_output_subarea(\n",
       "        metadata,\n",
       "        CLASS_NAME,\n",
       "        EXEC_MIME_TYPE\n",
       "      );\n",
       "      this.keyboard_manager.register_events(toinsert);\n",
       "      // Render to node\n",
       "      var props = {data: data, metadata: metadata[EXEC_MIME_TYPE]};\n",
       "      render(props, toinsert[toinsert.length - 1]);\n",
       "      element.append(toinsert);\n",
       "      return toinsert\n",
       "    }\n",
       "\n",
       "    /* Handle when an output is cleared or removed */\n",
       "    events.on('clear_output.CodeCell', handleClearOutput);\n",
       "    events.on('delete.Cell', handleClearOutput);\n",
       "\n",
       "    /* Handle when a new output is added */\n",
       "    events.on('output_added.OutputArea', handleAddOutput);\n",
       "\n",
       "    /**\n",
       "     * Register the mime type and append_mime function with output_area\n",
       "     */\n",
       "    OutputArea.prototype.register_mime_type(EXEC_MIME_TYPE, append_mime, {\n",
       "      /* Is output safe? */\n",
       "      safe: true,\n",
       "      /* Index of renderer in `output_area.display_order` */\n",
       "      index: 0\n",
       "    });\n",
       "  }\n",
       "\n",
       "  // register the mime type if in Jupyter Notebook environment and previously unregistered\n",
       "  if (root.Jupyter !== undefined) {\n",
       "    var events = require('base/js/events');\n",
       "    var OutputArea = require('notebook/js/outputarea').OutputArea;\n",
       "\n",
       "    if (OutputArea.prototype.mime_types().indexOf(EXEC_MIME_TYPE) == -1) {\n",
       "      register_renderer(events, OutputArea);\n",
       "    }\n",
       "  }\n",
       "\n",
       "  \n",
       "  if (typeof (root._bokeh_timeout) === \"undefined\" || force === true) {\n",
       "    root._bokeh_timeout = Date.now() + 5000;\n",
       "    root._bokeh_failed_load = false;\n",
       "  }\n",
       "\n",
       "  var NB_LOAD_WARNING = {'data': {'text/html':\n",
       "     \"<div style='background-color: #fdd'>\\n\"+\n",
       "     \"<p>\\n\"+\n",
       "     \"BokehJS does not appear to have successfully loaded. If loading BokehJS from CDN, this \\n\"+\n",
       "     \"may be due to a slow or bad network connection. Possible fixes:\\n\"+\n",
       "     \"</p>\\n\"+\n",
       "     \"<ul>\\n\"+\n",
       "     \"<li>re-rerun `output_notebook()` to attempt to load from CDN again, or</li>\\n\"+\n",
       "     \"<li>use INLINE resources instead, as so:</li>\\n\"+\n",
       "     \"</ul>\\n\"+\n",
       "     \"<code>\\n\"+\n",
       "     \"from bokeh.resources import INLINE\\n\"+\n",
       "     \"output_notebook(resources=INLINE)\\n\"+\n",
       "     \"</code>\\n\"+\n",
       "     \"</div>\"}};\n",
       "\n",
       "  function display_loaded() {\n",
       "    var el = document.getElementById(\"1200\");\n",
       "    if (el != null) {\n",
       "      el.textContent = \"BokehJS is loading...\";\n",
       "    }\n",
       "    if (root.Bokeh !== undefined) {\n",
       "      if (el != null) {\n",
       "        el.textContent = \"BokehJS \" + root.Bokeh.version + \" successfully loaded.\";\n",
       "      }\n",
       "    } else if (Date.now() < root._bokeh_timeout) {\n",
       "      setTimeout(display_loaded, 100)\n",
       "    }\n",
       "  }\n",
       "\n",
       "\n",
       "  function run_callbacks() {\n",
       "    try {\n",
       "      root._bokeh_onload_callbacks.forEach(function(callback) {\n",
       "        if (callback != null)\n",
       "          callback();\n",
       "      });\n",
       "    } finally {\n",
       "      delete root._bokeh_onload_callbacks\n",
       "    }\n",
       "    console.debug(\"Bokeh: all callbacks have finished\");\n",
       "  }\n",
       "\n",
       "  function load_libs(css_urls, js_urls, callback) {\n",
       "    if (css_urls == null) css_urls = [];\n",
       "    if (js_urls == null) js_urls = [];\n",
       "\n",
       "    root._bokeh_onload_callbacks.push(callback);\n",
       "    if (root._bokeh_is_loading > 0) {\n",
       "      console.debug(\"Bokeh: BokehJS is being loaded, scheduling callback at\", now());\n",
       "      return null;\n",
       "    }\n",
       "    if (js_urls == null || js_urls.length === 0) {\n",
       "      run_callbacks();\n",
       "      return null;\n",
       "    }\n",
       "    console.debug(\"Bokeh: BokehJS not loaded, scheduling load and callback at\", now());\n",
       "    root._bokeh_is_loading = css_urls.length + js_urls.length;\n",
       "\n",
       "    function on_load() {\n",
       "      root._bokeh_is_loading--;\n",
       "      if (root._bokeh_is_loading === 0) {\n",
       "        console.debug(\"Bokeh: all BokehJS libraries/stylesheets loaded\");\n",
       "        run_callbacks()\n",
       "      }\n",
       "    }\n",
       "\n",
       "    function on_error() {\n",
       "      console.error(\"failed to load \" + url);\n",
       "    }\n",
       "\n",
       "    for (var i = 0; i < css_urls.length; i++) {\n",
       "      var url = css_urls[i];\n",
       "      const element = document.createElement(\"link\");\n",
       "      element.onload = on_load;\n",
       "      element.onerror = on_error;\n",
       "      element.rel = \"stylesheet\";\n",
       "      element.type = \"text/css\";\n",
       "      element.href = url;\n",
       "      console.debug(\"Bokeh: injecting link tag for BokehJS stylesheet: \", url);\n",
       "      document.body.appendChild(element);\n",
       "    }\n",
       "\n",
       "    for (var i = 0; i < js_urls.length; i++) {\n",
       "      var url = js_urls[i];\n",
       "      var element = document.createElement('script');\n",
       "      element.onload = on_load;\n",
       "      element.onerror = on_error;\n",
       "      element.async = false;\n",
       "      element.src = url;\n",
       "      console.debug(\"Bokeh: injecting script tag for BokehJS library: \", url);\n",
       "      document.head.appendChild(element);\n",
       "    }\n",
       "  };var element = document.getElementById(\"1200\");\n",
       "  if (element == null) {\n",
       "    console.error(\"Bokeh: ERROR: autoload.js configured with elementid '1200' but no matching script tag was found. \")\n",
       "    return false;\n",
       "  }\n",
       "\n",
       "  function inject_raw_css(css) {\n",
       "    const element = document.createElement(\"style\");\n",
       "    element.appendChild(document.createTextNode(css));\n",
       "    document.body.appendChild(element);\n",
       "  }\n",
       "\n",
       "  \n",
       "  var js_urls = [\"https://cdn.pydata.org/bokeh/release/bokeh-1.4.0.min.js\", \"https://cdn.pydata.org/bokeh/release/bokeh-widgets-1.4.0.min.js\", \"https://cdn.pydata.org/bokeh/release/bokeh-tables-1.4.0.min.js\", \"https://cdn.pydata.org/bokeh/release/bokeh-gl-1.4.0.min.js\"];\n",
       "  var css_urls = [];\n",
       "  \n",
       "\n",
       "  var inline_js = [\n",
       "    function(Bokeh) {\n",
       "      Bokeh.set_log_level(\"info\");\n",
       "    },\n",
       "    function(Bokeh) {\n",
       "    \n",
       "    \n",
       "    }\n",
       "  ];\n",
       "\n",
       "  function run_inline_js() {\n",
       "    \n",
       "    if (root.Bokeh !== undefined || force === true) {\n",
       "      \n",
       "    for (var i = 0; i < inline_js.length; i++) {\n",
       "      inline_js[i].call(root, root.Bokeh);\n",
       "    }\n",
       "    if (force === true) {\n",
       "        display_loaded();\n",
       "      }} else if (Date.now() < root._bokeh_timeout) {\n",
       "      setTimeout(run_inline_js, 100);\n",
       "    } else if (!root._bokeh_failed_load) {\n",
       "      console.log(\"Bokeh: BokehJS failed to load within specified timeout.\");\n",
       "      root._bokeh_failed_load = true;\n",
       "    } else if (force !== true) {\n",
       "      var cell = $(document.getElementById(\"1200\")).parents('.cell').data().cell;\n",
       "      cell.output_area.append_execute_result(NB_LOAD_WARNING)\n",
       "    }\n",
       "\n",
       "  }\n",
       "\n",
       "  if (root._bokeh_is_loading === 0) {\n",
       "    console.debug(\"Bokeh: BokehJS loaded, going straight to plotting\");\n",
       "    run_inline_js();\n",
       "  } else {\n",
       "    load_libs(css_urls, js_urls, function() {\n",
       "      console.debug(\"Bokeh: BokehJS plotting callback run at\", now());\n",
       "      run_inline_js();\n",
       "    });\n",
       "  }\n",
       "}(window));"
      ],
      "application/vnd.bokehjs_load.v0+json": "\n(function(root) {\n  function now() {\n    return new Date();\n  }\n\n  var force = true;\n\n  if (typeof root._bokeh_onload_callbacks === \"undefined\" || force === true) {\n    root._bokeh_onload_callbacks = [];\n    root._bokeh_is_loading = undefined;\n  }\n\n  \n\n  \n  if (typeof (root._bokeh_timeout) === \"undefined\" || force === true) {\n    root._bokeh_timeout = Date.now() + 5000;\n    root._bokeh_failed_load = false;\n  }\n\n  var NB_LOAD_WARNING = {'data': {'text/html':\n     \"<div style='background-color: #fdd'>\\n\"+\n     \"<p>\\n\"+\n     \"BokehJS does not appear to have successfully loaded. If loading BokehJS from CDN, this \\n\"+\n     \"may be due to a slow or bad network connection. Possible fixes:\\n\"+\n     \"</p>\\n\"+\n     \"<ul>\\n\"+\n     \"<li>re-rerun `output_notebook()` to attempt to load from CDN again, or</li>\\n\"+\n     \"<li>use INLINE resources instead, as so:</li>\\n\"+\n     \"</ul>\\n\"+\n     \"<code>\\n\"+\n     \"from bokeh.resources import INLINE\\n\"+\n     \"output_notebook(resources=INLINE)\\n\"+\n     \"</code>\\n\"+\n     \"</div>\"}};\n\n  function display_loaded() {\n    var el = document.getElementById(\"1200\");\n    if (el != null) {\n      el.textContent = \"BokehJS is loading...\";\n    }\n    if (root.Bokeh !== undefined) {\n      if (el != null) {\n        el.textContent = \"BokehJS \" + root.Bokeh.version + \" successfully loaded.\";\n      }\n    } else if (Date.now() < root._bokeh_timeout) {\n      setTimeout(display_loaded, 100)\n    }\n  }\n\n\n  function run_callbacks() {\n    try {\n      root._bokeh_onload_callbacks.forEach(function(callback) {\n        if (callback != null)\n          callback();\n      });\n    } finally {\n      delete root._bokeh_onload_callbacks\n    }\n    console.debug(\"Bokeh: all callbacks have finished\");\n  }\n\n  function load_libs(css_urls, js_urls, callback) {\n    if (css_urls == null) css_urls = [];\n    if (js_urls == null) js_urls = [];\n\n    root._bokeh_onload_callbacks.push(callback);\n    if (root._bokeh_is_loading > 0) {\n      console.debug(\"Bokeh: BokehJS is being loaded, scheduling callback at\", now());\n      return null;\n    }\n    if (js_urls == null || js_urls.length === 0) {\n      run_callbacks();\n      return null;\n    }\n    console.debug(\"Bokeh: BokehJS not loaded, scheduling load and callback at\", now());\n    root._bokeh_is_loading = css_urls.length + js_urls.length;\n\n    function on_load() {\n      root._bokeh_is_loading--;\n      if (root._bokeh_is_loading === 0) {\n        console.debug(\"Bokeh: all BokehJS libraries/stylesheets loaded\");\n        run_callbacks()\n      }\n    }\n\n    function on_error() {\n      console.error(\"failed to load \" + url);\n    }\n\n    for (var i = 0; i < css_urls.length; i++) {\n      var url = css_urls[i];\n      const element = document.createElement(\"link\");\n      element.onload = on_load;\n      element.onerror = on_error;\n      element.rel = \"stylesheet\";\n      element.type = \"text/css\";\n      element.href = url;\n      console.debug(\"Bokeh: injecting link tag for BokehJS stylesheet: \", url);\n      document.body.appendChild(element);\n    }\n\n    for (var i = 0; i < js_urls.length; i++) {\n      var url = js_urls[i];\n      var element = document.createElement('script');\n      element.onload = on_load;\n      element.onerror = on_error;\n      element.async = false;\n      element.src = url;\n      console.debug(\"Bokeh: injecting script tag for BokehJS library: \", url);\n      document.head.appendChild(element);\n    }\n  };var element = document.getElementById(\"1200\");\n  if (element == null) {\n    console.error(\"Bokeh: ERROR: autoload.js configured with elementid '1200' but no matching script tag was found. \")\n    return false;\n  }\n\n  function inject_raw_css(css) {\n    const element = document.createElement(\"style\");\n    element.appendChild(document.createTextNode(css));\n    document.body.appendChild(element);\n  }\n\n  \n  var js_urls = [\"https://cdn.pydata.org/bokeh/release/bokeh-1.4.0.min.js\", \"https://cdn.pydata.org/bokeh/release/bokeh-widgets-1.4.0.min.js\", \"https://cdn.pydata.org/bokeh/release/bokeh-tables-1.4.0.min.js\", \"https://cdn.pydata.org/bokeh/release/bokeh-gl-1.4.0.min.js\"];\n  var css_urls = [];\n  \n\n  var inline_js = [\n    function(Bokeh) {\n      Bokeh.set_log_level(\"info\");\n    },\n    function(Bokeh) {\n    \n    \n    }\n  ];\n\n  function run_inline_js() {\n    \n    if (root.Bokeh !== undefined || force === true) {\n      \n    for (var i = 0; i < inline_js.length; i++) {\n      inline_js[i].call(root, root.Bokeh);\n    }\n    if (force === true) {\n        display_loaded();\n      }} else if (Date.now() < root._bokeh_timeout) {\n      setTimeout(run_inline_js, 100);\n    } else if (!root._bokeh_failed_load) {\n      console.log(\"Bokeh: BokehJS failed to load within specified timeout.\");\n      root._bokeh_failed_load = true;\n    } else if (force !== true) {\n      var cell = $(document.getElementById(\"1200\")).parents('.cell').data().cell;\n      cell.output_area.append_execute_result(NB_LOAD_WARNING)\n    }\n\n  }\n\n  if (root._bokeh_is_loading === 0) {\n    console.debug(\"Bokeh: BokehJS loaded, going straight to plotting\");\n    run_inline_js();\n  } else {\n    load_libs(css_urls, js_urls, function() {\n      console.debug(\"Bokeh: BokehJS plotting callback run at\", now());\n      run_inline_js();\n    });\n  }\n}(window));"
     },
     "metadata": {},
     "output_type": "display_data"
    },
    {
     "data": {
      "text/html": [
       "\n",
       "\n",
       "\n",
       "\n",
       "\n",
       "\n",
       "  <div class=\"bk-root\" id=\"530a0569-fd96-41b3-9951-cecc412dfd1c\" data-root-id=\"1201\"></div>\n"
      ]
     },
     "metadata": {},
     "output_type": "display_data"
    },
    {
     "data": {
      "application/javascript": [
       "(function(root) {\n",
       "  function embed_document(root) {\n",
       "    \n",
       "  var docs_json = {\"c54ab303-1cc4-48be-a66f-67c59e370fe0\":{\"roots\":{\"references\":[{\"attributes\":{\"below\":[{\"id\":\"1212\",\"type\":\"CategoricalAxis\"}],\"center\":[{\"id\":\"1215\",\"type\":\"Grid\"},{\"id\":\"1220\",\"type\":\"Grid\"}],\"left\":[{\"id\":\"1216\",\"type\":\"LinearAxis\"}],\"plot_height\":350,\"renderers\":[{\"id\":\"1237\",\"type\":\"GlyphRenderer\"}],\"title\":{\"id\":\"1202\",\"type\":\"Title\"},\"toolbar\":{\"id\":\"1227\",\"type\":\"Toolbar\"},\"x_range\":{\"id\":\"1204\",\"type\":\"FactorRange\"},\"x_scale\":{\"id\":\"1208\",\"type\":\"CategoricalScale\"},\"y_range\":{\"id\":\"1206\",\"type\":\"DataRange1d\"},\"y_scale\":{\"id\":\"1210\",\"type\":\"LinearScale\"}},\"id\":\"1201\",\"subtype\":\"Figure\",\"type\":\"Plot\"},{\"attributes\":{\"ticker\":{\"id\":\"1213\",\"type\":\"CategoricalTicker\"}},\"id\":\"1215\",\"type\":\"Grid\"},{\"attributes\":{\"callback\":null,\"data\":{\"top\":[427,2452,3651,2253,709],\"x\":[\"12756.0\",\"14203.4\",\"15650.8\",\"17098.2\",\"18545.6\"]},\"selected\":{\"id\":\"1261\",\"type\":\"Selection\"},\"selection_policy\":{\"id\":\"1260\",\"type\":\"UnionRenderers\"}},\"id\":\"1234\",\"type\":\"ColumnDataSource\"},{\"attributes\":{\"formatter\":{\"id\":\"1259\",\"type\":\"BasicTickFormatter\"},\"ticker\":{\"id\":\"1217\",\"type\":\"BasicTicker\"}},\"id\":\"1216\",\"type\":\"LinearAxis\"},{\"attributes\":{\"dimension\":1,\"ticker\":{\"id\":\"1217\",\"type\":\"BasicTicker\"}},\"id\":\"1220\",\"type\":\"Grid\"},{\"attributes\":{\"text\":\"Histogram of blueTotalGold\"},\"id\":\"1202\",\"type\":\"Title\"},{\"attributes\":{},\"id\":\"1221\",\"type\":\"PanTool\"},{\"attributes\":{},\"id\":\"1222\",\"type\":\"WheelZoomTool\"},{\"attributes\":{\"fill_alpha\":{\"value\":0.1},\"fill_color\":{\"value\":\"#1f77b4\"},\"line_alpha\":{\"value\":0.1},\"line_color\":{\"value\":\"#1f77b4\"},\"top\":{\"field\":\"top\"},\"width\":{\"value\":0.9},\"x\":{\"field\":\"x\"}},\"id\":\"1236\",\"type\":\"VBar\"},{\"attributes\":{\"overlay\":{\"id\":\"1262\",\"type\":\"BoxAnnotation\"}},\"id\":\"1223\",\"type\":\"BoxZoomTool\"},{\"attributes\":{\"callback\":null},\"id\":\"1206\",\"type\":\"DataRange1d\"},{\"attributes\":{},\"id\":\"1224\",\"type\":\"SaveTool\"},{\"attributes\":{},\"id\":\"1208\",\"type\":\"CategoricalScale\"},{\"attributes\":{},\"id\":\"1225\",\"type\":\"ResetTool\"},{\"attributes\":{},\"id\":\"1226\",\"type\":\"HelpTool\"},{\"attributes\":{\"active_drag\":\"auto\",\"active_inspect\":\"auto\",\"active_multi\":null,\"active_scroll\":\"auto\",\"active_tap\":\"auto\",\"tools\":[{\"id\":\"1221\",\"type\":\"PanTool\"},{\"id\":\"1222\",\"type\":\"WheelZoomTool\"},{\"id\":\"1223\",\"type\":\"BoxZoomTool\"},{\"id\":\"1224\",\"type\":\"SaveTool\"},{\"id\":\"1225\",\"type\":\"ResetTool\"},{\"id\":\"1226\",\"type\":\"HelpTool\"}]},\"id\":\"1227\",\"type\":\"Toolbar\"},{\"attributes\":{\"data_source\":{\"id\":\"1234\",\"type\":\"ColumnDataSource\"},\"glyph\":{\"id\":\"1235\",\"type\":\"VBar\"},\"hover_glyph\":null,\"muted_glyph\":null,\"nonselection_glyph\":{\"id\":\"1236\",\"type\":\"VBar\"},\"selection_glyph\":null,\"view\":{\"id\":\"1238\",\"type\":\"CDSView\"}},\"id\":\"1237\",\"type\":\"GlyphRenderer\"},{\"attributes\":{\"source\":{\"id\":\"1234\",\"type\":\"ColumnDataSource\"}},\"id\":\"1238\",\"type\":\"CDSView\"},{\"attributes\":{},\"id\":\"1257\",\"type\":\"CategoricalTickFormatter\"},{\"attributes\":{\"callback\":null,\"factors\":[\"12756.0\",\"14203.4\",\"15650.8\",\"17098.2\",\"18545.6\"]},\"id\":\"1204\",\"type\":\"FactorRange\"},{\"attributes\":{\"fill_color\":{\"value\":\"#1f77b4\"},\"line_color\":{\"value\":\"#1f77b4\"},\"top\":{\"field\":\"top\"},\"width\":{\"value\":0.9},\"x\":{\"field\":\"x\"}},\"id\":\"1235\",\"type\":\"VBar\"},{\"attributes\":{},\"id\":\"1259\",\"type\":\"BasicTickFormatter\"},{\"attributes\":{},\"id\":\"1260\",\"type\":\"UnionRenderers\"},{\"attributes\":{},\"id\":\"1261\",\"type\":\"Selection\"},{\"attributes\":{\"bottom_units\":\"screen\",\"fill_alpha\":{\"value\":0.5},\"fill_color\":{\"value\":\"lightgrey\"},\"left_units\":\"screen\",\"level\":\"overlay\",\"line_alpha\":{\"value\":1.0},\"line_color\":{\"value\":\"black\"},\"line_dash\":[4,4],\"line_width\":{\"value\":2},\"render_mode\":\"css\",\"right_units\":\"screen\",\"top_units\":\"screen\"},\"id\":\"1262\",\"type\":\"BoxAnnotation\"},{\"attributes\":{},\"id\":\"1210\",\"type\":\"LinearScale\"},{\"attributes\":{\"formatter\":{\"id\":\"1257\",\"type\":\"CategoricalTickFormatter\"},\"ticker\":{\"id\":\"1213\",\"type\":\"CategoricalTicker\"}},\"id\":\"1212\",\"type\":\"CategoricalAxis\"},{\"attributes\":{},\"id\":\"1213\",\"type\":\"CategoricalTicker\"},{\"attributes\":{},\"id\":\"1217\",\"type\":\"BasicTicker\"}],\"root_ids\":[\"1201\"]},\"title\":\"Bokeh Application\",\"version\":\"1.4.0\"}};\n",
       "  var render_items = [{\"docid\":\"c54ab303-1cc4-48be-a66f-67c59e370fe0\",\"roots\":{\"1201\":\"530a0569-fd96-41b3-9951-cecc412dfd1c\"}}];\n",
       "  root.Bokeh.embed.embed_items_notebook(docs_json, render_items);\n",
       "\n",
       "  }\n",
       "  if (root.Bokeh !== undefined) {\n",
       "    embed_document(root);\n",
       "  } else {\n",
       "    var attempts = 0;\n",
       "    var timer = setInterval(function(root) {\n",
       "      if (root.Bokeh !== undefined) {\n",
       "        clearInterval(timer);\n",
       "        embed_document(root);\n",
       "      } else {\n",
       "        attempts++;\n",
       "        if (attempts > 100) {\n",
       "          clearInterval(timer);\n",
       "          console.log(\"Bokeh: ERROR: Unable to run BokehJS code because BokehJS library is missing\");\n",
       "        }\n",
       "      }\n",
       "    }, 10, root)\n",
       "  }\n",
       "})(window);"
      ],
      "application/vnd.bokehjs_exec.v0+json": ""
     },
     "metadata": {
      "application/vnd.bokehjs_exec.v0+json": {
       "id": "1201"
      }
     },
     "output_type": "display_data"
    }
   ],
   "source": [
    "%%local\n",
    "#local magic indicates that this cell will run locally (rather than on cluster)\n",
    "#use Bokeh library ti draw the histogram\n",
    "from bokeh.io import show\n",
    "from bokeh.plotting import figure\n",
    "from bokeh.io import output_notebook\n",
    "output_notebook()\n",
    "\n",
    "labels = [str(round(e, 2)) for e in hist_MPG['bins']]\n",
    "\n",
    "p = figure(\n",
    "    x_range=labels, \n",
    "    plot_height=350, \n",
    "    title='Histogram of blueTotalGold'\n",
    ")\n",
    "\n",
    "p.vbar(x=labels, top=hist_MPG['counts'], width=0.9)\n",
    "\n",
    "show(p)\n",
    "#This allows for the dataframe to be graphed as a histogram using the Bokeh library to draw it. Using the bins creating before \n",
    "# we can bin the blueTotalGold values into five total bins to see which bins are most frequent. \n",
    "#The x axis is the bins for total gold, while the y axis is the total amount of games in which that amount of gold was \n",
    "# achieved in the first 10 minutes"
   ]
  },
  {
   "cell_type": "markdown",
   "metadata": {},
   "source": [
    "# Visualizing interactions between features for blue team without Outliers"
   ]
  },
  {
   "cell_type": "code",
   "execution_count": 31,
   "metadata": {},
   "outputs": [
    {
     "data": {
      "application/vnd.jupyter.widget-view+json": {
       "model_id": "",
       "version_major": 2,
       "version_minor": 0
      },
      "text/plain": [
       "FloatProgress(value=0.0, bar_style='info', description='Progress:', layout=Layout(height='25px', width='50%'),…"
      ]
     },
     "metadata": {},
     "output_type": "display_data"
    },
    {
     "data": {
      "application/vnd.jupyter.widget-view+json": {
       "model_id": "",
       "version_major": 2,
       "version_minor": 0
      },
      "text/plain": [
       "FloatProgress(value=0.0, bar_style='info', description='Progress:', layout=Layout(height='25px', width='50%'),…"
      ]
     },
     "metadata": {},
     "output_type": "display_data"
    }
   ],
   "source": [
    "%%spark -o scatter\n",
    "#spark magic moves dataframe to local\n",
    "scatter = (\n",
    "    no_outliers\n",
    "    .select('blueTotalGold', 'blueTotalExperience')\n",
    ")"
   ]
  },
  {
   "cell_type": "code",
   "execution_count": 32,
   "metadata": {},
   "outputs": [
    {
     "data": {
      "text/html": [
       "\n",
       "    <div class=\"bk-root\">\n",
       "        <a href=\"https://bokeh.org\" target=\"_blank\" class=\"bk-logo bk-logo-small bk-logo-notebook\"></a>\n",
       "        <span id=\"1311\">Loading BokehJS ...</span>\n",
       "    </div>"
      ]
     },
     "metadata": {},
     "output_type": "display_data"
    },
    {
     "data": {
      "application/javascript": [
       "\n",
       "(function(root) {\n",
       "  function now() {\n",
       "    return new Date();\n",
       "  }\n",
       "\n",
       "  var force = true;\n",
       "\n",
       "  if (typeof root._bokeh_onload_callbacks === \"undefined\" || force === true) {\n",
       "    root._bokeh_onload_callbacks = [];\n",
       "    root._bokeh_is_loading = undefined;\n",
       "  }\n",
       "\n",
       "  var JS_MIME_TYPE = 'application/javascript';\n",
       "  var HTML_MIME_TYPE = 'text/html';\n",
       "  var EXEC_MIME_TYPE = 'application/vnd.bokehjs_exec.v0+json';\n",
       "  var CLASS_NAME = 'output_bokeh rendered_html';\n",
       "\n",
       "  /**\n",
       "   * Render data to the DOM node\n",
       "   */\n",
       "  function render(props, node) {\n",
       "    var script = document.createElement(\"script\");\n",
       "    node.appendChild(script);\n",
       "  }\n",
       "\n",
       "  /**\n",
       "   * Handle when an output is cleared or removed\n",
       "   */\n",
       "  function handleClearOutput(event, handle) {\n",
       "    var cell = handle.cell;\n",
       "\n",
       "    var id = cell.output_area._bokeh_element_id;\n",
       "    var server_id = cell.output_area._bokeh_server_id;\n",
       "    // Clean up Bokeh references\n",
       "    if (id != null && id in Bokeh.index) {\n",
       "      Bokeh.index[id].model.document.clear();\n",
       "      delete Bokeh.index[id];\n",
       "    }\n",
       "\n",
       "    if (server_id !== undefined) {\n",
       "      // Clean up Bokeh references\n",
       "      var cmd = \"from bokeh.io.state import curstate; print(curstate().uuid_to_server['\" + server_id + \"'].get_sessions()[0].document.roots[0]._id)\";\n",
       "      cell.notebook.kernel.execute(cmd, {\n",
       "        iopub: {\n",
       "          output: function(msg) {\n",
       "            var id = msg.content.text.trim();\n",
       "            if (id in Bokeh.index) {\n",
       "              Bokeh.index[id].model.document.clear();\n",
       "              delete Bokeh.index[id];\n",
       "            }\n",
       "          }\n",
       "        }\n",
       "      });\n",
       "      // Destroy server and session\n",
       "      var cmd = \"import bokeh.io.notebook as ion; ion.destroy_server('\" + server_id + \"')\";\n",
       "      cell.notebook.kernel.execute(cmd);\n",
       "    }\n",
       "  }\n",
       "\n",
       "  /**\n",
       "   * Handle when a new output is added\n",
       "   */\n",
       "  function handleAddOutput(event, handle) {\n",
       "    var output_area = handle.output_area;\n",
       "    var output = handle.output;\n",
       "\n",
       "    // limit handleAddOutput to display_data with EXEC_MIME_TYPE content only\n",
       "    if ((output.output_type != \"display_data\") || (!output.data.hasOwnProperty(EXEC_MIME_TYPE))) {\n",
       "      return\n",
       "    }\n",
       "\n",
       "    var toinsert = output_area.element.find(\".\" + CLASS_NAME.split(' ')[0]);\n",
       "\n",
       "    if (output.metadata[EXEC_MIME_TYPE][\"id\"] !== undefined) {\n",
       "      toinsert[toinsert.length - 1].firstChild.textContent = output.data[JS_MIME_TYPE];\n",
       "      // store reference to embed id on output_area\n",
       "      output_area._bokeh_element_id = output.metadata[EXEC_MIME_TYPE][\"id\"];\n",
       "    }\n",
       "    if (output.metadata[EXEC_MIME_TYPE][\"server_id\"] !== undefined) {\n",
       "      var bk_div = document.createElement(\"div\");\n",
       "      bk_div.innerHTML = output.data[HTML_MIME_TYPE];\n",
       "      var script_attrs = bk_div.children[0].attributes;\n",
       "      for (var i = 0; i < script_attrs.length; i++) {\n",
       "        toinsert[toinsert.length - 1].firstChild.setAttribute(script_attrs[i].name, script_attrs[i].value);\n",
       "      }\n",
       "      // store reference to server id on output_area\n",
       "      output_area._bokeh_server_id = output.metadata[EXEC_MIME_TYPE][\"server_id\"];\n",
       "    }\n",
       "  }\n",
       "\n",
       "  function register_renderer(events, OutputArea) {\n",
       "\n",
       "    function append_mime(data, metadata, element) {\n",
       "      // create a DOM node to render to\n",
       "      var toinsert = this.create_output_subarea(\n",
       "        metadata,\n",
       "        CLASS_NAME,\n",
       "        EXEC_MIME_TYPE\n",
       "      );\n",
       "      this.keyboard_manager.register_events(toinsert);\n",
       "      // Render to node\n",
       "      var props = {data: data, metadata: metadata[EXEC_MIME_TYPE]};\n",
       "      render(props, toinsert[toinsert.length - 1]);\n",
       "      element.append(toinsert);\n",
       "      return toinsert\n",
       "    }\n",
       "\n",
       "    /* Handle when an output is cleared or removed */\n",
       "    events.on('clear_output.CodeCell', handleClearOutput);\n",
       "    events.on('delete.Cell', handleClearOutput);\n",
       "\n",
       "    /* Handle when a new output is added */\n",
       "    events.on('output_added.OutputArea', handleAddOutput);\n",
       "\n",
       "    /**\n",
       "     * Register the mime type and append_mime function with output_area\n",
       "     */\n",
       "    OutputArea.prototype.register_mime_type(EXEC_MIME_TYPE, append_mime, {\n",
       "      /* Is output safe? */\n",
       "      safe: true,\n",
       "      /* Index of renderer in `output_area.display_order` */\n",
       "      index: 0\n",
       "    });\n",
       "  }\n",
       "\n",
       "  // register the mime type if in Jupyter Notebook environment and previously unregistered\n",
       "  if (root.Jupyter !== undefined) {\n",
       "    var events = require('base/js/events');\n",
       "    var OutputArea = require('notebook/js/outputarea').OutputArea;\n",
       "\n",
       "    if (OutputArea.prototype.mime_types().indexOf(EXEC_MIME_TYPE) == -1) {\n",
       "      register_renderer(events, OutputArea);\n",
       "    }\n",
       "  }\n",
       "\n",
       "  \n",
       "  if (typeof (root._bokeh_timeout) === \"undefined\" || force === true) {\n",
       "    root._bokeh_timeout = Date.now() + 5000;\n",
       "    root._bokeh_failed_load = false;\n",
       "  }\n",
       "\n",
       "  var NB_LOAD_WARNING = {'data': {'text/html':\n",
       "     \"<div style='background-color: #fdd'>\\n\"+\n",
       "     \"<p>\\n\"+\n",
       "     \"BokehJS does not appear to have successfully loaded. If loading BokehJS from CDN, this \\n\"+\n",
       "     \"may be due to a slow or bad network connection. Possible fixes:\\n\"+\n",
       "     \"</p>\\n\"+\n",
       "     \"<ul>\\n\"+\n",
       "     \"<li>re-rerun `output_notebook()` to attempt to load from CDN again, or</li>\\n\"+\n",
       "     \"<li>use INLINE resources instead, as so:</li>\\n\"+\n",
       "     \"</ul>\\n\"+\n",
       "     \"<code>\\n\"+\n",
       "     \"from bokeh.resources import INLINE\\n\"+\n",
       "     \"output_notebook(resources=INLINE)\\n\"+\n",
       "     \"</code>\\n\"+\n",
       "     \"</div>\"}};\n",
       "\n",
       "  function display_loaded() {\n",
       "    var el = document.getElementById(\"1311\");\n",
       "    if (el != null) {\n",
       "      el.textContent = \"BokehJS is loading...\";\n",
       "    }\n",
       "    if (root.Bokeh !== undefined) {\n",
       "      if (el != null) {\n",
       "        el.textContent = \"BokehJS \" + root.Bokeh.version + \" successfully loaded.\";\n",
       "      }\n",
       "    } else if (Date.now() < root._bokeh_timeout) {\n",
       "      setTimeout(display_loaded, 100)\n",
       "    }\n",
       "  }\n",
       "\n",
       "\n",
       "  function run_callbacks() {\n",
       "    try {\n",
       "      root._bokeh_onload_callbacks.forEach(function(callback) {\n",
       "        if (callback != null)\n",
       "          callback();\n",
       "      });\n",
       "    } finally {\n",
       "      delete root._bokeh_onload_callbacks\n",
       "    }\n",
       "    console.debug(\"Bokeh: all callbacks have finished\");\n",
       "  }\n",
       "\n",
       "  function load_libs(css_urls, js_urls, callback) {\n",
       "    if (css_urls == null) css_urls = [];\n",
       "    if (js_urls == null) js_urls = [];\n",
       "\n",
       "    root._bokeh_onload_callbacks.push(callback);\n",
       "    if (root._bokeh_is_loading > 0) {\n",
       "      console.debug(\"Bokeh: BokehJS is being loaded, scheduling callback at\", now());\n",
       "      return null;\n",
       "    }\n",
       "    if (js_urls == null || js_urls.length === 0) {\n",
       "      run_callbacks();\n",
       "      return null;\n",
       "    }\n",
       "    console.debug(\"Bokeh: BokehJS not loaded, scheduling load and callback at\", now());\n",
       "    root._bokeh_is_loading = css_urls.length + js_urls.length;\n",
       "\n",
       "    function on_load() {\n",
       "      root._bokeh_is_loading--;\n",
       "      if (root._bokeh_is_loading === 0) {\n",
       "        console.debug(\"Bokeh: all BokehJS libraries/stylesheets loaded\");\n",
       "        run_callbacks()\n",
       "      }\n",
       "    }\n",
       "\n",
       "    function on_error() {\n",
       "      console.error(\"failed to load \" + url);\n",
       "    }\n",
       "\n",
       "    for (var i = 0; i < css_urls.length; i++) {\n",
       "      var url = css_urls[i];\n",
       "      const element = document.createElement(\"link\");\n",
       "      element.onload = on_load;\n",
       "      element.onerror = on_error;\n",
       "      element.rel = \"stylesheet\";\n",
       "      element.type = \"text/css\";\n",
       "      element.href = url;\n",
       "      console.debug(\"Bokeh: injecting link tag for BokehJS stylesheet: \", url);\n",
       "      document.body.appendChild(element);\n",
       "    }\n",
       "\n",
       "    for (var i = 0; i < js_urls.length; i++) {\n",
       "      var url = js_urls[i];\n",
       "      var element = document.createElement('script');\n",
       "      element.onload = on_load;\n",
       "      element.onerror = on_error;\n",
       "      element.async = false;\n",
       "      element.src = url;\n",
       "      console.debug(\"Bokeh: injecting script tag for BokehJS library: \", url);\n",
       "      document.head.appendChild(element);\n",
       "    }\n",
       "  };var element = document.getElementById(\"1311\");\n",
       "  if (element == null) {\n",
       "    console.error(\"Bokeh: ERROR: autoload.js configured with elementid '1311' but no matching script tag was found. \")\n",
       "    return false;\n",
       "  }\n",
       "\n",
       "  function inject_raw_css(css) {\n",
       "    const element = document.createElement(\"style\");\n",
       "    element.appendChild(document.createTextNode(css));\n",
       "    document.body.appendChild(element);\n",
       "  }\n",
       "\n",
       "  \n",
       "  var js_urls = [\"https://cdn.pydata.org/bokeh/release/bokeh-1.4.0.min.js\", \"https://cdn.pydata.org/bokeh/release/bokeh-widgets-1.4.0.min.js\", \"https://cdn.pydata.org/bokeh/release/bokeh-tables-1.4.0.min.js\", \"https://cdn.pydata.org/bokeh/release/bokeh-gl-1.4.0.min.js\"];\n",
       "  var css_urls = [];\n",
       "  \n",
       "\n",
       "  var inline_js = [\n",
       "    function(Bokeh) {\n",
       "      Bokeh.set_log_level(\"info\");\n",
       "    },\n",
       "    function(Bokeh) {\n",
       "    \n",
       "    \n",
       "    }\n",
       "  ];\n",
       "\n",
       "  function run_inline_js() {\n",
       "    \n",
       "    if (root.Bokeh !== undefined || force === true) {\n",
       "      \n",
       "    for (var i = 0; i < inline_js.length; i++) {\n",
       "      inline_js[i].call(root, root.Bokeh);\n",
       "    }\n",
       "    if (force === true) {\n",
       "        display_loaded();\n",
       "      }} else if (Date.now() < root._bokeh_timeout) {\n",
       "      setTimeout(run_inline_js, 100);\n",
       "    } else if (!root._bokeh_failed_load) {\n",
       "      console.log(\"Bokeh: BokehJS failed to load within specified timeout.\");\n",
       "      root._bokeh_failed_load = true;\n",
       "    } else if (force !== true) {\n",
       "      var cell = $(document.getElementById(\"1311\")).parents('.cell').data().cell;\n",
       "      cell.output_area.append_execute_result(NB_LOAD_WARNING)\n",
       "    }\n",
       "\n",
       "  }\n",
       "\n",
       "  if (root._bokeh_is_loading === 0) {\n",
       "    console.debug(\"Bokeh: BokehJS loaded, going straight to plotting\");\n",
       "    run_inline_js();\n",
       "  } else {\n",
       "    load_libs(css_urls, js_urls, function() {\n",
       "      console.debug(\"Bokeh: BokehJS plotting callback run at\", now());\n",
       "      run_inline_js();\n",
       "    });\n",
       "  }\n",
       "}(window));"
      ],
      "application/vnd.bokehjs_load.v0+json": "\n(function(root) {\n  function now() {\n    return new Date();\n  }\n\n  var force = true;\n\n  if (typeof root._bokeh_onload_callbacks === \"undefined\" || force === true) {\n    root._bokeh_onload_callbacks = [];\n    root._bokeh_is_loading = undefined;\n  }\n\n  \n\n  \n  if (typeof (root._bokeh_timeout) === \"undefined\" || force === true) {\n    root._bokeh_timeout = Date.now() + 5000;\n    root._bokeh_failed_load = false;\n  }\n\n  var NB_LOAD_WARNING = {'data': {'text/html':\n     \"<div style='background-color: #fdd'>\\n\"+\n     \"<p>\\n\"+\n     \"BokehJS does not appear to have successfully loaded. If loading BokehJS from CDN, this \\n\"+\n     \"may be due to a slow or bad network connection. Possible fixes:\\n\"+\n     \"</p>\\n\"+\n     \"<ul>\\n\"+\n     \"<li>re-rerun `output_notebook()` to attempt to load from CDN again, or</li>\\n\"+\n     \"<li>use INLINE resources instead, as so:</li>\\n\"+\n     \"</ul>\\n\"+\n     \"<code>\\n\"+\n     \"from bokeh.resources import INLINE\\n\"+\n     \"output_notebook(resources=INLINE)\\n\"+\n     \"</code>\\n\"+\n     \"</div>\"}};\n\n  function display_loaded() {\n    var el = document.getElementById(\"1311\");\n    if (el != null) {\n      el.textContent = \"BokehJS is loading...\";\n    }\n    if (root.Bokeh !== undefined) {\n      if (el != null) {\n        el.textContent = \"BokehJS \" + root.Bokeh.version + \" successfully loaded.\";\n      }\n    } else if (Date.now() < root._bokeh_timeout) {\n      setTimeout(display_loaded, 100)\n    }\n  }\n\n\n  function run_callbacks() {\n    try {\n      root._bokeh_onload_callbacks.forEach(function(callback) {\n        if (callback != null)\n          callback();\n      });\n    } finally {\n      delete root._bokeh_onload_callbacks\n    }\n    console.debug(\"Bokeh: all callbacks have finished\");\n  }\n\n  function load_libs(css_urls, js_urls, callback) {\n    if (css_urls == null) css_urls = [];\n    if (js_urls == null) js_urls = [];\n\n    root._bokeh_onload_callbacks.push(callback);\n    if (root._bokeh_is_loading > 0) {\n      console.debug(\"Bokeh: BokehJS is being loaded, scheduling callback at\", now());\n      return null;\n    }\n    if (js_urls == null || js_urls.length === 0) {\n      run_callbacks();\n      return null;\n    }\n    console.debug(\"Bokeh: BokehJS not loaded, scheduling load and callback at\", now());\n    root._bokeh_is_loading = css_urls.length + js_urls.length;\n\n    function on_load() {\n      root._bokeh_is_loading--;\n      if (root._bokeh_is_loading === 0) {\n        console.debug(\"Bokeh: all BokehJS libraries/stylesheets loaded\");\n        run_callbacks()\n      }\n    }\n\n    function on_error() {\n      console.error(\"failed to load \" + url);\n    }\n\n    for (var i = 0; i < css_urls.length; i++) {\n      var url = css_urls[i];\n      const element = document.createElement(\"link\");\n      element.onload = on_load;\n      element.onerror = on_error;\n      element.rel = \"stylesheet\";\n      element.type = \"text/css\";\n      element.href = url;\n      console.debug(\"Bokeh: injecting link tag for BokehJS stylesheet: \", url);\n      document.body.appendChild(element);\n    }\n\n    for (var i = 0; i < js_urls.length; i++) {\n      var url = js_urls[i];\n      var element = document.createElement('script');\n      element.onload = on_load;\n      element.onerror = on_error;\n      element.async = false;\n      element.src = url;\n      console.debug(\"Bokeh: injecting script tag for BokehJS library: \", url);\n      document.head.appendChild(element);\n    }\n  };var element = document.getElementById(\"1311\");\n  if (element == null) {\n    console.error(\"Bokeh: ERROR: autoload.js configured with elementid '1311' but no matching script tag was found. \")\n    return false;\n  }\n\n  function inject_raw_css(css) {\n    const element = document.createElement(\"style\");\n    element.appendChild(document.createTextNode(css));\n    document.body.appendChild(element);\n  }\n\n  \n  var js_urls = [\"https://cdn.pydata.org/bokeh/release/bokeh-1.4.0.min.js\", \"https://cdn.pydata.org/bokeh/release/bokeh-widgets-1.4.0.min.js\", \"https://cdn.pydata.org/bokeh/release/bokeh-tables-1.4.0.min.js\", \"https://cdn.pydata.org/bokeh/release/bokeh-gl-1.4.0.min.js\"];\n  var css_urls = [];\n  \n\n  var inline_js = [\n    function(Bokeh) {\n      Bokeh.set_log_level(\"info\");\n    },\n    function(Bokeh) {\n    \n    \n    }\n  ];\n\n  function run_inline_js() {\n    \n    if (root.Bokeh !== undefined || force === true) {\n      \n    for (var i = 0; i < inline_js.length; i++) {\n      inline_js[i].call(root, root.Bokeh);\n    }\n    if (force === true) {\n        display_loaded();\n      }} else if (Date.now() < root._bokeh_timeout) {\n      setTimeout(run_inline_js, 100);\n    } else if (!root._bokeh_failed_load) {\n      console.log(\"Bokeh: BokehJS failed to load within specified timeout.\");\n      root._bokeh_failed_load = true;\n    } else if (force !== true) {\n      var cell = $(document.getElementById(\"1311\")).parents('.cell').data().cell;\n      cell.output_area.append_execute_result(NB_LOAD_WARNING)\n    }\n\n  }\n\n  if (root._bokeh_is_loading === 0) {\n    console.debug(\"Bokeh: BokehJS loaded, going straight to plotting\");\n    run_inline_js();\n  } else {\n    load_libs(css_urls, js_urls, function() {\n      console.debug(\"Bokeh: BokehJS plotting callback run at\", now());\n      run_inline_js();\n    });\n  }\n}(window));"
     },
     "metadata": {},
     "output_type": "display_data"
    },
    {
     "data": {
      "text/html": [
       "\n",
       "\n",
       "\n",
       "\n",
       "\n",
       "\n",
       "  <div class=\"bk-root\" id=\"30711050-9b5c-42c1-9aef-62ad98af6556\" data-root-id=\"1312\"></div>\n"
      ]
     },
     "metadata": {},
     "output_type": "display_data"
    },
    {
     "data": {
      "application/javascript": [
       "(function(root) {\n",
       "  function embed_document(root) {\n",
       "    \n",
       "  var docs_json = {\"a667b46d-9850-4d04-a0cf-6f40e65778a5\":{\"roots\":{\"references\":[{\"attributes\":{\"below\":[{\"id\":\"1323\",\"type\":\"LinearAxis\"}],\"center\":[{\"id\":\"1327\",\"type\":\"Grid\"},{\"id\":\"1332\",\"type\":\"Grid\"}],\"left\":[{\"id\":\"1328\",\"type\":\"LinearAxis\"}],\"renderers\":[{\"id\":\"1349\",\"type\":\"GlyphRenderer\"}],\"title\":{\"id\":\"1313\",\"type\":\"Title\"},\"toolbar\":{\"id\":\"1339\",\"type\":\"Toolbar\"},\"x_range\":{\"id\":\"1315\",\"type\":\"DataRange1d\"},\"x_scale\":{\"id\":\"1319\",\"type\":\"LinearScale\"},\"y_range\":{\"id\":\"1317\",\"type\":\"DataRange1d\"},\"y_scale\":{\"id\":\"1321\",\"type\":\"LinearScale\"}},\"id\":\"1312\",\"subtype\":\"Figure\",\"type\":\"Plot\"},{\"attributes\":{},\"id\":\"1333\",\"type\":\"PanTool\"},{\"attributes\":{},\"id\":\"1324\",\"type\":\"BasicTicker\"},{\"attributes\":{},\"id\":\"1321\",\"type\":\"LinearScale\"},{\"attributes\":{\"text\":\"Relationship between blueTotalGold and blueTotalExperience\"},\"id\":\"1313\",\"type\":\"Title\"},{\"attributes\":{\"fill_alpha\":{\"value\":0.2},\"fill_color\":{\"value\":\"#1f77b4\"},\"line_color\":{\"value\":\"#1f77b4\"},\"size\":{\"units\":\"screen\",\"value\":10},\"x\":{\"field\":\"x\"},\"y\":{\"field\":\"y\"}},\"id\":\"1347\",\"type\":\"Circle\"},{\"attributes\":{\"axis_label\":\"blueTotalGold\",\"formatter\":{\"id\":\"1377\",\"type\":\"BasicTickFormatter\"},\"ticker\":{\"id\":\"1324\",\"type\":\"BasicTicker\"}},\"id\":\"1323\",\"type\":\"LinearAxis\"},{\"attributes\":{},\"id\":\"1337\",\"type\":\"ResetTool\"},{\"attributes\":{\"source\":{\"id\":\"1346\",\"type\":\"ColumnDataSource\"}},\"id\":\"1350\",\"type\":\"CDSView\"},{\"attributes\":{},\"id\":\"1381\",\"type\":\"Selection\"},{\"attributes\":{\"active_drag\":\"auto\",\"active_inspect\":\"auto\",\"active_multi\":null,\"active_scroll\":\"auto\",\"active_tap\":\"auto\",\"tools\":[{\"id\":\"1333\",\"type\":\"PanTool\"},{\"id\":\"1334\",\"type\":\"WheelZoomTool\"},{\"id\":\"1335\",\"type\":\"BoxZoomTool\"},{\"id\":\"1336\",\"type\":\"SaveTool\"},{\"id\":\"1337\",\"type\":\"ResetTool\"},{\"id\":\"1338\",\"type\":\"HelpTool\"}]},\"id\":\"1339\",\"type\":\"Toolbar\"},{\"attributes\":{\"dimension\":1,\"ticker\":{\"id\":\"1329\",\"type\":\"BasicTicker\"}},\"id\":\"1332\",\"type\":\"Grid\"},{\"attributes\":{},\"id\":\"1377\",\"type\":\"BasicTickFormatter\"},{\"attributes\":{},\"id\":\"1329\",\"type\":\"BasicTicker\"},{\"attributes\":{\"data_source\":{\"id\":\"1346\",\"type\":\"ColumnDataSource\"},\"glyph\":{\"id\":\"1347\",\"type\":\"Circle\"},\"hover_glyph\":null,\"muted_glyph\":null,\"nonselection_glyph\":{\"id\":\"1348\",\"type\":\"Circle\"},\"selection_glyph\":null,\"view\":{\"id\":\"1350\",\"type\":\"CDSView\"}},\"id\":\"1349\",\"type\":\"GlyphRenderer\"},{\"attributes\":{\"bottom_units\":\"screen\",\"fill_alpha\":{\"value\":0.5},\"fill_color\":{\"value\":\"lightgrey\"},\"left_units\":\"screen\",\"level\":\"overlay\",\"line_alpha\":{\"value\":1.0},\"line_color\":{\"value\":\"black\"},\"line_dash\":[4,4],\"line_width\":{\"value\":2},\"render_mode\":\"css\",\"right_units\":\"screen\",\"top_units\":\"screen\"},\"id\":\"1382\",\"type\":\"BoxAnnotation\"},{\"attributes\":{\"ticker\":{\"id\":\"1324\",\"type\":\"BasicTicker\"}},\"id\":\"1327\",\"type\":\"Grid\"},{\"attributes\":{},\"id\":\"1336\",\"type\":\"SaveTool\"},{\"attributes\":{\"overlay\":{\"id\":\"1382\",\"type\":\"BoxAnnotation\"}},\"id\":\"1335\",\"type\":\"BoxZoomTool\"},{\"attributes\":{},\"id\":\"1379\",\"type\":\"BasicTickFormatter\"},{\"attributes\":{\"callback\":null},\"id\":\"1317\",\"type\":\"DataRange1d\"},{\"attributes\":{\"callback\":null,\"data\":{\"x\":[17210,14712,16113,15157,16400,15899,16874,15305,16401,15057,15474,16695,17865,14979,15722,15015,14852,16282,14994,18606,15878,15773,15906,16515,15415,17178,17226,17474,14905,18132,16053,16438,15634,16085,14981,15421,15665,17528,15032,15483,19226,16945,15000,15888,12925,19250,18355,13978,15851,16474,16590,15737,16990,15297,15651,15587,17777,16426,13791,16505,17277,18269,14166,15456,15180,16179,16026,14850,17347,15887,17399,13828,16645,16248,15310,16784,19032,17518,18976,16143,15868,17977,18138,18025,14625,15752,18480,14995,15655,15562,17139,19229,16972,16249,16415,18012,19294,15383,15777,14805,15244,17574,16655,16855,15786,15143,17309,16416,15222,15526,17597,19058,16806,16643,16189,14095,16804,17305,14539,17530,18431,14032,17869,15974,16108,16302,16750,16506,16389,15760,15176,15196,16250,16541,18657,16873,14383,14420,17406,15210,17272,19358,16855,15209,19542,15267,15243,16214,15976,16557,16142,17984,19571,14557,16029,18053,18098,18343,15596,15812,15947,14997,16463,16072,19140,14547,15644,15734,16794,15930,16936,17941,13698,15943,15891,16216,14754,16909,18858,15952,16812,17906,16408,15056,17831,13738,14091,16036,17052,16354,18297,15748,17886,17069,16631,14766,17113,15120,15339,15582,15441,16002,16009,18106,16501,15505,16195,15475,16243,15065,14359,19377,14135,17448,15958,18287,15534,14935,19331,17131,17983,16842,17569,15882,17049,13556,14692,17000,17200,15409,17283,15477,16763,18434,13731,17251,17051,16346,16434,15834,16968,15949,16056,18392,16415,19948,18189,14398,17359,15817,15861,16355,18333,14562,19677,18793,14276,16808,15002,14354,15926,14742,16481,16307,16569,17322,14711,16009,15102,15499,18456,15767,18890,14901,16785,18786,14727,18009,14526,16627,13075,16105,14782,15889,15158,15073,17125,16377,15888,14414,18329,16245,16120,15548,17432,16922,16142,14630,15131,17697,16116,18485,16980,17066,17202,14702,18692,18549,15859,16044,15941,15675,15682,15843,18248,15333,17496,19809,19329,16292,17677,15141,14897,17520,17164,15999,14542,18203,16787,14959,15132,16354,14652,15331,17002,16308,16282,14110,15426,15983,16801,17141,15122,16878,18274,14176,17549,16049,14017,16659,15975,16728,16693,15925,16763,16852,14950,14863,15853,17570,16561,15070,19190,14269,14916,16256,15231,16070,15416,19036,18214,17430,16590,15508,16789,16298,19320,14926,17496,15177,17025,18203,15160,15304,17503,16468,19035,18413,18470,16291,16301,17183,13361,14807,15195,14788,16604,15661,16259,19716,18612,14711,16886,14980,16544,16174,18047,17484,17826,18673,17540,16808,15227,19392,17194,15672,18565,13921,14521,15049,17194,19122,16359,17027,17665,17209,19187,17482,16035,16070,15617,16130,17172,15475,16248,16745,16472,18133,17068,16635,17950,14494,18595,19767,14970,15891,16472,15210,16096,16870,15842,15297,16412,19013,14842,16684,15235,18159,15107,18597,15483,15242,14945,17197,17292,14822,15027,15502,16931,16787,15022,17365,17658,19549,16516,15177,18520,18600,18439,15632,17161,15263,16396,17592,17802,13795,15714,16418,18012,14558,17779,16931,16555,16891,16940,17242,17734,17982,16162,18574,15123,16075,14443,16656,15938,14116,17054,15306,16193,18126,17592,16282,17167,15679,16045,16564,14376,14128,14584,18457,18282,17130,17759,17194,16527,17915,17610,19453,18772,14626,17256,16601,14672,17001,18213,19862,18179,15796,15377,14874,17780,16804,17372,15162,14742,13078,13886,16632,17215,17528,16555,15246,16778,18960,17065,18283,15190,18192,17329,16422,17385,16663,17902,17398,15532,15412,17718,17055,16020,16254,19201,15994,12756,18661,15488,17547,19189,16749,16214,15500,14735,17489,18048,15843,16810,15204,16006,16746,17648,18047,13976,17264,16767,19488,15875,17717,16864,14788,14743,17949,17737,15307,13973,18089,17224,17649,16886,14584,17331,17763,16814,14500,17435,14682,16752,15649,16124,17569,17097,16906,16632,16712,16372,17384,17075,15381,13545,13256,14423,17551,19537,15191,18802,17116,18230,15829,14729,17793,17525,17579,18227,14898,15769,19272,17788,14738,16113,18967,15416,18096,14411,15668,16288,18575,17379,15222,16191,14930,17062,14763,17625,15933,18229,15356,17005,16747,16060,14998,16182,17065,15544,16541,15112,17550,18323,18553,15252,16863,13925,16828,15391,16350,17159,15484,17024,18680,14657,15550,15861,15202,15214,16171,18184,16751,16973,17239,14660,17429,18513,16225,16267,15478,16335,14826,19092,17619,16872,17265,19308,16535,16606,17168,14839,17812,14827,15578,16628,14609,13325,15277,16287,17687,17187,14015,16291,16289,17234,14663,16278,19025,15366,14526,16547,14936,15594,17416,15722,16091,15048,18272,16270,17298,17230,17098,17380,16829,14538,15159,14874,17721,16491,17640,15518,17381,15127,15139,15929,14974,19695,15154,14766,17341,15464,18529,18149,15840,17915,16242,18498,19120,17948,16517,13452,15687,14763,16417,15903,14702,18874,15225,15858,14693,15574,15692,18297,19247,15414,19601,15189,16452,14899,18964,18923,17472,14665,16415,13960,14773,19181,14528,15827,16179,15049,15453,14645,15766,18890,16450,16490,17408,16951,17120,14310,14689,18341,17772,16262,16239,16944,16939,14615,17706,17727,17613,18632,15476,15717,18253,14349,15407,15273,14868,14892,18509,17096,17377,16554,15256,17710,15041,19027,18718,16938,16772,16035,15518,17543,15829,17389,16683,16985,14904,17551,15278,15539,17860,15156,18152,16587,15562,14944,15269,17166,14813,15787,14795,19848,13886,16149,15312,17267,15961,17704,14808,16374,16933,18156,19397,17033,19061,16653,16781,15978,15859,16205,17528,17154,16112,16210,18369,16097,13196,15552,17597,15709,17035,15000,18426,17634,16034,14147,18304,15104,18847,15782,16893,18545,16918,18722,18247,17471,17641,14605,16249,17157,15165,15427,17878,18000,15851,15832,18931,16157,18354,17274,15372,15486,16074,16849,16291,16164,17002,15342,13119,17472,15681,18634,13881,18145,17308,17270,18967,14044,16467,17846,19993,16223,14071,15284,16346,14358,17206,14767,18291,14979,17214,16461,14027,17432,15969,16308,14119,16044,15011,14517,13653,17833,17759,16158,16147,17065,17287,15997,15387,16313,15987,16304,18177,17493,19443,14920,17511,16819,14703,16801,16254,15478,15363,17121,15891,13316,15956,15661,16789,16347,14901,17018,16342,14801,17333,15052,15585,15273,15666,14591,14690,17151,16378,15661,16589,15900,14927,16875,17847,16369,17320,18532,17136,17137,19114,14707,16025,16776,15379,17196,17200,17472,15435,16588,16784,16982,17635,15913,14487,15643,16853,18242,16866,14673,15463,15824,17129,16335,17099,19077,14983,17368,15286,16317,16364,14623,19938,16221,16544,17908,15831,17668,15470,16448,14877,18917,16356,14676,17769,16051,17395,16819,16315,16846,15951,16858,17335,16781,17225,16948,16056,15440,16058,16315,17326,16851,16853,17556,17840,18725,16781,15376,14193,16862,17003,15506,18724,16422,18337,15385,15566,18326,16299,13991,14205,17955,14197,16788,14798,15598,16655,16804,15977,15654,19035,16247,18074,17274,17839,16700,15852,15296,14426,15856,17895,15728,17333,16404,15738,13580,16773,14993,15219,16046,15683,16408,15104,16113,18894,16652,15409,16733,17307,15283,14428,16679,15400,16230,16028,15731,14816,15862,14140,16699,13405,17538,19038,18082,14004,16349,15373,16559,16513,19886,17167,16809,18178,14742,15126,15449,15233,14602,15390,16766,16093,15575,16953,15529,16836,19321,15834,16585,15483,17834,16858,18449,17354,16097,16138,17794,19218,18501,15922,16119,14625,16685,13895,19890,15164,17498,17322,17243,18020,16289,18303,15728,16097,14414,15852,15202,15572,16488,19133,15314,17690,18408,15595,17119,17658,19600,16336,16860,14501,17148,18559,16250,15791,15634,15148,17893,16200,13371,15903,15719,16305,18269,14956,16180,16808,17971,16998,15015,14881,15730,19098,16169,16954,15984,18078,16329,17193,18401,14704,16367,12905,13967,16511,17496,17743,16888,13742,17793,16178,17706,16149,14760,15820,15173,14769,14353,16763,16747,17044,15532,17347,18758,16539,19096,17938,17072,19640,16891,17485,16696,17499,18288,15684,14737,18715,18551,19351,17318,18969,17113,17201,16749,16523,18285,17346,17443,16526,17363,18779,15649,16256,16688,17724,15320,15900,18377,15785,17625,19931,19331,17048,17910,16614,15943,14924,15069,16366,14158,14291,15078,17234,17826,18445,15814,16735,15818,16999,15867,18042,18293,15895,14305,18186,16295,14735,16452,16120,18287,15902,16982,17064,15424,18369,17568,18090,15786,16596,16093,18858,15288,16346,13447,16453,18669,16192,13701,16762,16795,14464,16925,14302,14786,15134,18954,16043,15195,17205,16022,15615,14433,19807,15704,17073,18584,16187,16749,16490,16697,17973,16029,15752,15930,15241,17127,13519,18748,16055,16496,17217,15482,14486,15809,19556,17003,16451,17837,18056,16249,16946,15707,16443,17823,16241,16464,16924,17251,16917,19453,16891,17107,15444,18283,16267,17247,18640,17086,16505,17961,19418,15846,16937,14064,15094,15633,16868,19289,15138,14942,15703,15427,16620,15926,16852,16936,17917,17558,15149,16112,15885,17104,17535,17321,16317,15649,17592,15420,15929,15046,16737,15756,15442,16649,16171,17190,17222,15704,19186,17546,15198,17909,15046,16740,15921,17145,15936,16649,17618,15871,17676,17423,13410,16992,18678,16220,14930,16304,17075,15499,16972,15256,16568,17326,16619,16295,15680,16432,19197,18468,18280,16103,16832,15028,17076,16745,15658,15760,14624,15568,16331,17204,14910,19141,14208,17951,16142,16333,17526,17381,17854,15698,16039,14506,16830,14909,12939,16678,15322,16562,16353,16998,15051,14986,17003,15380,15936,15265,18177,16605,14742,14440,15698,17324,14613,14705,17536,15226,16051,15158,16934,15228,17710,14971,17835,17071,16245,16835,17088,16383,16577,19607,15775,14998,16906,18743,16634,13744,15823,16356,19801,18200,15335,16792,13858,16190,16112,17298,14593,17723,16565,16301,16698,14878,16494,15463,15435,16165,16640,16422,17863,16970,14866,17761,16650,18607,16237,14273,15906,16083,15034,16660,14991,16653,17557,14439,18567,17079,15229,16490,17047,14844,16382,18113,13933,16352,15098,16384,17132,16116,17201,15224,15334,15812,15447,15812,14301,14749,17605,15535,18761,16855,15990,15015,15432,15404,16224,17437,17783,17618,18984,18104,17250,16222,15179,17911,18582,19099,15879,17354,16760,16839,16186,16915,17951,17722,18381,16084,15054,17838,17415,15025,15362,15038,17726,15685,17530,16260,15668,16511,16965,18212,15042,15661,17986,13776,14727,17651,15496,18395,16866,16449,16142,15099,18044,16248,15182,15651,15917,13889,16858,18119,17352,17924,14490,16172,14555,15355,14395,16630,16984,16675,16258,15571,19740,13749,16231,15736,17099,17620,16250,17136,18847,16364,17279,14654,15211,17076,14536,17308,16203,16130,15739,17498,14947,14893,18817,17704,15717,17252,14794,14751,15430,14266,16168,17303,16111,18029,16695,17755,17388,16874,15591,17562,19628,15871,17792,16168,15786,17889,13612,16218,18188,15786,14419,16575,15068,19225,18688,18650,15207,17522,18131,18209,16162,16805,15742,18649,16643,16500,16972,14496,16790,15704,18285,14414,16981,18516,15594,17259,17741,17867,15548,17405,17112,17917,16020,16708,14384,18420,14804,16279,17124,15895,15960,17678,18193,14643,16840,14707,14467,17633,14837,15826,18357,16460,16054,13899,15911,15215,18036,16304,15267,16055,17404,13741,16402,14933,14665,19372,16310,14643,16426,16331,15895,18176,17566,13832,17751,15382,17326,16756,16289,16581,16555,15700,13876,16668,16009,16321,16755,16407,15061,16552,16538,15958,16851,16753,14607,17160,16360,15288,18415,15190,17188,16900,16208,15477,15574,15377,19239,19034,15877,16823,16525,15103,14899,16602,14504,17332,16749,16423,15135,16704,17835,15342,16022,15678,16513,16095,15892,16806,16847,16373,13299,18249,16641,16359,16956,16992,16154,19755,16181,15263,18889,19630,16172,17345,17688,14859,18144,16400,14779,16128,14592,17483,16205,18363,18401,16391,16409,16739,15986,14267,14692,17045,13633,18592,15154,16045,17137,14559,14758,18508,15978,17759,18590,16749,17314,18983,16325,14478,14099,16234,17892,16304,16688,18894,15761,15028,17239,14181,15557,16067,16386,17997,15961,13395,17048,16924,14902,14341,17984,15893,16138,16260,15931,16693,18200,15771,16682,19074,19052,15220,18604,15131,12789,17586,16072,17473,15693,16079,17109,15890,17410,17491,17887,17030,15762,14444,16592,16291,14639,16447,16147,15751,14742,16618,17492,18208,15584,17094,13880,16059,15471,19198,16576,16076,16041,15714,15001,14783,15211,15589,16223,16375,18190,19120,16532,19224,13993,15235,17839,16932,15990,16501,16193,13980,15132,14927,17394,14961,15256,16235,15536,16805,15684,17207,17106,18002,16725,17045,13902,15673,14958,18408,17247,17590,17657,14094,14629,12791,16879,16005,18876,19975,13761,16940,14585,16806,15371,18086,14246,15220,16448,16947,14516,14933,17795,16137,15390,13998,16203,15081,16161,15664,16896,15285,14584,15206,13745,16210,16498,15778,14347,16663,16580,16036,13298,16959,18173,16122,16582,15126,17666,16172,15609,15897,18810,15759,15411,16526,17781,18725,15365,15727,15541,14183,17135,16637,15536,15755,15795,13590,16260,15859,18137,17451,15679,18502,15120,15539,13879,15640,18738,18509,15441,15887,16242,15714,15087,16680,17639,18000,13443,18121,14765,17474,19574,15866,15125,16485,14815,15176,13589,17012,17126,15102,17338,17402,14514,18442,15231,17328,17767,15389,15298,17659,17201,15656,16889,18520,14564,16635,15230,14906,17706,16238,16221,16564,14712,17042,18104,15128,17773,17263,17325,19195,16246,16570,15790,16598,17797,16160,14922,18702,17111,18762,16386,15887,16363,17356,17677,16101,18257,16801,17352,16594,15796,16372,17088,16086,17323,15205,16009,17531,15310,14882,15628,17782,14790,17381,16450,16456,15201,17523,17072,18878,14782,14017,16670,14681,15268,15748,17284,16806,15334,15333,17491,15698,18223,18360,16178,15048,16865,18072,17500,16688,17384,15126,17214,17389,14564,17670,16296,15738,14118,16343,14579,18485,18982,16688,14836,14573,15704,16578,16045,14076,16518,15373,15519,16795,15941,17676,15056,15282,15189,16285,18382,15746,16141,15558,15486,17335,17385,16452,15996,16370,14264,17061,16738,17999,18496,16414,16563,14314,16556,14604,16195,14668,16557,16863,19694,18523,17618,18751,13932,16394,18276,17722,16517,15337,17569,17585,15950,16531,16599,16086,15065,13946,16526,16495,17009,15419,16460,16364,16434,17685,16506,17174,14771,16359,15871,18215,15747,16464,16424,17494,18691,16446,16259,16231,16146,17344,17327,16568,15732,16812,16452,17427,16892,17003,16836,14434,16696,16974,13653,13934,13405,18747,15156,19241,15866,14247,15855,15186,17176,16947,19528,13775,18418,14815,16348,16302,15410,15119,16561,13736,15481,15967,16627,17087,17612,16731,18360,18075,19636,16897,14538,14868,16513,16180,16050,14428,16150,17576,14990,17664,16114,15299,18912,19915,18273,15158,16086,18626,17048,14819,15082,14605,17063,13881,17180,16978,17827,16168,15544,17566,15293,17303,17201,18742,16519,13727,17617,19432,15280,15496,15263,17012,14168,17060,17053,17185,16690,18246,16310,16766,19460,15307,15908,16966,16995,18292,16481,14907,15108,14779,15739,16660,13561,17761,14910,17410,15518,18261,15574,16565,16163,14724,17953,14819,15025,18302,18197,18363,17543,16973,16586,18106,16397,16948,14992,16560,15759,14711,16940,15218,15466,15278,19651,17470,16768,14509,16178,14333,17732,14695,17800,16048,14163,15695,14844,15974,14995,14799,17056,16243,17892,16508,16568,16503,17459,17024,16660,14244,14041,16752,17563,17262,17438,14275,16753,17163,15750,15954,18293,19336,14014,16207,16654,16711,16578,16220,15096,18426,18758,15928,16233,16493,15633,17750,16251],\"y\":[17039,16265,16221,17954,18543,18161,16967,16138,18527,16805,16611,18507,19102,17213,17896,16974,16888,17378,17924,19254,16945,17562,19219,17223,16047,17854,18982,17436,17974,18076,17406,16989,16355,19076,17082,19276,17716,19609,16832,17362,20118,17806,16493,19090,15498,19703,18790,16429,17366,17408,18284,18634,19634,19210,17696,16746,18131,18407,16437,17667,19610,19659,15959,16280,17773,16814,18490,17145,18573,17591,19449,16629,19110,17200,18337,17242,18951,18342,20326,16617,17111,18162,18159,19864,17769,17113,19565,16206,15827,18590,19137,18820,19060,18383,17645,19837,20668,17243,17401,17323,16787,19195,17831,18370,16995,19080,18904,19684,17812,17629,15938,19575,18034,17554,17737,17286,17544,18192,16806,18299,19562,16550,17810,16174,18920,17297,17603,18669,17937,18295,16820,16908,17537,16779,19205,19105,15898,15196,19761,15974,15840,19257,16360,16256,17935,17321,17194,17234,18227,17632,16953,18708,18463,15128,18567,16741,18905,19519,17998,17882,16477,16532,17576,17054,19579,15883,17717,17911,17320,17257,18646,19379,15671,19262,18304,19002,17158,18318,19691,17112,18466,18001,19181,16369,18269,16678,16184,16916,17392,18778,19476,16524,20099,16703,19310,18364,19396,16713,16302,17281,17550,18467,18033,16668,18428,17721,19145,18145,18154,17137,17258,20008,17185,18315,17693,18402,17975,17703,19387,19719,18340,18443,17101,16956,17241,16451,18342,16417,18984,18408,16235,15965,18897,20263,16666,19984,18864,18557,18641,18362,18900,17005,17578,18818,18271,20064,19191,15990,20592,17535,19121,18991,18622,16952,20488,18395,16422,17831,16448,15677,19262,16162,17069,17660,19120,19067,16559,18511,16437,17298,19319,17413,19229,17696,19346,18509,16272,18763,17366,17397,15488,17502,16677,18189,17387,17578,18785,16818,18421,17356,18315,16720,17683,16604,18495,17350,18818,17694,18134,18512,17653,19949,18593,17494,17447,16461,19886,16837,18390,18226,16613,16844,17438,17154,19855,18073,18253,18530,19021,18889,18225,17635,17306,18610,18932,17033,17517,18175,18618,16588,16489,17848,17192,17540,18755,16771,16826,15832,17467,17562,18563,19142,17694,19372,18615,17054,19231,16758,15893,17777,18165,18284,18761,17913,17433,18660,18134,17436,18223,18283,17961,15375,18615,16844,17511,17637,17617,16577,17935,18857,19670,18068,19041,17062,19024,18210,20189,16530,18327,15795,18038,18324,17505,18188,17699,15869,18221,18554,18925,16699,17430,18225,16819,17246,18358,17345,17328,18861,17235,19989,19203,18284,18261,16983,17551,16725,19362,20325,19427,18121,17368,17370,18442,18570,18397,17821,19562,16963,16234,17888,19539,19334,17998,17816,18125,18853,19762,19093,16853,16510,18169,17156,18972,16428,18067,17908,18966,20427,15357,19221,18805,15922,18307,17678,17530,17964,18393,17099,16891,18433,18640,18319,18381,20151,16718,17071,17625,17740,16753,19612,17110,18202,16491,16987,17127,18244,17054,17035,18446,18466,18105,19227,19584,20404,19033,18017,19054,19763,19278,15789,17817,17693,17294,17430,18461,16505,17852,17847,19378,15833,18276,18085,18782,18030,17580,19085,19335,18544,18095,19415,17214,18425,16433,18582,17247,16837,17591,17734,18763,18581,17635,16018,18274,16096,17256,18202,17660,16843,17432,19590,19001,18060,19034,18529,18240,18641,18110,18043,18771,17441,18564,18535,17598,17576,18240,20693,19225,17499,16348,16128,17456,16732,17530,16973,16390,15827,17234,16709,19549,18271,19152,16135,17473,20136,18930,19207,16345,18534,17342,18934,18061,18021,18882,18429,17712,17010,18091,17918,17180,17969,18883,17730,16250,19718,18660,18409,20302,18142,18139,18238,17898,16724,19194,16776,18437,17694,18385,17690,18419,18071,17001,18859,18062,20329,17351,19042,19251,17425,15965,16183,18303,18407,15260,18770,18597,18664,17965,16647,17982,18822,18549,16097,19432,17105,18737,18818,17595,17411,16795,18034,18912,17809,18954,19286,18328,19473,15716,16464,16966,18910,18358,16443,18095,19290,17602,18055,18508,19086,19534,18266,19568,17842,17360,16786,19078,17148,17058,17807,18096,18969,16806,18873,17321,18974,19080,17667,18795,17328,19299,16159,18727,19079,19238,17995,18098,18344,16426,15234,17791,19772,18579,18666,16369,18186,20458,18785,17517,17725,18363,17273,16275,18701,19172,18316,19195,19206,16983,17134,17082,19256,16970,16898,20169,17829,18787,19174,17284,17309,18739,17742,17908,17551,18087,16660,19183,18563,17906,17683,18764,17930,18604,17668,17555,18372,17341,17702,17255,16875,16064,17286,17787,18503,18382,15677,18130,19421,18799,15749,18389,16965,17861,17736,19666,17688,16987,18429,17329,20383,17356,19342,18195,16912,17823,17045,18220,17978,16871,17115,16504,18253,17031,19566,16862,18495,17750,17354,18460,18286,19512,17000,16507,18528,17833,19610,18067,16848,19197,18244,20017,17735,16194,17531,15569,17057,16834,16981,17263,16741,19652,17939,17491,15883,17686,17765,19315,16835,17341,20002,17014,17540,17481,19620,18586,18276,15990,17432,15286,16673,19634,16282,17709,17928,17760,18464,18690,16285,18772,18541,17576,18740,18426,17636,17797,18046,19070,19337,18551,18466,17663,17733,18302,18475,18993,19092,19093,18246,17679,17351,16271,17007,17539,16330,17899,20432,19253,19245,18512,16513,19233,16622,19029,18807,19399,18456,16424,16768,17748,17924,18695,18315,18802,15958,17463,16785,17101,17606,17247,18823,18340,18694,16969,16739,18945,16945,16711,15646,19712,15720,17146,16667,18482,17670,18183,18642,18711,18512,18548,19301,16630,19093,19603,17452,18068,19145,16887,17194,18697,18339,17888,20686,17793,15515,17234,17045,17397,18139,17972,20198,19000,16642,16605,19032,17002,19480,18460,18950,19051,18911,18343,18839,17895,19312,16395,17860,17928,17251,17722,18248,19946,19296,17750,18806,17238,17746,20199,17002,17388,18077,18439,17343,17971,17795,17286,15498,18967,19274,19500,16550,17219,16748,17435,19855,16501,18715,18045,17656,19667,16382,18267,19072,16775,20071,18018,18548,17163,18251,15402,16596,19324,17938,17166,16231,19133,16617,15493,16539,18351,18824,17652,18863,18634,18953,19158,18342,17908,18632,16307,17640,18552,19743,17571,17230,17163,16970,18747,18913,18212,16498,16462,15926,16245,17199,18396,17947,17442,16728,17105,16909,16202,17113,16945,17392,17980,15541,17470,15769,17777,17819,15375,18105,17700,15638,18159,18916,18278,18965,20134,18233,18448,18680,16234,17956,15799,17670,19002,19346,17708,17093,19189,17848,18420,16554,18220,16054,18376,18782,17997,17575,18411,17936,16324,17579,17761,18702,20483,17958,18134,17397,17669,19838,15613,18437,17699,17779,19202,19463,18804,17038,17691,17258,19563,16343,16668,18832,17315,18998,17190,17744,17698,18136,18658,16110,17415,18183,18271,16268,15725,15685,18479,18168,18647,18346,19338,18114,19513,18303,16791,17801,18123,18427,17710,18411,18048,18978,16039,17340,19015,17800,17215,16546,18774,17915,19474,16659,17735,19541,18899,17653,18324,19265,19687,19746,18134,18614,17393,17369,17179,17085,19023,16640,17183,16881,17425,17430,16571,17641,16251,17357,16986,17335,17435,17634,16994,17942,18147,17089,19524,16818,17676,16819,17760,16607,17336,19000,18954,16519,19244,17249,18503,15189,18073,19801,18637,16302,18699,18734,18848,18070,20060,19248,18916,17540,15941,17342,16663,16168,17042,18666,18538,16579,16473,17147,17721,19773,18437,18088,16982,16690,19145,18543,19139,20449,16760,17204,17983,19389,19714,19022,16372,16487,17591,16914,17275,16581,19402,18525,18171,19285,17723,19140,16927,18426,16249,17330,17438,19166,17386,20110,18205,18278,19614,15756,18174,17546,20132,16919,18168,16819,17427,18239,16288,17326,16435,16687,17157,17810,15621,18823,17801,19758,20290,16656,17570,16741,19214,18708,16032,18074,18484,18636,18880,16923,17527,18614,16575,18326,18465,17930,18191,15457,16908,18106,19884,19173,18788,17269,18271,17363,18217,16641,16005,17793,17165,17725,17197,17757,19858,17686,17908,18118,18617,17585,19250,16164,17724,18636,18224,18330,18900,19191,19569,17384,18532,18626,18363,20590,16336,20353,18837,18755,17788,18881,19465,18518,19184,17213,17169,19556,18530,17524,18697,19917,16625,17169,17762,17629,19146,18115,19211,18842,16867,18570,17366,17139,16824,17010,16377,18239,16578,17496,18216,18076,17161,17923,16673,18578,17737,17600,19340,18344,17810,19555,17588,16488,18564,18149,19617,17995,19524,18061,16080,19417,18166,17730,17823,18596,16927,19023,16534,17401,16199,17231,19226,18197,15431,18180,18159,15227,18087,15878,16676,18028,17795,17409,17896,18124,17853,17928,16813,17943,18292,17021,18383,16701,16227,19578,19170,20040,17493,19171,18669,16491,18148,15833,19116,17933,18201,18979,18715,18218,17592,18352,17799,18416,19440,17829,17245,18077,17968,18461,19752,18365,17075,17938,17415,18964,18832,19197,19237,17833,18731,18319,18845,18015,19170,17567,17984,18520,18388,18194,16539,18255,17179,18060,19633,18807,17727,16893,17667,17711,17186,17417,18023,18904,17445,17143,16747,19056,17075,15420,18683,18679,18614,18664,18204,17529,16504,19857,16210,17518,15616,17902,17783,18157,17114,18375,17209,17177,16512,17140,19237,18190,17904,18030,19322,18556,17106,18151,19973,16059,18385,18538,17906,15593,17825,18159,17516,19577,16464,18645,18459,18958,18278,17099,16967,18449,18822,18115,17019,18675,17228,18945,17283,17351,18719,16881,18302,17920,18986,15466,20647,17036,18031,17610,19527,17824,20017,20383,17468,17942,16989,18944,18031,15958,18875,15807,18781,18367,17282,16743,17222,18007,15984,17755,17859,18965,16894,17515,17275,17663,19349,17026,16663,19665,17298,17771,17197,16045,16963,18758,18121,18036,19347,18044,17368,18768,19209,17637,19804,17200,16127,17910,18381,17892,15449,17501,19371,17196,17815,18648,18901,16054,17505,18155,17146,17874,17913,17417,19215,19972,18414,19149,17005,15816,18233,17949,17507,19086,17201,17470,18196,18854,20228,17830,17164,17700,18268,17176,18967,17279,18507,18193,16198,18176,17962,16071,18411,17601,17089,18090,19187,16583,17749,19226,18938,16777,18086,18871,18728,16172,17646,15691,16319,17056,16489,19964,17403,19378,16841,18712,16819,16542,18235,18401,17146,19374,19023,20083,17404,19462,18814,17994,17981,18818,17642,17163,18013,16615,17206,18472,17888,16342,18555,19201,17317,18364,17217,18304,17533,15828,17152,18294,18609,19895,17516,16531,18667,17225,18286,17849,17735,18856,16664,17726,18454,16654,19262,17217,18091,18926,17573,18900,18554,17949,17769,18370,16733,18305,16050,17199,16556,17534,18147,17217,17702,16209,18540,18842,17477,18355,18029,19505,16076,18511,17285,19019,17878,17489,17495,19097,18941,17886,16892,16421,19064,17837,17903,17228,17004,16738,18569,16859,16350,17845,18715,16927,18227,17179,17562,18761,17850,17184,18417,17170,18791,18868,19720,16792,19010,17801,17702,18889,16751,18238,16435,17495,19337,15504,16863,20313,16737,16385,17151,17487,20071,18613,18563,18559,18787,17297,18851,18589,18285,18244,19509,15836,17896,18412,16377,19460,18700,20035,16744,20082,19255,20342,18116,17857,19316,17592,19297,18205,17609,17044,18529,16893,19093,17782,18977,16900,18881,17046,18832,16895,17019,18289,18199,16468,17885,15974,17438,19718,18260,16044,16444,18170,18360,18597,17328,17987,17241,18717,15605,17710,16470,17020,18802,18578,17028,19543,18513,16900,18682,19634,16157,19165,18298,19014,16405,17304,17538,18712,17393,15218,17267,19116,18950,16362,18954,16082,17597,19266,16741,18450,18695,16424,19481,16891,17567,20355,18530,19483,18173,16287,17532,17489,18315,19698,19369,17848,17411,18498,18559,18183,17918,16897,18045,17223,16900,17280,18000,18791,15988,17899,17592,17530,17497,18043,17623,18705,19296,15911,18327,18364,18199,19127,18716,18081,20163,18426,16941,19825,20181,18087,19182,19492,17412,18210,17409,16944,17286,17915,18392,17509,18592,18207,17693,19634,19178,17620,17033,16959,18787,16221,17780,17363,17984,17147,16634,16974,19340,15862,18407,18032,16518,18785,17893,16171,16879,16884,18544,18922,17968,17007,17315,16587,17417,19459,17487,16910,16652,17424,20432,16916,16282,18886,17168,17656,16688,18275,17285,16397,17559,17903,16725,19696,16977,17677,17514,19366,16145,20075,17618,15191,18812,16342,18577,17493,18772,18272,16918,18496,19706,19263,19832,19056,16768,19045,17415,16690,19247,17632,18853,16872,17463,19413,19838,17413,17845,15178,18190,18538,17559,17437,18079,18070,17817,17799,16564,18224,16619,17597,18784,20017,19644,18522,20086,16977,17736,18147,19607,16813,15376,19464,16415,17330,16626,18465,18313,16807,18790,15213,18793,17047,17379,17729,19467,18674,17969,16677,18504,15925,19945,19189,18788,19166,15768,17474,16317,19265,17737,18737,20209,16433,18209,16310,17149,16868,17120,16141,16809,19635,18862,17487,16336,18241,17271,17104,16659,16391,17517,17916,17373,17253,15530,16798,17404,16710,19051,18910,17304,15496,17192,20102,17948,16659,19195,18943,19143,18262,16897,19949,15969,16832,17465,19127,17815,17827,18130,19581,19463,18102,17147,18700,17123,19855,18095,16788,16436,18512,15723,18128,16551,18617,17118,16202,19709,16751,16163,16319,17472,18081,18932,18222,16554,17867,17384,17316,17712,16561,18178,15718,19091,16630,18038,20323,16957,17716,18589,18080,17215,16161,17924,17880,17421,18403,19335,17851,18882,18127,20229,18168,17782,17815,18422,19652,17712,17536,18859,16320,18522,17421,17928,17285,18332,18135,17725,15826,20182,19373,18400,18860,19542,19648,19569,19387,18238,18873,17279,19126,17319,18119,18736,17761,18724,18401,17319,18270,18583,17477,18784,18323,19121,17764,16531,17324,18609,19719,17888,18801,17501,17560,19484,18085,17103,16659,19382,18109,18978,17518,17035,16780,18222,17587,18276,16617,16410,17287,17137,15740,17980,18315,17635,17065,18245,19044,18966,18996,19276,19249,17795,17583,18740,18895,17793,18722,18480,18791,17933,17178,19067,18903,16794,17794,16580,15758,18688,18664,17678,18769,17827,16313,18528,17324,16132,19145,16233,18527,19175,17256,20228,18397,17428,18569,17681,19220,17836,19127,17405,18701,17918,18349,17946,15159,16868,18355,20292,16893,19369,17777,17333,17565,17525,18696,16297,18670,16843,17924,17727,19555,19699,18069,20236,15660,17514,17133,18023,19476,16528,18822,18820,18040,17534,16907,18044,17423,16248,19072,17444,18492,17517,17849,16467,18132,17947,16828,18060,17825,15794,18125,18418,17856,18030,17611,17832,20672,18130,16527,18316,16204,17484,18655,18066,18040,19678,19307,19221,18221,18752,18457,16488,17704,18550,17299,17303,15825,19584,18116,18942,17452,16806,18078,17891,17299,18756,19357,17108,18311,16774,18350,18772,17797,16105,17480,15897,17390,18406,18363,17623,19905,16329,17412,19469,19567,18652,16373,17584,18383,18032,17867,16758,16419,18867,17315,19310,17563,17076,17839,18674,17500,17680,17616,18656,17097,17986,16399,17830,18195,16482,19599,17957,18481,17052,18015,18896,16208,18705,18839,20148,19018,16509,18094,19227,16650,17876,15892,19091,16884,17673,17515,16416,17992,18509,17712,18841,19643,16772,18133,19311,19978,18884,18642,17149,16485,15595,18231,17061,16632,20143,17888,18627,18114,18602,17216,17659,18437,16015,18275,16721,16369,17304,18621,20337,19535,18421,17047,17783,18004,18641,17756,18049,17563,15177,17896,19074,17220,18693,18318,18062,19368,17194,18656,16812,19451,18090,19085,19032,17413,18493,17179,16903,17661,15917,17190,17548,16641,17714,18658,18765,18018,19375,18272,16850,15172,19777,18032,19094,18257,15474,17461,19382,17334,16128,19981,19116,16219,17381,19392,19807,18139,17447,15415,18454,18710,18170,18524,17450,17605,20138,16548]},\"selected\":{\"id\":\"1381\",\"type\":\"Selection\"},\"selection_policy\":{\"id\":\"1380\",\"type\":\"UnionRenderers\"}},\"id\":\"1346\",\"type\":\"ColumnDataSource\"},{\"attributes\":{\"callback\":null},\"id\":\"1315\",\"type\":\"DataRange1d\"},{\"attributes\":{},\"id\":\"1338\",\"type\":\"HelpTool\"},{\"attributes\":{\"fill_alpha\":{\"value\":0.1},\"fill_color\":{\"value\":\"#1f77b4\"},\"line_alpha\":{\"value\":0.1},\"line_color\":{\"value\":\"#1f77b4\"},\"size\":{\"units\":\"screen\",\"value\":10},\"x\":{\"field\":\"x\"},\"y\":{\"field\":\"y\"}},\"id\":\"1348\",\"type\":\"Circle\"},{\"attributes\":{},\"id\":\"1380\",\"type\":\"UnionRenderers\"},{\"attributes\":{},\"id\":\"1319\",\"type\":\"LinearScale\"},{\"attributes\":{\"axis_label\":\"blueTotalExperience\",\"formatter\":{\"id\":\"1379\",\"type\":\"BasicTickFormatter\"},\"ticker\":{\"id\":\"1329\",\"type\":\"BasicTicker\"}},\"id\":\"1328\",\"type\":\"LinearAxis\"},{\"attributes\":{},\"id\":\"1334\",\"type\":\"WheelZoomTool\"}],\"root_ids\":[\"1312\"]},\"title\":\"Bokeh Application\",\"version\":\"1.4.0\"}};\n",
       "  var render_items = [{\"docid\":\"a667b46d-9850-4d04-a0cf-6f40e65778a5\",\"roots\":{\"1312\":\"30711050-9b5c-42c1-9aef-62ad98af6556\"}}];\n",
       "  root.Bokeh.embed.embed_items_notebook(docs_json, render_items);\n",
       "\n",
       "  }\n",
       "  if (root.Bokeh !== undefined) {\n",
       "    embed_document(root);\n",
       "  } else {\n",
       "    var attempts = 0;\n",
       "    var timer = setInterval(function(root) {\n",
       "      if (root.Bokeh !== undefined) {\n",
       "        clearInterval(timer);\n",
       "        embed_document(root);\n",
       "      } else {\n",
       "        attempts++;\n",
       "        if (attempts > 100) {\n",
       "          clearInterval(timer);\n",
       "          console.log(\"Bokeh: ERROR: Unable to run BokehJS code because BokehJS library is missing\");\n",
       "        }\n",
       "      }\n",
       "    }, 10, root)\n",
       "  }\n",
       "})(window);"
      ],
      "application/vnd.bokehjs_exec.v0+json": ""
     },
     "metadata": {
      "application/vnd.bokehjs_exec.v0+json": {
       "id": "1312"
      }
     },
     "output_type": "display_data"
    }
   ],
   "source": [
    "%%local\n",
    "from bokeh.io import show\n",
    "from bokeh.plotting import figure\n",
    "from bokeh.io import output_notebook\n",
    "output_notebook()\n",
    "p = figure(title = 'Relationship between blueTotalGold and blueTotalExperience')\n",
    "p.xaxis.axis_label = 'blueTotalGold'\n",
    "p.yaxis.axis_label = 'blueTotalExperience'\n",
    "\n",
    "p.circle(  list(scatter['blueTotalGold'])\n",
    "         , list(scatter['blueTotalExperience'])\n",
    "         , fill_alpha=0.2, size=10)\n",
    "\n",
    "show(p)\n",
    "# This will create a scatterplot with the independent variables blueTotalGold and blueTotalExperience with gold being on the \n",
    "# x axis and experience being on the y axis. According to the chart the more gold you earnthe more experience you have as well.\n",
    "# Important to note is that this is for the blue team"
   ]
  },
  {
   "cell_type": "markdown",
   "metadata": {},
   "source": [
    "# Handling outliers for red team"
   ]
  },
  {
   "cell_type": "code",
   "execution_count": 33,
   "metadata": {},
   "outputs": [
    {
     "data": {
      "application/vnd.jupyter.widget-view+json": {
       "model_id": "57aa57f78969420fa817cadb690612fe",
       "version_major": 2,
       "version_minor": 0
      },
      "text/plain": [
       "VBox()"
      ]
     },
     "metadata": {},
     "output_type": "display_data"
    },
    {
     "data": {
      "application/vnd.jupyter.widget-view+json": {
       "model_id": "",
       "version_major": 2,
       "version_minor": 0
      },
      "text/plain": [
       "FloatProgress(value=0.0, bar_style='info', description='Progress:', layout=Layout(height='25px', width='50%'),…"
      ]
     },
     "metadata": {},
     "output_type": "display_data"
    },
    {
     "name": "stdout",
     "output_type": "stream",
     "text": [
      "redTotalGold [15486.0, 17258.0]\n",
      "redTotalExperience [17266.0, 18643.0]\n",
      "+-------------+--------------+--------------------+\n",
      "|       gameId|redTotalGold_o|redTotalExperience_o|\n",
      "+-------------+--------------+--------------------+\n",
      "|4.519157822E9|         false|               false|\n",
      "|4.523371949E9|         false|               false|\n",
      "| 4.52147453E9|         false|               false|\n",
      "|4.524384067E9|         false|               false|\n",
      "|4.436033771E9|         false|               false|\n",
      "|4.475365709E9|         false|               false|\n",
      "|4.493010632E9|         false|               false|\n",
      "|4.496759358E9|         false|               false|\n",
      "| 4.44304803E9|         false|               false|\n",
      "|4.509433346E9|         false|               false|\n",
      "|4.452162573E9|         false|               false|\n",
      "|4.453038156E9|         false|               false|\n",
      "|4.515594785E9|         false|               false|\n",
      "|4.524924257E9|         false|               false|\n",
      "|4.516505202E9|         false|               false|\n",
      "|4.482120064E9|         false|               false|\n",
      "|4.523758462E9|         false|               false|\n",
      "|4.503636905E9|         false|               false|\n",
      "|4.486384947E9|         false|               false|\n",
      "|4.457103291E9|         false|               false|\n",
      "|4.472164226E9|         false|               false|\n",
      "|4.445294621E9|         false|               false|\n",
      "|4.480384157E9|         false|               false|\n",
      "|4.520898233E9|         false|               false|\n",
      "|4.522124566E9|         false|               false|\n",
      "|4.523978853E9|         false|               false|\n",
      "|4.507834811E9|         false|               false|\n",
      "|4.501319968E9|         false|               false|\n",
      "|4.519148589E9|         false|               false|\n",
      "|4.484877784E9|         false|               false|\n",
      "|4.466931235E9|         false|               false|\n",
      "| 4.52418957E9|         false|               false|\n",
      "| 4.50338007E9|         false|               false|\n",
      "|4.497858921E9|         false|               false|\n",
      "|4.509242024E9|         false|               false|\n",
      "| 4.52429655E9|         false|               false|\n",
      "|4.516034199E9|         false|               false|\n",
      "|4.504386463E9|         false|               false|\n",
      "|4.523799496E9|         false|               false|\n",
      "| 4.37993185E9|         false|               false|\n",
      "| 4.52385815E9|         false|               false|\n",
      "|4.459778854E9|         false|               false|\n",
      "|4.499523222E9|         false|               false|\n",
      "| 4.47702931E9|         false|               false|\n",
      "|4.525037711E9|         false|               false|\n",
      "|4.459414345E9|         false|               false|\n",
      "| 4.50566404E9|         false|               false|\n",
      "|4.439587692E9|         false|               false|\n",
      "|4.508000311E9|         false|               false|\n",
      "|4.513365614E9|         false|               false|\n",
      "|4.473252742E9|         false|               false|\n",
      "| 4.43813889E9|         false|               false|\n",
      "|4.467008289E9|         false|               false|\n",
      "|4.492625917E9|         false|               false|\n",
      "|4.502901044E9|         false|               false|\n",
      "|4.467732013E9|         false|               false|\n",
      "| 4.51440251E9|         false|               false|\n",
      "|4.521277262E9|         false|               false|\n",
      "|4.521752962E9|         false|               false|\n",
      "|4.514070165E9|         false|               false|\n",
      "|4.525056568E9|         false|               false|\n",
      "|4.521255103E9|         false|               false|\n",
      "|4.510728488E9|         false|               false|\n",
      "|4.516919746E9|         false|               false|\n",
      "|4.499868617E9|         false|               false|\n",
      "|4.514234813E9|          true|               false|\n",
      "|4.513591449E9|         false|               false|\n",
      "|4.471416203E9|         false|               false|\n",
      "|4.521227315E9|         false|               false|\n",
      "|4.424144387E9|         false|               false|\n",
      "|4.517806218E9|         false|               false|\n",
      "|4.479974478E9|         false|               false|\n",
      "|4.423018162E9|         false|               false|\n",
      "|4.518401885E9|         false|               false|\n",
      "| 4.52520873E9|         false|               false|\n",
      "|4.512774492E9|         false|               false|\n",
      "|4.522772001E9|         false|               false|\n",
      "|4.464439713E9|         false|               false|\n",
      "|4.479823004E9|         false|               false|\n",
      "|4.507330276E9|         false|               false|\n",
      "|4.447392049E9|         false|               false|\n",
      "|4.521089901E9|         false|               false|\n",
      "|4.427944005E9|         false|               false|\n",
      "| 4.50978438E9|         false|               false|\n",
      "|4.524411421E9|         false|               false|\n",
      "|4.519898107E9|         false|               false|\n",
      "|4.517633575E9|         false|               false|\n",
      "|4.521948875E9|         false|               false|\n",
      "|4.509102299E9|         false|               false|\n",
      "|4.525041896E9|         false|               false|\n",
      "|4.515706467E9|         false|               false|\n",
      "|4.476006621E9|         false|               false|\n",
      "|4.499940691E9|         false|               false|\n",
      "|4.426644547E9|         false|               false|\n",
      "|4.525072812E9|         false|               false|\n",
      "|4.524217548E9|         false|               false|\n",
      "|4.499622849E9|         false|               false|\n",
      "|4.499844894E9|         false|               false|\n",
      "|4.460534353E9|         false|               false|\n",
      "|4.495269641E9|         false|               false|\n",
      "|4.524995677E9|         false|               false|\n",
      "|4.464596479E9|         false|               false|\n",
      "|4.452452649E9|         false|               false|\n",
      "|4.420481816E9|         false|               false|\n",
      "|4.412895789E9|         false|               false|\n",
      "|4.525114135E9|         false|               false|\n",
      "|4.496624699E9|          true|                true|\n",
      "|4.522663961E9|         false|               false|\n",
      "|4.522251387E9|         false|               false|\n",
      "|4.472377536E9|         false|               false|\n",
      "|4.466226469E9|         false|               false|\n",
      "|4.473936532E9|         false|               false|\n",
      "|4.524445302E9|         false|                true|\n",
      "|4.459740551E9|          true|               false|\n",
      "|4.463542711E9|         false|               false|\n",
      "|4.508629003E9|         false|               false|\n",
      "|4.475094281E9|         false|               false|\n",
      "|4.513430767E9|         false|               false|\n",
      "|4.508634893E9|         false|               false|\n",
      "| 4.52279236E9|         false|               false|\n",
      "|4.507927084E9|         false|               false|\n",
      "|4.522505411E9|         false|               false|\n",
      "|4.454104215E9|         false|               false|\n",
      "|4.516166112E9|         false|               false|\n",
      "|4.454239214E9|         false|               false|\n",
      "|4.517801069E9|         false|               false|\n",
      "|4.518738712E9|         false|               false|\n",
      "|4.497571086E9|         false|               false|\n",
      "|4.477243448E9|         false|               false|\n",
      "|4.386507847E9|         false|               false|\n",
      "|4.474136526E9|         false|               false|\n",
      "|4.523618632E9|         false|               false|\n",
      "|4.507859079E9|         false|               false|\n",
      "|4.524740998E9|         false|               false|\n",
      "|4.512162103E9|         false|               false|\n",
      "|4.465066223E9|         false|               false|\n",
      "|4.523411488E9|         false|               false|\n",
      "|4.524017392E9|         false|               false|\n",
      "|4.513054107E9|         false|               false|\n",
      "|4.478629184E9|         false|               false|\n",
      "|4.395598976E9|         false|               false|\n",
      "|4.524952056E9|         false|               false|\n",
      "|4.453994009E9|         false|               false|\n",
      "|4.462358723E9|         false|               false|\n",
      "|4.512811324E9|         false|               false|\n",
      "|4.438263187E9|         false|               false|\n",
      "|4.483907436E9|         false|               false|\n",
      "|4.521937261E9|         false|               false|\n",
      "|4.515587675E9|         false|               false|\n",
      "|4.517493567E9|         false|               false|\n",
      "|4.469549199E9|         false|               false|\n",
      "|4.500100836E9|         false|               false|\n",
      "|4.451727242E9|         false|               false|\n",
      "|4.462194525E9|         false|               false|\n",
      "|4.481415061E9|         false|               false|\n",
      "|4.519169394E9|         false|               false|\n",
      "|4.449504375E9|         false|               false|\n",
      "| 4.46850324E9|         false|               false|\n",
      "|4.495708706E9|         false|               false|\n",
      "|  4.5053573E9|         false|               false|\n",
      "|4.523723534E9|         false|               false|\n",
      "|4.479157446E9|         false|               false|\n",
      "|4.518376722E9|         false|               false|\n",
      "|4.521259209E9|         false|               false|\n",
      "|4.471123041E9|         false|               false|\n",
      "|4.524913184E9|         false|               false|\n",
      "|4.514301047E9|         false|               false|\n",
      "|4.512184541E9|         false|               false|\n",
      "|  4.5178238E9|         false|               false|\n",
      "|4.518835789E9|         false|               false|\n",
      "|4.510355472E9|         false|               false|\n",
      "|4.512067346E9|         false|               false|\n",
      "|4.514106633E9|         false|               false|\n",
      "|4.522399054E9|         false|               false|\n",
      "|4.519443312E9|         false|               false|\n",
      "|4.523035934E9|         false|               false|\n",
      "|4.429486916E9|         false|               false|\n",
      "|4.482052361E9|         false|               false|\n",
      "|4.522798631E9|         false|               false|\n",
      "|4.477176627E9|         false|               false|\n",
      "|4.475170098E9|         false|               false|\n",
      "|4.432091797E9|         false|               false|\n",
      "|4.495710198E9|         false|               false|\n",
      "|4.520931258E9|         false|               false|\n",
      "|4.424048842E9|         false|               false|\n",
      "|4.512915759E9|         false|               false|\n",
      "|4.476065129E9|         false|               false|\n",
      "|4.494781192E9|         false|               false|\n",
      "|4.525224702E9|         false|               false|\n",
      "|4.475925954E9|         false|               false|\n",
      "|4.516121686E9|         false|               false|\n",
      "|4.420667626E9|         false|               false|\n",
      "| 4.48949411E9|         false|               false|\n",
      "|4.523340688E9|         false|               false|\n",
      "|4.496344135E9|         false|               false|\n",
      "|4.524697287E9|         false|               false|\n",
      "|4.523386766E9|         false|               false|\n",
      "|4.518474732E9|         false|               false|\n",
      "|4.486453937E9|         false|               false|\n",
      "|4.496397328E9|         false|               false|\n",
      "|4.520768462E9|         false|               false|\n",
      "|4.518654959E9|         false|               false|\n",
      "|4.519058321E9|         false|               false|\n",
      "|4.512960247E9|         false|               false|\n",
      "|4.445314635E9|         false|                true|\n",
      "|4.477030195E9|         false|               false|\n",
      "|4.497887298E9|          true|               false|\n",
      "|4.459403995E9|         false|               false|\n",
      "|4.489079383E9|         false|               false|\n",
      "|4.516695912E9|         false|               false|\n",
      "|4.490435808E9|         false|               false|\n",
      "|4.524895124E9|         false|               false|\n",
      "|4.519469738E9|         false|               false|\n",
      "|  4.5235272E9|         false|               false|\n",
      "|4.453080532E9|         false|               false|\n",
      "| 4.52330353E9|         false|                true|\n",
      "|4.495003373E9|         false|               false|\n",
      "|4.524303571E9|         false|               false|\n",
      "|4.490487724E9|         false|               false|\n",
      "|4.515381064E9|         false|               false|\n",
      "|4.512271556E9|         false|               false|\n",
      "|4.452824789E9|         false|               false|\n",
      "|4.481234929E9|         false|               false|\n",
      "|4.500668824E9|         false|               false|\n",
      "|4.521663948E9|         false|               false|\n",
      "|4.525067275E9|         false|               false|\n",
      "| 4.49650339E9|         false|               false|\n",
      "|4.519912865E9|         false|               false|\n",
      "|4.447426572E9|         false|               false|\n",
      "|4.493407357E9|         false|               false|\n",
      "|4.459426947E9|         false|               false|\n",
      "|4.519988685E9|         false|               false|\n",
      "|4.519844846E9|         false|               false|\n",
      "|4.525070748E9|         false|               false|\n",
      "|4.465204267E9|         false|               false|\n",
      "|4.517684472E9|         false|               false|\n",
      "|4.517646191E9|         false|               false|\n",
      "|4.459901632E9|         false|               false|\n",
      "|4.495413031E9|         false|               false|\n",
      "|4.519612989E9|         false|               false|\n",
      "| 4.40671652E9|         false|               false|\n",
      "|4.525184804E9|         false|               false|\n",
      "|4.524569254E9|         false|               false|\n",
      "|4.431143877E9|         false|               false|\n",
      "|4.446797537E9|         false|               false|\n",
      "|4.524403652E9|         false|               false|\n",
      "|4.524260824E9|         false|               false|\n",
      "|4.440119391E9|         false|               false|\n",
      "|4.518199999E9|         false|               false|\n",
      "|4.520967143E9|         false|               false|\n",
      "| 4.49821649E9|         false|               false|\n",
      "|4.493677959E9|         false|               false|\n",
      "|4.523093613E9|         false|               false|\n",
      "| 4.43725719E9|         false|               false|\n",
      "|4.521897707E9|         false|               false|\n",
      "|4.467164835E9|         false|               false|\n",
      "|4.521542696E9|         false|               false|\n",
      "| 4.49546444E9|         false|               false|\n",
      "|4.452038425E9|         false|               false|\n",
      "|4.515821204E9|         false|               false|\n",
      "|4.502922066E9|         false|               false|\n",
      "|4.384241438E9|         false|               false|\n",
      "|4.466040137E9|         false|               false|\n",
      "|4.476661914E9|         false|               false|\n",
      "|4.458282675E9|         false|               false|\n",
      "|4.507871318E9|         false|                true|\n",
      "|4.431970864E9|         false|               false|\n",
      "|4.516600859E9|         false|               false|\n",
      "|4.499806829E9|         false|               false|\n",
      "|4.472532304E9|         false|               false|\n",
      "|4.444232401E9|         false|               false|\n",
      "|4.521519484E9|         false|               false|\n",
      "|4.515353277E9|         false|               false|\n",
      "|4.524248852E9|         false|               false|\n",
      "|4.521172111E9|         false|               false|\n",
      "|4.517776491E9|         false|               false|\n",
      "|4.519368335E9|         false|               false|\n",
      "|4.523639973E9|         false|               false|\n",
      "|4.522111616E9|         false|               false|\n",
      "| 4.52118825E9|         false|               false|\n",
      "|4.493154896E9|         false|               false|\n",
      "|4.512775669E9|         false|               false|\n",
      "|4.505100164E9|         false|               false|\n",
      "|4.439464616E9|         false|               false|\n",
      "|4.515793486E9|         false|               false|\n",
      "|4.505809782E9|         false|               false|\n",
      "|4.502875704E9|         false|               false|\n",
      "|4.475734964E9|         false|               false|\n",
      "|4.482233269E9|         false|               false|\n",
      "|4.511770317E9|         false|               false|\n",
      "|4.524067975E9|         false|               false|\n",
      "|4.474977192E9|         false|               false|\n",
      "|4.467242137E9|         false|               false|\n",
      "|4.521516098E9|         false|               false|\n",
      "|4.475861894E9|         false|               false|\n",
      "|4.473365528E9|         false|               false|\n",
      "|4.520554639E9|         false|               false|\n",
      "|4.519562141E9|         false|               false|\n",
      "|4.477654399E9|         false|               false|\n",
      "|4.524744736E9|         false|               false|\n",
      "|4.437489184E9|         false|               false|\n",
      "|4.516668528E9|         false|               false|\n",
      "|4.519159286E9|         false|               false|\n",
      "|4.519850833E9|         false|               false|\n",
      "|4.517486439E9|         false|               false|\n",
      "|4.524983213E9|         false|               false|\n",
      "|4.518971056E9|         false|               false|\n",
      "|4.519735486E9|         false|               false|\n",
      "|4.474578405E9|         false|               false|\n",
      "|4.495526731E9|         false|               false|\n",
      "|4.523588445E9|         false|               false|\n",
      "|4.496025643E9|         false|               false|\n",
      "|4.449279281E9|         false|               false|\n",
      "|4.524290588E9|         false|               false|\n",
      "|4.481379221E9|         false|               false|\n",
      "|4.497057886E9|         false|               false|\n",
      "|4.457248839E9|         false|               false|\n",
      "| 4.46252949E9|         false|               false|\n",
      "|4.511728953E9|         false|               false|\n",
      "|4.455484063E9|         false|               false|\n",
      "|4.492027887E9|         false|               false|\n",
      "|4.500738441E9|         false|               false|\n",
      "|4.472130589E9|         false|               false|\n",
      "|4.509440283E9|         false|               false|\n",
      "|4.522207567E9|         false|               false|\n",
      "|4.492532758E9|         false|               false|\n",
      "|4.521901284E9|         false|               false|\n",
      "|4.524952365E9|         false|               false|\n",
      "|4.506175906E9|         false|                true|\n",
      "|4.462044332E9|         false|               false|\n",
      "|4.490186049E9|         false|               false|\n",
      "|4.484406104E9|         false|               false|\n",
      "|4.525016329E9|         false|               false|\n",
      "|4.500061522E9|         false|               false|\n",
      "| 4.51940506E9|         false|               false|\n",
      "| 4.48910768E9|         false|               false|\n",
      "|4.524853879E9|         false|               false|\n",
      "|4.519652445E9|         false|               false|\n",
      "|4.479492497E9|         false|               false|\n",
      "|4.477014254E9|         false|               false|\n",
      "|4.474899637E9|         false|               false|\n",
      "|4.448166002E9|         false|               false|\n",
      "|4.518035441E9|         false|               false|\n",
      "|4.524924561E9|         false|               false|\n",
      "|4.519402514E9|         false|               false|\n",
      "|4.439902649E9|         false|               false|\n",
      "|4.471437748E9|         false|               false|\n",
      "|4.452202569E9|         false|               false|\n",
      "|4.519983082E9|         false|               false|\n",
      "|4.514792667E9|         false|               false|\n",
      "|4.524404606E9|         false|               false|\n",
      "|4.517159658E9|         false|               false|\n",
      "|4.490111763E9|         false|               false|\n",
      "| 4.51161576E9|         false|               false|\n",
      "|4.460035354E9|         false|               false|\n",
      "|4.524340253E9|         false|               false|\n",
      "|4.494288234E9|         false|               false|\n",
      "|4.503193235E9|         false|               false|\n",
      "|4.487544482E9|         false|               false|\n",
      "|4.522841712E9|         false|               false|\n",
      "|4.492447049E9|         false|               false|\n",
      "|4.515497599E9|         false|               false|\n",
      "|4.515307399E9|         false|               false|\n",
      "|4.520027205E9|         false|               false|\n",
      "|4.525124678E9|         false|               false|\n",
      "|4.506399392E9|         false|               false|\n",
      "|4.520037654E9|         false|               false|\n",
      "|4.513253618E9|         false|               false|\n",
      "|4.523092782E9|         false|               false|\n",
      "|4.510100587E9|         false|               false|\n",
      "|4.522265559E9|         false|               false|\n",
      "|4.502459201E9|         false|               false|\n",
      "|4.449297701E9|         false|               false|\n",
      "|4.524992548E9|         false|               false|\n",
      "| 4.52418234E9|         false|               false|\n",
      "|4.522266897E9|         false|               false|\n",
      "| 4.46874109E9|         false|               false|\n",
      "|4.519229802E9|         false|               false|\n",
      "|4.464483348E9|         false|               false|\n",
      "|4.501451685E9|         false|               false|\n",
      "|4.523922035E9|         false|               false|\n",
      "|4.481186047E9|         false|               false|\n",
      "|4.486987445E9|         false|               false|\n",
      "|4.509259241E9|         false|                true|\n",
      "|4.513456428E9|         false|               false|\n",
      "|4.507030336E9|         false|               false|\n",
      "|4.520529866E9|         false|               false|\n",
      "|4.525050175E9|         false|               false|\n",
      "|4.519754998E9|         false|               false|\n",
      "|4.439457123E9|         false|               false|\n",
      "|4.524643428E9|         false|               false|\n",
      "|4.521007618E9|         false|               false|\n",
      "|4.508648866E9|         false|               false|\n",
      "|4.481875944E9|         false|               false|\n",
      "|4.481977173E9|         false|               false|\n",
      "|4.524221277E9|         false|               false|\n",
      "|4.491767708E9|         false|               false|\n",
      "| 4.51338195E9|         false|               false|\n",
      "|4.520706889E9|         false|               false|\n",
      "|4.510979839E9|         false|               false|\n",
      "|4.497747862E9|         false|               false|\n",
      "|4.499933829E9|         false|               false|\n",
      "|4.444218395E9|         false|               false|\n",
      "|4.524806566E9|         false|               false|\n",
      "|4.462632051E9|         false|               false|\n",
      "|4.522260081E9|         false|               false|\n",
      "|4.455390955E9|         false|               false|\n",
      "|4.517939505E9|         false|               false|\n",
      "|4.524528416E9|         false|               false|\n",
      "|4.525067296E9|         false|               false|\n",
      "|4.454069388E9|         false|               false|\n",
      "|4.503433498E9|         false|               false|\n",
      "|4.510734919E9|         false|               false|\n",
      "| 4.46444731E9|         false|               false|\n",
      "|4.429977573E9|         false|               false|\n",
      "|4.522461341E9|         false|               false|\n",
      "|4.517741452E9|         false|               false|\n",
      "|4.500724758E9|         false|               false|\n",
      "|4.494319705E9|         false|               false|\n",
      "|4.444096628E9|         false|               false|\n",
      "|4.521510642E9|         false|               false|\n",
      "| 4.41224053E9|         false|               false|\n",
      "|4.420941972E9|         false|               false|\n",
      "|4.514097912E9|         false|               false|\n",
      "|4.491135325E9|          true|               false|\n",
      "|4.488824515E9|         false|               false|\n",
      "|4.515453856E9|         false|               false|\n",
      "|4.420829528E9|         false|               false|\n",
      "|4.503381304E9|         false|               false|\n",
      "|4.515654011E9|         false|               false|\n",
      "| 4.49289439E9|         false|               false|\n",
      "|4.472568378E9|         false|               false|\n",
      "|4.471422338E9|         false|               false|\n",
      "|4.525151632E9|         false|               false|\n",
      "|4.519414547E9|         false|                true|\n",
      "|4.440874432E9|         false|               false|\n",
      "|4.471153063E9|         false|               false|\n",
      "| 4.52244912E9|         false|               false|\n",
      "|4.501354453E9|         false|               false|\n",
      "| 4.46505028E9|         false|               false|\n",
      "|4.509589971E9|         false|               false|\n",
      "|4.505606908E9|         false|               false|\n",
      "|4.517684494E9|         false|               false|\n",
      "|4.516180818E9|         false|               false|\n",
      "|4.524074861E9|         false|               false|\n",
      "|4.524837884E9|         false|               false|\n",
      "| 4.46739751E9|         false|               false|\n",
      "| 4.49831656E9|         false|               false|\n",
      "|4.494819577E9|         false|               false|\n",
      "|4.454214561E9|         false|               false|\n",
      "|4.508718134E9|         false|               false|\n",
      "|4.518971206E9|         false|               false|\n",
      "|4.519649032E9|         false|               false|\n",
      "|4.487076086E9|         false|               false|\n",
      "| 4.52041973E9|         false|               false|\n",
      "|4.510885108E9|         false|               false|\n",
      "|4.500739258E9|         false|               false|\n",
      "|4.524783374E9|         false|               false|\n",
      "|4.465119134E9|         false|                true|\n",
      "|4.515577349E9|         false|               false|\n",
      "|4.465188797E9|         false|               false|\n",
      "|4.523720024E9|         false|               false|\n",
      "|4.512168503E9|         false|               false|\n",
      "|4.441802146E9|         false|               false|\n",
      "|4.525106974E9|         false|               false|\n",
      "|4.519124601E9|         false|               false|\n",
      "|4.469638547E9|         false|               false|\n",
      "|4.520617571E9|         false|               false|\n",
      "|4.520513993E9|         false|               false|\n",
      "|4.446190086E9|         false|               false|\n",
      "|4.479055235E9|         false|               false|\n",
      "|4.525053035E9|         false|               false|\n",
      "|4.460529664E9|         false|               false|\n",
      "| 4.48949492E9|          true|               false|\n",
      "|4.524863981E9|         false|               false|\n",
      "|4.508452416E9|         false|               false|\n",
      "| 4.51817358E9|         false|               false|\n",
      "|4.497643645E9|         false|               false|\n",
      "|4.496490767E9|         false|               false|\n",
      "| 4.52113766E9|         false|               false|\n",
      "|4.522864178E9|         false|               false|\n",
      "|4.418117776E9|         false|               false|\n",
      "|4.487261308E9|         false|               false|\n",
      "|4.472053682E9|         false|               false|\n",
      "|4.523322393E9|         false|               false|\n",
      "|4.450801674E9|         false|               false|\n",
      "|4.518527027E9|         false|               false|\n",
      "| 4.51577157E9|         false|               false|\n",
      "| 4.50352098E9|         false|               false|\n",
      "|4.525008225E9|         false|               false|\n",
      "|4.522447446E9|         false|               false|\n",
      "|4.500531155E9|         false|               false|\n",
      "|4.524832772E9|         false|               false|\n",
      "|4.521575223E9|         false|               false|\n",
      "|4.502356627E9|         false|               false|\n",
      "|4.502093881E9|         false|               false|\n",
      "| 4.46997607E9|         false|               false|\n",
      "|4.515929996E9|         false|               false|\n",
      "|4.522286152E9|         false|               false|\n",
      "| 4.52496685E9|         false|               false|\n",
      "+-------------+--------------+--------------------+\n",
      "only showing top 500 rows"
     ]
    }
   ],
   "source": [
    "#This piece of code will search for outliers using IQR it will first calculate Q1 and then Q3 and \n",
    "#subtract them from each other to get IQR. Once that is calculated it will find the upper and lower bounds\n",
    "# Then finally any record outside those bounds will be flagged as an outlier.\n",
    "features = ['redTotalGold', 'redTotalExperience']\n",
    "quantiles = [0.25, 0.75]\n",
    "\n",
    "cut_off_points = []\n",
    "\n",
    "#getting Q1 and Q3\n",
    "#The third parameter, set to 0.05, is relative target precision to achieve (>= 0).\n",
    "#If set to zero, the exact quantiles are computed, which could be very expensive. \n",
    "for feature in features:\n",
    "    quants = games.approxQuantile(feature, quantiles, 0.05)\n",
    "    print(feature, quants)\n",
    "    IQR = quants[1] - quants[0]\n",
    "    cut_off_points.append((feature, [\n",
    "        quants[0] - 1.5 * IQR,\n",
    "        quants[1] + 1.5 * IQR,\n",
    "    ]))\n",
    "\n",
    "cut_off_points = dict(cut_off_points)\n",
    "\n",
    "redoutliers = games.select(*['gameId'] + [\n",
    "       (\n",
    "           (games[f] < cut_off_points[f][0]) |\n",
    "           (games[f] > cut_off_points[f][1])\n",
    "       ).alias(f + '_o') for f in features\n",
    "  ])\n",
    "redoutliers.show(500)"
   ]
  },
  {
   "cell_type": "code",
   "execution_count": 34,
   "metadata": {},
   "outputs": [
    {
     "data": {
      "application/vnd.jupyter.widget-view+json": {
       "model_id": "24060716d23843fd83371af2160d41ed",
       "version_major": 2,
       "version_minor": 0
      },
      "text/plain": [
       "VBox()"
      ]
     },
     "metadata": {},
     "output_type": "display_data"
    },
    {
     "data": {
      "application/vnd.jupyter.widget-view+json": {
       "model_id": "",
       "version_major": 2,
       "version_minor": 0
      },
      "text/plain": [
       "FloatProgress(value=0.0, bar_style='info', description='Progress:', layout=Layout(height='25px', width='50%'),…"
      ]
     },
     "metadata": {},
     "output_type": "display_data"
    },
    {
     "name": "stdout",
     "output_type": "stream",
     "text": [
      "+-------------+--------+--------+------------+\n",
      "|       gameId|blueWins|redKills|redTotalGold|\n",
      "+-------------+--------+--------+------------+\n",
      "|4.514234813E9|       0|      12|       20376|\n",
      "|4.496624699E9|       1|      14|       20229|\n",
      "|4.524445302E9|       1|       9|       16692|\n",
      "|4.459740551E9|       0|      17|       20721|\n",
      "|4.445314635E9|       0|      14|       19887|\n",
      "|4.497887298E9|       0|      14|       21093|\n",
      "| 4.52330353E9|       1|       5|       14489|\n",
      "|4.507871318E9|       1|       7|       15767|\n",
      "|4.506175906E9|       1|       3|       13329|\n",
      "|4.509259241E9|       1|       5|       14673|\n",
      "|4.491135325E9|       0|      12|       21103|\n",
      "|4.519414547E9|       1|       4|       13925|\n",
      "|4.465119134E9|       1|      11|       17852|\n",
      "| 4.48949492E9|       0|       9|       20202|\n",
      "|4.522793625E9|       1|       4|       14220|\n",
      "|4.493006116E9|       0|      16|       21056|\n",
      "| 4.52250329E9|       0|      13|       20189|\n",
      "|4.522023642E9|       0|      12|       20774|\n",
      "|4.523877309E9|       0|      12|       20239|\n",
      "|4.382920718E9|       1|      16|       20956|\n",
      "|4.517503916E9|       1|      13|       20720|\n",
      "|4.459264476E9|       0|      11|       18721|\n",
      "|4.519232603E9|       1|       6|       15063|\n",
      "|4.503234599E9|       0|      15|       21609|\n",
      "| 4.46050913E9|       1|       9|       18046|\n",
      "|4.485746291E9|       1|       1|       13309|\n",
      "|4.524480759E9|       0|       9|       19997|\n",
      "|4.489658562E9|       0|      16|       21373|\n",
      "|4.524994987E9|       1|       4|       14222|\n",
      "|4.520588877E9|       0|      10|       20648|\n",
      "|4.520364684E9|       0|      16|       22402|\n",
      "|4.510751913E9|       0|      13|       19229|\n",
      "|  4.5250244E9|       0|      13|       21561|\n",
      "|4.522178683E9|       0|      10|       19928|\n",
      "|4.497596162E9|       1|       2|       13758|\n",
      "| 4.51820439E9|       0|      12|       20265|\n",
      "|4.518920313E9|       0|      12|       20240|\n",
      "|4.471503799E9|       1|       5|       14439|\n",
      "|4.454340438E9|       0|       4|       17859|\n",
      "|4.502515468E9|       1|       5|       14070|\n",
      "|4.448427323E9|       0|       3|       14097|\n",
      "|4.487524071E9|       1|       2|       12976|\n",
      "|4.520390476E9|       1|       2|       13001|\n",
      "|4.505754774E9|       1|       6|       15489|\n",
      "| 4.45043137E9|       0|      14|       20244|\n",
      "|4.517748095E9|       0|      14|       20080|\n",
      "|4.516387872E9|       1|       4|       14489|\n",
      "|4.508717967E9|       0|       6|       15556|\n",
      "| 4.51859252E9|       1|       1|       13319|\n",
      "|4.518819945E9|       0|      13|       19918|\n",
      "| 4.50650956E9|       1|       1|       13368|\n",
      "|4.431984647E9|       0|      16|       20666|\n",
      "|4.523634644E9|       1|       4|       14520|\n",
      "|4.521830295E9|       0|      18|       20297|\n",
      "|4.525228858E9|       1|       1|       13388|\n",
      "| 4.50843686E9|       1|       2|       13245|\n",
      "|4.470465305E9|       0|      12|       20377|\n",
      "|4.523482714E9|       0|      12|       20228|\n",
      "|4.463059486E9|       0|      12|       20244|\n",
      "| 4.45200172E9|       0|      13|       21270|\n",
      "|4.495222052E9|       0|      15|       20532|\n",
      "|4.513965875E9|       0|      13|       21041|\n",
      "|4.469723831E9|       1|       1|       12275|\n",
      "| 4.52395484E9|       0|      10|       20704|\n",
      "|4.515929191E9|       0|      10|       20072|\n",
      "|4.449261764E9|       0|       7|       18295|\n",
      "|4.505017372E9|       1|       7|       13571|\n",
      "| 4.49971526E9|       0|      15|       22614|\n",
      "| 4.52524268E9|       1|      11|       20192|\n",
      "|4.519236802E9|       0|      14|       20329|\n",
      "|4.486440363E9|       0|      11|       19499|\n",
      "|4.496308488E9|       1|       4|       13883|\n",
      "|4.480250709E9|       1|       4|       14298|\n",
      "|4.502024151E9|       0|      11|       20072|\n",
      "|4.524524823E9|       1|       5|       14601|\n",
      "|4.522272294E9|       1|       4|       14695|\n",
      "| 4.52512973E9|       0|       9|       20584|\n",
      "|4.510920769E9|       1|       4|       14515|\n",
      "|4.471506446E9|       1|       4|       13934|\n",
      "|4.513297103E9|       0|      14|       22088|\n",
      "|4.519161912E9|       0|      11|       20098|\n",
      "|4.476394657E9|       1|       5|       15666|\n",
      "|4.523523934E9|       0|      13|       19990|\n",
      "|4.453299408E9|       1|      10|       19246|\n",
      "|4.485509508E9|       0|      15|       19972|\n",
      "|4.489264481E9|       1|       3|       14182|\n",
      "|4.502201524E9|       0|      10|       19382|\n",
      "| 4.51098313E9|       0|      11|       20878|\n",
      "|4.505421525E9|       0|       9|       20219|\n",
      "|4.454960221E9|       0|      12|       19465|\n",
      "|4.523456164E9|       1|       6|       15241|\n",
      "|4.524739257E9|       1|       2|       13466|\n",
      "|4.519816052E9|       0|      11|       20066|\n",
      "|4.454798967E9|       0|      11|       21406|\n",
      "|4.484833636E9|       1|       4|       14629|\n",
      "|4.525188485E9|       1|       9|       18567|\n",
      "|4.484558599E9|       0|       9|       18727|\n",
      "|4.519053131E9|       0|       5|       14709|\n",
      "|4.487198223E9|       0|      14|       21110|\n",
      "|4.447279447E9|       0|      10|       18048|\n",
      "| 4.48622917E9|       0|       9|       17995|\n",
      "|4.467051072E9|       0|       9|       18996|\n",
      "|4.460927725E9|       1|       1|       13727|\n",
      "|4.499921176E9|       0|      15|       21895|\n",
      "|4.458085215E9|       0|      11|       19949|\n",
      "|4.517167802E9|       0|      14|       20677|\n",
      "|4.462313921E9|       1|       5|       15583|\n",
      "|4.513544189E9|       0|       8|       21633|\n",
      "|4.522377959E9|       0|       5|       15117|\n",
      "|4.500724554E9|       0|      13|       20030|\n",
      "|4.525371439E9|       1|       6|       15055|\n",
      "|4.498101728E9|       0|      12|       20151|\n",
      "|4.524538444E9|       0|      15|       20363|\n",
      "| 4.41240077E9|       1|       5|       14285|\n",
      "| 4.46055238E9|       1|       9|       16221|\n",
      "|4.524296354E9|       0|      15|       20006|\n",
      "|4.460718392E9|       0|      12|       20463|\n",
      "|4.517802077E9|       1|       3|       13979|\n",
      "|4.516790351E9|       0|      12|       20079|\n",
      "|4.518516978E9|       1|       0|       12730|\n",
      "|4.474827626E9|       1|      10|       18279|\n",
      "|4.500741087E9|       0|      15|       20802|\n",
      "|4.512164291E9|       1|       4|       13707|\n",
      "|4.512772548E9|       1|       2|       13299|\n",
      "|4.523386902E9|       0|      13|       20495|\n",
      "|4.508876664E9|       1|       1|       12937|\n",
      "|4.481806461E9|       0|      14|       20406|\n",
      "|4.474676809E9|       1|       0|       11502|\n",
      "|4.523383339E9|       0|      10|       19385|\n",
      "|4.442356832E9|       0|      11|       19985|\n",
      "|4.464812857E9|       1|       4|       14799|\n",
      "|4.524748805E9|       0|       7|       18150|\n",
      "|4.491707815E9|       1|       2|       13173|\n",
      "|4.525237424E9|       1|       2|       13051|\n",
      "|4.523623443E9|       0|      13|       20013|\n",
      "| 4.43846337E9|       1|       3|       13520|\n",
      "|4.477737633E9|       0|      14|       21559|\n",
      "|4.500905906E9|       0|       4|       14419|\n",
      "|4.518463691E9|       1|       0|       13099|\n",
      "|4.472741177E9|       1|       1|       13115|\n",
      "|4.499860078E9|       1|       1|       13446|\n",
      "|4.462061093E9|       1|       3|       13966|\n",
      "|4.470286128E9|       0|      13|       20271|\n",
      "|4.516101575E9|       1|       4|       15336|\n",
      "|4.513514552E9|       1|      15|       21260|\n",
      "|4.486146372E9|       0|      13|       20445|\n",
      "| 4.50043511E9|       1|       5|       14611|\n",
      "|4.524720967E9|       1|       2|       13621|\n",
      "|4.510820768E9|       1|       2|       12338|\n",
      "|4.470994961E9|       0|      13|       19931|\n",
      "|4.502808348E9|       0|      15|       20143|\n",
      "|4.516913135E9|       0|      14|       20009|\n",
      "|4.476265926E9|       1|       4|       14809|\n",
      "|4.519133834E9|       0|      16|       21026|\n",
      "|4.492858161E9|       1|       2|       12651|\n",
      "|4.381127762E9|       1|       3|       14476|\n",
      "|4.481879494E9|       1|       4|       14281|\n",
      "|4.468138311E9|       0|      13|       19948|\n",
      "|4.522524149E9|       0|      12|       20414|\n",
      "|4.481550615E9|       0|      18|       20792|\n",
      "|4.477545606E9|       0|      14|       20366|\n",
      "|   4.419367E9|       1|      17|       20391|\n",
      "| 4.52260495E9|       0|      14|       20070|\n",
      "|4.502375792E9|       0|      14|       20335|\n",
      "|4.510530318E9|       0|      11|       19207|\n",
      "|4.508973225E9|       0|      19|       22681|\n",
      "|4.515575207E9|       1|       2|       12890|\n",
      "|4.522444254E9|       0|       8|       18500|\n",
      "|4.490512919E9|       0|      13|       20536|\n",
      "|4.502014751E9|       0|       8|       18934|\n",
      "|4.518392539E9|       0|       4|       13438|\n",
      "|4.520017061E9|       1|       5|       14420|\n",
      "|4.520635359E9|       1|      17|       21115|\n",
      "|4.459250324E9|       1|       1|       13327|\n",
      "|4.461203281E9|       0|       9|       20148|\n",
      "|4.474739496E9|       1|       4|       13605|\n",
      "|4.462131057E9|       1|       5|       14520|\n",
      "|4.499239181E9|       1|      14|       20426|\n",
      "|4.517834101E9|       0|      12|       20381|\n",
      "|4.521761275E9|       1|      12|       19162|\n",
      "|4.505443284E9|       1|       4|       14543|\n",
      "|4.520614992E9|       0|      12|       20920|\n",
      "|4.492722693E9|       1|       5|       14590|\n",
      "|4.523365971E9|       1|       5|       14745|\n",
      "|4.498702463E9|       0|      12|       22073|\n",
      "|4.499876537E9|       0|      13|       21322|\n",
      "| 4.46915659E9|       0|      13|       19998|\n",
      "|4.522791415E9|       0|      11|       20043|\n",
      "|4.478911331E9|       1|       5|       15396|\n",
      "|4.522611565E9|       1|       3|       14158|\n",
      "|4.476185279E9|       0|      12|       18597|\n",
      "|4.500913253E9|       1|      10|       19125|\n",
      "|4.481998895E9|       1|       4|       14723|\n",
      "|4.494742887E9|       0|      12|       20061|\n",
      "|4.508772592E9|       0|      11|       20508|\n",
      "| 4.46800658E9|       0|      10|       20245|\n",
      "|4.513746482E9|       1|       2|       13145|\n",
      "|4.462463336E9|       0|      15|       20477|\n",
      "|4.492999384E9|       1|       7|       15611|\n",
      "|  4.4357161E9|       0|      11|       17086|\n",
      "|4.458474426E9|       0|      12|       19342|\n",
      "|  4.5213254E9|       0|       9|       19720|\n",
      "|4.514117878E9|       1|       2|       13064|\n",
      "|4.505369566E9|       1|       3|       14468|\n",
      "|4.511223295E9|       0|      13|       22250|\n",
      "|4.454836834E9|       0|      13|       21032|\n",
      "|4.458567616E9|       0|      12|       20986|\n",
      "|4.524220083E9|       1|       5|       13839|\n",
      "|4.522688388E9|       1|       6|       14067|\n",
      "|4.473264225E9|       0|      15|       19924|\n",
      "|4.506557116E9|       0|      12|       20286|\n",
      "| 4.47723806E9|       1|       2|       13235|\n",
      "| 4.51870591E9|       1|       3|       14225|\n",
      "|4.503648979E9|       1|       2|       14352|\n",
      "|4.524341789E9|       1|       3|       13931|\n",
      "|4.514817366E9|       1|       3|       14379|\n",
      "|4.486240093E9|       1|       1|       12724|\n",
      "|4.523592716E9|       0|       9|       18418|\n",
      "|4.523538705E9|       1|       3|       14837|\n",
      "|4.510752222E9|       0|      10|       21107|\n",
      "| 4.49770099E9|       1|       5|       13986|\n",
      "|4.523062403E9|       1|       6|       14897|\n",
      "|4.447263506E9|       0|       1|       13142|\n",
      "|4.521076774E9|       1|       4|       14453|\n",
      "| 4.47982806E9|       0|       5|       14942|\n",
      "|4.446773786E9|       0|      16|       20483|\n",
      "|4.513978363E9|       0|       9|       19028|\n",
      "|4.524640589E9|       1|       8|       16216|\n",
      "|4.524374262E9|       1|      13|       20665|\n",
      "|4.516930956E9|       0|      15|       20277|\n",
      "|4.488573145E9|       0|       4|       16447|\n",
      "| 4.52139742E9|       0|       9|       19944|\n",
      "|4.524698581E9|       0|      13|       20955|\n",
      "|4.513193579E9|       0|      14|       22283|\n",
      "|4.524774054E9|       1|       5|       15115|\n",
      "| 4.51786089E9|       1|       3|       11957|\n",
      "|4.518298214E9|       0|      13|       20342|\n",
      "|4.470048867E9|       1|       0|       12827|\n",
      "| 4.52285959E9|       1|       4|       13096|\n",
      "|4.467510471E9|       0|      10|       19922|\n",
      "|4.495179602E9|       0|      12|       22110|\n",
      "|4.423897951E9|       0|      13|       20043|\n",
      "| 4.49789841E9|       0|      12|       20033|\n",
      "|4.446530367E9|       1|       5|       13922|\n",
      "|4.524916446E9|       0|       9|       19792|\n",
      "|4.524115285E9|       0|       9|       19952|\n",
      "|4.525386289E9|       1|       2|       13837|\n",
      "|4.494519313E9|       1|       1|       12978|\n",
      "|4.502881141E9|       0|      12|       19952|\n",
      "|4.465705901E9|       0|      13|       19904|\n",
      "|4.521267611E9|       0|      12|       20455|\n",
      "|4.486740435E9|       0|      13|       19455|\n",
      "|4.526316157E9|       0|      13|       20678|\n",
      "|4.486327611E9|       0|      16|       20788|\n",
      "|4.526279428E9|       0|      12|       18855|\n",
      "|4.514482057E9|       0|      19|       22732|\n",
      "| 4.46073084E9|       1|       4|       13584|\n",
      "|4.526837498E9|       1|       0|       12725|\n",
      "|4.516544412E9|       1|       4|       14075|\n",
      "| 4.45236282E9|       0|       8|       18452|\n",
      "|4.459784621E9|       0|       9|       20793|\n",
      "|4.489994401E9|       1|       6|       15924|\n",
      "|4.438396733E9|       1|       5|       15026|\n",
      "|4.478937217E9|       1|       4|       12793|\n",
      "|4.518030452E9|       0|      11|       19086|\n",
      "|4.481181249E9|       0|      14|       20046|\n",
      "|4.451694219E9|       0|       5|       16248|\n",
      "|4.518069516E9|       1|       3|       13015|\n",
      "|4.469779402E9|       0|      12|       20443|\n",
      "|4.515544332E9|       1|       2|       13588|\n",
      "|4.489234827E9|       1|       1|       11212|\n",
      "|4.485937828E9|       1|      11|       20595|\n",
      "|4.417418392E9|       1|       2|       13391|\n",
      "|4.456255419E9|       0|       7|       17851|\n",
      "|4.519055084E9|       0|      14|       21612|\n",
      "|4.448485009E9|       0|      15|       19821|\n",
      "|4.526369291E9|       0|      14|       19919|\n",
      "|4.476200313E9|       1|       2|       13251|\n",
      "|4.506831821E9|       0|      12|       21055|\n",
      "|4.522574543E9|       0|       7|       16233|\n",
      "|4.497064417E9|       1|       1|       13189|\n",
      "|4.471792481E9|       0|      15|       21758|\n",
      "|4.527195678E9|       0|       8|       19366|\n",
      "| 4.46996406E9|       0|      12|       20238|\n",
      "|4.520723011E9|       1|       0|       12822|\n",
      "|4.498463657E9|       0|      12|       20797|\n",
      "|4.445820546E9|       0|      22|       22355|\n",
      "|4.527448907E9|       1|       5|       14146|\n",
      "|4.442575242E9|       0|      11|       18648|\n",
      "|4.494580681E9|       1|       2|       13475|\n",
      "|4.508345813E9|       0|      11|       20230|\n",
      "|4.447981243E9|       0|      13|       20051|\n",
      "|4.492655929E9|       0|      14|       21118|\n",
      "|4.465308301E9|       0|      12|       21560|\n",
      "|4.523437781E9|       0|      10|       19535|\n",
      "|4.451628627E9|       0|      10|       18200|\n",
      "|4.442569713E9|       1|       5|       14398|\n",
      "|4.513065219E9|       0|      13|       20266|\n",
      "|4.526640104E9|       0|      14|       21010|\n",
      "|4.473252626E9|       1|      13|       20238|\n",
      "|4.447674252E9|       0|       9|       19984|\n",
      "|4.459925036E9|       0|      14|       19956|\n",
      "|4.478754286E9|       0|      15|       20598|\n",
      "|4.525380642E9|       0|       7|       15420|\n",
      "|4.496865743E9|       0|      15|       21947|\n",
      "|4.447641028E9|       0|      14|       21237|\n",
      "| 4.47478454E9|       0|      10|       18986|\n",
      "|4.517670386E9|       0|      14|       20251|\n",
      "| 4.51748047E9|       0|      16|       20318|\n",
      "|4.486380071E9|       0|      16|       20000|\n",
      "|4.526149892E9|       1|       3|       13490|\n",
      "|4.505505523E9|       0|      16|       20028|\n",
      "|4.480094113E9|       0|      16|       20430|\n",
      "|4.467235457E9|       0|       9|       18065|\n",
      "|4.465279641E9|       0|      13|       21186|\n",
      "|4.522665247E9|       0|      15|       20164|\n",
      "|4.456733355E9|       0|      10|       18839|\n",
      "|4.500400815E9|       0|      12|       19598|\n",
      "|4.465670561E9|       1|       1|       13331|\n",
      "| 4.48947742E9|       1|       2|       13674|\n",
      "|4.473464467E9|       0|      11|       20407|\n",
      "| 4.52732432E9|       0|      13|       19998|\n",
      "|4.492236236E9|       0|      10|       19987|\n",
      "|4.465443052E9|       1|      13|       20599|\n",
      "|4.511011052E9|       1|       3|       14611|\n",
      "|4.469155463E9|       0|      11|       20087|\n",
      "|4.517636739E9|       0|      12|       20904|\n",
      "|4.513818469E9|       0|       8|       18395|\n",
      "|4.527319271E9|       1|       4|       14544|\n",
      "|4.502464132E9|       0|       4|       14155|\n",
      "|4.519379201E9|       1|      17|       20396|\n",
      "|4.517708245E9|       1|      12|       20072|\n",
      "|4.527490147E9|       0|      12|       20331|\n",
      "|4.521641335E9|       1|       7|       16379|\n",
      "|4.492356958E9|       1|      12|       20156|\n",
      "|4.515642835E9|       1|       5|       14858|\n",
      "|4.527497632E9|       1|      14|       20731|\n",
      "|4.510825805E9|       1|       2|       13303|\n",
      "|4.508892154E9|       0|      10|       16644|\n",
      "|4.513002559E9|       1|      14|       21747|\n",
      "|4.508763924E9|       1|      12|       20568|\n",
      "|4.527645576E9|       1|       2|       13096|\n",
      "|4.506848642E9|       1|       2|       13660|\n",
      "|4.519657611E9|       0|      12|       20598|\n",
      "|4.527328845E9|       0|       7|       16935|\n",
      "|4.513041823E9|       0|      14|       20353|\n",
      "| 4.52535827E9|       0|      15|       20393|\n",
      "|4.516106075E9|       0|      16|       21398|\n",
      "|4.511977578E9|       0|      10|       20132|\n",
      "|4.517996305E9|       0|       9|       18630|\n",
      "|4.524024822E9|       1|       2|       12833|\n",
      "|4.515307437E9|       0|      14|       20588|\n",
      "|4.525813376E9|       0|      11|       20096|\n",
      "|4.514363015E9|       0|       8|       18146|\n",
      "|4.523620825E9|       1|       3|       13517|\n",
      "|4.521364269E9|       1|       0|       12626|\n",
      "|4.520016243E9|       1|       2|       13489|\n",
      "|4.527621723E9|       1|       2|       15177|\n",
      "|4.526802762E9|       0|      11|       20491|\n",
      "|4.527439661E9|       1|       8|       15532|\n",
      "|4.517907839E9|       1|       5|       14172|\n",
      "| 4.51541564E9|       0|      14|       21628|\n",
      "| 4.50659971E9|       0|      16|       21324|\n",
      "|4.526397117E9|       0|      16|       20817|\n",
      "|4.521428251E9|       0|      14|       20682|\n",
      "|4.497564028E9|       1|       2|       13206|\n",
      "|4.523011787E9|       1|       5|       14138|\n",
      "|4.510115879E9|       0|      12|       20531|\n",
      "|4.518384119E9|       1|      15|       20930|\n",
      "|4.510990676E9|       1|       2|       12918|\n",
      "|4.498216793E9|       0|      10|       20246|\n",
      "| 4.51672291E9|       0|      10|       20030|\n",
      "|4.510986413E9|       1|       2|       13237|\n",
      "|4.526157711E9|       1|       1|       12857|\n",
      "|4.526376483E9|       0|       7|       20116|\n",
      "|4.506553264E9|       1|       3|       14358|\n",
      "| 4.52406062E9|       0|      14|       20305|\n",
      "|4.521025681E9|       0|      10|       20034|\n",
      "|4.507437151E9|       0|       6|       15462|\n",
      "|4.524768975E9|       0|      15|       20275|\n",
      "|4.509706108E9|       0|      11|       20047|\n",
      "|4.527328545E9|       1|       3|       13198|\n",
      "|4.526260032E9|       0|      12|       20346|\n",
      "|4.515454034E9|       0|      14|       20121|\n",
      "|4.509560405E9|       1|       4|       15019|\n",
      "|4.499811143E9|       1|       3|       13253|\n",
      "| 4.51984448E9|       0|      17|       21103|\n",
      "|4.517814495E9|       0|       3|       14311|\n",
      "|4.519651388E9|       0|      16|       20995|\n",
      "|4.518472442E9|       0|       4|       14624|\n",
      "|4.521066118E9|       0|       7|       17806|\n",
      "| 4.49972452E9|       1|       3|       14346|\n",
      "|4.521841751E9|       0|      14|       20169|\n",
      "|4.511221654E9|       0|      16|       20912|\n",
      "|4.527413531E9|       0|      13|       20281|\n",
      "|4.507071282E9|       0|      11|       19422|\n",
      "|4.516912566E9|       1|       0|       11357|\n",
      "+-------------+--------+--------+------------+"
     ]
    }
   ],
   "source": [
    "#show the rows containing outliers\n",
    "red_with_outliers_flag = games.join(redoutliers, on='gameId')\n",
    "(\n",
    "    red_with_outliers_flag\n",
    "    .filter('redTotalGold_o OR redTotalExperience_o')\n",
    "    .select('gameId', 'blueWins', 'redKills', 'redTotalGold')\n",
    "    .show(500)\n",
    ")"
   ]
  },
  {
   "cell_type": "code",
   "execution_count": 35,
   "metadata": {},
   "outputs": [
    {
     "data": {
      "application/vnd.jupyter.widget-view+json": {
       "model_id": "8e886e91b63d4dc68f02d118a981a361",
       "version_major": 2,
       "version_minor": 0
      },
      "text/plain": [
       "VBox()"
      ]
     },
     "metadata": {},
     "output_type": "display_data"
    },
    {
     "data": {
      "application/vnd.jupyter.widget-view+json": {
       "model_id": "",
       "version_major": 2,
       "version_minor": 0
      },
      "text/plain": [
       "FloatProgress(value=0.0, bar_style='info', description='Progress:', layout=Layout(height='25px', width='50%'),…"
      ]
     },
     "metadata": {},
     "output_type": "display_data"
    },
    {
     "name": "stdout",
     "output_type": "stream",
     "text": [
      "+-------------+--------+---------------+------------------+--------------+---------+----------+-----------+-----------------+-----------+-----------+-------------------+-------------+------------+-------------------+----------------------+----------------------------+------------+------------------+------------+--------------+--------------+-----------------+-------------+--------+---------+----------+----------------+----------+----------+------------------+------------+-----------+------------------+---------------------+---------------------------+-----------+-----------------+-----------+-------------+\n",
      "|       gameId|blueWins|blueWardsPlaced|blueWardsDestroyed|blueFirstBlood|blueKills|blueDeaths|blueAssists|blueEliteMonsters|blueDragons|blueHeralds|blueTowersDestroyed|blueTotalGold|blueAvgLevel|blueTotalExperience|blueTotalMinionsKilled|blueTotalJungleMinionsKilled|blueGoldDiff|blueExperienceDiff|blueCSPerMin|blueGoldPerMin|redWardsPlaced|redWardsDestroyed|redFirstBlood|redKills|redDeaths|redAssists|redEliteMonsters|redDragons|redHeralds|redTowersDestroyed|redTotalGold|redAvgLevel|redTotalExperience|redTotalMinionsKilled|redTotalJungleMinionsKilled|redGoldDiff|redExperienceDiff|redCSPerMin|redGoldPerMin|\n",
      "+-------------+--------+---------------+------------------+--------------+---------+----------+-----------+-----------------+-----------+-----------+-------------------+-------------+------------+-------------------+----------------------+----------------------------+------------+------------------+------------+--------------+--------------+-----------------+-------------+--------+---------+----------+----------------+----------+----------+------------------+------------+-----------+------------------+---------------------+---------------------------+-----------+-----------------+-----------+-------------+\n",
      "|4.519157822E9|       0|             28|                 2|             1|        9|         6|         11|                0|          0|          0|                  0|        17210|         6.6|              17039|                   195|                          36|         643|                -8|        19.5|        1721.0|            15|                6|            0|       6|        9|         8|               0|         0|         0|                 0|       16567|        6.8|             17047|                  197|                         55|       -643|                8|       19.7|       1656.7|\n",
      "+-------------+--------+---------------+------------------+--------------+---------+----------+-----------+-----------------+-----------+-----------+-------------------+-------------+------------+-------------------+----------------------+----------------------------+------------+------------------+------------+--------------+--------------+-----------------+-------------+--------+---------+----------+----------------+----------+----------+------------------+------------+-----------+------------------+---------------------+---------------------------+-----------+-----------------+-----------+-------------+\n",
      "only showing top 1 row"
     ]
    }
   ],
   "source": [
    "#filter outliers between blueTotalGold and blueTotalExperience so we can run descriptive statistics\n",
    "no_outliers_red = (\n",
    "    red_with_outliers_flag\n",
    "    .filter('!(redTotalGold_o OR redTotalExperience_o)')\n",
    "    .select(games.columns)\n",
    ")\n",
    "no_outliers_red.show(1)"
   ]
  },
  {
   "cell_type": "markdown",
   "metadata": {},
   "source": [
    "# Exploring descriptive statistics for Red team"
   ]
  },
  {
   "cell_type": "code",
   "execution_count": 36,
   "metadata": {},
   "outputs": [
    {
     "data": {
      "application/vnd.jupyter.widget-view+json": {
       "model_id": "6909787b83d94dceb5acefdf69c87bc3",
       "version_major": 2,
       "version_minor": 0
      },
      "text/plain": [
       "VBox()"
      ]
     },
     "metadata": {},
     "output_type": "display_data"
    },
    {
     "data": {
      "application/vnd.jupyter.widget-view+json": {
       "model_id": "",
       "version_major": 2,
       "version_minor": 0
      },
      "text/plain": [
       "FloatProgress(value=0.0, bar_style='info', description='Progress:', layout=Layout(height='25px', width='50%'),…"
      ]
     },
     "metadata": {},
     "output_type": "display_data"
    },
    {
     "name": "stdout",
     "output_type": "stream",
     "text": [
      "+-------+------------------+------------------+\n",
      "|summary|      redTotalGold|redTotalExperience|\n",
      "+-------+------------------+------------------+\n",
      "|  count|              9482|              9482|\n",
      "|   mean| 16435.84982071293| 17967.63161780215|\n",
      "| stddev|1349.5470231205793|1071.7069273023003|\n",
      "|    min|             12835|             15203|\n",
      "|    max|             19915|             20702|\n",
      "+-------+------------------+------------------+"
     ]
    }
   ],
   "source": [
    "#describe numeric features. \n",
    "#redTotalGold mean is 16435.85 which the graph will be showed in this range. Stddev is low which graph should close to avg.\n",
    "#redTotalExperience mean is 17967.63 which the graph will be showed in this range. Stddev is low which graph should close to avg.\n",
    "descriptive_stats_red = no_outliers_red.describe(features)\n",
    "descriptive_stats_red.show()"
   ]
  },
  {
   "cell_type": "markdown",
   "metadata": {},
   "source": [
    "# Drawing histograms for red team"
   ]
  },
  {
   "cell_type": "code",
   "execution_count": 37,
   "metadata": {},
   "outputs": [
    {
     "data": {
      "application/vnd.jupyter.widget-view+json": {
       "model_id": "97c568e0837e4ba180157a52aa1cdc51",
       "version_major": 2,
       "version_minor": 0
      },
      "text/plain": [
       "VBox()"
      ]
     },
     "metadata": {},
     "output_type": "display_data"
    },
    {
     "data": {
      "application/vnd.jupyter.widget-view+json": {
       "model_id": "",
       "version_major": 2,
       "version_minor": 0
      },
      "text/plain": [
       "FloatProgress(value=0.0, bar_style='info', description='Progress:', layout=Layout(height='25px', width='50%'),…"
      ]
     },
     "metadata": {},
     "output_type": "display_data"
    }
   ],
   "source": [
    "#generate bins and count of each bin\n",
    "histogram_MPG = (\n",
    "    no_outliers_red\n",
    "    .select('redTotalGold')\n",
    "    .rdd\n",
    "    .flatMap(lambda record: record)\n",
    "    .histogram(5)\n",
    ")"
   ]
  },
  {
   "cell_type": "code",
   "execution_count": 38,
   "metadata": {},
   "outputs": [
    {
     "data": {
      "application/vnd.jupyter.widget-view+json": {
       "model_id": "ad0030a9fc01491fb45dbc1552124f07",
       "version_major": 2,
       "version_minor": 0
      },
      "text/plain": [
       "VBox()"
      ]
     },
     "metadata": {},
     "output_type": "display_data"
    },
    {
     "data": {
      "application/vnd.jupyter.widget-view+json": {
       "model_id": "",
       "version_major": 2,
       "version_minor": 0
      },
      "text/plain": [
       "FloatProgress(value=0.0, bar_style='info', description='Progress:', layout=Layout(height='25px', width='50%'),…"
      ]
     },
     "metadata": {},
     "output_type": "display_data"
    },
    {
     "name": "stdout",
     "output_type": "stream",
     "text": [
      "[12835, 14251, 15667, 17083, 18499, 19915]\n",
      "[413, 2490, 3648, 2205, 726]\n",
      "([12835, 14251, 15667, 17083, 18499, 19915], [413, 2490, 3648, 2205, 726])"
     ]
    }
   ],
   "source": [
    "#.histogram() generates two arrays: \n",
    "#1) list of bin bounds, \n",
    "#2) count of elements in corresponding bin\n",
    "for i in histogram_MPG:\n",
    "    print(i)\n",
    "    \n",
    "histogram_MPG"
   ]
  },
  {
   "cell_type": "code",
   "execution_count": 39,
   "metadata": {},
   "outputs": [
    {
     "data": {
      "application/vnd.jupyter.widget-view+json": {
       "model_id": "39d5d77808f4400fbeff7656e3be7410",
       "version_major": 2,
       "version_minor": 0
      },
      "text/plain": [
       "VBox()"
      ]
     },
     "metadata": {},
     "output_type": "display_data"
    },
    {
     "data": {
      "application/vnd.jupyter.widget-view+json": {
       "model_id": "",
       "version_major": 2,
       "version_minor": 0
      },
      "text/plain": [
       "FloatProgress(value=0.0, bar_style='info', description='Progress:', layout=Layout(height='25px', width='50%'),…"
      ]
     },
     "metadata": {},
     "output_type": "display_data"
    },
    {
     "name": "stdout",
     "output_type": "stream",
     "text": [
      "[12835,14251)\n",
      "[14251,15667)\n",
      "[15667,17083)\n",
      "[17083,18499)\n",
      "[18499,19915)"
     ]
    }
   ],
   "source": [
    "#display bin ranges\n",
    "for i in range(len(histogram_MPG[0])-1):\n",
    "    print('[' + str(round(histogram_MPG[0][i],2))\n",
    "        + ',' + str(round(histogram_MPG[0][i+1],2))\n",
    "          + ')'\n",
    "         )"
   ]
  },
  {
   "cell_type": "code",
   "execution_count": 40,
   "metadata": {},
   "outputs": [
    {
     "data": {
      "application/vnd.jupyter.widget-view+json": {
       "model_id": "9d955796eaa94c86bbd93205d6ddab42",
       "version_major": 2,
       "version_minor": 0
      },
      "text/plain": [
       "VBox()"
      ]
     },
     "metadata": {},
     "output_type": "display_data"
    },
    {
     "data": {
      "application/vnd.jupyter.widget-view+json": {
       "model_id": "",
       "version_major": 2,
       "version_minor": 0
      },
      "text/plain": [
       "FloatProgress(value=0.0, bar_style='info', description='Progress:', layout=Layout(height='25px', width='50%'),…"
      ]
     },
     "metadata": {},
     "output_type": "display_data"
    },
    {
     "name": "stdout",
     "output_type": "stream",
     "text": [
      "[(1, 'one'), (2, 'two'), (3, 'three')]"
     ]
    }
   ],
   "source": [
    "#Python zip function returns an iterator of tuples based on the iterable object\n",
    "numberList = [1, 2, 3]\n",
    "strList = ['one', 'two', 'three']\n",
    "result = zip(numberList, strList)\n",
    "print(sorted(result))"
   ]
  },
  {
   "cell_type": "code",
   "execution_count": 41,
   "metadata": {},
   "outputs": [
    {
     "data": {
      "application/vnd.jupyter.widget-view+json": {
       "model_id": "04533ec8e8044a3e9e84ca6d64c0fae4",
       "version_major": 2,
       "version_minor": 0
      },
      "text/plain": [
       "VBox()"
      ]
     },
     "metadata": {},
     "output_type": "display_data"
    },
    {
     "data": {
      "application/vnd.jupyter.widget-view+json": {
       "model_id": "",
       "version_major": 2,
       "version_minor": 0
      },
      "text/plain": [
       "FloatProgress(value=0.0, bar_style='info', description='Progress:', layout=Layout(height='25px', width='50%'),…"
      ]
     },
     "metadata": {},
     "output_type": "display_data"
    },
    {
     "name": "stdout",
     "output_type": "stream",
     "text": [
      "[(12835, 413), (14251, 2490), (15667, 3648), (17083, 2205), (18499, 726)]"
     ]
    }
   ],
   "source": [
    "#symbol * unpacks histogram_MPG and passes the two compoonents to zip as parameters\n",
    "#zip(*histogram_MPG) = zip(histogram_MPG[0], histogram_MPG[1])\n",
    "sorted(zip(*histogram_MPG))"
   ]
  },
  {
   "cell_type": "code",
   "execution_count": 42,
   "metadata": {},
   "outputs": [
    {
     "data": {
      "application/vnd.jupyter.widget-view+json": {
       "model_id": "",
       "version_major": 2,
       "version_minor": 0
      },
      "text/plain": [
       "FloatProgress(value=0.0, bar_style='info', description='Progress:', layout=Layout(height='25px', width='50%'),…"
      ]
     },
     "metadata": {},
     "output_type": "display_data"
    },
    {
     "data": {
      "application/vnd.jupyter.widget-view+json": {
       "model_id": "",
       "version_major": 2,
       "version_minor": 0
      },
      "text/plain": [
       "FloatProgress(value=0.0, bar_style='info', description='Progress:', layout=Layout(height='25px', width='50%'),…"
      ]
     },
     "metadata": {},
     "output_type": "display_data"
    }
   ],
   "source": [
    "%%spark -o hist_MPG \n",
    "#The above Spark magic exports hist_MPG to local node running the notebook\n",
    "#So that we can use the local object to draw a histogram\n",
    "import pandas as pd\n",
    "hist_MPG =  spark.createDataFrame(\n",
    "    list(zip(*histogram_MPG)), \n",
    "    ['bins', 'counts'])"
   ]
  },
  {
   "cell_type": "code",
   "execution_count": 43,
   "metadata": {},
   "outputs": [
    {
     "data": {
      "text/html": [
       "\n",
       "    <div class=\"bk-root\">\n",
       "        <a href=\"https://bokeh.org\" target=\"_blank\" class=\"bk-logo bk-logo-small bk-logo-notebook\"></a>\n",
       "        <span id=\"1431\">Loading BokehJS ...</span>\n",
       "    </div>"
      ]
     },
     "metadata": {},
     "output_type": "display_data"
    },
    {
     "data": {
      "application/javascript": [
       "\n",
       "(function(root) {\n",
       "  function now() {\n",
       "    return new Date();\n",
       "  }\n",
       "\n",
       "  var force = true;\n",
       "\n",
       "  if (typeof root._bokeh_onload_callbacks === \"undefined\" || force === true) {\n",
       "    root._bokeh_onload_callbacks = [];\n",
       "    root._bokeh_is_loading = undefined;\n",
       "  }\n",
       "\n",
       "  var JS_MIME_TYPE = 'application/javascript';\n",
       "  var HTML_MIME_TYPE = 'text/html';\n",
       "  var EXEC_MIME_TYPE = 'application/vnd.bokehjs_exec.v0+json';\n",
       "  var CLASS_NAME = 'output_bokeh rendered_html';\n",
       "\n",
       "  /**\n",
       "   * Render data to the DOM node\n",
       "   */\n",
       "  function render(props, node) {\n",
       "    var script = document.createElement(\"script\");\n",
       "    node.appendChild(script);\n",
       "  }\n",
       "\n",
       "  /**\n",
       "   * Handle when an output is cleared or removed\n",
       "   */\n",
       "  function handleClearOutput(event, handle) {\n",
       "    var cell = handle.cell;\n",
       "\n",
       "    var id = cell.output_area._bokeh_element_id;\n",
       "    var server_id = cell.output_area._bokeh_server_id;\n",
       "    // Clean up Bokeh references\n",
       "    if (id != null && id in Bokeh.index) {\n",
       "      Bokeh.index[id].model.document.clear();\n",
       "      delete Bokeh.index[id];\n",
       "    }\n",
       "\n",
       "    if (server_id !== undefined) {\n",
       "      // Clean up Bokeh references\n",
       "      var cmd = \"from bokeh.io.state import curstate; print(curstate().uuid_to_server['\" + server_id + \"'].get_sessions()[0].document.roots[0]._id)\";\n",
       "      cell.notebook.kernel.execute(cmd, {\n",
       "        iopub: {\n",
       "          output: function(msg) {\n",
       "            var id = msg.content.text.trim();\n",
       "            if (id in Bokeh.index) {\n",
       "              Bokeh.index[id].model.document.clear();\n",
       "              delete Bokeh.index[id];\n",
       "            }\n",
       "          }\n",
       "        }\n",
       "      });\n",
       "      // Destroy server and session\n",
       "      var cmd = \"import bokeh.io.notebook as ion; ion.destroy_server('\" + server_id + \"')\";\n",
       "      cell.notebook.kernel.execute(cmd);\n",
       "    }\n",
       "  }\n",
       "\n",
       "  /**\n",
       "   * Handle when a new output is added\n",
       "   */\n",
       "  function handleAddOutput(event, handle) {\n",
       "    var output_area = handle.output_area;\n",
       "    var output = handle.output;\n",
       "\n",
       "    // limit handleAddOutput to display_data with EXEC_MIME_TYPE content only\n",
       "    if ((output.output_type != \"display_data\") || (!output.data.hasOwnProperty(EXEC_MIME_TYPE))) {\n",
       "      return\n",
       "    }\n",
       "\n",
       "    var toinsert = output_area.element.find(\".\" + CLASS_NAME.split(' ')[0]);\n",
       "\n",
       "    if (output.metadata[EXEC_MIME_TYPE][\"id\"] !== undefined) {\n",
       "      toinsert[toinsert.length - 1].firstChild.textContent = output.data[JS_MIME_TYPE];\n",
       "      // store reference to embed id on output_area\n",
       "      output_area._bokeh_element_id = output.metadata[EXEC_MIME_TYPE][\"id\"];\n",
       "    }\n",
       "    if (output.metadata[EXEC_MIME_TYPE][\"server_id\"] !== undefined) {\n",
       "      var bk_div = document.createElement(\"div\");\n",
       "      bk_div.innerHTML = output.data[HTML_MIME_TYPE];\n",
       "      var script_attrs = bk_div.children[0].attributes;\n",
       "      for (var i = 0; i < script_attrs.length; i++) {\n",
       "        toinsert[toinsert.length - 1].firstChild.setAttribute(script_attrs[i].name, script_attrs[i].value);\n",
       "      }\n",
       "      // store reference to server id on output_area\n",
       "      output_area._bokeh_server_id = output.metadata[EXEC_MIME_TYPE][\"server_id\"];\n",
       "    }\n",
       "  }\n",
       "\n",
       "  function register_renderer(events, OutputArea) {\n",
       "\n",
       "    function append_mime(data, metadata, element) {\n",
       "      // create a DOM node to render to\n",
       "      var toinsert = this.create_output_subarea(\n",
       "        metadata,\n",
       "        CLASS_NAME,\n",
       "        EXEC_MIME_TYPE\n",
       "      );\n",
       "      this.keyboard_manager.register_events(toinsert);\n",
       "      // Render to node\n",
       "      var props = {data: data, metadata: metadata[EXEC_MIME_TYPE]};\n",
       "      render(props, toinsert[toinsert.length - 1]);\n",
       "      element.append(toinsert);\n",
       "      return toinsert\n",
       "    }\n",
       "\n",
       "    /* Handle when an output is cleared or removed */\n",
       "    events.on('clear_output.CodeCell', handleClearOutput);\n",
       "    events.on('delete.Cell', handleClearOutput);\n",
       "\n",
       "    /* Handle when a new output is added */\n",
       "    events.on('output_added.OutputArea', handleAddOutput);\n",
       "\n",
       "    /**\n",
       "     * Register the mime type and append_mime function with output_area\n",
       "     */\n",
       "    OutputArea.prototype.register_mime_type(EXEC_MIME_TYPE, append_mime, {\n",
       "      /* Is output safe? */\n",
       "      safe: true,\n",
       "      /* Index of renderer in `output_area.display_order` */\n",
       "      index: 0\n",
       "    });\n",
       "  }\n",
       "\n",
       "  // register the mime type if in Jupyter Notebook environment and previously unregistered\n",
       "  if (root.Jupyter !== undefined) {\n",
       "    var events = require('base/js/events');\n",
       "    var OutputArea = require('notebook/js/outputarea').OutputArea;\n",
       "\n",
       "    if (OutputArea.prototype.mime_types().indexOf(EXEC_MIME_TYPE) == -1) {\n",
       "      register_renderer(events, OutputArea);\n",
       "    }\n",
       "  }\n",
       "\n",
       "  \n",
       "  if (typeof (root._bokeh_timeout) === \"undefined\" || force === true) {\n",
       "    root._bokeh_timeout = Date.now() + 5000;\n",
       "    root._bokeh_failed_load = false;\n",
       "  }\n",
       "\n",
       "  var NB_LOAD_WARNING = {'data': {'text/html':\n",
       "     \"<div style='background-color: #fdd'>\\n\"+\n",
       "     \"<p>\\n\"+\n",
       "     \"BokehJS does not appear to have successfully loaded. If loading BokehJS from CDN, this \\n\"+\n",
       "     \"may be due to a slow or bad network connection. Possible fixes:\\n\"+\n",
       "     \"</p>\\n\"+\n",
       "     \"<ul>\\n\"+\n",
       "     \"<li>re-rerun `output_notebook()` to attempt to load from CDN again, or</li>\\n\"+\n",
       "     \"<li>use INLINE resources instead, as so:</li>\\n\"+\n",
       "     \"</ul>\\n\"+\n",
       "     \"<code>\\n\"+\n",
       "     \"from bokeh.resources import INLINE\\n\"+\n",
       "     \"output_notebook(resources=INLINE)\\n\"+\n",
       "     \"</code>\\n\"+\n",
       "     \"</div>\"}};\n",
       "\n",
       "  function display_loaded() {\n",
       "    var el = document.getElementById(\"1431\");\n",
       "    if (el != null) {\n",
       "      el.textContent = \"BokehJS is loading...\";\n",
       "    }\n",
       "    if (root.Bokeh !== undefined) {\n",
       "      if (el != null) {\n",
       "        el.textContent = \"BokehJS \" + root.Bokeh.version + \" successfully loaded.\";\n",
       "      }\n",
       "    } else if (Date.now() < root._bokeh_timeout) {\n",
       "      setTimeout(display_loaded, 100)\n",
       "    }\n",
       "  }\n",
       "\n",
       "\n",
       "  function run_callbacks() {\n",
       "    try {\n",
       "      root._bokeh_onload_callbacks.forEach(function(callback) {\n",
       "        if (callback != null)\n",
       "          callback();\n",
       "      });\n",
       "    } finally {\n",
       "      delete root._bokeh_onload_callbacks\n",
       "    }\n",
       "    console.debug(\"Bokeh: all callbacks have finished\");\n",
       "  }\n",
       "\n",
       "  function load_libs(css_urls, js_urls, callback) {\n",
       "    if (css_urls == null) css_urls = [];\n",
       "    if (js_urls == null) js_urls = [];\n",
       "\n",
       "    root._bokeh_onload_callbacks.push(callback);\n",
       "    if (root._bokeh_is_loading > 0) {\n",
       "      console.debug(\"Bokeh: BokehJS is being loaded, scheduling callback at\", now());\n",
       "      return null;\n",
       "    }\n",
       "    if (js_urls == null || js_urls.length === 0) {\n",
       "      run_callbacks();\n",
       "      return null;\n",
       "    }\n",
       "    console.debug(\"Bokeh: BokehJS not loaded, scheduling load and callback at\", now());\n",
       "    root._bokeh_is_loading = css_urls.length + js_urls.length;\n",
       "\n",
       "    function on_load() {\n",
       "      root._bokeh_is_loading--;\n",
       "      if (root._bokeh_is_loading === 0) {\n",
       "        console.debug(\"Bokeh: all BokehJS libraries/stylesheets loaded\");\n",
       "        run_callbacks()\n",
       "      }\n",
       "    }\n",
       "\n",
       "    function on_error() {\n",
       "      console.error(\"failed to load \" + url);\n",
       "    }\n",
       "\n",
       "    for (var i = 0; i < css_urls.length; i++) {\n",
       "      var url = css_urls[i];\n",
       "      const element = document.createElement(\"link\");\n",
       "      element.onload = on_load;\n",
       "      element.onerror = on_error;\n",
       "      element.rel = \"stylesheet\";\n",
       "      element.type = \"text/css\";\n",
       "      element.href = url;\n",
       "      console.debug(\"Bokeh: injecting link tag for BokehJS stylesheet: \", url);\n",
       "      document.body.appendChild(element);\n",
       "    }\n",
       "\n",
       "    for (var i = 0; i < js_urls.length; i++) {\n",
       "      var url = js_urls[i];\n",
       "      var element = document.createElement('script');\n",
       "      element.onload = on_load;\n",
       "      element.onerror = on_error;\n",
       "      element.async = false;\n",
       "      element.src = url;\n",
       "      console.debug(\"Bokeh: injecting script tag for BokehJS library: \", url);\n",
       "      document.head.appendChild(element);\n",
       "    }\n",
       "  };var element = document.getElementById(\"1431\");\n",
       "  if (element == null) {\n",
       "    console.error(\"Bokeh: ERROR: autoload.js configured with elementid '1431' but no matching script tag was found. \")\n",
       "    return false;\n",
       "  }\n",
       "\n",
       "  function inject_raw_css(css) {\n",
       "    const element = document.createElement(\"style\");\n",
       "    element.appendChild(document.createTextNode(css));\n",
       "    document.body.appendChild(element);\n",
       "  }\n",
       "\n",
       "  \n",
       "  var js_urls = [\"https://cdn.pydata.org/bokeh/release/bokeh-1.4.0.min.js\", \"https://cdn.pydata.org/bokeh/release/bokeh-widgets-1.4.0.min.js\", \"https://cdn.pydata.org/bokeh/release/bokeh-tables-1.4.0.min.js\", \"https://cdn.pydata.org/bokeh/release/bokeh-gl-1.4.0.min.js\"];\n",
       "  var css_urls = [];\n",
       "  \n",
       "\n",
       "  var inline_js = [\n",
       "    function(Bokeh) {\n",
       "      Bokeh.set_log_level(\"info\");\n",
       "    },\n",
       "    function(Bokeh) {\n",
       "    \n",
       "    \n",
       "    }\n",
       "  ];\n",
       "\n",
       "  function run_inline_js() {\n",
       "    \n",
       "    if (root.Bokeh !== undefined || force === true) {\n",
       "      \n",
       "    for (var i = 0; i < inline_js.length; i++) {\n",
       "      inline_js[i].call(root, root.Bokeh);\n",
       "    }\n",
       "    if (force === true) {\n",
       "        display_loaded();\n",
       "      }} else if (Date.now() < root._bokeh_timeout) {\n",
       "      setTimeout(run_inline_js, 100);\n",
       "    } else if (!root._bokeh_failed_load) {\n",
       "      console.log(\"Bokeh: BokehJS failed to load within specified timeout.\");\n",
       "      root._bokeh_failed_load = true;\n",
       "    } else if (force !== true) {\n",
       "      var cell = $(document.getElementById(\"1431\")).parents('.cell').data().cell;\n",
       "      cell.output_area.append_execute_result(NB_LOAD_WARNING)\n",
       "    }\n",
       "\n",
       "  }\n",
       "\n",
       "  if (root._bokeh_is_loading === 0) {\n",
       "    console.debug(\"Bokeh: BokehJS loaded, going straight to plotting\");\n",
       "    run_inline_js();\n",
       "  } else {\n",
       "    load_libs(css_urls, js_urls, function() {\n",
       "      console.debug(\"Bokeh: BokehJS plotting callback run at\", now());\n",
       "      run_inline_js();\n",
       "    });\n",
       "  }\n",
       "}(window));"
      ],
      "application/vnd.bokehjs_load.v0+json": "\n(function(root) {\n  function now() {\n    return new Date();\n  }\n\n  var force = true;\n\n  if (typeof root._bokeh_onload_callbacks === \"undefined\" || force === true) {\n    root._bokeh_onload_callbacks = [];\n    root._bokeh_is_loading = undefined;\n  }\n\n  \n\n  \n  if (typeof (root._bokeh_timeout) === \"undefined\" || force === true) {\n    root._bokeh_timeout = Date.now() + 5000;\n    root._bokeh_failed_load = false;\n  }\n\n  var NB_LOAD_WARNING = {'data': {'text/html':\n     \"<div style='background-color: #fdd'>\\n\"+\n     \"<p>\\n\"+\n     \"BokehJS does not appear to have successfully loaded. If loading BokehJS from CDN, this \\n\"+\n     \"may be due to a slow or bad network connection. Possible fixes:\\n\"+\n     \"</p>\\n\"+\n     \"<ul>\\n\"+\n     \"<li>re-rerun `output_notebook()` to attempt to load from CDN again, or</li>\\n\"+\n     \"<li>use INLINE resources instead, as so:</li>\\n\"+\n     \"</ul>\\n\"+\n     \"<code>\\n\"+\n     \"from bokeh.resources import INLINE\\n\"+\n     \"output_notebook(resources=INLINE)\\n\"+\n     \"</code>\\n\"+\n     \"</div>\"}};\n\n  function display_loaded() {\n    var el = document.getElementById(\"1431\");\n    if (el != null) {\n      el.textContent = \"BokehJS is loading...\";\n    }\n    if (root.Bokeh !== undefined) {\n      if (el != null) {\n        el.textContent = \"BokehJS \" + root.Bokeh.version + \" successfully loaded.\";\n      }\n    } else if (Date.now() < root._bokeh_timeout) {\n      setTimeout(display_loaded, 100)\n    }\n  }\n\n\n  function run_callbacks() {\n    try {\n      root._bokeh_onload_callbacks.forEach(function(callback) {\n        if (callback != null)\n          callback();\n      });\n    } finally {\n      delete root._bokeh_onload_callbacks\n    }\n    console.debug(\"Bokeh: all callbacks have finished\");\n  }\n\n  function load_libs(css_urls, js_urls, callback) {\n    if (css_urls == null) css_urls = [];\n    if (js_urls == null) js_urls = [];\n\n    root._bokeh_onload_callbacks.push(callback);\n    if (root._bokeh_is_loading > 0) {\n      console.debug(\"Bokeh: BokehJS is being loaded, scheduling callback at\", now());\n      return null;\n    }\n    if (js_urls == null || js_urls.length === 0) {\n      run_callbacks();\n      return null;\n    }\n    console.debug(\"Bokeh: BokehJS not loaded, scheduling load and callback at\", now());\n    root._bokeh_is_loading = css_urls.length + js_urls.length;\n\n    function on_load() {\n      root._bokeh_is_loading--;\n      if (root._bokeh_is_loading === 0) {\n        console.debug(\"Bokeh: all BokehJS libraries/stylesheets loaded\");\n        run_callbacks()\n      }\n    }\n\n    function on_error() {\n      console.error(\"failed to load \" + url);\n    }\n\n    for (var i = 0; i < css_urls.length; i++) {\n      var url = css_urls[i];\n      const element = document.createElement(\"link\");\n      element.onload = on_load;\n      element.onerror = on_error;\n      element.rel = \"stylesheet\";\n      element.type = \"text/css\";\n      element.href = url;\n      console.debug(\"Bokeh: injecting link tag for BokehJS stylesheet: \", url);\n      document.body.appendChild(element);\n    }\n\n    for (var i = 0; i < js_urls.length; i++) {\n      var url = js_urls[i];\n      var element = document.createElement('script');\n      element.onload = on_load;\n      element.onerror = on_error;\n      element.async = false;\n      element.src = url;\n      console.debug(\"Bokeh: injecting script tag for BokehJS library: \", url);\n      document.head.appendChild(element);\n    }\n  };var element = document.getElementById(\"1431\");\n  if (element == null) {\n    console.error(\"Bokeh: ERROR: autoload.js configured with elementid '1431' but no matching script tag was found. \")\n    return false;\n  }\n\n  function inject_raw_css(css) {\n    const element = document.createElement(\"style\");\n    element.appendChild(document.createTextNode(css));\n    document.body.appendChild(element);\n  }\n\n  \n  var js_urls = [\"https://cdn.pydata.org/bokeh/release/bokeh-1.4.0.min.js\", \"https://cdn.pydata.org/bokeh/release/bokeh-widgets-1.4.0.min.js\", \"https://cdn.pydata.org/bokeh/release/bokeh-tables-1.4.0.min.js\", \"https://cdn.pydata.org/bokeh/release/bokeh-gl-1.4.0.min.js\"];\n  var css_urls = [];\n  \n\n  var inline_js = [\n    function(Bokeh) {\n      Bokeh.set_log_level(\"info\");\n    },\n    function(Bokeh) {\n    \n    \n    }\n  ];\n\n  function run_inline_js() {\n    \n    if (root.Bokeh !== undefined || force === true) {\n      \n    for (var i = 0; i < inline_js.length; i++) {\n      inline_js[i].call(root, root.Bokeh);\n    }\n    if (force === true) {\n        display_loaded();\n      }} else if (Date.now() < root._bokeh_timeout) {\n      setTimeout(run_inline_js, 100);\n    } else if (!root._bokeh_failed_load) {\n      console.log(\"Bokeh: BokehJS failed to load within specified timeout.\");\n      root._bokeh_failed_load = true;\n    } else if (force !== true) {\n      var cell = $(document.getElementById(\"1431\")).parents('.cell').data().cell;\n      cell.output_area.append_execute_result(NB_LOAD_WARNING)\n    }\n\n  }\n\n  if (root._bokeh_is_loading === 0) {\n    console.debug(\"Bokeh: BokehJS loaded, going straight to plotting\");\n    run_inline_js();\n  } else {\n    load_libs(css_urls, js_urls, function() {\n      console.debug(\"Bokeh: BokehJS plotting callback run at\", now());\n      run_inline_js();\n    });\n  }\n}(window));"
     },
     "metadata": {},
     "output_type": "display_data"
    },
    {
     "data": {
      "text/html": [
       "\n",
       "\n",
       "\n",
       "\n",
       "\n",
       "\n",
       "  <div class=\"bk-root\" id=\"c4cfda9b-091a-4db6-bf2c-64c52dffdb32\" data-root-id=\"1432\"></div>\n"
      ]
     },
     "metadata": {},
     "output_type": "display_data"
    },
    {
     "data": {
      "application/javascript": [
       "(function(root) {\n",
       "  function embed_document(root) {\n",
       "    \n",
       "  var docs_json = {\"9544ddc0-2263-4466-91f7-79422b3ebd9e\":{\"roots\":{\"references\":[{\"attributes\":{\"below\":[{\"id\":\"1443\",\"type\":\"CategoricalAxis\"}],\"center\":[{\"id\":\"1446\",\"type\":\"Grid\"},{\"id\":\"1451\",\"type\":\"Grid\"}],\"left\":[{\"id\":\"1447\",\"type\":\"LinearAxis\"}],\"plot_height\":350,\"renderers\":[{\"id\":\"1468\",\"type\":\"GlyphRenderer\"}],\"title\":{\"id\":\"1433\",\"type\":\"Title\"},\"toolbar\":{\"id\":\"1458\",\"type\":\"Toolbar\"},\"x_range\":{\"id\":\"1435\",\"type\":\"FactorRange\"},\"x_scale\":{\"id\":\"1439\",\"type\":\"CategoricalScale\"},\"y_range\":{\"id\":\"1437\",\"type\":\"DataRange1d\"},\"y_scale\":{\"id\":\"1441\",\"type\":\"LinearScale\"}},\"id\":\"1432\",\"subtype\":\"Figure\",\"type\":\"Plot\"},{\"attributes\":{\"formatter\":{\"id\":\"1506\",\"type\":\"BasicTickFormatter\"},\"ticker\":{\"id\":\"1448\",\"type\":\"BasicTicker\"}},\"id\":\"1447\",\"type\":\"LinearAxis\"},{\"attributes\":{\"fill_alpha\":{\"value\":0.1},\"fill_color\":{\"value\":\"#1f77b4\"},\"line_alpha\":{\"value\":0.1},\"line_color\":{\"value\":\"#1f77b4\"},\"top\":{\"field\":\"top\"},\"width\":{\"value\":0.9},\"x\":{\"field\":\"x\"}},\"id\":\"1467\",\"type\":\"VBar\"},{\"attributes\":{},\"id\":\"1506\",\"type\":\"BasicTickFormatter\"},{\"attributes\":{},\"id\":\"1457\",\"type\":\"HelpTool\"},{\"attributes\":{},\"id\":\"1448\",\"type\":\"BasicTicker\"},{\"attributes\":{},\"id\":\"1453\",\"type\":\"WheelZoomTool\"},{\"attributes\":{\"callback\":null,\"factors\":[\"12835\",\"14251\",\"15667\",\"17083\",\"18499\"]},\"id\":\"1435\",\"type\":\"FactorRange\"},{\"attributes\":{\"overlay\":{\"id\":\"1509\",\"type\":\"BoxAnnotation\"}},\"id\":\"1454\",\"type\":\"BoxZoomTool\"},{\"attributes\":{\"callback\":null},\"id\":\"1437\",\"type\":\"DataRange1d\"},{\"attributes\":{\"ticker\":{\"id\":\"1444\",\"type\":\"CategoricalTicker\"}},\"id\":\"1446\",\"type\":\"Grid\"},{\"attributes\":{\"formatter\":{\"id\":\"1504\",\"type\":\"CategoricalTickFormatter\"},\"ticker\":{\"id\":\"1444\",\"type\":\"CategoricalTicker\"}},\"id\":\"1443\",\"type\":\"CategoricalAxis\"},{\"attributes\":{\"source\":{\"id\":\"1465\",\"type\":\"ColumnDataSource\"}},\"id\":\"1469\",\"type\":\"CDSView\"},{\"attributes\":{\"fill_color\":{\"value\":\"#1f77b4\"},\"line_color\":{\"value\":\"#1f77b4\"},\"top\":{\"field\":\"top\"},\"width\":{\"value\":0.9},\"x\":{\"field\":\"x\"}},\"id\":\"1466\",\"type\":\"VBar\"},{\"attributes\":{},\"id\":\"1456\",\"type\":\"ResetTool\"},{\"attributes\":{},\"id\":\"1444\",\"type\":\"CategoricalTicker\"},{\"attributes\":{\"bottom_units\":\"screen\",\"fill_alpha\":{\"value\":0.5},\"fill_color\":{\"value\":\"lightgrey\"},\"left_units\":\"screen\",\"level\":\"overlay\",\"line_alpha\":{\"value\":1.0},\"line_color\":{\"value\":\"black\"},\"line_dash\":[4,4],\"line_width\":{\"value\":2},\"render_mode\":\"css\",\"right_units\":\"screen\",\"top_units\":\"screen\"},\"id\":\"1509\",\"type\":\"BoxAnnotation\"},{\"attributes\":{\"text\":\"Histogram of redTotalGold\"},\"id\":\"1433\",\"type\":\"Title\"},{\"attributes\":{},\"id\":\"1452\",\"type\":\"PanTool\"},{\"attributes\":{},\"id\":\"1441\",\"type\":\"LinearScale\"},{\"attributes\":{},\"id\":\"1508\",\"type\":\"Selection\"},{\"attributes\":{},\"id\":\"1439\",\"type\":\"CategoricalScale\"},{\"attributes\":{\"dimension\":1,\"ticker\":{\"id\":\"1448\",\"type\":\"BasicTicker\"}},\"id\":\"1451\",\"type\":\"Grid\"},{\"attributes\":{\"data_source\":{\"id\":\"1465\",\"type\":\"ColumnDataSource\"},\"glyph\":{\"id\":\"1466\",\"type\":\"VBar\"},\"hover_glyph\":null,\"muted_glyph\":null,\"nonselection_glyph\":{\"id\":\"1467\",\"type\":\"VBar\"},\"selection_glyph\":null,\"view\":{\"id\":\"1469\",\"type\":\"CDSView\"}},\"id\":\"1468\",\"type\":\"GlyphRenderer\"},{\"attributes\":{\"active_drag\":\"auto\",\"active_inspect\":\"auto\",\"active_multi\":null,\"active_scroll\":\"auto\",\"active_tap\":\"auto\",\"tools\":[{\"id\":\"1452\",\"type\":\"PanTool\"},{\"id\":\"1453\",\"type\":\"WheelZoomTool\"},{\"id\":\"1454\",\"type\":\"BoxZoomTool\"},{\"id\":\"1455\",\"type\":\"SaveTool\"},{\"id\":\"1456\",\"type\":\"ResetTool\"},{\"id\":\"1457\",\"type\":\"HelpTool\"}]},\"id\":\"1458\",\"type\":\"Toolbar\"},{\"attributes\":{},\"id\":\"1504\",\"type\":\"CategoricalTickFormatter\"},{\"attributes\":{\"callback\":null,\"data\":{\"top\":[413,2490,3648,2205,726],\"x\":[\"12835\",\"14251\",\"15667\",\"17083\",\"18499\"]},\"selected\":{\"id\":\"1508\",\"type\":\"Selection\"},\"selection_policy\":{\"id\":\"1507\",\"type\":\"UnionRenderers\"}},\"id\":\"1465\",\"type\":\"ColumnDataSource\"},{\"attributes\":{},\"id\":\"1507\",\"type\":\"UnionRenderers\"},{\"attributes\":{},\"id\":\"1455\",\"type\":\"SaveTool\"}],\"root_ids\":[\"1432\"]},\"title\":\"Bokeh Application\",\"version\":\"1.4.0\"}};\n",
       "  var render_items = [{\"docid\":\"9544ddc0-2263-4466-91f7-79422b3ebd9e\",\"roots\":{\"1432\":\"c4cfda9b-091a-4db6-bf2c-64c52dffdb32\"}}];\n",
       "  root.Bokeh.embed.embed_items_notebook(docs_json, render_items);\n",
       "\n",
       "  }\n",
       "  if (root.Bokeh !== undefined) {\n",
       "    embed_document(root);\n",
       "  } else {\n",
       "    var attempts = 0;\n",
       "    var timer = setInterval(function(root) {\n",
       "      if (root.Bokeh !== undefined) {\n",
       "        clearInterval(timer);\n",
       "        embed_document(root);\n",
       "      } else {\n",
       "        attempts++;\n",
       "        if (attempts > 100) {\n",
       "          clearInterval(timer);\n",
       "          console.log(\"Bokeh: ERROR: Unable to run BokehJS code because BokehJS library is missing\");\n",
       "        }\n",
       "      }\n",
       "    }, 10, root)\n",
       "  }\n",
       "})(window);"
      ],
      "application/vnd.bokehjs_exec.v0+json": ""
     },
     "metadata": {
      "application/vnd.bokehjs_exec.v0+json": {
       "id": "1432"
      }
     },
     "output_type": "display_data"
    }
   ],
   "source": [
    "%%local\n",
    "#local magic indicates that this cell will run locally (rather than on cluster)\n",
    "#use Bokeh library ti draw the histogram\n",
    "from bokeh.io import show\n",
    "from bokeh.plotting import figure\n",
    "from bokeh.io import output_notebook\n",
    "output_notebook()\n",
    "\n",
    "labels = [str(round(e, 2)) for e in hist_MPG['bins']]\n",
    "\n",
    "p = figure(\n",
    "    x_range=labels, \n",
    "    plot_height=350, \n",
    "    title='Histogram of redTotalGold'\n",
    ")\n",
    "\n",
    "p.vbar(x=labels, top=hist_MPG['counts'], width=0.9)\n",
    "\n",
    "show(p)\n",
    "#This allows for the dataframe to be graphed as a histogram using the Bokeh library to draw it. Using the bins creating before \n",
    "# we can bin the blueTotalGold values into five total bins to see which bins are most frequent. \n",
    "#The x axis is the bins for total gold, while the y axis is the total amount of games in which that amount of gold was \n",
    "# achieved in the first 10 minutes"
   ]
  },
  {
   "cell_type": "markdown",
   "metadata": {},
   "source": [
    "# Visualizing interactions between features for red team"
   ]
  },
  {
   "cell_type": "code",
   "execution_count": 44,
   "metadata": {},
   "outputs": [
    {
     "data": {
      "application/vnd.jupyter.widget-view+json": {
       "model_id": "",
       "version_major": 2,
       "version_minor": 0
      },
      "text/plain": [
       "FloatProgress(value=0.0, bar_style='info', description='Progress:', layout=Layout(height='25px', width='50%'),…"
      ]
     },
     "metadata": {},
     "output_type": "display_data"
    },
    {
     "data": {
      "application/vnd.jupyter.widget-view+json": {
       "model_id": "",
       "version_major": 2,
       "version_minor": 0
      },
      "text/plain": [
       "FloatProgress(value=0.0, bar_style='info', description='Progress:', layout=Layout(height='25px', width='50%'),…"
      ]
     },
     "metadata": {},
     "output_type": "display_data"
    }
   ],
   "source": [
    "%%spark -o scatter\n",
    "#spark magic moves dataframe to local\n",
    "scatter = (\n",
    "    no_outliers_red\n",
    "    .select('redTotalGold', 'redTotalExperience')\n",
    ")"
   ]
  },
  {
   "cell_type": "code",
   "execution_count": 45,
   "metadata": {},
   "outputs": [
    {
     "data": {
      "text/html": [
       "\n",
       "    <div class=\"bk-root\">\n",
       "        <a href=\"https://bokeh.org\" target=\"_blank\" class=\"bk-logo bk-logo-small bk-logo-notebook\"></a>\n",
       "        <span id=\"1558\">Loading BokehJS ...</span>\n",
       "    </div>"
      ]
     },
     "metadata": {},
     "output_type": "display_data"
    },
    {
     "data": {
      "application/javascript": [
       "\n",
       "(function(root) {\n",
       "  function now() {\n",
       "    return new Date();\n",
       "  }\n",
       "\n",
       "  var force = true;\n",
       "\n",
       "  if (typeof root._bokeh_onload_callbacks === \"undefined\" || force === true) {\n",
       "    root._bokeh_onload_callbacks = [];\n",
       "    root._bokeh_is_loading = undefined;\n",
       "  }\n",
       "\n",
       "  var JS_MIME_TYPE = 'application/javascript';\n",
       "  var HTML_MIME_TYPE = 'text/html';\n",
       "  var EXEC_MIME_TYPE = 'application/vnd.bokehjs_exec.v0+json';\n",
       "  var CLASS_NAME = 'output_bokeh rendered_html';\n",
       "\n",
       "  /**\n",
       "   * Render data to the DOM node\n",
       "   */\n",
       "  function render(props, node) {\n",
       "    var script = document.createElement(\"script\");\n",
       "    node.appendChild(script);\n",
       "  }\n",
       "\n",
       "  /**\n",
       "   * Handle when an output is cleared or removed\n",
       "   */\n",
       "  function handleClearOutput(event, handle) {\n",
       "    var cell = handle.cell;\n",
       "\n",
       "    var id = cell.output_area._bokeh_element_id;\n",
       "    var server_id = cell.output_area._bokeh_server_id;\n",
       "    // Clean up Bokeh references\n",
       "    if (id != null && id in Bokeh.index) {\n",
       "      Bokeh.index[id].model.document.clear();\n",
       "      delete Bokeh.index[id];\n",
       "    }\n",
       "\n",
       "    if (server_id !== undefined) {\n",
       "      // Clean up Bokeh references\n",
       "      var cmd = \"from bokeh.io.state import curstate; print(curstate().uuid_to_server['\" + server_id + \"'].get_sessions()[0].document.roots[0]._id)\";\n",
       "      cell.notebook.kernel.execute(cmd, {\n",
       "        iopub: {\n",
       "          output: function(msg) {\n",
       "            var id = msg.content.text.trim();\n",
       "            if (id in Bokeh.index) {\n",
       "              Bokeh.index[id].model.document.clear();\n",
       "              delete Bokeh.index[id];\n",
       "            }\n",
       "          }\n",
       "        }\n",
       "      });\n",
       "      // Destroy server and session\n",
       "      var cmd = \"import bokeh.io.notebook as ion; ion.destroy_server('\" + server_id + \"')\";\n",
       "      cell.notebook.kernel.execute(cmd);\n",
       "    }\n",
       "  }\n",
       "\n",
       "  /**\n",
       "   * Handle when a new output is added\n",
       "   */\n",
       "  function handleAddOutput(event, handle) {\n",
       "    var output_area = handle.output_area;\n",
       "    var output = handle.output;\n",
       "\n",
       "    // limit handleAddOutput to display_data with EXEC_MIME_TYPE content only\n",
       "    if ((output.output_type != \"display_data\") || (!output.data.hasOwnProperty(EXEC_MIME_TYPE))) {\n",
       "      return\n",
       "    }\n",
       "\n",
       "    var toinsert = output_area.element.find(\".\" + CLASS_NAME.split(' ')[0]);\n",
       "\n",
       "    if (output.metadata[EXEC_MIME_TYPE][\"id\"] !== undefined) {\n",
       "      toinsert[toinsert.length - 1].firstChild.textContent = output.data[JS_MIME_TYPE];\n",
       "      // store reference to embed id on output_area\n",
       "      output_area._bokeh_element_id = output.metadata[EXEC_MIME_TYPE][\"id\"];\n",
       "    }\n",
       "    if (output.metadata[EXEC_MIME_TYPE][\"server_id\"] !== undefined) {\n",
       "      var bk_div = document.createElement(\"div\");\n",
       "      bk_div.innerHTML = output.data[HTML_MIME_TYPE];\n",
       "      var script_attrs = bk_div.children[0].attributes;\n",
       "      for (var i = 0; i < script_attrs.length; i++) {\n",
       "        toinsert[toinsert.length - 1].firstChild.setAttribute(script_attrs[i].name, script_attrs[i].value);\n",
       "      }\n",
       "      // store reference to server id on output_area\n",
       "      output_area._bokeh_server_id = output.metadata[EXEC_MIME_TYPE][\"server_id\"];\n",
       "    }\n",
       "  }\n",
       "\n",
       "  function register_renderer(events, OutputArea) {\n",
       "\n",
       "    function append_mime(data, metadata, element) {\n",
       "      // create a DOM node to render to\n",
       "      var toinsert = this.create_output_subarea(\n",
       "        metadata,\n",
       "        CLASS_NAME,\n",
       "        EXEC_MIME_TYPE\n",
       "      );\n",
       "      this.keyboard_manager.register_events(toinsert);\n",
       "      // Render to node\n",
       "      var props = {data: data, metadata: metadata[EXEC_MIME_TYPE]};\n",
       "      render(props, toinsert[toinsert.length - 1]);\n",
       "      element.append(toinsert);\n",
       "      return toinsert\n",
       "    }\n",
       "\n",
       "    /* Handle when an output is cleared or removed */\n",
       "    events.on('clear_output.CodeCell', handleClearOutput);\n",
       "    events.on('delete.Cell', handleClearOutput);\n",
       "\n",
       "    /* Handle when a new output is added */\n",
       "    events.on('output_added.OutputArea', handleAddOutput);\n",
       "\n",
       "    /**\n",
       "     * Register the mime type and append_mime function with output_area\n",
       "     */\n",
       "    OutputArea.prototype.register_mime_type(EXEC_MIME_TYPE, append_mime, {\n",
       "      /* Is output safe? */\n",
       "      safe: true,\n",
       "      /* Index of renderer in `output_area.display_order` */\n",
       "      index: 0\n",
       "    });\n",
       "  }\n",
       "\n",
       "  // register the mime type if in Jupyter Notebook environment and previously unregistered\n",
       "  if (root.Jupyter !== undefined) {\n",
       "    var events = require('base/js/events');\n",
       "    var OutputArea = require('notebook/js/outputarea').OutputArea;\n",
       "\n",
       "    if (OutputArea.prototype.mime_types().indexOf(EXEC_MIME_TYPE) == -1) {\n",
       "      register_renderer(events, OutputArea);\n",
       "    }\n",
       "  }\n",
       "\n",
       "  \n",
       "  if (typeof (root._bokeh_timeout) === \"undefined\" || force === true) {\n",
       "    root._bokeh_timeout = Date.now() + 5000;\n",
       "    root._bokeh_failed_load = false;\n",
       "  }\n",
       "\n",
       "  var NB_LOAD_WARNING = {'data': {'text/html':\n",
       "     \"<div style='background-color: #fdd'>\\n\"+\n",
       "     \"<p>\\n\"+\n",
       "     \"BokehJS does not appear to have successfully loaded. If loading BokehJS from CDN, this \\n\"+\n",
       "     \"may be due to a slow or bad network connection. Possible fixes:\\n\"+\n",
       "     \"</p>\\n\"+\n",
       "     \"<ul>\\n\"+\n",
       "     \"<li>re-rerun `output_notebook()` to attempt to load from CDN again, or</li>\\n\"+\n",
       "     \"<li>use INLINE resources instead, as so:</li>\\n\"+\n",
       "     \"</ul>\\n\"+\n",
       "     \"<code>\\n\"+\n",
       "     \"from bokeh.resources import INLINE\\n\"+\n",
       "     \"output_notebook(resources=INLINE)\\n\"+\n",
       "     \"</code>\\n\"+\n",
       "     \"</div>\"}};\n",
       "\n",
       "  function display_loaded() {\n",
       "    var el = document.getElementById(\"1558\");\n",
       "    if (el != null) {\n",
       "      el.textContent = \"BokehJS is loading...\";\n",
       "    }\n",
       "    if (root.Bokeh !== undefined) {\n",
       "      if (el != null) {\n",
       "        el.textContent = \"BokehJS \" + root.Bokeh.version + \" successfully loaded.\";\n",
       "      }\n",
       "    } else if (Date.now() < root._bokeh_timeout) {\n",
       "      setTimeout(display_loaded, 100)\n",
       "    }\n",
       "  }\n",
       "\n",
       "\n",
       "  function run_callbacks() {\n",
       "    try {\n",
       "      root._bokeh_onload_callbacks.forEach(function(callback) {\n",
       "        if (callback != null)\n",
       "          callback();\n",
       "      });\n",
       "    } finally {\n",
       "      delete root._bokeh_onload_callbacks\n",
       "    }\n",
       "    console.debug(\"Bokeh: all callbacks have finished\");\n",
       "  }\n",
       "\n",
       "  function load_libs(css_urls, js_urls, callback) {\n",
       "    if (css_urls == null) css_urls = [];\n",
       "    if (js_urls == null) js_urls = [];\n",
       "\n",
       "    root._bokeh_onload_callbacks.push(callback);\n",
       "    if (root._bokeh_is_loading > 0) {\n",
       "      console.debug(\"Bokeh: BokehJS is being loaded, scheduling callback at\", now());\n",
       "      return null;\n",
       "    }\n",
       "    if (js_urls == null || js_urls.length === 0) {\n",
       "      run_callbacks();\n",
       "      return null;\n",
       "    }\n",
       "    console.debug(\"Bokeh: BokehJS not loaded, scheduling load and callback at\", now());\n",
       "    root._bokeh_is_loading = css_urls.length + js_urls.length;\n",
       "\n",
       "    function on_load() {\n",
       "      root._bokeh_is_loading--;\n",
       "      if (root._bokeh_is_loading === 0) {\n",
       "        console.debug(\"Bokeh: all BokehJS libraries/stylesheets loaded\");\n",
       "        run_callbacks()\n",
       "      }\n",
       "    }\n",
       "\n",
       "    function on_error() {\n",
       "      console.error(\"failed to load \" + url);\n",
       "    }\n",
       "\n",
       "    for (var i = 0; i < css_urls.length; i++) {\n",
       "      var url = css_urls[i];\n",
       "      const element = document.createElement(\"link\");\n",
       "      element.onload = on_load;\n",
       "      element.onerror = on_error;\n",
       "      element.rel = \"stylesheet\";\n",
       "      element.type = \"text/css\";\n",
       "      element.href = url;\n",
       "      console.debug(\"Bokeh: injecting link tag for BokehJS stylesheet: \", url);\n",
       "      document.body.appendChild(element);\n",
       "    }\n",
       "\n",
       "    for (var i = 0; i < js_urls.length; i++) {\n",
       "      var url = js_urls[i];\n",
       "      var element = document.createElement('script');\n",
       "      element.onload = on_load;\n",
       "      element.onerror = on_error;\n",
       "      element.async = false;\n",
       "      element.src = url;\n",
       "      console.debug(\"Bokeh: injecting script tag for BokehJS library: \", url);\n",
       "      document.head.appendChild(element);\n",
       "    }\n",
       "  };var element = document.getElementById(\"1558\");\n",
       "  if (element == null) {\n",
       "    console.error(\"Bokeh: ERROR: autoload.js configured with elementid '1558' but no matching script tag was found. \")\n",
       "    return false;\n",
       "  }\n",
       "\n",
       "  function inject_raw_css(css) {\n",
       "    const element = document.createElement(\"style\");\n",
       "    element.appendChild(document.createTextNode(css));\n",
       "    document.body.appendChild(element);\n",
       "  }\n",
       "\n",
       "  \n",
       "  var js_urls = [\"https://cdn.pydata.org/bokeh/release/bokeh-1.4.0.min.js\", \"https://cdn.pydata.org/bokeh/release/bokeh-widgets-1.4.0.min.js\", \"https://cdn.pydata.org/bokeh/release/bokeh-tables-1.4.0.min.js\", \"https://cdn.pydata.org/bokeh/release/bokeh-gl-1.4.0.min.js\"];\n",
       "  var css_urls = [];\n",
       "  \n",
       "\n",
       "  var inline_js = [\n",
       "    function(Bokeh) {\n",
       "      Bokeh.set_log_level(\"info\");\n",
       "    },\n",
       "    function(Bokeh) {\n",
       "    \n",
       "    \n",
       "    }\n",
       "  ];\n",
       "\n",
       "  function run_inline_js() {\n",
       "    \n",
       "    if (root.Bokeh !== undefined || force === true) {\n",
       "      \n",
       "    for (var i = 0; i < inline_js.length; i++) {\n",
       "      inline_js[i].call(root, root.Bokeh);\n",
       "    }\n",
       "    if (force === true) {\n",
       "        display_loaded();\n",
       "      }} else if (Date.now() < root._bokeh_timeout) {\n",
       "      setTimeout(run_inline_js, 100);\n",
       "    } else if (!root._bokeh_failed_load) {\n",
       "      console.log(\"Bokeh: BokehJS failed to load within specified timeout.\");\n",
       "      root._bokeh_failed_load = true;\n",
       "    } else if (force !== true) {\n",
       "      var cell = $(document.getElementById(\"1558\")).parents('.cell').data().cell;\n",
       "      cell.output_area.append_execute_result(NB_LOAD_WARNING)\n",
       "    }\n",
       "\n",
       "  }\n",
       "\n",
       "  if (root._bokeh_is_loading === 0) {\n",
       "    console.debug(\"Bokeh: BokehJS loaded, going straight to plotting\");\n",
       "    run_inline_js();\n",
       "  } else {\n",
       "    load_libs(css_urls, js_urls, function() {\n",
       "      console.debug(\"Bokeh: BokehJS plotting callback run at\", now());\n",
       "      run_inline_js();\n",
       "    });\n",
       "  }\n",
       "}(window));"
      ],
      "application/vnd.bokehjs_load.v0+json": "\n(function(root) {\n  function now() {\n    return new Date();\n  }\n\n  var force = true;\n\n  if (typeof root._bokeh_onload_callbacks === \"undefined\" || force === true) {\n    root._bokeh_onload_callbacks = [];\n    root._bokeh_is_loading = undefined;\n  }\n\n  \n\n  \n  if (typeof (root._bokeh_timeout) === \"undefined\" || force === true) {\n    root._bokeh_timeout = Date.now() + 5000;\n    root._bokeh_failed_load = false;\n  }\n\n  var NB_LOAD_WARNING = {'data': {'text/html':\n     \"<div style='background-color: #fdd'>\\n\"+\n     \"<p>\\n\"+\n     \"BokehJS does not appear to have successfully loaded. If loading BokehJS from CDN, this \\n\"+\n     \"may be due to a slow or bad network connection. Possible fixes:\\n\"+\n     \"</p>\\n\"+\n     \"<ul>\\n\"+\n     \"<li>re-rerun `output_notebook()` to attempt to load from CDN again, or</li>\\n\"+\n     \"<li>use INLINE resources instead, as so:</li>\\n\"+\n     \"</ul>\\n\"+\n     \"<code>\\n\"+\n     \"from bokeh.resources import INLINE\\n\"+\n     \"output_notebook(resources=INLINE)\\n\"+\n     \"</code>\\n\"+\n     \"</div>\"}};\n\n  function display_loaded() {\n    var el = document.getElementById(\"1558\");\n    if (el != null) {\n      el.textContent = \"BokehJS is loading...\";\n    }\n    if (root.Bokeh !== undefined) {\n      if (el != null) {\n        el.textContent = \"BokehJS \" + root.Bokeh.version + \" successfully loaded.\";\n      }\n    } else if (Date.now() < root._bokeh_timeout) {\n      setTimeout(display_loaded, 100)\n    }\n  }\n\n\n  function run_callbacks() {\n    try {\n      root._bokeh_onload_callbacks.forEach(function(callback) {\n        if (callback != null)\n          callback();\n      });\n    } finally {\n      delete root._bokeh_onload_callbacks\n    }\n    console.debug(\"Bokeh: all callbacks have finished\");\n  }\n\n  function load_libs(css_urls, js_urls, callback) {\n    if (css_urls == null) css_urls = [];\n    if (js_urls == null) js_urls = [];\n\n    root._bokeh_onload_callbacks.push(callback);\n    if (root._bokeh_is_loading > 0) {\n      console.debug(\"Bokeh: BokehJS is being loaded, scheduling callback at\", now());\n      return null;\n    }\n    if (js_urls == null || js_urls.length === 0) {\n      run_callbacks();\n      return null;\n    }\n    console.debug(\"Bokeh: BokehJS not loaded, scheduling load and callback at\", now());\n    root._bokeh_is_loading = css_urls.length + js_urls.length;\n\n    function on_load() {\n      root._bokeh_is_loading--;\n      if (root._bokeh_is_loading === 0) {\n        console.debug(\"Bokeh: all BokehJS libraries/stylesheets loaded\");\n        run_callbacks()\n      }\n    }\n\n    function on_error() {\n      console.error(\"failed to load \" + url);\n    }\n\n    for (var i = 0; i < css_urls.length; i++) {\n      var url = css_urls[i];\n      const element = document.createElement(\"link\");\n      element.onload = on_load;\n      element.onerror = on_error;\n      element.rel = \"stylesheet\";\n      element.type = \"text/css\";\n      element.href = url;\n      console.debug(\"Bokeh: injecting link tag for BokehJS stylesheet: \", url);\n      document.body.appendChild(element);\n    }\n\n    for (var i = 0; i < js_urls.length; i++) {\n      var url = js_urls[i];\n      var element = document.createElement('script');\n      element.onload = on_load;\n      element.onerror = on_error;\n      element.async = false;\n      element.src = url;\n      console.debug(\"Bokeh: injecting script tag for BokehJS library: \", url);\n      document.head.appendChild(element);\n    }\n  };var element = document.getElementById(\"1558\");\n  if (element == null) {\n    console.error(\"Bokeh: ERROR: autoload.js configured with elementid '1558' but no matching script tag was found. \")\n    return false;\n  }\n\n  function inject_raw_css(css) {\n    const element = document.createElement(\"style\");\n    element.appendChild(document.createTextNode(css));\n    document.body.appendChild(element);\n  }\n\n  \n  var js_urls = [\"https://cdn.pydata.org/bokeh/release/bokeh-1.4.0.min.js\", \"https://cdn.pydata.org/bokeh/release/bokeh-widgets-1.4.0.min.js\", \"https://cdn.pydata.org/bokeh/release/bokeh-tables-1.4.0.min.js\", \"https://cdn.pydata.org/bokeh/release/bokeh-gl-1.4.0.min.js\"];\n  var css_urls = [];\n  \n\n  var inline_js = [\n    function(Bokeh) {\n      Bokeh.set_log_level(\"info\");\n    },\n    function(Bokeh) {\n    \n    \n    }\n  ];\n\n  function run_inline_js() {\n    \n    if (root.Bokeh !== undefined || force === true) {\n      \n    for (var i = 0; i < inline_js.length; i++) {\n      inline_js[i].call(root, root.Bokeh);\n    }\n    if (force === true) {\n        display_loaded();\n      }} else if (Date.now() < root._bokeh_timeout) {\n      setTimeout(run_inline_js, 100);\n    } else if (!root._bokeh_failed_load) {\n      console.log(\"Bokeh: BokehJS failed to load within specified timeout.\");\n      root._bokeh_failed_load = true;\n    } else if (force !== true) {\n      var cell = $(document.getElementById(\"1558\")).parents('.cell').data().cell;\n      cell.output_area.append_execute_result(NB_LOAD_WARNING)\n    }\n\n  }\n\n  if (root._bokeh_is_loading === 0) {\n    console.debug(\"Bokeh: BokehJS loaded, going straight to plotting\");\n    run_inline_js();\n  } else {\n    load_libs(css_urls, js_urls, function() {\n      console.debug(\"Bokeh: BokehJS plotting callback run at\", now());\n      run_inline_js();\n    });\n  }\n}(window));"
     },
     "metadata": {},
     "output_type": "display_data"
    },
    {
     "data": {
      "text/html": [
       "\n",
       "\n",
       "\n",
       "\n",
       "\n",
       "\n",
       "  <div class=\"bk-root\" id=\"a80169a0-0848-4ae6-aed4-7a1e290d529e\" data-root-id=\"1559\"></div>\n"
      ]
     },
     "metadata": {},
     "output_type": "display_data"
    },
    {
     "data": {
      "application/javascript": [
       "(function(root) {\n",
       "  function embed_document(root) {\n",
       "    \n",
       "  var docs_json = {\"6c697d53-2a0a-4d64-8bb6-b36920a4e3c8\":{\"roots\":{\"references\":[{\"attributes\":{\"below\":[{\"id\":\"1570\",\"type\":\"LinearAxis\"}],\"center\":[{\"id\":\"1574\",\"type\":\"Grid\"},{\"id\":\"1579\",\"type\":\"Grid\"}],\"left\":[{\"id\":\"1575\",\"type\":\"LinearAxis\"}],\"renderers\":[{\"id\":\"1596\",\"type\":\"GlyphRenderer\"}],\"title\":{\"id\":\"1560\",\"type\":\"Title\"},\"toolbar\":{\"id\":\"1586\",\"type\":\"Toolbar\"},\"x_range\":{\"id\":\"1562\",\"type\":\"DataRange1d\"},\"x_scale\":{\"id\":\"1566\",\"type\":\"LinearScale\"},\"y_range\":{\"id\":\"1564\",\"type\":\"DataRange1d\"},\"y_scale\":{\"id\":\"1568\",\"type\":\"LinearScale\"}},\"id\":\"1559\",\"subtype\":\"Figure\",\"type\":\"Plot\"},{\"attributes\":{},\"id\":\"1640\",\"type\":\"BasicTickFormatter\"},{\"attributes\":{},\"id\":\"1581\",\"type\":\"WheelZoomTool\"},{\"attributes\":{},\"id\":\"1576\",\"type\":\"BasicTicker\"},{\"attributes\":{},\"id\":\"1584\",\"type\":\"ResetTool\"},{\"attributes\":{},\"id\":\"1643\",\"type\":\"UnionRenderers\"},{\"attributes\":{},\"id\":\"1642\",\"type\":\"BasicTickFormatter\"},{\"attributes\":{\"active_drag\":\"auto\",\"active_inspect\":\"auto\",\"active_multi\":null,\"active_scroll\":\"auto\",\"active_tap\":\"auto\",\"tools\":[{\"id\":\"1580\",\"type\":\"PanTool\"},{\"id\":\"1581\",\"type\":\"WheelZoomTool\"},{\"id\":\"1582\",\"type\":\"BoxZoomTool\"},{\"id\":\"1583\",\"type\":\"SaveTool\"},{\"id\":\"1584\",\"type\":\"ResetTool\"},{\"id\":\"1585\",\"type\":\"HelpTool\"}]},\"id\":\"1586\",\"type\":\"Toolbar\"},{\"attributes\":{},\"id\":\"1644\",\"type\":\"Selection\"},{\"attributes\":{\"callback\":null},\"id\":\"1562\",\"type\":\"DataRange1d\"},{\"attributes\":{},\"id\":\"1583\",\"type\":\"SaveTool\"},{\"attributes\":{},\"id\":\"1568\",\"type\":\"LinearScale\"},{\"attributes\":{},\"id\":\"1585\",\"type\":\"HelpTool\"},{\"attributes\":{},\"id\":\"1580\",\"type\":\"PanTool\"},{\"attributes\":{\"fill_alpha\":{\"value\":0.1},\"fill_color\":{\"value\":\"#1f77b4\"},\"line_alpha\":{\"value\":0.1},\"line_color\":{\"value\":\"#1f77b4\"},\"size\":{\"units\":\"screen\",\"value\":10},\"x\":{\"field\":\"x\"},\"y\":{\"field\":\"y\"}},\"id\":\"1595\",\"type\":\"Circle\"},{\"attributes\":{\"source\":{\"id\":\"1593\",\"type\":\"ColumnDataSource\"}},\"id\":\"1597\",\"type\":\"CDSView\"},{\"attributes\":{\"callback\":null},\"id\":\"1564\",\"type\":\"DataRange1d\"},{\"attributes\":{},\"id\":\"1566\",\"type\":\"LinearScale\"},{\"attributes\":{\"axis_label\":\"redTotalGold\",\"formatter\":{\"id\":\"1640\",\"type\":\"BasicTickFormatter\"},\"ticker\":{\"id\":\"1571\",\"type\":\"BasicTicker\"}},\"id\":\"1570\",\"type\":\"LinearAxis\"},{\"attributes\":{\"overlay\":{\"id\":\"1645\",\"type\":\"BoxAnnotation\"}},\"id\":\"1582\",\"type\":\"BoxZoomTool\"},{\"attributes\":{\"callback\":null,\"data\":{\"x\":[16567,17620,17285,16478,17404,15201,14463,17920,18380,16605,15143,18200,14591,18393,16192,17011,14505,16827,15400,18149,16080,18713,17027,15500,17535,17887,15918,15369,16154,18187,15249,14350,15830,15563,15810,15790,18192,17395,18432,16715,18508,16222,15371,16036,15872,19311,14154,15599,14955,16659,18033,16046,14356,14959,15166,18350,17259,16576,16534,15645,16053,16554,15590,14336,18227,16885,16074,16580,15887,18491,14714,14205,16450,15494,14785,16348,15360,18505,15711,16120,17107,16046,17272,17230,14467,15924,17515,15933,18680,19344,16326,14102,15684,18003,18045,14789,17180,16544,16907,17147,16311,16345,14800,18461,15590,16070,15884,15239,16808,18422,15645,17062,18463,15564,17723,16035,17881,18439,17537,16748,18814,17233,19395,15132,16513,15529,14469,15572,15897,16715,16903,16806,16687,14574,15484,15273,16939,19160,16266,16866,15101,15517,17740,17961,17461,14814,14413,16120,16698,18048,19251,17447,15959,15565,18139,16384,14589,15881,15294,15901,14487,16000,17862,16556,16492,14132,16621,15647,16571,16284,19479,16664,15754,18605,15880,18023,17192,16096,14605,14639,18001,17465,16878,17396,13817,18828,16866,17206,14164,16307,18344,15135,18030,15588,17052,16062,16840,15124,16553,16298,17200,17640,16016,14237,15469,17244,13740,16754,16270,16285,15209,17660,14693,15571,16846,14897,15892,16045,16427,16143,15328,16312,13974,17101,15841,15408,15186,17402,17065,16782,14992,16849,18128,18112,13946,15622,17595,16917,15142,16692,15293,15349,18217,16662,17517,17475,16129,15041,15647,14284,17317,14436,16876,16267,15212,17597,19378,15700,18538,14332,18547,18678,16422,16362,17815,17103,15171,14317,17867,16482,18499,17436,14691,15383,16182,17328,14884,16306,18308,15098,15771,16461,19384,18152,16246,15015,15785,15407,16676,17157,16093,16145,17382,16958,14949,16007,14759,17173,15608,18635,15449,15015,14024,16185,14338,14233,17538,19838,16820,19597,15947,17471,18381,17289,16757,17642,14952,17275,15483,16235,18728,15063,16392,18415,16667,15628,16639,16414,16293,15772,16810,16253,18260,17154,16178,15110,14655,14466,18059,17798,16676,17449,16259,15227,14763,18345,16070,14471,17536,15152,16932,16655,15104,17662,17938,17799,15796,13979,16982,15264,16839,15583,18241,19096,17043,15065,19315,15804,17414,16241,17879,14155,17226,14966,15952,17797,15376,13780,15830,15374,14776,19773,15647,19068,18339,15485,17334,14211,17718,15833,18915,18219,14889,19913,16604,18478,16367,13717,14871,16813,17020,15599,16326,14553,15884,18270,16702,17020,14393,18626,14792,16356,15917,15276,17169,15740,14520,16209,17271,16846,16562,17367,18940,14864,16033,15819,16519,17040,14728,16391,15393,16643,17993,16568,14702,16041,17447,18490,14458,15105,15553,16282,16483,15148,16104,17052,15565,17081,14652,17840,17423,15453,15771,15280,16261,14196,18242,17628,18074,17341,18906,14169,14252,18528,16739,16641,16464,17898,17242,17064,14871,18501,17258,16233,14625,15711,14837,15401,16010,17956,19189,15419,16971,15674,14684,15421,16175,15034,16150,18426,15760,16676,15167,17735,14791,14488,16566,16605,16850,16839,14599,17610,17798,12988,17228,17449,16609,15726,16888,16537,17945,15517,16598,15765,17726,15078,16327,17007,17498,16553,15397,17079,16740,18683,13509,14422,17011,16805,16143,18358,13603,16173,14707,16433,14802,15429,16910,19751,17634,13310,15156,17248,17063,17306,17876,15405,16259,16283,16706,14910,15237,17357,15896,18220,17111,15625,15082,14348,15245,17093,14674,17113,16931,16407,14779,15678,18477,17300,16298,14701,17486,18638,16994,15219,18022,14703,17705,13794,16466,15122,15374,15773,15352,15903,16939,17708,15050,14634,15051,16956,16782,16775,14886,14123,17368,16531,16499,17988,14996,15689,16490,16934,16393,18208,18380,16654,16566,16931,15171,17045,16811,15126,16232,15580,16023,18114,16215,16509,16169,15983,18618,18474,17685,17294,16146,15408,19525,19051,13782,15209,15887,17209,15568,18413,17405,17025,18569,16819,15319,16535,15021,13788,16116,16293,14746,16493,13641,17104,15538,16265,18768,15819,18937,16218,15315,15499,15570,16275,14881,17510,18779,15620,16872,15901,18348,15140,18347,18178,16808,15858,19731,17062,16731,15689,17836,17696,16277,16546,16417,18055,16085,19049,14312,13596,15867,16080,17542,15916,18137,15060,17230,18012,16123,16667,17770,17017,19058,15233,16016,17813,15195,14554,13990,16072,18601,16709,14415,13795,16061,16481,15735,16422,17057,16346,18104,15539,17272,17658,17931,17193,15928,16067,16665,16596,16733,16750,16898,17382,16262,19182,18296,15641,18944,16127,15264,15760,17117,16009,19549,16730,16846,15279,16479,18591,17783,19031,14903,16186,16545,14549,15522,16972,15781,17733,16320,17318,16873,17655,17569,16561,15291,15415,14717,14872,16204,15963,15132,17794,15382,16638,15700,15759,15431,17535,15828,16200,17195,15113,14029,16464,16840,17052,17502,17855,15334,16905,17342,19225,15860,15641,17734,14053,15783,17932,16370,18567,15674,15186,13501,15967,16411,16909,16932,15980,13528,13600,17686,17370,14996,19391,18898,16028,18519,17521,15190,16613,16117,16022,16855,14656,17152,16998,15042,16703,15694,15050,16413,15030,14371,17555,15333,19705,15520,16145,17490,16206,18252,13664,15725,16182,16244,16570,15354,16529,16081,17149,16642,15535,16677,15276,17330,16213,13399,16248,14411,16314,16338,14836,15203,16549,15379,17279,17079,17790,16206,15788,17271,15531,16620,16219,18130,16603,16088,15860,18062,18727,18520,18244,17143,14573,17299,17435,17097,14160,16002,17065,16849,15962,14097,17199,17110,17495,17699,16513,16148,16301,17155,19827,18069,15221,16804,15444,16035,16240,17045,16184,14802,15616,16788,15547,16698,17234,17860,14438,16325,15924,17321,15129,14847,16452,16145,18526,15574,17859,16451,15601,15577,15496,17192,18006,17127,16089,16579,16850,17957,18565,14582,16929,14858,19184,18438,17156,16972,16295,14762,16557,16854,18307,19444,19518,14952,15372,16997,18642,16554,14800,18023,16168,13691,16389,14313,15743,16109,16947,19020,16132,16439,16778,18211,16444,16144,19407,18042,17381,16577,14677,15961,15665,16046,16470,15498,16310,16844,14954,18640,19430,14642,14094,16590,17286,16360,16830,16226,16583,17853,17986,16904,16389,17816,15999,16304,15583,19876,16024,15922,18328,15397,16781,16382,16037,18150,16860,16443,18273,15950,16606,16606,17186,17541,14644,14787,16058,14470,15337,15773,16112,16570,16975,16069,16419,15143,14223,14223,17895,16512,14806,15843,18328,19065,17004,16575,16688,16640,18409,17272,15801,17871,15937,15168,15520,13806,16590,17088,18097,17342,15955,15040,15404,17658,19555,17255,14697,16644,17178,16006,16427,14306,19221,16239,17520,16352,16536,15161,14923,16116,18551,16626,15698,16048,18844,14666,14602,17207,17169,17499,15552,16117,15145,14756,15355,16349,16102,17309,17404,15369,16178,18102,14851,15126,18519,17517,14809,16219,15371,15320,14768,16510,15442,17200,16891,14566,14514,17374,16014,13570,15215,16187,13634,16387,14894,15786,15408,14749,15938,15807,18429,16552,16121,16098,16653,16838,15782,17158,17589,18925,17935,17176,17321,17079,17570,16254,15053,15645,16406,17952,16234,18891,15816,19306,16850,15621,15590,18797,17300,18058,15117,15595,17315,16726,14537,14374,14617,18464,18282,15694,18424,18417,16787,15777,15223,18001,14838,15880,15942,14267,17816,16747,16025,17121,16912,14037,14451,17791,16115,15053,15244,16381,15970,15594,17376,15827,17603,17020,16789,19219,15414,16859,15950,14440,18553,17252,15661,17343,14885,16777,17770,15057,14670,17358,18903,14895,16973,16313,16520,15439,19277,18481,17550,14256,13876,14751,16064,15953,16096,14831,18828,15192,16712,17127,16541,16526,16840,18559,14512,14880,18488,17161,16192,14825,14379,15737,14991,16651,15608,18027,15791,16874,15381,18220,16558,18221,17571,16832,16648,16211,17492,16171,16032,16038,19754,17498,18198,16115,16724,16126,17527,15840,15362,16616,14621,16199,17311,18652,16621,17038,14592,18201,14525,19370,16942,14410,14751,14855,15719,17118,14645,17389,16701,15382,17584,14830,13835,19018,15597,13931,13704,17197,14657,15964,16460,15100,16418,14368,15927,15680,14532,19668,16589,15414,16307,17111,15042,17080,17822,16410,17535,17043,17329,19898,16900,16096,14757,14752,17893,17344,18922,16610,17673,17338,15887,15853,17194,15055,17566,17667,16181,16852,16424,17092,17194,16930,19116,15100,16260,16984,15878,16057,19288,16149,16436,19145,17022,16881,15136,17796,16280,17302,19284,17887,17327,16126,15302,19618,19132,16768,16484,15511,16808,17648,14580,14692,15071,15491,18564,19168,16882,15845,15466,14273,14688,14217,16378,14833,17634,16228,15962,14752,17532,16817,15134,19663,16971,14756,17428,14867,17806,17525,15464,15279,18149,16809,15991,16298,17389,17984,17930,15680,15831,14938,14425,15599,14905,16332,16709,13431,15700,17483,17720,16176,16345,15829,15186,18580,14886,16959,15243,16157,16654,15293,16259,15021,16504,17360,14859,17663,17025,17143,15760,17773,16099,17399,17030,17624,16181,14759,16323,15603,15533,17722,16532,17801,17853,15343,16414,17036,17809,16053,18074,16569,16254,16522,16515,18609,15382,15393,16116,17283,14601,18435,17363,14679,16332,16613,15580,16220,16811,15380,15687,15067,16254,15939,16065,16256,17326,14229,18522,15208,17282,16242,14595,17282,17832,16713,15026,16557,16888,15731,14847,19099,14519,16705,16273,14765,15839,15531,16841,16704,17026,16122,14499,17517,15599,19346,16518,16913,18341,14991,16487,15672,14778,17413,14819,14673,14559,15283,17572,16385,14195,17152,16872,16626,15747,15528,15499,16687,17464,14413,15653,15912,15333,19696,14584,17972,15519,14747,15694,18450,16428,16680,14419,16989,18165,18407,16034,16318,16486,16989,15523,14940,17027,16410,17756,19079,17396,16565,17166,15348,16328,15833,16531,14562,18849,14844,16916,16441,15273,16460,14763,17998,17262,14119,15902,15087,15945,16003,17009,14937,19708,15501,13735,17414,17041,13163,19722,15472,17144,15777,16763,19423,17082,15729,16567,19382,15623,17412,16835,16677,15504,19402,15853,17962,14980,17863,16041,19740,14589,19527,17065,15179,15600,16474,15241,14527,16378,16285,17161,14364,16987,16321,15763,17716,18778,16897,15543,18449,16784,16388,17189,15628,16133,16266,18086,16585,14430,16943,16016,15284,16257,17988,17256,16573,16072,16201,14953,16662,19433,17624,16288,17117,16716,14747,16541,16513,15739,14406,15653,15533,16077,17435,16954,17306,15104,14936,16570,15112,15545,15705,17379,14511,17475,16249,17429,16379,16198,17013,16377,15755,17613,16745,17002,15242,17323,15538,16651,15252,14642,15005,18768,16650,15677,17059,14750,18957,16447,16012,17883,16838,15981,15082,18456,17869,18303,18506,15912,16573,16098,16918,15733,14963,17655,17171,16731,17667,15706,15209,14000,16061,13945,15055,13987,14827,18072,15007,16860,16097,16411,16521,17646,17743,18230,15389,14278,15264,15622,15418,15399,17106,15866,16727,18590,16615,17008,17754,18890,15165,16139,14776,13636,19157,15206,16497,14192,17019,15460,17103,15660,16207,14913,14925,19757,17427,14848,15938,19424,14546,16089,15809,15207,15296,15924,17110,19371,15825,15117,16130,14260,15881,18629,15011,14899,19358,17137,16268,15929,15230,16099,15659,17231,18286,16696,16208,18184,16426,18030,15620,18716,14130,17412,17559,15889,14745,16181,15343,16194,18185,18053,16753,16354,17885,18514,19570,19449,15444,15813,15344,16866,17578,14874,16042,15915,14122,15790,17472,17193,16596,15553,16639,15178,16952,16523,17056,16190,16639,16213,16652,14983,14471,17109,17894,15263,16864,15319,15714,18430,15621,19069,18323,16769,15702,16267,17100,19085,17537,18209,17081,15070,17175,15592,16056,16340,15195,15442,15244,15410,18283,15308,17811,15753,14548,18039,17166,15751,15379,16310,15908,15803,15306,16760,16251,19307,18042,17895,15682,15148,15109,16032,15457,16180,16197,19433,17611,17796,16839,17855,16392,16127,15883,18796,15309,14972,17394,14007,16526,17177,16631,18037,16683,17619,16304,17886,15358,17393,18500,13742,16670,19754,15226,15644,14910,18027,16670,15711,15666,16088,19636,15898,19802,16870,14779,17544,14570,15444,16862,17652,15133,15298,18899,15606,15866,19259,17267,17319,16294,16978,15327,15103,16792,15820,14892,13297,15823,15533,15945,16391,14883,16990,17501,17869,16813,14760,16919,15264,19480,15009,14945,15585,15967,16943,17580,16285,16174,17723,14963,15491,15125,15686,16710,14382,16045,17124,18309,16645,14121,16949,16381,14550,14954,16324,16561,14387,17790,16884,16613,15729,15840,16619,18141,17408,14928,17113,17361,16794,18481,16688,15914,14241,15446,17928,18437,14744,16219,19875,13367,15095,15807,17112,19615,16252,17475,16908,17318,14545,18132,15161,14945,15906,14902,15983,17056,19358,17695,14829,17485,16074,17714,16153,16217,16813,18909,18990,14216,15260,17742,18499,15761,17587,17127,16917,17171,15041,14641,17607,17568,18177,16171,13953,17124,15171,15137,16343,16202,15261,17432,18178,16400,13621,15942,15454,15422,15141,14652,16884,15917,18808,15888,13925,17508,19891,15608,16679,15994,16806,13960,14981,14867,16492,16876,16846,17207,15078,14907,15112,15656,14086,14336,15610,16752,18526,17204,16684,17288,17227,19586,15542,15295,16501,15128,16895,17235,15746,15852,15417,15190,17275,15784,15335,15900,14041,15244,15992,17604,17319,16258,15638,15381,15391,16384,16107,16530,15836,17399,17267,14118,16586,14764,17414,18728,15778,13962,15407,15252,16548,16581,16377,13567,17832,14716,18412,13529,15703,16266,16238,16989,15793,17384,16996,16447,16119,15328,17721,18170,13917,17010,16740,17306,18611,15761,15730,16842,16075,14748,17926,15180,15664,17944,19168,15764,15276,15946,17500,17027,16101,17582,15595,16906,17666,16212,18958,17178,17666,14808,16074,14614,17016,17746,19070,15465,16242,14824,17567,15881,15442,14968,17850,16842,16902,18282,18565,15322,18817,16563,16479,15995,17450,16197,17525,18804,14167,16241,17093,15261,17501,19578,17175,16260,17689,14888,17912,16668,14784,17811,15380,15334,16947,16716,16125,15884,17302,15767,14100,19668,16252,15546,18519,16499,15714,15844,16647,16871,17824,16447,15414,14255,16157,18662,16534,18354,19121,16757,17784,16123,16643,14080,19472,18431,16995,16050,14394,15983,17641,15317,18315,16667,19282,15645,16015,16673,16590,16273,16147,18055,16437,17929,14889,15425,19041,15660,16197,18773,14864,17105,14990,13836,17480,13332,18554,19163,14109,16352,15759,17295,15917,15490,15384,15452,14501,16433,15698,17118,14068,18219,15505,16961,15732,15480,17891,15472,15844,18848,15710,14066,17077,15967,14177,16265,14668,15570,17567,14872,15966,15644,17020,17080,16037,15000,17380,16762,16645,15256,16465,17835,15216,15383,14974,17816,16014,16888,16892,15704,14009,15980,18393,15339,16385,17407,14791,16173,14347,15729,16687,15244,16308,18821,15749,16933,14885,18283,18732,15432,16071,17317,16505,18094,16848,14432,16131,15017,16699,16932,15575,16050,16902,17974,16688,17512,16917,15927,19742,17750,15332,15846,15367,18682,16925,17253,16828,17413,17503,15721,17249,17410,17711,15585,16561,16437,15260,16467,15832,17148,16508,15560,16810,15089,18265,15038,19232,16542,16124,16727,13856,13156,16044,17373,15411,19473,17650,14237,15463,15241,15421,16974,14902,17129,14978,14544,14456,14914,15135,17036,15619,15797,15969,18264,17162,15340,14594,13713,15995,17187,16982,17437,19539,18659,16798,19253,14484,14728,15813,17557,16827,15086,17797,19203,14542,14153,17011,14420,17689,14738,15741,17477,15300,14602,17457,17026,14798,14952,15419,16664,15216,16933,14423,16863,15152,17355,18403,14077,17199,14727,16044],\"y\":[17047,17438,17254,17961,18313,18060,15404,16938,19298,18379,18196,19142,17443,18354,18083,18778,17484,18233,16866,20697,17629,19766,18129,17936,16730,17114,17909,16967,17849,19621,15965,15710,17074,16714,18204,16444,20401,18952,18232,18195,19195,17818,17045,17916,18657,19708,16393,17107,17454,19021,17815,18209,17617,18185,18840,20445,19444,17815,18348,17306,17828,17167,18521,16737,20356,19612,18361,17969,18722,18093,16638,16915,17765,18640,15710,19644,16182,18230,17410,19064,19071,16587,17970,17853,16621,17818,18977,17376,19325,20509,17787,16443,16658,19454,19132,16898,18507,18021,18070,18276,17735,17505,16988,18419,17122,18113,18176,18523,17402,19710,16591,19614,18966,18271,19295,17064,18874,20356,18530,18129,19958,18024,18798,17321,18602,17141,17378,18031,18646,18317,18194,17772,17496,16321,17687,16426,16291,19051,19056,17806,16101,16773,18532,18542,17469,17340,18196,17679,17336,18431,18698,19185,16020,16382,20523,18334,15747,16722,18008,18472,17403,16390,17973,18137,18239,17224,17678,16704,18571,18067,19664,18287,17190,18227,18614,18788,19966,19124,15786,16312,19452,18908,19539,17859,17614,19403,19147,18836,16414,18914,18683,17571,20537,18217,17076,18690,16748,17643,19499,17999,18834,19332,17758,17766,17764,17110,16769,18574,18490,18450,17448,19993,17331,17847,19732,16561,18139,17675,18188,17855,16821,17570,16405,19444,17839,16563,16913,18757,19934,16621,17055,18781,17978,18659,16483,17766,19425,19029,16428,18915,15846,17593,20169,17005,18855,18734,17184,17046,16620,15478,18308,17805,18486,19135,17740,18356,20702,16539,18848,17059,19654,18656,20099,17604,18676,17877,17316,17129,19846,18128,18719,18812,16658,18103,18547,19158,18662,16810,18739,17385,18736,17894,18603,20057,18186,18491,17204,17870,17575,16891,17357,18941,18503,17831,18823,16911,17107,19025,18184,19942,18048,16394,15890,17801,17247,17274,18506,20174,16307,17287,19322,19234,18216,19100,17365,18458,16624,18016,18006,17320,17306,17830,16925,19020,16981,17720,18030,17531,19102,15518,17734,18464,18834,18512,18020,17751,18116,15416,19555,18293,18078,20145,17383,16729,16952,20212,17957,15790,18896,17826,18586,18371,16478,18676,19316,19755,17671,16621,18873,17329,18857,17004,20201,18907,16790,18691,18448,16205,19010,17526,18781,16858,17244,17944,16785,17881,16961,17399,18107,17887,17063,19513,17658,18484,19980,18233,18773,17468,18137,17026,17012,17893,17347,19260,17118,18530,18699,16875,16564,19793,18235,17707,18576,16021,17246,19684,18392,17995,16825,18359,17103,19467,18448,16628,15684,17450,15494,16295,19691,17859,19170,18559,20164,17372,17584,17131,19520,19160,16891,17093,16970,17556,18263,18715,16455,17827,17438,19886,18176,16570,17473,15919,19278,18524,17315,18328,17166,18875,17587,19343,17680,17417,18231,17267,17541,16931,19481,17627,17607,17905,20038,16123,17396,18744,18980,18644,18467,18614,18997,16944,15631,20549,17596,18213,17519,17063,16606,17777,18133,18421,17969,16685,18591,17240,17730,16635,16259,17050,16781,20117,18310,18266,15346,19104,17878,16519,18958,18013,18399,17295,16713,18384,18967,15357,18308,19078,19318,18307,17897,18522,18224,17502,20286,16079,18200,16503,17335,18649,18889,18621,16592,17912,17942,18484,16348,16389,19656,19185,18099,17949,16618,18357,16435,18728,18093,17029,17915,18610,19169,15982,17619,18123,17966,18231,17378,17438,17955,19227,19985,15699,17954,17653,18747,18881,18355,17191,17274,17373,16043,16929,15691,17083,19130,17689,16150,16820,18177,19490,17486,16641,17798,19817,18634,15426,19470,15869,20260,15507,18886,16983,17576,15885,18565,18264,19374,17999,16188,17586,17398,18836,19418,19086,15892,15440,18376,18897,18434,20442,17118,17624,18046,19707,18760,19316,17205,17852,18767,18579,17226,16681,17349,17574,18080,18559,18325,19531,18843,19164,17986,19872,18783,16887,17714,19186,17513,17653,18229,18726,17629,17877,18612,18322,17338,19876,19686,18392,17796,17173,16205,19040,16370,15594,17527,18102,17920,16030,17219,17260,16741,18039,18836,17581,20334,17954,16265,18160,17590,18751,18392,19655,17624,17370,19025,18178,20017,17429,18616,16533,16405,18543,19559,18999,17080,16609,19691,18874,18904,18766,18279,19295,17043,19468,17726,15567,17864,18026,20330,17514,19050,17364,18178,19198,18013,18184,18754,19050,18482,18407,17812,18938,15650,16122,17210,16806,19670,17492,17735,15719,18272,19122,18168,17978,17995,17941,18178,16260,16581,19595,18540,15819,18337,17192,18925,18826,16021,19314,18561,17374,17785,19512,19007,18321,19022,18352,18145,17798,19565,17909,17869,17948,19454,17961,18197,19016,20200,20070,17532,18223,15491,15565,18272,15440,18353,18056,17732,17790,19658,19289,17546,17314,17771,16685,15726,16805,17481,17951,18019,17417,16555,18607,18317,17401,16792,17327,16943,17927,18954,16301,17479,17212,18390,18420,17342,17470,16644,16289,18380,19824,15920,17419,19867,16672,17154,19765,18335,18306,17467,16185,16203,17455,17656,19070,17187,18112,16161,16234,18632,17747,17350,19967,19385,16438,19811,18312,17297,18713,17849,18870,18419,17077,18630,18970,17593,18645,17508,17721,18308,16388,16945,19176,16699,20038,17002,19416,17225,17078,19305,16652,17918,19119,17887,17523,16522,17309,17850,17924,18527,19011,18791,17649,18346,18780,15994,18370,16979,17880,18575,16657,16829,18295,17263,19097,17834,18548,17917,17702,18963,16529,17955,19282,17050,17843,18198,17628,17794,18020,18687,18336,16892,16050,18799,17994,18248,16386,18678,17012,19732,18618,18064,18079,16750,17816,17501,17866,17747,17854,18918,18795,16648,15905,19097,18550,18851,17331,18413,17812,17246,16739,17371,18321,17996,19034,18838,17265,17854,17050,19486,17616,16439,17858,17960,19679,17483,20038,18946,18225,17645,17585,18851,18075,17986,17607,17751,19149,16798,18185,17193,17850,16462,19370,20143,18407,17416,18204,17747,17696,18490,18214,19094,19865,15779,17260,18838,18639,16743,18645,18397,18738,17746,17896,16483,19426,17536,20095,18128,18411,18731,17928,18564,18309,20338,19320,18771,19615,18050,15624,16411,17949,18307,18687,16717,19576,17667,18260,17775,19267,17239,15612,18111,16443,18310,18589,18041,19143,18505,18810,16028,17711,19225,18353,19595,16979,18951,17704,16985,18103,15666,18203,18235,19122,18776,18548,19093,18703,18377,17709,18460,18695,17518,17936,17078,18328,17319,18764,18380,18647,18701,18736,18313,15825,17707,17562,16295,18918,19653,17230,17719,20027,18903,19112,18801,18207,19365,18098,19229,17945,18654,17130,17272,17479,16486,19001,19152,20099,19436,18157,16847,16730,19355,18978,18772,18303,18054,17715,17150,18276,16252,20183,17900,18039,17716,17668,17392,16121,17341,19377,19348,17117,16859,18863,15590,16847,18192,15607,17707,17236,17594,17493,16777,17917,18188,16903,19150,18377,17881,19130,18092,17488,15338,18811,18212,16659,18399,17796,16368,17894,19125,18555,18416,17995,17866,17034,19202,18385,15773,18589,18451,15786,17925,17389,17426,17991,17700,18278,16758,19458,18625,16817,18138,18895,18130,18779,17928,18811,18634,19285,17626,18566,18160,17386,18595,17781,17358,17673,18659,17475,19875,19586,20101,18774,18755,17785,18093,17233,18402,17683,18686,18594,18809,16421,16968,18452,18034,19220,17687,19205,18513,19522,17787,17710,18233,17164,17688,18725,17395,16483,18078,18270,17846,17373,16903,17604,16734,17893,17037,16397,16786,17242,17014,19638,16578,19447,18272,18656,18829,16533,17086,16205,16533,18341,17787,18774,18512,16688,18393,19069,18167,18306,18506,18550,16635,19771,15849,17915,17039,20322,19037,17634,16626,16603,16330,16769,17275,17267,18138,19110,18288,18091,18546,18212,17799,17797,19753,18829,16825,18718,17306,16828,17696,17499,18637,18754,18389,18140,16713,17438,18308,16559,19760,17063,19748,18908,18714,17742,16384,18671,18344,17150,18482,18663,18050,18390,17598,19715,18075,18502,18568,17477,18469,18788,17920,18262,19219,18127,18507,16189,18340,15768,18454,17851,16532,16286,16854,17678,18793,17804,18275,17529,17068,17860,16929,16220,19109,17388,17533,15546,16737,18303,16964,16150,17446,16495,17419,18518,18945,16566,20644,18600,17621,18643,17073,15221,17994,17456,18727,18514,17413,17467,20086,20025,17406,16391,16943,18269,18083,20306,18857,18990,18022,17056,17977,19916,17178,17952,18551,18542,17399,17347,18061,18312,18457,19192,17013,17622,17260,18993,17778,17880,16403,17299,19874,17444,18465,18379,18448,18014,18949,17878,17980,18784,17205,17761,18344,20355,19067,16047,18531,18747,18469,15892,17773,16633,17098,19056,19540,19116,17617,16844,15573,16700,16524,17893,16765,18818,17024,16738,17014,18986,18887,17490,19405,16593,16131,18273,17403,17542,17893,17022,17281,19488,18802,17423,16680,18374,17956,19000,16875,17643,16784,17125,17540,17620,17135,16815,16427,17418,18108,16283,18854,17952,18883,18499,19368,17070,17314,17721,18483,18009,17811,18383,15817,18421,18653,17579,18846,19802,17507,16998,17577,16964,18838,18576,19729,17898,18065,19164,17336,17853,19399,19017,17809,17973,16699,18393,19118,17580,16042,19892,16719,17754,18152,18543,18358,18732,19617,17384,18366,17766,18669,18557,16315,17888,17580,17517,19233,16821,16606,18672,17470,19214,18214,17992,16599,18539,16721,18456,17667,17607,17092,16179,19370,18307,16344,17090,18141,18976,18006,16209,19371,15714,18422,19868,17144,17838,18263,18327,18513,18921,17736,17311,19631,17289,18180,18611,18413,17873,16420,18700,16720,16447,18773,17596,17970,16310,18609,18905,18035,16427,17969,19170,18396,18573,18831,19179,16820,19033,15775,18210,17599,16900,20264,17652,17805,18311,18869,16856,18525,15980,17689,16676,17613,19097,19073,19318,18130,16292,18572,18378,16788,16937,18322,19357,18913,17315,19051,19296,17108,18821,17287,19703,17052,19734,16498,19373,18629,17236,17802,17058,18696,18305,17037,17155,17582,17236,18877,18064,17997,19033,18536,15213,18222,17704,15363,19901,19434,17436,17725,18663,19059,17691,18889,18684,18368,18785,19497,18631,16940,16900,19329,17439,17534,18387,19058,19296,18943,17460,19652,16833,17831,17628,18572,16745,17291,16966,19225,18331,17212,18041,18110,17505,19597,17859,17293,16563,17131,17872,17044,18436,16851,18586,17991,17630,19164,16711,19431,17752,15764,18922,19163,18012,17868,17197,18343,17303,18036,20091,17926,16348,18587,18971,16362,19341,16441,19254,18147,16923,17400,18429,18575,19128,17611,18090,17190,18252,17679,17186,17375,16742,16341,16816,19553,17814,17830,17555,17776,18993,16929,18657,17591,18677,15418,19247,18715,17282,17356,18316,16405,16933,18864,19232,18626,17955,19435,17568,18183,19583,18753,16557,17879,18305,19024,19484,17286,17342,19196,17228,18288,17526,19059,19705,17675,18000,18978,17092,17263,17058,17533,16503,17819,16308,16762,19095,16567,17171,18037,17497,16879,18931,19524,18895,17215,18020,15460,16745,17716,17175,16858,15973,17851,19416,20036,18123,17021,19692,17679,17716,17745,16547,19394,18430,18581,17938,17717,17311,16826,17194,19100,16914,17351,18602,18349,17029,17597,19608,18080,19034,16837,18009,16861,18399,16341,20687,16746,18393,17642,15651,18734,19147,16011,18347,19245,18909,17949,18127,17206,18634,18982,18697,19457,18381,17930,19678,18226,18789,17580,20066,17510,19466,17502,18306,16879,18522,18060,18745,17926,19301,17559,18409,19837,19452,18675,18371,17043,19133,17453,18385,18579,17575,16763,18064,16346,18915,19444,17664,18131,17105,18217,18118,17915,18161,18187,18838,17701,17540,17939,15817,16344,18507,19078,18085,19440,18045,16913,18284,16810,18427,17952,19196,18743,17790,17998,19575,18932,18717,18660,18018,18865,15951,18657,18435,17918,18289,17144,17372,20336,18478,19847,17313,17783,17532,18229,16676,18485,17929,18918,17515,16923,19271,18520,19534,18224,17587,16747,17485,18173,18846,17795,17531,18658,20181,17738,19271,19304,18813,18805,18782,18314,19572,18191,16946,19408,17080,17638,19083,19260,19651,18627,17494,17123,17775,16071,18048,19673,15916,18758,19682,18108,18078,17889,16913,19536,18001,17292,18548,20551,17073,19189,17210,17031,18739,15506,17668,18967,18159,15314,16724,19418,16967,17572,20546,17254,17177,19313,19590,17384,16016,18000,17525,16385,15582,18194,18658,17646,16727,18165,17995,19899,18902,17922,17283,19598,16137,20029,17209,17883,18388,15947,17504,20375,17339,15334,18731,16687,17047,17142,19670,17417,16469,19557,18673,19293,19879,16063,18269,17644,17867,18057,17358,17331,17685,17848,16043,18249,16637,18037,17803,18944,19241,17496,19458,19391,18729,19696,18127,16950,17375,18290,19464,19756,15288,17744,20351,16312,16614,16722,18133,19359,18425,19533,18251,19161,16087,19691,18672,17864,16584,16257,18168,16415,18743,19035,18165,17185,18959,19088,17363,17426,18254,19188,17898,18450,19054,17561,19641,15719,17401,18000,18605,17707,18487,17525,18733,18446,18334,18065,16666,19254,17273,16994,17869,18501,16698,18233,19766,18361,16605,18594,17979,17753,16636,18066,19386,18771,18876,17501,16934,17852,19880,17156,17580,18410,18594,16002,16060,15965,17597,17409,19655,17704,17504,18658,17621,17000,15766,17528,17540,17830,17062,17888,18015,19614,17188,18620,16618,16915,19256,17767,18785,19495,16696,16856,17987,17432,19695,17676,17237,18301,16474,18505,19058,18536,19234,19389,18696,17759,17030,17791,16678,18318,18283,19051,19591,15996,18343,16196,17981,19032,17377,16439,17823,16620,19611,17991,17894,15702,19007,17869,18225,16442,16338,17381,19230,16945,16997,17537,17887,18762,18678,16739,19722,19026,16482,18704,17086,17068,19931,17792,19078,18719,19044,16811,16737,18167,18093,18702,18631,16984,17589,17643,19744,19471,17833,17241,16417,18237,18533,19055,19187,18672,20156,16692,17147,16726,17765,19120,19267,18584,18295,16634,18801,17990,18969,16569,17413,18148,18127,19661,19940,17530,18589,17825,17791,18031,19128,18332,17693,18236,15867,16249,17241,19085,19623,18921,18253,17489,18768,16815,17680,18744,16179,18988,16766,17826,19035,19026,18018,17733,17550,16605,16871,19815,16516,16616,18139,17594,18015,17358,18885,17649,19344,18010,18095,17448,18549,19751,19538,19176,17754,18189,18419,17099,16938,16043,19342,19409,17138,16682,16807,16676,18293,18185,20086,17824,18227,17418,19208,18289,18833,17516,17394,18356,18187,18219,16308,17699,19482,16639,17851,18881,17020,18919,17067,16068,17630,15682,19043,20451,16485,18093,18044,17744,17995,17402,18689,17788,16495,18384,16699,17747,16190,19331,17996,18775,16517,16465,18365,17507,17521,20129,17106,17414,17022,18353,15808,18218,15569,18364,17526,17201,17836,18203,19216,18123,18556,16413,19708,19360,17768,17474,17241,16936,16525,16836,17352,18246,18025,17142,17658,17932,16578,18264,18443,17019,18026,17645,17538,18352,15760,16638,18857,18279,18317,19060,18580,18438,16927,18398,20059,18103,17353,18379,19425,19192,17442,16551,17680,17245,16719,16645,16567,18525,19204,16174,18985,19555,16828,17444,18645,18578,16457,17286,18287,18200,17996,17964,18226,19793,17565,18597,19131,18717,18165,18072,18670,18730,17845,18927,18132,18645,17667,17525,18867,17895,18449,16190,20258,17856,17273,17381,16258,16124,16621,18968,15996,17773,17071,16820,18777,17938,18625,17332,17539,20285,16747,18338,16029,16366,17083,19523,18342,18453,18208,19153,18010,17151,17621,16489,18042,19367,18419,18911,18998,18596,19010,17672,15735,16788,18400,19154,17492,17205,18580,18782,17366,15974,19168,16262,19221,16604,18607,17953,15305,17176,18503,19210,17862,17283,16629,17631,17035,18252,16386,18174,18325,19184,19952,17382,18247,16745,17739]},\"selected\":{\"id\":\"1644\",\"type\":\"Selection\"},\"selection_policy\":{\"id\":\"1643\",\"type\":\"UnionRenderers\"}},\"id\":\"1593\",\"type\":\"ColumnDataSource\"},{\"attributes\":{\"axis_label\":\"redTotalExperience\",\"formatter\":{\"id\":\"1642\",\"type\":\"BasicTickFormatter\"},\"ticker\":{\"id\":\"1576\",\"type\":\"BasicTicker\"}},\"id\":\"1575\",\"type\":\"LinearAxis\"},{\"attributes\":{\"text\":\"Relationship between redTotalGold and redTotalExperience\"},\"id\":\"1560\",\"type\":\"Title\"},{\"attributes\":{\"ticker\":{\"id\":\"1571\",\"type\":\"BasicTicker\"}},\"id\":\"1574\",\"type\":\"Grid\"},{\"attributes\":{\"data_source\":{\"id\":\"1593\",\"type\":\"ColumnDataSource\"},\"glyph\":{\"id\":\"1594\",\"type\":\"Circle\"},\"hover_glyph\":null,\"muted_glyph\":null,\"nonselection_glyph\":{\"id\":\"1595\",\"type\":\"Circle\"},\"selection_glyph\":null,\"view\":{\"id\":\"1597\",\"type\":\"CDSView\"}},\"id\":\"1596\",\"type\":\"GlyphRenderer\"},{\"attributes\":{\"fill_alpha\":{\"value\":0.2},\"fill_color\":{\"value\":\"#1f77b4\"},\"line_color\":{\"value\":\"#1f77b4\"},\"size\":{\"units\":\"screen\",\"value\":10},\"x\":{\"field\":\"x\"},\"y\":{\"field\":\"y\"}},\"id\":\"1594\",\"type\":\"Circle\"},{\"attributes\":{\"bottom_units\":\"screen\",\"fill_alpha\":{\"value\":0.5},\"fill_color\":{\"value\":\"lightgrey\"},\"left_units\":\"screen\",\"level\":\"overlay\",\"line_alpha\":{\"value\":1.0},\"line_color\":{\"value\":\"black\"},\"line_dash\":[4,4],\"line_width\":{\"value\":2},\"render_mode\":\"css\",\"right_units\":\"screen\",\"top_units\":\"screen\"},\"id\":\"1645\",\"type\":\"BoxAnnotation\"},{\"attributes\":{\"dimension\":1,\"ticker\":{\"id\":\"1576\",\"type\":\"BasicTicker\"}},\"id\":\"1579\",\"type\":\"Grid\"},{\"attributes\":{},\"id\":\"1571\",\"type\":\"BasicTicker\"}],\"root_ids\":[\"1559\"]},\"title\":\"Bokeh Application\",\"version\":\"1.4.0\"}};\n",
       "  var render_items = [{\"docid\":\"6c697d53-2a0a-4d64-8bb6-b36920a4e3c8\",\"roots\":{\"1559\":\"a80169a0-0848-4ae6-aed4-7a1e290d529e\"}}];\n",
       "  root.Bokeh.embed.embed_items_notebook(docs_json, render_items);\n",
       "\n",
       "  }\n",
       "  if (root.Bokeh !== undefined) {\n",
       "    embed_document(root);\n",
       "  } else {\n",
       "    var attempts = 0;\n",
       "    var timer = setInterval(function(root) {\n",
       "      if (root.Bokeh !== undefined) {\n",
       "        clearInterval(timer);\n",
       "        embed_document(root);\n",
       "      } else {\n",
       "        attempts++;\n",
       "        if (attempts > 100) {\n",
       "          clearInterval(timer);\n",
       "          console.log(\"Bokeh: ERROR: Unable to run BokehJS code because BokehJS library is missing\");\n",
       "        }\n",
       "      }\n",
       "    }, 10, root)\n",
       "  }\n",
       "})(window);"
      ],
      "application/vnd.bokehjs_exec.v0+json": ""
     },
     "metadata": {
      "application/vnd.bokehjs_exec.v0+json": {
       "id": "1559"
      }
     },
     "output_type": "display_data"
    }
   ],
   "source": [
    "%%local\n",
    "from bokeh.io import show\n",
    "from bokeh.plotting import figure\n",
    "from bokeh.io import output_notebook\n",
    "output_notebook()\n",
    "p = figure(title = 'Relationship between redTotalGold and redTotalExperience')\n",
    "p.xaxis.axis_label = 'redTotalGold'\n",
    "p.yaxis.axis_label = 'redTotalExperience'\n",
    "\n",
    "p.circle(  list(scatter['redTotalGold'])\n",
    "         , list(scatter['redTotalExperience'])\n",
    "         , fill_alpha=0.2, size=10)\n",
    "\n",
    "show(p)\n",
    "# This will create a scatterplot with the independent variables blueTotalGold and blueTotalExperience with gold being on the \n",
    "# x axis and experience being on the y axis. According to the chart the more gold you earnthe more experience you have as well.\n",
    "# Important to note is that this is for the red team"
   ]
  },
  {
   "cell_type": "markdown",
   "metadata": {},
   "source": [
    "# Correlations and their interpretations"
   ]
  },
  {
   "cell_type": "code",
   "execution_count": 46,
   "metadata": {},
   "outputs": [
    {
     "data": {
      "application/vnd.jupyter.widget-view+json": {
       "model_id": "418e26d5a7c848828043536761bc3e39",
       "version_major": 2,
       "version_minor": 0
      },
      "text/plain": [
       "VBox()"
      ]
     },
     "metadata": {},
     "output_type": "display_data"
    },
    {
     "data": {
      "application/vnd.jupyter.widget-view+json": {
       "model_id": "",
       "version_major": 2,
       "version_minor": 0
      },
      "text/plain": [
       "FloatProgress(value=0.0, bar_style='info', description='Progress:', layout=Layout(height='25px', width='50%'),…"
      ]
     },
     "metadata": {},
     "output_type": "display_data"
    }
   ],
   "source": [
    "features2  = ['blueWins','blueWardsPlaced', 'blueWardsDestroyed', 'blueFirstBlood', 'blueKills', 'blueDeaths', 'blueAssists',\n",
    "             'blueEliteMonsters', 'blueDragons','blueHeralds', 'blueTowersDestroyed', 'blueTotalGold', 'blueAvgLevel', \n",
    "             'blueTotalExperience', 'blueTotalMinionsKilled', 'blueTotalJungleMinionsKilled', 'blueGoldDiff', 'blueExperienceDiff',\n",
    "             'blueCSPerMin', 'blueGoldPerMin','redWardsPlaced', 'redWardsDestroyed', 'redFirstBlood', 'redKills',\n",
    "              'redDeaths', 'redAssists', 'redEliteMonsters','redDragons' 'redHeralds', 'redTowersDestroyed', 'redTotalGold',\n",
    "              'redAvgLevel' 'redTotalExperience', 'redTotalMinionsKilled', 'redTotalJungleMinionsKilled', 'redGoldDiff',\n",
    "              'redExperienceDiff', 'redCSPerMin', 'redGoldPerMin']\n"
   ]
  },
  {
   "cell_type": "code",
   "execution_count": 47,
   "metadata": {},
   "outputs": [
    {
     "data": {
      "application/vnd.jupyter.widget-view+json": {
       "model_id": "",
       "version_major": 2,
       "version_minor": 0
      },
      "text/plain": [
       "FloatProgress(value=0.0, bar_style='info', description='Progress:', layout=Layout(height='25px', width='50%'),…"
      ]
     },
     "metadata": {},
     "output_type": "display_data"
    },
    {
     "name": "stdout",
     "output_type": "stream",
     "text": [
      "DenseMatrix([[ 1.00000000e+00,  9.85127864e-04,  5.36108277e-03, ...,\n",
      "               1.23149964e-02, -5.11760838e-03, -1.06220957e-02],\n",
      "             [ 9.85127864e-04,  1.00000000e+00,  8.69510920e-05, ...,\n",
      "              -4.89557917e-01, -2.12171464e-01, -4.11396247e-01],\n",
      "             [ 5.36108277e-03,  8.69510920e-05,  1.00000000e+00, ...,\n",
      "              -2.79429861e-02, -1.23948584e-02, -5.68542932e-03],\n",
      "             ...,\n",
      "             [ 1.23149964e-02, -4.89557917e-01, -2.79429861e-02, ...,\n",
      "               1.00000000e+00,  4.37205393e-01,  7.21189732e-01],\n",
      "             [-5.11760838e-03, -2.12171464e-01, -1.23948584e-02, ...,\n",
      "               4.37205393e-01,  1.00000000e+00,  2.78714964e-01],\n",
      "             [-1.06220957e-02, -4.11396247e-01, -5.68542932e-03, ...,\n",
      "               7.21189732e-01,  2.78714964e-01,  1.00000000e+00]])"
     ]
    },
    {
     "data": {
      "application/vnd.jupyter.widget-view+json": {
       "model_id": "",
       "version_major": 2,
       "version_minor": 0
      },
      "text/plain": [
       "FloatProgress(value=0.0, bar_style='info', description='Progress:', layout=Layout(height='25px', width='50%'),…"
      ]
     },
     "metadata": {},
     "output_type": "display_data"
    }
   ],
   "source": [
    "%%spark -o corr\n",
    "#This creates a matrix of all the blue team variables, which measured the correlation between one another \n",
    "import pyspark.ml.feature as feat\n",
    "import pyspark.ml.stat as st\n",
    "\n",
    "features_and_label = feat.VectorAssembler(\n",
    "    inputCols=games.columns\n",
    "    , outputCol='features'\n",
    ")\n",
    "\n",
    "corr = st.Correlation.corr(\n",
    "    features_and_label.transform(games), \n",
    "    'features', \n",
    "    'pearson'\n",
    ")\n",
    "\n",
    "print(str(corr.collect()[0][0]))"
   ]
  },
  {
   "cell_type": "code",
   "execution_count": 48,
   "metadata": {},
   "outputs": [],
   "source": [
    "%%local\n",
    "#this cell exports the correlation matrix to csv\n",
    "import numpy as np\n",
    "import pandas as pd\n",
    "output_np = np.array(corr.iloc[0, 0]['values']).reshape(\n",
    "    (corr.iloc[0, 0]['numRows'], corr.iloc[0, 0]['numCols']))\n",
    "pd.DataFrame(output_np).to_csv('mycsv.csv')"
   ]
  },
  {
   "cell_type": "markdown",
   "metadata": {},
   "source": [
    "# Data transformation"
   ]
  },
  {
   "cell_type": "code",
   "execution_count": 49,
   "metadata": {},
   "outputs": [
    {
     "data": {
      "application/vnd.jupyter.widget-view+json": {
       "model_id": "b0f378838a664e47b32bfe34a17025f4",
       "version_major": 2,
       "version_minor": 0
      },
      "text/plain": [
       "VBox()"
      ]
     },
     "metadata": {},
     "output_type": "display_data"
    },
    {
     "data": {
      "application/vnd.jupyter.widget-view+json": {
       "model_id": "",
       "version_major": 2,
       "version_minor": 0
      },
      "text/plain": [
       "FloatProgress(value=0.0, bar_style='info', description='Progress:', layout=Layout(height='25px', width='50%'),…"
      ]
     },
     "metadata": {},
     "output_type": "display_data"
    }
   ],
   "source": [
    "#Do you need to normalize your data?\n",
    "#For machine learning, every dataset does not require normalization. It is required only when features have different ranges."
   ]
  },
  {
   "cell_type": "code",
   "execution_count": 50,
   "metadata": {},
   "outputs": [
    {
     "data": {
      "application/vnd.jupyter.widget-view+json": {
       "model_id": "d6df40062e48481da23ec5478c4db73b",
       "version_major": 2,
       "version_minor": 0
      },
      "text/plain": [
       "VBox()"
      ]
     },
     "metadata": {},
     "output_type": "display_data"
    },
    {
     "data": {
      "application/vnd.jupyter.widget-view+json": {
       "model_id": "",
       "version_major": 2,
       "version_minor": 0
      },
      "text/plain": [
       "FloatProgress(value=0.0, bar_style='info', description='Progress:', layout=Layout(height='25px', width='50%'),…"
      ]
     },
     "metadata": {},
     "output_type": "display_data"
    }
   ],
   "source": [
    "#Do you need to binarize some of the columns?\n",
    "#Our dataset doesn't require any entity into vectors of binary numbers. Thus, we don't need to binarize the columns."
   ]
  },
  {
   "cell_type": "code",
   "execution_count": 51,
   "metadata": {},
   "outputs": [
    {
     "data": {
      "application/vnd.jupyter.widget-view+json": {
       "model_id": "f99858b0f7ff48479927a930eb9a2b89",
       "version_major": 2,
       "version_minor": 0
      },
      "text/plain": [
       "VBox()"
      ]
     },
     "metadata": {},
     "output_type": "display_data"
    },
    {
     "data": {
      "application/vnd.jupyter.widget-view+json": {
       "model_id": "",
       "version_major": 2,
       "version_minor": 0
      },
      "text/plain": [
       "FloatProgress(value=0.0, bar_style='info', description='Progress:', layout=Layout(height='25px', width='50%'),…"
      ]
     },
     "metadata": {},
     "output_type": "display_data"
    }
   ],
   "source": [
    "#Do you need to create dummies? If yes, n or n-1 dummies?\n",
    "#We don't need it. Most of our variables are numeric so we don't need to create any dummy variables."
   ]
  },
  {
   "cell_type": "markdown",
   "metadata": {},
   "source": [
    "# Modeling"
   ]
  },
  {
   "cell_type": "code",
   "execution_count": 52,
   "metadata": {},
   "outputs": [
    {
     "data": {
      "application/vnd.jupyter.widget-view+json": {
       "model_id": "f18574e034024830a98c953ff4da7630",
       "version_major": 2,
       "version_minor": 0
      },
      "text/plain": [
       "VBox()"
      ]
     },
     "metadata": {},
     "output_type": "display_data"
    },
    {
     "data": {
      "application/vnd.jupyter.widget-view+json": {
       "model_id": "",
       "version_major": 2,
       "version_minor": 0
      },
      "text/plain": [
       "FloatProgress(value=0.0, bar_style='info', description='Progress:', layout=Layout(height='25px', width='50%'),…"
      ]
     },
     "metadata": {},
     "output_type": "display_data"
    }
   ],
   "source": [
    "#This will specify where the data is coming from \n",
    "forest_path = 's3://cis4567-mitchell/HadoopCluster/high_diamond_ranked_10min.csv'\n",
    "\n",
    "forest = spark.read.csv(\n",
    "    forest_path\n",
    "    , header=True\n",
    "    , inferSchema=True\n",
    ")"
   ]
  },
  {
   "cell_type": "markdown",
   "metadata": {},
   "source": [
    "## Chi-Square selector"
   ]
  },
  {
   "cell_type": "code",
   "execution_count": 53,
   "metadata": {},
   "outputs": [
    {
     "data": {
      "application/vnd.jupyter.widget-view+json": {
       "model_id": "c7bf6049a71e47088f953d383066a5eb",
       "version_major": 2,
       "version_minor": 0
      },
      "text/plain": [
       "VBox()"
      ]
     },
     "metadata": {},
     "output_type": "display_data"
    },
    {
     "data": {
      "application/vnd.jupyter.widget-view+json": {
       "model_id": "",
       "version_major": 2,
       "version_minor": 0
      },
      "text/plain": [
       "FloatProgress(value=0.0, bar_style='info', description='Progress:', layout=Layout(height='25px', width='50%'),…"
      ]
     },
     "metadata": {},
     "output_type": "display_data"
    },
    {
     "name": "stdout",
     "output_type": "stream",
     "text": [
      "{'ml_attr': {'attrs': {'numeric': [{'idx': 0, 'name': 'blueFirstBlood'}, {'idx': 1, 'name': 'blueKills'}, {'idx': 2, 'name': 'blueDeaths'}, {'idx': 3, 'name': 'blueAssists'}, {'idx': 4, 'name': 'blueEliteMonsters'}, {'idx': 5, 'name': 'blueDragons'}, {'idx': 6, 'name': 'blueHeralds'}, {'idx': 7, 'name': 'blueTowersDestroyed'}, {'idx': 8, 'name': 'blueAvgLevel'}, {'idx': 9, 'name': 'blueTotalMinionsKilled'}]}, 'num_attrs': 10}}"
     ]
    }
   ],
   "source": [
    "#This will run the vector assembler which uses the independent variables, then runs it throught the Chi-Square selector\n",
    "#to establish which of those features is most influential on the dependent variable (blueWins)\n",
    "import pyspark.sql.functions as f\n",
    "import pyspark.ml.feature as feat\n",
    "import numpy as np\n",
    "from pyspark.ml import Pipeline\n",
    "#exclude the label blueWins from features vector\n",
    "vectorAssembler = feat.VectorAssembler(\n",
    "    inputCols=forest.columns[2:]\n",
    "    , outputCol='features'\n",
    ")\n",
    "\n",
    "#select top 10 features, store in a new column named selected\n",
    "selector = feat.ChiSqSelector(\n",
    "    labelCol='blueWins'\n",
    "    , numTopFeatures=10\n",
    "    , outputCol='selected')\n",
    "\n",
    "pipeline_sel = Pipeline(stages=[vectorAssembler, selector])\n",
    "\n",
    "model = (\n",
    "    pipeline_sel\n",
    "    .fit(forest)\n",
    "    .transform(forest)\n",
    ")\n",
    "\n",
    "#print selected features\n",
    "model.schema['selected'].metadata"
   ]
  },
  {
   "cell_type": "code",
   "execution_count": 54,
   "metadata": {},
   "outputs": [
    {
     "data": {
      "application/vnd.jupyter.widget-view+json": {
       "model_id": "f2cb2fa10c2c4926bd4e4d6c9fdfbd74",
       "version_major": 2,
       "version_minor": 0
      },
      "text/plain": [
       "VBox()"
      ]
     },
     "metadata": {},
     "output_type": "display_data"
    },
    {
     "data": {
      "application/vnd.jupyter.widget-view+json": {
       "model_id": "",
       "version_major": 2,
       "version_minor": 0
      },
      "text/plain": [
       "FloatProgress(value=0.0, bar_style='info', description='Progress:', layout=Layout(height='25px', width='50%'),…"
      ]
     },
     "metadata": {},
     "output_type": "display_data"
    },
    {
     "name": "stdout",
     "output_type": "stream",
     "text": [
      "[('__class__', <class 'pyspark.ml.feature.ChiSqSelector'>), ('__del__', <bound method JavaWrapper.__del__ of ChiSqSelector_ab12eb5aedc0>), ('__delattr__', <method-wrapper '__delattr__' of ChiSqSelector object at 0x7fe743cd8208>), ('__dict__', {'_input_kwargs': {'labelCol': 'blueWins', 'numTopFeatures': 10, 'outputCol': 'selected'}, 'uid': 'ChiSqSelector_ab12eb5aedc0', '_paramMap': {Param(parent='ChiSqSelector_ab12eb5aedc0', name='labelCol', doc='label column name.'): 'blueWins', Param(parent='ChiSqSelector_ab12eb5aedc0', name='numTopFeatures', doc='Number of features that selector will select, ordered by ascending p-value. If the number of features is < numTopFeatures, then this will select all features.'): 10, Param(parent='ChiSqSelector_ab12eb5aedc0', name='outputCol', doc='output column name.'): 'selected'}, '_defaultParamMap': {Param(parent='ChiSqSelector_ab12eb5aedc0', name='labelCol', doc='label column name.'): 'label', Param(parent='ChiSqSelector_ab12eb5aedc0', name='outputCol', doc='output column name.'): 'ChiSqSelector_ab12eb5aedc0__output', Param(parent='ChiSqSelector_ab12eb5aedc0', name='featuresCol', doc='features column name.'): 'features', Param(parent='ChiSqSelector_ab12eb5aedc0', name='numTopFeatures', doc='Number of features that selector will select, ordered by ascending p-value. If the number of features is < numTopFeatures, then this will select all features.'): 50, Param(parent='ChiSqSelector_ab12eb5aedc0', name='selectorType', doc='The selector type of the ChisqSelector. Supported options: numTopFeatures (default), percentile, fpr, fdr, fwe.'): 'numTopFeatures', Param(parent='ChiSqSelector_ab12eb5aedc0', name='percentile', doc='Percentile of features that selector will select, ordered by ascending p-value.'): 0.1, Param(parent='ChiSqSelector_ab12eb5aedc0', name='fpr', doc='The highest p-value for features to be kept.'): 0.05, Param(parent='ChiSqSelector_ab12eb5aedc0', name='fdr', doc='The upper bound of the expected false discovery rate.'): 0.05, Param(parent='ChiSqSelector_ab12eb5aedc0', name='fwe', doc='The upper bound of the expected family-wise error rate.'): 0.05}, '_params': [Param(parent='ChiSqSelector_ab12eb5aedc0', name='fdr', doc='The upper bound of the expected false discovery rate.'), Param(parent='ChiSqSelector_ab12eb5aedc0', name='featuresCol', doc='features column name.'), Param(parent='ChiSqSelector_ab12eb5aedc0', name='fpr', doc='The highest p-value for features to be kept.'), Param(parent='ChiSqSelector_ab12eb5aedc0', name='fwe', doc='The upper bound of the expected family-wise error rate.'), Param(parent='ChiSqSelector_ab12eb5aedc0', name='labelCol', doc='label column name.'), Param(parent='ChiSqSelector_ab12eb5aedc0', name='numTopFeatures', doc='Number of features that selector will select, ordered by ascending p-value. If the number of features is < numTopFeatures, then this will select all features.'), Param(parent='ChiSqSelector_ab12eb5aedc0', name='outputCol', doc='output column name.'), Param(parent='ChiSqSelector_ab12eb5aedc0', name='percentile', doc='Percentile of features that selector will select, ordered by ascending p-value.'), Param(parent='ChiSqSelector_ab12eb5aedc0', name='selectorType', doc='The selector type of the ChisqSelector. Supported options: numTopFeatures (default), percentile, fpr, fdr, fwe.')], 'fdr': Param(parent='ChiSqSelector_ab12eb5aedc0', name='fdr', doc='The upper bound of the expected false discovery rate.'), 'featuresCol': Param(parent='ChiSqSelector_ab12eb5aedc0', name='featuresCol', doc='features column name.'), 'fpr': Param(parent='ChiSqSelector_ab12eb5aedc0', name='fpr', doc='The highest p-value for features to be kept.'), 'fwe': Param(parent='ChiSqSelector_ab12eb5aedc0', name='fwe', doc='The upper bound of the expected family-wise error rate.'), 'labelCol': Param(parent='ChiSqSelector_ab12eb5aedc0', name='labelCol', doc='label column name.'), 'numTopFeatures': Param(parent='ChiSqSelector_ab12eb5aedc0', name='numTopFeatures', doc='Number of features that selector will select, ordered by ascending p-value. If the number of features is < numTopFeatures, then this will select all features.'), 'outputCol': Param(parent='ChiSqSelector_ab12eb5aedc0', name='outputCol', doc='output column name.'), 'percentile': Param(parent='ChiSqSelector_ab12eb5aedc0', name='percentile', doc='Percentile of features that selector will select, ordered by ascending p-value.'), 'selectorType': Param(parent='ChiSqSelector_ab12eb5aedc0', name='selectorType', doc='The selector type of the ChisqSelector. Supported options: numTopFeatures (default), percentile, fpr, fdr, fwe.'), '_java_obj': JavaObject id=o1036}), ('__dir__', <built-in method __dir__ of ChiSqSelector object at 0x7fe743cd8208>), ('__doc__', '\\n    .. note:: Experimental\\n\\n    Chi-Squared feature selection, which selects categorical features to use for predicting a\\n    categorical label.\\n    The selector supports different selection methods: `numTopFeatures`, `percentile`, `fpr`,\\n    `fdr`, `fwe`.\\n\\n     * `numTopFeatures` chooses a fixed number of top features according to a chi-squared test.\\n\\n     * `percentile` is similar but chooses a fraction of all features\\n       instead of a fixed number.\\n\\n     * `fpr` chooses all features whose p-values are below a threshold,\\n       thus controlling the false positive rate of selection.\\n\\n     * `fdr` uses the `Benjamini-Hochberg procedure <https://en.wikipedia.org/wiki/\\n       False_discovery_rate#Benjamini.E2.80.93Hochberg_procedure>`_\\n       to choose all features whose false discovery rate is below a threshold.\\n\\n     * `fwe` chooses all features whose p-values are below a threshold. The threshold is scaled by\\n       1/numFeatures, thus controlling the family-wise error rate of selection.\\n\\n    By default, the selection method is `numTopFeatures`, with the default number of top features\\n    set to 50.\\n\\n\\n    >>> from pyspark.ml.linalg import Vectors\\n    >>> df = spark.createDataFrame(\\n    ...    [(Vectors.dense([0.0, 0.0, 18.0, 1.0]), 1.0),\\n    ...     (Vectors.dense([0.0, 1.0, 12.0, 0.0]), 0.0),\\n    ...     (Vectors.dense([1.0, 0.0, 15.0, 0.1]), 0.0)],\\n    ...    [\"features\", \"label\"])\\n    >>> selector = ChiSqSelector(numTopFeatures=1, outputCol=\"selectedFeatures\")\\n    >>> model = selector.fit(df)\\n    >>> model.transform(df).head().selectedFeatures\\n    DenseVector([18.0])\\n    >>> model.selectedFeatures\\n    [2]\\n    >>> chiSqSelectorPath = temp_path + \"/chi-sq-selector\"\\n    >>> selector.save(chiSqSelectorPath)\\n    >>> loadedSelector = ChiSqSelector.load(chiSqSelectorPath)\\n    >>> loadedSelector.getNumTopFeatures() == selector.getNumTopFeatures()\\n    True\\n    >>> modelPath = temp_path + \"/chi-sq-selector-model\"\\n    >>> model.save(modelPath)\\n    >>> loadedModel = ChiSqSelectorModel.load(modelPath)\\n    >>> loadedModel.selectedFeatures == model.selectedFeatures\\n    True\\n\\n    .. versionadded:: 2.0.0\\n    '), ('__eq__', <method-wrapper '__eq__' of ChiSqSelector object at 0x7fe743cd8208>), ('__format__', <built-in method __format__ of ChiSqSelector object at 0x7fe743cd8208>), ('__ge__', <method-wrapper '__ge__' of ChiSqSelector object at 0x7fe743cd8208>), ('__getattribute__', <method-wrapper '__getattribute__' of ChiSqSelector object at 0x7fe743cd8208>), ('__gt__', <method-wrapper '__gt__' of ChiSqSelector object at 0x7fe743cd8208>), ('__hash__', <method-wrapper '__hash__' of ChiSqSelector object at 0x7fe743cd8208>), ('__init__', <bound method ChiSqSelector.__init__ of ChiSqSelector_ab12eb5aedc0>), ('__init_subclass__', <built-in method __init_subclass__ of type object at 0x1c0ac18>), ('__le__', <method-wrapper '__le__' of ChiSqSelector object at 0x7fe743cd8208>), ('__lt__', <method-wrapper '__lt__' of ChiSqSelector object at 0x7fe743cd8208>), ('__metaclass__', <class 'abc.ABCMeta'>), ('__module__', 'pyspark.ml.feature'), ('__ne__', <method-wrapper '__ne__' of ChiSqSelector object at 0x7fe743cd8208>), ('__new__', <built-in method __new__ of type object at 0x7fe76a47c6b0>), ('__reduce__', <built-in method __reduce__ of ChiSqSelector object at 0x7fe743cd8208>), ('__reduce_ex__', <built-in method __reduce_ex__ of ChiSqSelector object at 0x7fe743cd8208>), ('__repr__', <bound method Identifiable.__repr__ of ChiSqSelector_ab12eb5aedc0>), ('__setattr__', <method-wrapper '__setattr__' of ChiSqSelector object at 0x7fe743cd8208>), ('__sizeof__', <built-in method __sizeof__ of ChiSqSelector object at 0x7fe743cd8208>), ('__str__', <method-wrapper '__str__' of ChiSqSelector object at 0x7fe743cd8208>), ('__subclasshook__', <built-in method __subclasshook__ of type object at 0x1c0ac18>), ('__weakref__', None), ('_call_java', <bound method JavaWrapper._call_java of ChiSqSelector_ab12eb5aedc0>), ('_clear', <bound method Params._clear of ChiSqSelector_ab12eb5aedc0>), ('_copyValues', <bound method Params._copyValues of ChiSqSelector_ab12eb5aedc0>), ('_copy_params', <bound method Params._copy_params of ChiSqSelector_ab12eb5aedc0>), ('_create_from_java_class', <bound method JavaWrapper._create_from_java_class of <class 'pyspark.ml.feature.ChiSqSelector'>>), ('_create_model', <bound method ChiSqSelector._create_model of ChiSqSelector_ab12eb5aedc0>), ('_create_params_from_java', <bound method JavaParams._create_params_from_java of ChiSqSelector_ab12eb5aedc0>), ('_defaultParamMap', {Param(parent='ChiSqSelector_ab12eb5aedc0', name='labelCol', doc='label column name.'): 'label', Param(parent='ChiSqSelector_ab12eb5aedc0', name='outputCol', doc='output column name.'): 'ChiSqSelector_ab12eb5aedc0__output', Param(parent='ChiSqSelector_ab12eb5aedc0', name='featuresCol', doc='features column name.'): 'features', Param(parent='ChiSqSelector_ab12eb5aedc0', name='numTopFeatures', doc='Number of features that selector will select, ordered by ascending p-value. If the number of features is < numTopFeatures, then this will select all features.'): 50, Param(parent='ChiSqSelector_ab12eb5aedc0', name='selectorType', doc='The selector type of the ChisqSelector. Supported options: numTopFeatures (default), percentile, fpr, fdr, fwe.'): 'numTopFeatures', Param(parent='ChiSqSelector_ab12eb5aedc0', name='percentile', doc='Percentile of features that selector will select, ordered by ascending p-value.'): 0.1, Param(parent='ChiSqSelector_ab12eb5aedc0', name='fpr', doc='The highest p-value for features to be kept.'): 0.05, Param(parent='ChiSqSelector_ab12eb5aedc0', name='fdr', doc='The upper bound of the expected false discovery rate.'): 0.05, Param(parent='ChiSqSelector_ab12eb5aedc0', name='fwe', doc='The upper bound of the expected family-wise error rate.'): 0.05}), ('_dummy', <function Params._dummy at 0x7fe74425bc80>), ('_empty_java_param_map', <function JavaParams._empty_java_param_map at 0x7fe746136a60>), ('_fit', <bound method JavaEstimator._fit of ChiSqSelector_ab12eb5aedc0>), ('_fit_java', <bound method JavaEstimator._fit_java of ChiSqSelector_ab12eb5aedc0>), ('_from_java', <function JavaParams._from_java at 0x7fe746136b70>), ('_input_kwargs', {'labelCol': 'blueWins', 'numTopFeatures': 10, 'outputCol': 'selected'}), ('_java_obj', JavaObject id=o1036), ('_make_java_param_pair', <bound method JavaParams._make_java_param_pair of ChiSqSelector_ab12eb5aedc0>), ('_new_java_array', <function JavaWrapper._new_java_array at 0x7fe7461366a8>), ('_new_java_obj', <function JavaWrapper._new_java_obj at 0x7fe746136620>), ('_paramMap', {Param(parent='ChiSqSelector_ab12eb5aedc0', name='labelCol', doc='label column name.'): 'blueWins', Param(parent='ChiSqSelector_ab12eb5aedc0', name='numTopFeatures', doc='Number of features that selector will select, ordered by ascending p-value. If the number of features is < numTopFeatures, then this will select all features.'): 10, Param(parent='ChiSqSelector_ab12eb5aedc0', name='outputCol', doc='output column name.'): 'selected'}), ('_params', [Param(parent='ChiSqSelector_ab12eb5aedc0', name='fdr', doc='The upper bound of the expected false discovery rate.'), Param(parent='ChiSqSelector_ab12eb5aedc0', name='featuresCol', doc='features column name.'), Param(parent='ChiSqSelector_ab12eb5aedc0', name='fpr', doc='The highest p-value for features to be kept.'), Param(parent='ChiSqSelector_ab12eb5aedc0', name='fwe', doc='The upper bound of the expected family-wise error rate.'), Param(parent='ChiSqSelector_ab12eb5aedc0', name='labelCol', doc='label column name.'), Param(parent='ChiSqSelector_ab12eb5aedc0', name='numTopFeatures', doc='Number of features that selector will select, ordered by ascending p-value. If the number of features is < numTopFeatures, then this will select all features.'), Param(parent='ChiSqSelector_ab12eb5aedc0', name='outputCol', doc='output column name.'), Param(parent='ChiSqSelector_ab12eb5aedc0', name='percentile', doc='Percentile of features that selector will select, ordered by ascending p-value.'), Param(parent='ChiSqSelector_ab12eb5aedc0', name='selectorType', doc='The selector type of the ChisqSelector. Supported options: numTopFeatures (default), percentile, fpr, fdr, fwe.')]), ('_randomUID', <bound method Identifiable._randomUID of <class 'pyspark.ml.feature.ChiSqSelector'>>), ('_resetUid', <bound method Params._resetUid of ChiSqSelector_ab12eb5aedc0>), ('_resolveParam', <bound method Params._resolveParam of ChiSqSelector_ab12eb5aedc0>), ('_set', <bound method Params._set of ChiSqSelector_ab12eb5aedc0>), ('_setDefault', <bound method Params._setDefault of ChiSqSelector_ab12eb5aedc0>), ('_shouldOwn', <bound method Params._shouldOwn of ChiSqSelector_ab12eb5aedc0>), ('_to_java', <bound method JavaParams._to_java of ChiSqSelector_ab12eb5aedc0>), ('_transfer_param_map_from_java', <bound method JavaParams._transfer_param_map_from_java of ChiSqSelector_ab12eb5aedc0>), ('_transfer_param_map_to_java', <bound method JavaParams._transfer_param_map_to_java of ChiSqSelector_ab12eb5aedc0>), ('_transfer_params_from_java', <bound method JavaParams._transfer_params_from_java of ChiSqSelector_ab12eb5aedc0>), ('_transfer_params_to_java', <bound method JavaParams._transfer_params_to_java of ChiSqSelector_ab12eb5aedc0>), ('copy', <bound method JavaParams.copy of ChiSqSelector_ab12eb5aedc0>), ('explainParam', <bound method Params.explainParam of ChiSqSelector_ab12eb5aedc0>), ('explainParams', <bound method Params.explainParams of ChiSqSelector_ab12eb5aedc0>), ('extractParamMap', <bound method Params.extractParamMap of ChiSqSelector_ab12eb5aedc0>), ('fdr', Param(parent='ChiSqSelector_ab12eb5aedc0', name='fdr', doc='The upper bound of the expected false discovery rate.')), ('featuresCol', Param(parent='ChiSqSelector_ab12eb5aedc0', name='featuresCol', doc='features column name.')), ('fit', <bound method Estimator.fit of ChiSqSelector_ab12eb5aedc0>), ('fitMultiple', <bound method Estimator.fitMultiple of ChiSqSelector_ab12eb5aedc0>), ('fpr', Param(parent='ChiSqSelector_ab12eb5aedc0', name='fpr', doc='The highest p-value for features to be kept.')), ('fwe', Param(parent='ChiSqSelector_ab12eb5aedc0', name='fwe', doc='The upper bound of the expected family-wise error rate.')), ('getFdr', <bound method ChiSqSelector.getFdr of ChiSqSelector_ab12eb5aedc0>), ('getFeaturesCol', <bound method HasFeaturesCol.getFeaturesCol of ChiSqSelector_ab12eb5aedc0>), ('getFpr', <bound method ChiSqSelector.getFpr of ChiSqSelector_ab12eb5aedc0>), ('getFwe', <bound method ChiSqSelector.getFwe of ChiSqSelector_ab12eb5aedc0>), ('getLabelCol', <bound method HasLabelCol.getLabelCol of ChiSqSelector_ab12eb5aedc0>), ('getNumTopFeatures', <bound method ChiSqSelector.getNumTopFeatures of ChiSqSelector_ab12eb5aedc0>), ('getOrDefault', <bound method Params.getOrDefault of ChiSqSelector_ab12eb5aedc0>), ('getOutputCol', <bound method HasOutputCol.getOutputCol of ChiSqSelector_ab12eb5aedc0>), ('getParam', <bound method Params.getParam of ChiSqSelector_ab12eb5aedc0>), ('getPercentile', <bound method ChiSqSelector.getPercentile of ChiSqSelector_ab12eb5aedc0>), ('getSelectorType', <bound method ChiSqSelector.getSelectorType of ChiSqSelector_ab12eb5aedc0>), ('hasDefault', <bound method Params.hasDefault of ChiSqSelector_ab12eb5aedc0>), ('hasParam', <bound method Params.hasParam of ChiSqSelector_ab12eb5aedc0>), ('isDefined', <bound method Params.isDefined of ChiSqSelector_ab12eb5aedc0>), ('isSet', <bound method Params.isSet of ChiSqSelector_ab12eb5aedc0>), ('labelCol', Param(parent='ChiSqSelector_ab12eb5aedc0', name='labelCol', doc='label column name.')), ('load', <bound method MLReadable.load of <class 'pyspark.ml.feature.ChiSqSelector'>>), ('numTopFeatures', Param(parent='ChiSqSelector_ab12eb5aedc0', name='numTopFeatures', doc='Number of features that selector will select, ordered by ascending p-value. If the number of features is < numTopFeatures, then this will select all features.')), ('outputCol', Param(parent='ChiSqSelector_ab12eb5aedc0', name='outputCol', doc='output column name.')), ('params', [Param(parent='ChiSqSelector_ab12eb5aedc0', name='fdr', doc='The upper bound of the expected false discovery rate.'), Param(parent='ChiSqSelector_ab12eb5aedc0', name='featuresCol', doc='features column name.'), Param(parent='ChiSqSelector_ab12eb5aedc0', name='fpr', doc='The highest p-value for features to be kept.'), Param(parent='ChiSqSelector_ab12eb5aedc0', name='fwe', doc='The upper bound of the expected family-wise error rate.'), Param(parent='ChiSqSelector_ab12eb5aedc0', name='labelCol', doc='label column name.'), Param(parent='ChiSqSelector_ab12eb5aedc0', name='numTopFeatures', doc='Number of features that selector will select, ordered by ascending p-value. If the number of features is < numTopFeatures, then this will select all features.'), Param(parent='ChiSqSelector_ab12eb5aedc0', name='outputCol', doc='output column name.'), Param(parent='ChiSqSelector_ab12eb5aedc0', name='percentile', doc='Percentile of features that selector will select, ordered by ascending p-value.'), Param(parent='ChiSqSelector_ab12eb5aedc0', name='selectorType', doc='The selector type of the ChisqSelector. Supported options: numTopFeatures (default), percentile, fpr, fdr, fwe.')]), ('percentile', Param(parent='ChiSqSelector_ab12eb5aedc0', name='percentile', doc='Percentile of features that selector will select, ordered by ascending p-value.')), ('read', <bound method JavaMLReadable.read of <class 'pyspark.ml.feature.ChiSqSelector'>>), ('save', <bound method MLWritable.save of ChiSqSelector_ab12eb5aedc0>), ('selectorType', Param(parent='ChiSqSelector_ab12eb5aedc0', name='selectorType', doc='The selector type of the ChisqSelector. Supported options: numTopFeatures (default), percentile, fpr, fdr, fwe.')), ('set', <bound method Params.set of ChiSqSelector_ab12eb5aedc0>), ('setFdr', <bound method ChiSqSelector.setFdr of ChiSqSelector_ab12eb5aedc0>), ('setFeaturesCol', <bound method HasFeaturesCol.setFeaturesCol of ChiSqSelector_ab12eb5aedc0>), ('setFpr', <bound method ChiSqSelector.setFpr of ChiSqSelector_ab12eb5aedc0>), ('setFwe', <bound method ChiSqSelector.setFwe of ChiSqSelector_ab12eb5aedc0>), ('setLabelCol', <bound method HasLabelCol.setLabelCol of ChiSqSelector_ab12eb5aedc0>), ('setNumTopFeatures', <bound method ChiSqSelector.setNumTopFeatures of ChiSqSelector_ab12eb5aedc0>), ('setOutputCol', <bound method HasOutputCol.setOutputCol of ChiSqSelector_ab12eb5aedc0>), ('setParams', <bound method ChiSqSelector.setParams of ChiSqSelector_ab12eb5aedc0>), ('setPercentile', <bound method ChiSqSelector.setPercentile of ChiSqSelector_ab12eb5aedc0>), ('setSelectorType', <bound method ChiSqSelector.setSelectorType of ChiSqSelector_ab12eb5aedc0>), ('uid', 'ChiSqSelector_ab12eb5aedc0'), ('write', <bound method JavaMLWritable.write of ChiSqSelector_ab12eb5aedc0>)]"
     ]
    }
   ],
   "source": [
    "import inspect\n",
    "inspect.getmembers(selector)"
   ]
  },
  {
   "cell_type": "markdown",
   "metadata": {},
   "source": [
    "## Linear SVM"
   ]
  },
  {
   "cell_type": "code",
   "execution_count": 55,
   "metadata": {},
   "outputs": [
    {
     "data": {
      "application/vnd.jupyter.widget-view+json": {
       "model_id": "bf8d9bdc4b874a5195266a09edd3af98",
       "version_major": 2,
       "version_minor": 0
      },
      "text/plain": [
       "VBox()"
      ]
     },
     "metadata": {},
     "output_type": "display_data"
    },
    {
     "data": {
      "application/vnd.jupyter.widget-view+json": {
       "model_id": "",
       "version_major": 2,
       "version_minor": 0
      },
      "text/plain": [
       "FloatProgress(value=0.0, bar_style='info', description='Progress:', layout=Layout(height='25px', width='50%'),…"
      ]
     },
     "metadata": {},
     "output_type": "display_data"
    },
    {
     "name": "stdout",
     "output_type": "stream",
     "text": [
      "DenseVector([-0.0, 0.0028, 0.0657, 0.0182, -0.0175, 0.0111, 0.0579, 0.0726, 0.0371, 0.0769, 0.0, 0.1583, 0.0, 0.0014, 0.0018, 0.0, 0.0, 0.0139, 0.0004, -0.0001, -0.0038, -0.0632, -0.0175, 0.0182, -0.0101, -0.0576, -0.0734, -0.0413, -0.071, -0.0, -0.1289, -0.0, -0.0014, -0.0016, -0.0, -0.0, -0.0143, -0.0004])"
     ]
    }
   ],
   "source": [
    "import pyspark.ml.classification as cl\n",
    "\n",
    "#create a vector of all variables except for the dependent variable\n",
    "vectorAssembler = feat.VectorAssembler(\n",
    "    inputCols=forest.columns[2:]\n",
    "    , outputCol='features')\n",
    "\n",
    "#We will predict the forest cover type equal to 1, that is, \n",
    "#whether the forest is a spruce-fir type; we achieve this by \n",
    "#checking whether CoverType is equal to 1 and \n",
    "#casting the resulting Boolean to an integer (0: false, 1: true)\n",
    "fir_dataset = (\n",
    "    vectorAssembler\n",
    "    .transform(forest)\n",
    "    .withColumn(\n",
    "        'label'\n",
    "        , (f.col('blueWins') == 1).cast('integer'))\n",
    "    .select('label', 'features')\n",
    ")\n",
    "\n",
    "#create a SVM object and fit to data\n",
    "#the default value of label coulmn is label\n",
    "svc_obj = cl.LinearSVC(maxIter=10, regParam=0.01)\n",
    "svc_model = svc_obj.fit(fir_dataset)\n",
    "\n",
    "#examine the model coefficients. SVM is a linear model.\n",
    "svc_model.coefficients"
   ]
  },
  {
   "cell_type": "markdown",
   "metadata": {},
   "source": [
    "## Random Forest classifier"
   ]
  },
  {
   "cell_type": "code",
   "execution_count": 57,
   "metadata": {},
   "outputs": [
    {
     "data": {
      "application/vnd.jupyter.widget-view+json": {
       "model_id": "4fb4af882f334a2995060f9c109327e8",
       "version_major": 2,
       "version_minor": 0
      },
      "text/plain": [
       "VBox()"
      ]
     },
     "metadata": {},
     "output_type": "display_data"
    },
    {
     "data": {
      "application/vnd.jupyter.widget-view+json": {
       "model_id": "",
       "version_major": 2,
       "version_minor": 0
      },
      "text/plain": [
       "FloatProgress(value=0.0, bar_style='info', description='Progress:', layout=Layout(height='25px', width='50%'),…"
      ]
     },
     "metadata": {},
     "output_type": "display_data"
    }
   ],
   "source": [
    "#split into train and test sets\n",
    "forest_train, forest_test = (\n",
    "    forest\n",
    "    .randomSplit([0.6, 0.4], seed=666)\n",
    ")"
   ]
  },
  {
   "cell_type": "code",
   "execution_count": 58,
   "metadata": {},
   "outputs": [
    {
     "data": {
      "application/vnd.jupyter.widget-view+json": {
       "model_id": "92af19559d81428dab29a85c9cf534d0",
       "version_major": 2,
       "version_minor": 0
      },
      "text/plain": [
       "VBox()"
      ]
     },
     "metadata": {},
     "output_type": "display_data"
    },
    {
     "data": {
      "application/vnd.jupyter.widget-view+json": {
       "model_id": "",
       "version_major": 2,
       "version_minor": 0
      },
      "text/plain": [
       "FloatProgress(value=0.0, bar_style='info', description='Progress:', layout=Layout(height='25px', width='50%'),…"
      ]
     },
     "metadata": {},
     "output_type": "display_data"
    },
    {
     "name": "stdout",
     "output_type": "stream",
     "text": [
      "(0.7093239885979051, 0.7095207382866653, 0.7093231162196679)"
     ]
    }
   ],
   "source": [
    "#same as previous, this time using Random Forest. This will run the same features through a random forest classifier and output\n",
    "#the models f1 score, weighted precision and accuracy.\n",
    "import pyspark.ml.evaluation as ev\n",
    "rf_obj = cl.RandomForestClassifier(\n",
    "    labelCol='blueWins'\n",
    "    , featuresCol=selector.getOutputCol()\n",
    "    , minInstancesPerNode=10\n",
    "    , numTrees=12\n",
    ")\n",
    "\n",
    "pipeline = Pipeline(\n",
    "    stages=[vectorAssembler, selector, rf_obj]\n",
    ")\n",
    "\n",
    "pModel = pipeline.fit(forest_train)\n",
    "\n",
    "results_rf = (\n",
    "    pModel\n",
    "    .transform(forest_test)\n",
    "    .select('blueWins', 'probability', 'prediction')\n",
    ")\n",
    "\n",
    "evaluator = ev.MulticlassClassificationEvaluator(\n",
    "    predictionCol='prediction'\n",
    "    , labelCol='blueWins')\n",
    "\n",
    "(\n",
    "    evaluator.evaluate(results_rf)\n",
    "    , evaluator.evaluate(\n",
    "        results_rf\n",
    "        , {evaluator.metricName: 'weightedPrecision'}\n",
    "    )\n",
    "    , evaluator.evaluate(\n",
    "        results_rf\n",
    "        , {evaluator.metricName: 'accuracy'}\n",
    "    )\n",
    ")"
   ]
  },
  {
   "cell_type": "code",
   "execution_count": 59,
   "metadata": {},
   "outputs": [
    {
     "data": {
      "application/vnd.jupyter.widget-view+json": {
       "model_id": "0fe4d717a3e147b198a1a1ccac1fd990",
       "version_major": 2,
       "version_minor": 0
      },
      "text/plain": [
       "VBox()"
      ]
     },
     "metadata": {},
     "output_type": "display_data"
    },
    {
     "data": {
      "application/vnd.jupyter.widget-view+json": {
       "model_id": "",
       "version_major": 2,
       "version_minor": 0
      },
      "text/plain": [
       "FloatProgress(value=0.0, bar_style='info', description='Progress:', layout=Layout(height='25px', width='50%'),…"
      ]
     },
     "metadata": {},
     "output_type": "display_data"
    },
    {
     "name": "stdout",
     "output_type": "stream",
     "text": [
      "+--------+--------------------+----------+\n",
      "|blueWins|         probability|prediction|\n",
      "+--------+--------------------+----------+\n",
      "|       0|[0.74944008223086...|       0.0|\n",
      "|       1|[0.31699502109060...|       1.0|\n",
      "|       0|[0.38234423445084...|       1.0|\n",
      "|       1|[0.19638081268378...|       1.0|\n",
      "|       1|[0.23096362739811...|       1.0|\n",
      "|       0|[0.46476880391575...|       1.0|\n",
      "|       0|[0.56098597980211...|       0.0|\n",
      "|       0|[0.69366014587788...|       0.0|\n",
      "|       0|[0.45309032411332...|       1.0|\n",
      "|       0|[0.80284432868081...|       0.0|\n",
      "|       1|[0.54467690326595...|       0.0|\n",
      "|       0|[0.70377567886481...|       0.0|\n",
      "|       0|[0.55465906150393...|       0.0|\n",
      "|       1|[0.41291260128310...|       1.0|\n",
      "|       1|[0.71160208992096...|       0.0|\n",
      "|       1|[0.19557127757058...|       1.0|\n",
      "|       0|[0.70589798391261...|       0.0|\n",
      "|       1|[0.32294218065936...|       1.0|\n",
      "|       0|[0.81491571368132...|       0.0|\n",
      "|       1|[0.34058453052122...|       1.0|\n",
      "+--------+--------------------+----------+\n",
      "only showing top 20 rows"
     ]
    }
   ],
   "source": [
    "#This will allow you to see the prediction for each game and whether it was correct in predicting the outcome. \n",
    "#3 out of 10 were classified incorrectly. Predicition is around 71%\n",
    "results_rf.show()"
   ]
  },
  {
   "cell_type": "code",
   "execution_count": null,
   "metadata": {},
   "outputs": [],
   "source": []
  }
 ],
 "metadata": {
  "kernelspec": {
   "display_name": "PySpark",
   "language": "",
   "name": "pysparkkernel"
  },
  "language_info": {
   "codemirror_mode": {
    "name": "python",
    "version": 2
   },
   "mimetype": "text/x-python",
   "name": "pyspark",
   "pygments_lexer": "python2"
  }
 },
 "nbformat": 4,
 "nbformat_minor": 4
}
