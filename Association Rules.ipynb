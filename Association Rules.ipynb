{
 "cells": [
  {
   "cell_type": "code",
   "execution_count": 2,
   "metadata": {},
   "outputs": [],
   "source": [
    "import pandas as pd"
   ]
  },
  {
   "cell_type": "code",
   "execution_count": null,
   "metadata": {},
   "outputs": [],
   "source": []
  },
  {
   "cell_type": "code",
   "execution_count": 3,
   "metadata": {},
   "outputs": [
    {
     "data": {
      "text/html": [
       "<div>\n",
       "<style scoped>\n",
       "    .dataframe tbody tr th:only-of-type {\n",
       "        vertical-align: middle;\n",
       "    }\n",
       "\n",
       "    .dataframe tbody tr th {\n",
       "        vertical-align: top;\n",
       "    }\n",
       "\n",
       "    .dataframe thead th {\n",
       "        text-align: right;\n",
       "    }\n",
       "</style>\n",
       "<table border=\"1\" class=\"dataframe\">\n",
       "  <thead>\n",
       "    <tr style=\"text-align: right;\">\n",
       "      <th></th>\n",
       "      <th>Red</th>\n",
       "      <th>White</th>\n",
       "      <th>Blue</th>\n",
       "      <th>Orange</th>\n",
       "      <th>Green</th>\n",
       "      <th>Yellow</th>\n",
       "    </tr>\n",
       "  </thead>\n",
       "  <tbody>\n",
       "    <tr>\n",
       "      <th>0</th>\n",
       "      <td>1</td>\n",
       "      <td>1</td>\n",
       "      <td>0</td>\n",
       "      <td>0</td>\n",
       "      <td>1</td>\n",
       "      <td>0</td>\n",
       "    </tr>\n",
       "    <tr>\n",
       "      <th>1</th>\n",
       "      <td>0</td>\n",
       "      <td>1</td>\n",
       "      <td>0</td>\n",
       "      <td>1</td>\n",
       "      <td>0</td>\n",
       "      <td>0</td>\n",
       "    </tr>\n",
       "    <tr>\n",
       "      <th>2</th>\n",
       "      <td>0</td>\n",
       "      <td>1</td>\n",
       "      <td>1</td>\n",
       "      <td>0</td>\n",
       "      <td>0</td>\n",
       "      <td>0</td>\n",
       "    </tr>\n",
       "    <tr>\n",
       "      <th>3</th>\n",
       "      <td>1</td>\n",
       "      <td>1</td>\n",
       "      <td>0</td>\n",
       "      <td>1</td>\n",
       "      <td>0</td>\n",
       "      <td>0</td>\n",
       "    </tr>\n",
       "    <tr>\n",
       "      <th>4</th>\n",
       "      <td>1</td>\n",
       "      <td>0</td>\n",
       "      <td>1</td>\n",
       "      <td>0</td>\n",
       "      <td>0</td>\n",
       "      <td>0</td>\n",
       "    </tr>\n",
       "    <tr>\n",
       "      <th>5</th>\n",
       "      <td>0</td>\n",
       "      <td>1</td>\n",
       "      <td>1</td>\n",
       "      <td>0</td>\n",
       "      <td>0</td>\n",
       "      <td>0</td>\n",
       "    </tr>\n",
       "    <tr>\n",
       "      <th>6</th>\n",
       "      <td>0</td>\n",
       "      <td>1</td>\n",
       "      <td>0</td>\n",
       "      <td>1</td>\n",
       "      <td>0</td>\n",
       "      <td>0</td>\n",
       "    </tr>\n",
       "    <tr>\n",
       "      <th>7</th>\n",
       "      <td>1</td>\n",
       "      <td>1</td>\n",
       "      <td>1</td>\n",
       "      <td>0</td>\n",
       "      <td>1</td>\n",
       "      <td>0</td>\n",
       "    </tr>\n",
       "    <tr>\n",
       "      <th>8</th>\n",
       "      <td>1</td>\n",
       "      <td>1</td>\n",
       "      <td>1</td>\n",
       "      <td>0</td>\n",
       "      <td>0</td>\n",
       "      <td>0</td>\n",
       "    </tr>\n",
       "    <tr>\n",
       "      <th>9</th>\n",
       "      <td>0</td>\n",
       "      <td>0</td>\n",
       "      <td>0</td>\n",
       "      <td>0</td>\n",
       "      <td>0</td>\n",
       "      <td>1</td>\n",
       "    </tr>\n",
       "  </tbody>\n",
       "</table>\n",
       "</div>"
      ],
      "text/plain": [
       "   Red  White  Blue  Orange  Green  Yellow\n",
       "0    1      1     0       0      1       0\n",
       "1    0      1     0       1      0       0\n",
       "2    0      1     1       0      0       0\n",
       "3    1      1     0       1      0       0\n",
       "4    1      0     1       0      0       0\n",
       "5    0      1     1       0      0       0\n",
       "6    0      1     0       1      0       0\n",
       "7    1      1     1       0      1       0\n",
       "8    1      1     1       0      0       0\n",
       "9    0      0     0       0      0       1"
      ]
     },
     "execution_count": 3,
     "metadata": {},
     "output_type": "execute_result"
    }
   ],
   "source": [
    "df = pd.read_excel('Cellphone Faceplate Transactions.xlsx')\n",
    "df = df.iloc[:, 1:]\n",
    "df"
   ]
  },
  {
   "cell_type": "code",
   "execution_count": 4,
   "metadata": {},
   "outputs": [
    {
     "name": "stdout",
     "output_type": "stream",
     "text": [
      "Collecting apyori\n",
      "  Downloading apyori-1.1.2.tar.gz (8.6 kB)\n",
      "Building wheels for collected packages: apyori\n",
      "  Building wheel for apyori (setup.py): started\n",
      "  Building wheel for apyori (setup.py): finished with status 'done'\n",
      "  Created wheel for apyori: filename=apyori-1.1.2-py3-none-any.whl size=5979 sha256=d8fe6d7e24af05feb1fa5c5b091ec44780bb2d250ccbe327dced17f740246f8e\n",
      "  Stored in directory: c:\\users\\mitchell\\appdata\\local\\pip\\cache\\wheels\\cb\\f6\\e1\\57973c631d27efd1a2f375bd6a83b2a616c4021f24aab84080\n",
      "Successfully built apyori\n",
      "Installing collected packages: apyori\n",
      "Successfully installed apyori-1.1.2\n"
     ]
    }
   ],
   "source": [
    "!pip install apyori"
   ]
  },
  {
   "cell_type": "code",
   "execution_count": 5,
   "metadata": {},
   "outputs": [],
   "source": [
    "a = [2,3,4]"
   ]
  },
  {
   "cell_type": "code",
   "execution_count": 6,
   "metadata": {},
   "outputs": [
    {
     "data": {
      "text/plain": [
       "[3, 4]"
      ]
     },
     "execution_count": 6,
     "metadata": {},
     "output_type": "execute_result"
    }
   ],
   "source": [
    "b = []\n",
    "for number in a:\n",
    "    if number > 2:\n",
    "        b.append(number)\n",
    "b"
   ]
  },
  {
   "cell_type": "code",
   "execution_count": 7,
   "metadata": {},
   "outputs": [
    {
     "data": {
      "text/plain": [
       "[3, 4]"
      ]
     },
     "execution_count": 7,
     "metadata": {},
     "output_type": "execute_result"
    }
   ],
   "source": [
    "#Same thing as above, different syntax\n",
    "#This is called a List Comprehrension\n",
    "c = [m for m in a if m > 2]\n",
    "c"
   ]
  },
  {
   "cell_type": "code",
   "execution_count": 8,
   "metadata": {},
   "outputs": [
    {
     "name": "stdout",
     "output_type": "stream",
     "text": [
      "[['Red', 'White', 'Green'], ['White', 'Orange'], ['White', 'Blue'], ['Red', 'White', 'Orange'], ['Red', 'Blue'], ['White', 'Blue'], ['White', 'Orange'], ['Red', 'White', 'Blue', 'Green'], ['Red', 'White', 'Blue'], ['Yellow']]\n"
     ]
    }
   ],
   "source": [
    "from apyori import apriori\n",
    "records = []  \n",
    "for i in range(df.shape[0]): #df.shape[0]= all rows \n",
    "    records.append([str(df.columns.values[j]) \n",
    "                    for j in range(df.shape[1])  if df.values[i,j] == 1])\n",
    "    #the above statement uses List Comprehensions to transform data. It is equal to the following three statements\n",
    "    #for j in range(df.shape[1]):\n",
    "        #if df.values[i,j] != 0:\n",
    "            #transaction.append(str(df.columns.values[j]))\n",
    "print(records)"
   ]
  },
  {
   "cell_type": "code",
   "execution_count": 9,
   "metadata": {},
   "outputs": [
    {
     "data": {
      "text/plain": [
       "[12, 15]"
      ]
     },
     "execution_count": 9,
     "metadata": {},
     "output_type": "execute_result"
    }
   ],
   "source": [
    "a  = [1,2,3, 12, -2, 15]\n",
    "b=[]\n",
    "for i in a:\n",
    "    if i > 4:\n",
    "        b.append(i)\n",
    "b"
   ]
  },
  {
   "cell_type": "code",
   "execution_count": 10,
   "metadata": {},
   "outputs": [
    {
     "data": {
      "text/plain": [
       "[12, 15]"
      ]
     },
     "execution_count": 10,
     "metadata": {},
     "output_type": "execute_result"
    }
   ],
   "source": [
    "c=[i for i in a if i>4 ]\n",
    "c"
   ]
  },
  {
   "cell_type": "code",
   "execution_count": 11,
   "metadata": {
    "scrolled": true
   },
   "outputs": [
    {
     "name": "stdout",
     "output_type": "stream",
     "text": [
      "[RelationRecord(items=frozenset({'Blue'}), support=0.5, ordered_statistics=[OrderedStatistic(items_base=frozenset(), items_add=frozenset({'Blue'}), confidence=0.5, lift=1.0)]), RelationRecord(items=frozenset({'Red'}), support=0.5, ordered_statistics=[OrderedStatistic(items_base=frozenset(), items_add=frozenset({'Red'}), confidence=0.5, lift=1.0)]), RelationRecord(items=frozenset({'White'}), support=0.8, ordered_statistics=[OrderedStatistic(items_base=frozenset(), items_add=frozenset({'White'}), confidence=0.8, lift=1.0)]), RelationRecord(items=frozenset({'Blue', 'Green'}), support=0.1, ordered_statistics=[OrderedStatistic(items_base=frozenset({'Green'}), items_add=frozenset({'Blue'}), confidence=0.5, lift=1.0)]), RelationRecord(items=frozenset({'Blue', 'Red'}), support=0.3, ordered_statistics=[OrderedStatistic(items_base=frozenset({'Blue'}), items_add=frozenset({'Red'}), confidence=0.6, lift=1.2), OrderedStatistic(items_base=frozenset({'Red'}), items_add=frozenset({'Blue'}), confidence=0.6, lift=1.2)]), RelationRecord(items=frozenset({'Blue', 'White'}), support=0.4, ordered_statistics=[OrderedStatistic(items_base=frozenset(), items_add=frozenset({'Blue', 'White'}), confidence=0.4, lift=1.0), OrderedStatistic(items_base=frozenset({'Blue'}), items_add=frozenset({'White'}), confidence=0.8, lift=1.0), OrderedStatistic(items_base=frozenset({'White'}), items_add=frozenset({'Blue'}), confidence=0.5, lift=1.0)]), RelationRecord(items=frozenset({'Green', 'Red'}), support=0.2, ordered_statistics=[OrderedStatistic(items_base=frozenset({'Green'}), items_add=frozenset({'Red'}), confidence=1.0, lift=2.0), OrderedStatistic(items_base=frozenset({'Red'}), items_add=frozenset({'Green'}), confidence=0.4, lift=2.0)]), RelationRecord(items=frozenset({'Green', 'White'}), support=0.2, ordered_statistics=[OrderedStatistic(items_base=frozenset({'Green'}), items_add=frozenset({'White'}), confidence=1.0, lift=1.25)]), RelationRecord(items=frozenset({'Orange', 'White'}), support=0.3, ordered_statistics=[OrderedStatistic(items_base=frozenset({'Orange'}), items_add=frozenset({'White'}), confidence=1.0, lift=1.25)]), RelationRecord(items=frozenset({'Red', 'White'}), support=0.4, ordered_statistics=[OrderedStatistic(items_base=frozenset(), items_add=frozenset({'Red', 'White'}), confidence=0.4, lift=1.0), OrderedStatistic(items_base=frozenset({'Red'}), items_add=frozenset({'White'}), confidence=0.8, lift=1.0), OrderedStatistic(items_base=frozenset({'White'}), items_add=frozenset({'Red'}), confidence=0.5, lift=1.0)]), RelationRecord(items=frozenset({'Blue', 'Green', 'Red'}), support=0.1, ordered_statistics=[OrderedStatistic(items_base=frozenset({'Green'}), items_add=frozenset({'Blue', 'Red'}), confidence=0.5, lift=1.6666666666666667), OrderedStatistic(items_base=frozenset({'Blue', 'Green'}), items_add=frozenset({'Red'}), confidence=1.0, lift=2.0), OrderedStatistic(items_base=frozenset({'Green', 'Red'}), items_add=frozenset({'Blue'}), confidence=0.5, lift=1.0)]), RelationRecord(items=frozenset({'Blue', 'Green', 'White'}), support=0.1, ordered_statistics=[OrderedStatistic(items_base=frozenset({'Green'}), items_add=frozenset({'Blue', 'White'}), confidence=0.5, lift=1.25), OrderedStatistic(items_base=frozenset({'Blue', 'Green'}), items_add=frozenset({'White'}), confidence=1.0, lift=1.25), OrderedStatistic(items_base=frozenset({'Green', 'White'}), items_add=frozenset({'Blue'}), confidence=0.5, lift=1.0)]), RelationRecord(items=frozenset({'Blue', 'Red', 'White'}), support=0.2, ordered_statistics=[OrderedStatistic(items_base=frozenset({'Blue'}), items_add=frozenset({'Red', 'White'}), confidence=0.4, lift=1.0), OrderedStatistic(items_base=frozenset({'Red'}), items_add=frozenset({'Blue', 'White'}), confidence=0.4, lift=1.0), OrderedStatistic(items_base=frozenset({'Blue', 'Red'}), items_add=frozenset({'White'}), confidence=0.6666666666666667, lift=0.8333333333333334), OrderedStatistic(items_base=frozenset({'Blue', 'White'}), items_add=frozenset({'Red'}), confidence=0.5, lift=1.0), OrderedStatistic(items_base=frozenset({'Red', 'White'}), items_add=frozenset({'Blue'}), confidence=0.5, lift=1.0)]), RelationRecord(items=frozenset({'Green', 'Red', 'White'}), support=0.2, ordered_statistics=[OrderedStatistic(items_base=frozenset({'Green'}), items_add=frozenset({'Red', 'White'}), confidence=1.0, lift=2.5), OrderedStatistic(items_base=frozenset({'Red'}), items_add=frozenset({'Green', 'White'}), confidence=0.4, lift=2.0), OrderedStatistic(items_base=frozenset({'Green', 'Red'}), items_add=frozenset({'White'}), confidence=1.0, lift=1.25), OrderedStatistic(items_base=frozenset({'Green', 'White'}), items_add=frozenset({'Red'}), confidence=1.0, lift=2.0), OrderedStatistic(items_base=frozenset({'Red', 'White'}), items_add=frozenset({'Green'}), confidence=0.5, lift=2.5)]), RelationRecord(items=frozenset({'Orange', 'Red', 'White'}), support=0.1, ordered_statistics=[OrderedStatistic(items_base=frozenset({'Orange', 'Red'}), items_add=frozenset({'White'}), confidence=1.0, lift=1.25)]), RelationRecord(items=frozenset({'Blue', 'Green', 'Red', 'White'}), support=0.1, ordered_statistics=[OrderedStatistic(items_base=frozenset({'Green'}), items_add=frozenset({'Blue', 'Red', 'White'}), confidence=0.5, lift=2.5), OrderedStatistic(items_base=frozenset({'Blue', 'Green'}), items_add=frozenset({'Red', 'White'}), confidence=1.0, lift=2.5), OrderedStatistic(items_base=frozenset({'Green', 'Red'}), items_add=frozenset({'Blue', 'White'}), confidence=0.5, lift=1.25), OrderedStatistic(items_base=frozenset({'Green', 'White'}), items_add=frozenset({'Blue', 'Red'}), confidence=0.5, lift=1.6666666666666667), OrderedStatistic(items_base=frozenset({'Blue', 'Green', 'Red'}), items_add=frozenset({'White'}), confidence=1.0, lift=1.25), OrderedStatistic(items_base=frozenset({'Blue', 'Green', 'White'}), items_add=frozenset({'Red'}), confidence=1.0, lift=2.0), OrderedStatistic(items_base=frozenset({'Blue', 'Red', 'White'}), items_add=frozenset({'Green'}), confidence=0.5, lift=2.5), OrderedStatistic(items_base=frozenset({'Green', 'Red', 'White'}), items_add=frozenset({'Blue'}), confidence=0.5, lift=1.0)])]\n"
     ]
    }
   ],
   "source": [
    "association_rules = apriori(records, min_support=0.1, min_confidence=0.4)  \n",
    "association_rules = list(association_rules)\n",
    "print(association_rules)"
   ]
  },
  {
   "cell_type": "code",
   "execution_count": 12,
   "metadata": {},
   "outputs": [
    {
     "name": "stdout",
     "output_type": "stream",
     "text": [
      "Rule: Blue -> Green\n",
      "Support: 0.1\n",
      "Confidence: 0.5\n",
      "Lift: 1.0\n",
      "=====================================\n",
      "Rule: Blue -> Red\n",
      "Support: 0.3\n",
      "Confidence: 0.6\n",
      "Lift: 1.2\n",
      "=====================================\n",
      "Rule: Blue -> White\n",
      "Support: 0.4\n",
      "Confidence: 0.4\n",
      "Lift: 1.0\n",
      "=====================================\n",
      "Rule: Green -> Red\n",
      "Support: 0.2\n",
      "Confidence: 1.0\n",
      "Lift: 2.0\n",
      "=====================================\n",
      "Rule: Green -> White\n",
      "Support: 0.2\n",
      "Confidence: 1.0\n",
      "Lift: 1.25\n",
      "=====================================\n",
      "Rule: Orange -> White\n",
      "Support: 0.3\n",
      "Confidence: 1.0\n",
      "Lift: 1.25\n",
      "=====================================\n",
      "Rule: Red -> White\n",
      "Support: 0.4\n",
      "Confidence: 0.4\n",
      "Lift: 1.0\n",
      "=====================================\n",
      "Basket: Blue, Green, Red\n",
      "Support: 0.1\n",
      "['Green'] -> ['Blue', 'Red'] , confidence=0.500000, lift=1.666667\n",
      "['Blue', 'Green'] -> ['Red'] , confidence=1.000000, lift=2.000000\n",
      "['Green', 'Red'] -> ['Blue'] , confidence=0.500000, lift=1.000000\n",
      "=====================================\n",
      "Basket: Blue, Green, White\n",
      "Support: 0.1\n",
      "['Green'] -> ['Blue', 'White'] , confidence=0.500000, lift=1.250000\n",
      "['Blue', 'Green'] -> ['White'] , confidence=1.000000, lift=1.250000\n",
      "['Green', 'White'] -> ['Blue'] , confidence=0.500000, lift=1.000000\n",
      "=====================================\n",
      "Basket: Blue, Red, White\n",
      "Support: 0.2\n",
      "['Blue'] -> ['Red', 'White'] , confidence=0.400000, lift=1.000000\n",
      "['Red'] -> ['Blue', 'White'] , confidence=0.400000, lift=1.000000\n",
      "['Blue', 'Red'] -> ['White'] , confidence=0.666667, lift=0.833333\n",
      "['Blue', 'White'] -> ['Red'] , confidence=0.500000, lift=1.000000\n",
      "['Red', 'White'] -> ['Blue'] , confidence=0.500000, lift=1.000000\n",
      "=====================================\n",
      "Basket: Green, Red, White\n",
      "Support: 0.2\n",
      "['Green'] -> ['Red', 'White'] , confidence=1.000000, lift=2.500000\n",
      "['Red'] -> ['Green', 'White'] , confidence=0.400000, lift=2.000000\n",
      "['Green', 'Red'] -> ['White'] , confidence=1.000000, lift=1.250000\n",
      "['Green', 'White'] -> ['Red'] , confidence=1.000000, lift=2.000000\n",
      "['Red', 'White'] -> ['Green'] , confidence=0.500000, lift=2.500000\n",
      "=====================================\n",
      "Basket: Orange, Red, White\n",
      "Support: 0.1\n",
      "['Orange', 'Red'] -> ['White'] , confidence=1.000000, lift=1.250000\n",
      "=====================================\n",
      "Basket: Blue, Green, Red, White\n",
      "Support: 0.1\n",
      "['Green'] -> ['Blue', 'Red', 'White'] , confidence=0.500000, lift=2.500000\n",
      "['Blue', 'Green'] -> ['Red', 'White'] , confidence=1.000000, lift=2.500000\n",
      "['Green', 'Red'] -> ['Blue', 'White'] , confidence=0.500000, lift=1.250000\n",
      "['Green', 'White'] -> ['Blue', 'Red'] , confidence=0.500000, lift=1.666667\n",
      "['Blue', 'Green', 'Red'] -> ['White'] , confidence=1.000000, lift=1.250000\n",
      "['Blue', 'Green', 'White'] -> ['Red'] , confidence=1.000000, lift=2.000000\n",
      "['Blue', 'Red', 'White'] -> ['Green'] , confidence=0.500000, lift=2.500000\n",
      "['Green', 'Red', 'White'] -> ['Blue'] , confidence=0.500000, lift=1.000000\n",
      "=====================================\n"
     ]
    }
   ],
   "source": [
    "for item in association_rules:\n",
    "\n",
    "    # first index of the inner list\n",
    "    # Contains base item and add item\n",
    "    basket_size = len(item[0])\n",
    "    pair = item[0] \n",
    "    items = [x for x in pair]\n",
    "    \n",
    "    if basket_size > 1:\n",
    "        \n",
    "        rule = \"Rule: \" + items[0] + \" -> \" + items[1]\n",
    "        if basket_size >= 3:\n",
    "            rule = \"Basket: \" + items[0]\n",
    "            for i in range(1, basket_size):\n",
    "                rule = rule  + \", \" + items[i] \n",
    "        print(rule)\n",
    "\n",
    "        #second index of the inner list\n",
    "        print(\"Support: \" + str(item[1]))\n",
    "\n",
    "        #third index of the list located at 0th\n",
    "        #of the third index of the inner list\n",
    "\n",
    "        if basket_size == 2:\n",
    "            print(\"Confidence: \" + str(item[2][0][2]))\n",
    "            print(\"Lift: \" + str(item[2][0][3]))\n",
    "        \n",
    "        if len(items) >= 3:\n",
    "            for i in range(len(item[2])):\n",
    "                print([x for x in item[2][i][0]], \"->\", [x for x in item[2][i][1]], ', confidence=%f, lift=%f'% (item[2][i][2], item[2][i][3]))\n",
    "        print(\"=====================================\")"
   ]
  }
 ],
 "metadata": {
  "kernelspec": {
   "display_name": "Python 3",
   "language": "python",
   "name": "python3"
  },
  "language_info": {
   "codemirror_mode": {
    "name": "ipython",
    "version": 3
   },
   "file_extension": ".py",
   "mimetype": "text/x-python",
   "name": "python",
   "nbconvert_exporter": "python",
   "pygments_lexer": "ipython3",
   "version": "3.7.6"
  }
 },
 "nbformat": 4,
 "nbformat_minor": 2
}
