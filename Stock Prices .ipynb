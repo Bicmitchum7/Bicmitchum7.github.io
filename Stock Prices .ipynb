{
 "cells": [
  {
   "cell_type": "code",
   "execution_count": 72,
   "metadata": {},
   "outputs": [],
   "source": [
    "#install alphavantage for real time stock analysis\n",
    "#pip install alphavantage"
   ]
  },
  {
   "cell_type": "code",
   "execution_count": 73,
   "metadata": {},
   "outputs": [],
   "source": [
    "import time\n",
    "import numpy as np\n",
    "import pandas as pd \n",
    "from alpha_vantage.timeseries import TimeSeries"
   ]
  },
  {
   "cell_type": "code",
   "execution_count": 74,
   "metadata": {
    "scrolled": true
   },
   "outputs": [
    {
     "name": "stdout",
     "output_type": "stream",
     "text": [
      "                     1. open  2. high  3. low  4. close  5. volume\n",
      "date                                                              \n",
      "2020-10-20 09:15:00   5.1900   5.1900  5.1800    5.1800     1000.0\n",
      "2020-10-20 09:16:00   5.1800   5.1800  5.1800    5.1800      500.0\n",
      "2020-10-20 09:30:00   5.1900   5.1900  5.1900    5.1900     1003.0\n",
      "2020-10-20 09:31:00   5.2400   5.2400  5.2000    5.2000    39093.0\n",
      "2020-10-20 09:32:00   5.2300   5.2300  5.2300    5.2300      639.0\n",
      "2020-10-20 09:33:00   5.2300   5.2300  5.2250    5.2250     5586.0\n",
      "2020-10-20 09:34:00   5.2468   5.2550  5.2300    5.2550     7701.0\n",
      "2020-10-20 09:35:00   5.2550   5.2550  5.2400    5.2400     5109.0\n",
      "2020-10-20 09:36:00   5.2500   5.2650  5.2500    5.2600    12117.0\n",
      "2020-10-20 09:37:00   5.2650   5.2800  5.2501    5.2550    11195.0\n",
      "2020-10-20 09:38:00   5.2500   5.2500  5.2401    5.2418     7778.0\n",
      "2020-10-20 09:39:00   5.2500   5.2750  5.2500    5.2600     4212.0\n",
      "2020-10-20 09:40:00   5.2600   5.2700  5.2600    5.2700     4448.0\n",
      "2020-10-20 09:41:00   5.2700   5.2850  5.2700    5.2800    20065.0\n",
      "2020-10-20 09:42:00   5.2800   5.2800  5.2749    5.2800     2107.0\n",
      "2020-10-20 09:43:00   5.2850   5.2850  5.2800    5.2850     4646.0\n",
      "2020-10-20 09:44:00   5.2800   5.2900  5.2800    5.2900     5451.0\n",
      "2020-10-20 09:45:00   5.2850   5.3000  5.2850    5.2900    16999.0\n",
      "2020-10-20 09:46:00   5.2900   5.2900  5.2800    5.2800     2514.0\n",
      "2020-10-20 09:47:00   5.2800   5.2850  5.2723    5.2723     7902.0\n",
      "2020-10-20 09:48:00   5.2800   5.2800  5.2710    5.2710     4389.0\n",
      "2020-10-20 09:49:00   5.2750   5.2800  5.2750    5.2800      645.0\n",
      "2020-10-20 09:50:00   5.2700   5.2700  5.2624    5.2700     2634.0\n",
      "2020-10-20 09:51:00   5.2750   5.2833  5.2750    5.2833    19705.0\n",
      "2020-10-20 09:52:00   5.2843   5.2950  5.2843    5.2950    12994.0\n",
      "2020-10-20 09:53:00   5.2950   5.2950  5.2900    5.2900     6635.0\n",
      "2020-10-20 09:54:00   5.2950   5.2950  5.2900    5.2950     1839.0\n",
      "2020-10-20 09:55:00   5.2900   5.3000  5.2800    5.3000     2572.0\n",
      "2020-10-20 09:56:00   5.2940   5.3000  5.2900    5.2900     1408.0\n",
      "2020-10-20 09:57:00   5.2900   5.2900  5.2900    5.2900     1156.0\n",
      "...                      ...      ...     ...       ...        ...\n",
      "2020-11-02 15:34:00   5.2950   5.2950  5.2900    5.2900     1741.0\n",
      "2020-11-02 15:35:00   5.2900   5.2900  5.2800    5.2800    13469.0\n",
      "2020-11-02 15:36:00   5.2800   5.2850  5.2750    5.2750    23178.0\n",
      "2020-11-02 15:37:00   5.2800   5.2800  5.2750    5.2800     2473.0\n",
      "2020-11-02 15:38:00   5.2750   5.2800  5.2750    5.2800    13695.0\n",
      "2020-11-02 15:39:00   5.2750   5.2800  5.2750    5.2800     1554.0\n",
      "2020-11-02 15:40:00   5.2750   5.2800  5.2724    5.2724     4978.0\n",
      "2020-11-02 15:41:00   5.2800   5.2850  5.2800    5.2850    10370.0\n",
      "2020-11-02 15:42:00   5.2800   5.2850  5.2800    5.2800     2331.0\n",
      "2020-11-02 15:43:00   5.2850   5.2850  5.2800    5.2800     2682.0\n",
      "2020-11-02 15:44:00   5.2850   5.2850  5.2800    5.2850     8186.0\n",
      "2020-11-02 15:45:00   5.2850   5.2850  5.2750    5.2750    25201.0\n",
      "2020-11-02 15:46:00   5.2737   5.2800  5.2700    5.2750    14764.0\n",
      "2020-11-02 15:47:00   5.2701   5.2800  5.2700    5.2700     5805.0\n",
      "2020-11-02 15:48:00   5.2750   5.2770  5.2700    5.2750     6228.0\n",
      "2020-11-02 15:49:00   5.2700   5.2800  5.2700    5.2750     6238.0\n",
      "2020-11-02 15:50:00   5.2700   5.2750  5.2700    5.2750     6725.0\n",
      "2020-11-02 15:51:00   5.2750   5.2800  5.2700    5.2750    50598.0\n",
      "2020-11-02 15:52:00   5.2700   5.2750  5.2700    5.2750     3843.0\n",
      "2020-11-02 15:53:00   5.2700   5.2750  5.2700    5.2750     4944.0\n",
      "2020-11-02 15:54:00   5.2750   5.2800  5.2700    5.2700    14943.0\n",
      "2020-11-02 15:55:00   5.2800   5.2800  5.2700    5.2701    21245.0\n",
      "2020-11-02 15:56:00   5.2750   5.2782  5.2700    5.2782    10265.0\n",
      "2020-11-02 15:57:00   5.2800   5.2850  5.2700    5.2800    79915.0\n",
      "2020-11-02 15:58:00   5.2800   5.2899  5.2800    5.2850     5434.0\n",
      "2020-11-02 15:59:00   5.2800   5.2850  5.2800    5.2800    30921.0\n",
      "2020-11-02 16:00:00   5.2800   5.3000  5.2800    5.3000   110618.0\n",
      "2020-11-02 16:01:00   5.3000   5.3000  5.3000    5.3000    28245.0\n",
      "2020-11-02 16:40:00   5.2996   5.2996  5.2996    5.2996      198.0\n",
      "2020-11-02 17:08:00   5.2500   5.2500  5.2500    5.2500      409.0\n",
      "\n",
      "[3803 rows x 5 columns]\n"
     ]
    }
   ],
   "source": [
    "api_key = 'PD44IT4GXJNV8JA9'\n",
    "ts = TimeSeries(key = api_key, output_format = 'pandas')\n",
    "data, meta_data = ts.get_intraday(symbol = 'TWO', interval = '1min', outputsize = 'full')\n",
    "print(data)"
   ]
  },
  {
   "cell_type": "code",
   "execution_count": 75,
   "metadata": {},
   "outputs": [
    {
     "ename": "FileCreateError",
     "evalue": "[Errno 13] Permission denied: 'outputTWO.xlsx'",
     "output_type": "error",
     "traceback": [
      "\u001b[1;31m---------------------------------------------------------------------------\u001b[0m",
      "\u001b[1;31mPermissionError\u001b[0m                           Traceback (most recent call last)",
      "\u001b[1;32m~\\anaconda3\\lib\\site-packages\\xlsxwriter\\workbook.py\u001b[0m in \u001b[0;36mclose\u001b[1;34m(self)\u001b[0m\n\u001b[0;32m    315\u001b[0m             \u001b[1;32mtry\u001b[0m\u001b[1;33m:\u001b[0m\u001b[1;33m\u001b[0m\u001b[1;33m\u001b[0m\u001b[0m\n\u001b[1;32m--> 316\u001b[1;33m                 \u001b[0mself\u001b[0m\u001b[1;33m.\u001b[0m\u001b[0m_store_workbook\u001b[0m\u001b[1;33m(\u001b[0m\u001b[1;33m)\u001b[0m\u001b[1;33m\u001b[0m\u001b[1;33m\u001b[0m\u001b[0m\n\u001b[0m\u001b[0;32m    317\u001b[0m             \u001b[1;32mexcept\u001b[0m \u001b[0mIOError\u001b[0m \u001b[1;32mas\u001b[0m \u001b[0me\u001b[0m\u001b[1;33m:\u001b[0m\u001b[1;33m\u001b[0m\u001b[1;33m\u001b[0m\u001b[0m\n",
      "\u001b[1;32m~\\anaconda3\\lib\\site-packages\\xlsxwriter\\workbook.py\u001b[0m in \u001b[0;36m_store_workbook\u001b[1;34m(self)\u001b[0m\n\u001b[0;32m    631\u001b[0m         \u001b[1;32mexcept\u001b[0m \u001b[0mIOError\u001b[0m \u001b[1;32mas\u001b[0m \u001b[0me\u001b[0m\u001b[1;33m:\u001b[0m\u001b[1;33m\u001b[0m\u001b[1;33m\u001b[0m\u001b[0m\n\u001b[1;32m--> 632\u001b[1;33m             \u001b[1;32mraise\u001b[0m \u001b[0me\u001b[0m\u001b[1;33m\u001b[0m\u001b[1;33m\u001b[0m\u001b[0m\n\u001b[0m\u001b[0;32m    633\u001b[0m \u001b[1;33m\u001b[0m\u001b[0m\n",
      "\u001b[1;32m~\\anaconda3\\lib\\site-packages\\xlsxwriter\\workbook.py\u001b[0m in \u001b[0;36m_store_workbook\u001b[1;34m(self)\u001b[0m\n\u001b[0;32m    629\u001b[0m             xlsx_file = ZipFile(self.filename, \"w\", compression=ZIP_DEFLATED,\n\u001b[1;32m--> 630\u001b[1;33m                                 allowZip64=self.allow_zip64)\n\u001b[0m\u001b[0;32m    631\u001b[0m         \u001b[1;32mexcept\u001b[0m \u001b[0mIOError\u001b[0m \u001b[1;32mas\u001b[0m \u001b[0me\u001b[0m\u001b[1;33m:\u001b[0m\u001b[1;33m\u001b[0m\u001b[1;33m\u001b[0m\u001b[0m\n",
      "\u001b[1;32m~\\anaconda3\\lib\\zipfile.py\u001b[0m in \u001b[0;36m__init__\u001b[1;34m(self, file, mode, compression, allowZip64, compresslevel)\u001b[0m\n\u001b[0;32m   1239\u001b[0m                 \u001b[1;32mtry\u001b[0m\u001b[1;33m:\u001b[0m\u001b[1;33m\u001b[0m\u001b[1;33m\u001b[0m\u001b[0m\n\u001b[1;32m-> 1240\u001b[1;33m                     \u001b[0mself\u001b[0m\u001b[1;33m.\u001b[0m\u001b[0mfp\u001b[0m \u001b[1;33m=\u001b[0m \u001b[0mio\u001b[0m\u001b[1;33m.\u001b[0m\u001b[0mopen\u001b[0m\u001b[1;33m(\u001b[0m\u001b[0mfile\u001b[0m\u001b[1;33m,\u001b[0m \u001b[0mfilemode\u001b[0m\u001b[1;33m)\u001b[0m\u001b[1;33m\u001b[0m\u001b[1;33m\u001b[0m\u001b[0m\n\u001b[0m\u001b[0;32m   1241\u001b[0m                 \u001b[1;32mexcept\u001b[0m \u001b[0mOSError\u001b[0m\u001b[1;33m:\u001b[0m\u001b[1;33m\u001b[0m\u001b[1;33m\u001b[0m\u001b[0m\n",
      "\u001b[1;31mPermissionError\u001b[0m: [Errno 13] Permission denied: 'outputTWO.xlsx'",
      "\nDuring handling of the above exception, another exception occurred:\n",
      "\u001b[1;31mFileCreateError\u001b[0m                           Traceback (most recent call last)",
      "\u001b[1;32m<ipython-input-75-8892a1c13e6a>\u001b[0m in \u001b[0;36m<module>\u001b[1;34m\u001b[0m\n\u001b[0;32m      2\u001b[0m \u001b[1;32mwhile\u001b[0m \u001b[0mi\u001b[0m \u001b[1;33m==\u001b[0m \u001b[1;36m1\u001b[0m\u001b[1;33m:\u001b[0m\u001b[1;33m\u001b[0m\u001b[1;33m\u001b[0m\u001b[0m\n\u001b[0;32m      3\u001b[0m     \u001b[0mdata\u001b[0m\u001b[1;33m,\u001b[0m \u001b[0mmeta_data\u001b[0m \u001b[1;33m=\u001b[0m \u001b[0mts\u001b[0m\u001b[1;33m.\u001b[0m\u001b[0mget_intraday\u001b[0m\u001b[1;33m(\u001b[0m\u001b[0msymbol\u001b[0m \u001b[1;33m=\u001b[0m \u001b[1;34m'TWO'\u001b[0m\u001b[1;33m,\u001b[0m \u001b[0minterval\u001b[0m \u001b[1;33m=\u001b[0m \u001b[1;34m'1min'\u001b[0m\u001b[1;33m,\u001b[0m \u001b[0moutputsize\u001b[0m \u001b[1;33m=\u001b[0m \u001b[1;34m'full'\u001b[0m\u001b[1;33m)\u001b[0m\u001b[1;33m\u001b[0m\u001b[1;33m\u001b[0m\u001b[0m\n\u001b[1;32m----> 4\u001b[1;33m     \u001b[0mdata\u001b[0m\u001b[1;33m.\u001b[0m\u001b[0mto_excel\u001b[0m\u001b[1;33m(\u001b[0m\u001b[1;34m'outputTWO.xlsx'\u001b[0m\u001b[1;33m)\u001b[0m\u001b[1;33m\u001b[0m\u001b[1;33m\u001b[0m\u001b[0m\n\u001b[0m\u001b[0;32m      5\u001b[0m     \u001b[0mtime\u001b[0m\u001b[1;33m.\u001b[0m\u001b[0msleep\u001b[0m\u001b[1;33m(\u001b[0m\u001b[1;36m60\u001b[0m\u001b[1;33m)\u001b[0m\u001b[1;33m\u001b[0m\u001b[1;33m\u001b[0m\u001b[0m\n",
      "\u001b[1;32m~\\anaconda3\\lib\\site-packages\\pandas\\core\\generic.py\u001b[0m in \u001b[0;36mto_excel\u001b[1;34m(self, excel_writer, sheet_name, na_rep, float_format, columns, header, index, index_label, startrow, startcol, engine, merge_cells, encoding, inf_rep, verbose, freeze_panes)\u001b[0m\n\u001b[0;32m   2125\u001b[0m         formatter.write(excel_writer, sheet_name=sheet_name, startrow=startrow,\n\u001b[0;32m   2126\u001b[0m                         \u001b[0mstartcol\u001b[0m\u001b[1;33m=\u001b[0m\u001b[0mstartcol\u001b[0m\u001b[1;33m,\u001b[0m \u001b[0mfreeze_panes\u001b[0m\u001b[1;33m=\u001b[0m\u001b[0mfreeze_panes\u001b[0m\u001b[1;33m,\u001b[0m\u001b[1;33m\u001b[0m\u001b[1;33m\u001b[0m\u001b[0m\n\u001b[1;32m-> 2127\u001b[1;33m                         engine=engine)\n\u001b[0m\u001b[0;32m   2128\u001b[0m \u001b[1;33m\u001b[0m\u001b[0m\n\u001b[0;32m   2129\u001b[0m     def to_json(self, path_or_buf=None, orient=None, date_format=None,\n",
      "\u001b[1;32m~\\anaconda3\\lib\\site-packages\\pandas\\io\\formats\\excel.py\u001b[0m in \u001b[0;36mwrite\u001b[1;34m(self, writer, sheet_name, startrow, startcol, freeze_panes, engine)\u001b[0m\n\u001b[0;32m    662\u001b[0m                            freeze_panes=freeze_panes)\n\u001b[0;32m    663\u001b[0m         \u001b[1;32mif\u001b[0m \u001b[0mneed_save\u001b[0m\u001b[1;33m:\u001b[0m\u001b[1;33m\u001b[0m\u001b[1;33m\u001b[0m\u001b[0m\n\u001b[1;32m--> 664\u001b[1;33m             \u001b[0mwriter\u001b[0m\u001b[1;33m.\u001b[0m\u001b[0msave\u001b[0m\u001b[1;33m(\u001b[0m\u001b[1;33m)\u001b[0m\u001b[1;33m\u001b[0m\u001b[1;33m\u001b[0m\u001b[0m\n\u001b[0m",
      "\u001b[1;32m~\\anaconda3\\lib\\site-packages\\pandas\\io\\excel.py\u001b[0m in \u001b[0;36msave\u001b[1;34m(self)\u001b[0m\n\u001b[0;32m   1950\u001b[0m         \"\"\"\n\u001b[0;32m   1951\u001b[0m \u001b[1;33m\u001b[0m\u001b[0m\n\u001b[1;32m-> 1952\u001b[1;33m         \u001b[1;32mreturn\u001b[0m \u001b[0mself\u001b[0m\u001b[1;33m.\u001b[0m\u001b[0mbook\u001b[0m\u001b[1;33m.\u001b[0m\u001b[0mclose\u001b[0m\u001b[1;33m(\u001b[0m\u001b[1;33m)\u001b[0m\u001b[1;33m\u001b[0m\u001b[1;33m\u001b[0m\u001b[0m\n\u001b[0m\u001b[0;32m   1953\u001b[0m \u001b[1;33m\u001b[0m\u001b[0m\n\u001b[0;32m   1954\u001b[0m     def write_cells(self, cells, sheet_name=None, startrow=0, startcol=0,\n",
      "\u001b[1;32m~\\anaconda3\\lib\\site-packages\\xlsxwriter\\workbook.py\u001b[0m in \u001b[0;36mclose\u001b[1;34m(self)\u001b[0m\n\u001b[0;32m    316\u001b[0m                 \u001b[0mself\u001b[0m\u001b[1;33m.\u001b[0m\u001b[0m_store_workbook\u001b[0m\u001b[1;33m(\u001b[0m\u001b[1;33m)\u001b[0m\u001b[1;33m\u001b[0m\u001b[1;33m\u001b[0m\u001b[0m\n\u001b[0;32m    317\u001b[0m             \u001b[1;32mexcept\u001b[0m \u001b[0mIOError\u001b[0m \u001b[1;32mas\u001b[0m \u001b[0me\u001b[0m\u001b[1;33m:\u001b[0m\u001b[1;33m\u001b[0m\u001b[1;33m\u001b[0m\u001b[0m\n\u001b[1;32m--> 318\u001b[1;33m                 \u001b[1;32mraise\u001b[0m \u001b[0mFileCreateError\u001b[0m\u001b[1;33m(\u001b[0m\u001b[0me\u001b[0m\u001b[1;33m)\u001b[0m\u001b[1;33m\u001b[0m\u001b[1;33m\u001b[0m\u001b[0m\n\u001b[0m\u001b[0;32m    319\u001b[0m             \u001b[1;32mexcept\u001b[0m \u001b[0mLargeZipFile\u001b[0m \u001b[1;32mas\u001b[0m \u001b[0me\u001b[0m\u001b[1;33m:\u001b[0m\u001b[1;33m\u001b[0m\u001b[1;33m\u001b[0m\u001b[0m\n\u001b[0;32m    320\u001b[0m                 raise FileSizeError(\"Filesize would require ZIP64 extensions. \"\n",
      "\u001b[1;31mFileCreateError\u001b[0m: [Errno 13] Permission denied: 'outputTWO.xlsx'"
     ]
    }
   ],
   "source": [
    "i = 1 \n",
    "while i == 1:\n",
    "    data, meta_data = ts.get_intraday(symbol = 'TWO', interval = '1min', outputsize = 'full')\n",
    "    data.to_excel('outputTWO.xlsx')\n",
    "    time.sleep(60)"
   ]
  },
  {
   "cell_type": "code",
   "execution_count": 76,
   "metadata": {},
   "outputs": [
    {
     "name": "stdout",
     "output_type": "stream",
     "text": [
      "date\n",
      "2020-10-20 09:15:00         NaN\n",
      "2020-10-20 09:16:00    0.000000\n",
      "2020-10-20 09:30:00    0.001931\n",
      "2020-10-20 09:31:00    0.001927\n",
      "2020-10-20 09:32:00    0.005769\n",
      "2020-10-20 09:33:00   -0.000956\n",
      "2020-10-20 09:34:00    0.005742\n",
      "2020-10-20 09:35:00   -0.002854\n",
      "2020-10-20 09:36:00    0.003817\n",
      "2020-10-20 09:37:00   -0.000951\n",
      "2020-10-20 09:38:00   -0.002512\n",
      "2020-10-20 09:39:00    0.003472\n",
      "2020-10-20 09:40:00    0.001901\n",
      "2020-10-20 09:41:00    0.001898\n",
      "2020-10-20 09:42:00    0.000000\n",
      "2020-10-20 09:43:00    0.000947\n",
      "2020-10-20 09:44:00    0.000946\n",
      "2020-10-20 09:45:00    0.000000\n",
      "2020-10-20 09:46:00   -0.001890\n",
      "2020-10-20 09:47:00   -0.001458\n",
      "2020-10-20 09:48:00   -0.000247\n",
      "2020-10-20 09:49:00    0.001707\n",
      "2020-10-20 09:50:00   -0.001894\n",
      "2020-10-20 09:51:00    0.002524\n",
      "2020-10-20 09:52:00    0.002215\n",
      "2020-10-20 09:53:00   -0.000944\n",
      "2020-10-20 09:54:00    0.000945\n",
      "2020-10-20 09:55:00    0.000944\n",
      "2020-10-20 09:56:00   -0.001887\n",
      "2020-10-20 09:57:00    0.000000\n",
      "                         ...   \n",
      "2020-11-02 15:34:00    0.000000\n",
      "2020-11-02 15:35:00   -0.001890\n",
      "2020-11-02 15:36:00   -0.000947\n",
      "2020-11-02 15:37:00    0.000948\n",
      "2020-11-02 15:38:00    0.000000\n",
      "2020-11-02 15:39:00    0.000000\n",
      "2020-11-02 15:40:00   -0.001439\n",
      "2020-11-02 15:41:00    0.002390\n",
      "2020-11-02 15:42:00   -0.000946\n",
      "2020-11-02 15:43:00    0.000000\n",
      "2020-11-02 15:44:00    0.000947\n",
      "2020-11-02 15:45:00   -0.001892\n",
      "2020-11-02 15:46:00    0.000000\n",
      "2020-11-02 15:47:00   -0.000948\n",
      "2020-11-02 15:48:00    0.000949\n",
      "2020-11-02 15:49:00    0.000000\n",
      "2020-11-02 15:50:00    0.000000\n",
      "2020-11-02 15:51:00    0.000000\n",
      "2020-11-02 15:52:00    0.000000\n",
      "2020-11-02 15:53:00    0.000000\n",
      "2020-11-02 15:54:00   -0.000948\n",
      "2020-11-02 15:55:00    0.000019\n",
      "2020-11-02 15:56:00    0.001537\n",
      "2020-11-02 15:57:00    0.000341\n",
      "2020-11-02 15:58:00    0.000947\n",
      "2020-11-02 15:59:00   -0.000946\n",
      "2020-11-02 16:00:00    0.003788\n",
      "2020-11-02 16:01:00    0.000000\n",
      "2020-11-02 16:40:00   -0.000075\n",
      "2020-11-02 17:08:00   -0.009359\n",
      "Name: 4. close, Length: 3803, dtype: float64\n"
     ]
    }
   ],
   "source": [
    "close_data = data['4. close']\n",
    "percent_change = close_data.pct_change()\n",
    "print(percent_change)"
   ]
  },
  {
   "cell_type": "code",
   "execution_count": 77,
   "metadata": {},
   "outputs": [],
   "source": [
    "last_change = percent_change[-1]\n",
    "\n"
   ]
  },
  {
   "cell_type": "code",
   "execution_count": 78,
   "metadata": {},
   "outputs": [
    {
     "name": "stdout",
     "output_type": "stream",
     "text": [
      "TWO Alert:-0.009359196920522228\n"
     ]
    }
   ],
   "source": [
    "if abs(last_change) > 0.0004:\n",
    "    print(\"TWO Alert:\" + str(last_change))"
   ]
  },
  {
   "cell_type": "code",
   "execution_count": null,
   "metadata": {},
   "outputs": [],
   "source": []
  },
  {
   "cell_type": "code",
   "execution_count": null,
   "metadata": {},
   "outputs": [],
   "source": []
  }
 ],
 "metadata": {
  "kernelspec": {
   "display_name": "stock_price",
   "language": "python",
   "name": "stock_price"
  },
  "language_info": {
   "codemirror_mode": {
    "name": "ipython",
    "version": 3
   },
   "file_extension": ".py",
   "mimetype": "text/x-python",
   "name": "python",
   "nbconvert_exporter": "python",
   "pygments_lexer": "ipython3",
   "version": "3.7.6"
  }
 },
 "nbformat": 4,
 "nbformat_minor": 4
}
