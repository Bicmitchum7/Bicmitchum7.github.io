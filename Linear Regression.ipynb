{
 "cells": [
  {
   "cell_type": "code",
   "execution_count": 18,
   "metadata": {},
   "outputs": [],
   "source": [
    "import pandas as pd\n",
    "df = pd.read_excel('ToyotaCorolla.xlsx', sheet_name='data')"
   ]
  },
  {
   "cell_type": "code",
   "execution_count": 19,
   "metadata": {},
   "outputs": [
    {
     "data": {
      "text/plain": [
       "(1436, 39)"
      ]
     },
     "execution_count": 19,
     "metadata": {},
     "output_type": "execute_result"
    }
   ],
   "source": [
    "df.shape"
   ]
  },
  {
   "cell_type": "code",
   "execution_count": 20,
   "metadata": {},
   "outputs": [
    {
     "data": {
      "text/plain": [
       "array(['Diesel', 'Petrol', 'CNG'], dtype=object)"
      ]
     },
     "execution_count": 20,
     "metadata": {},
     "output_type": "execute_result"
    }
   ],
   "source": [
    "df.Fuel_Type.unique()"
   ]
  },
  {
   "cell_type": "code",
   "execution_count": 21,
   "metadata": {},
   "outputs": [
    {
     "data": {
      "text/html": [
       "<div>\n",
       "<style scoped>\n",
       "    .dataframe tbody tr th:only-of-type {\n",
       "        vertical-align: middle;\n",
       "    }\n",
       "\n",
       "    .dataframe tbody tr th {\n",
       "        vertical-align: top;\n",
       "    }\n",
       "\n",
       "    .dataframe thead th {\n",
       "        text-align: right;\n",
       "    }\n",
       "</style>\n",
       "<table border=\"1\" class=\"dataframe\">\n",
       "  <thead>\n",
       "    <tr style=\"text-align: right;\">\n",
       "      <th></th>\n",
       "      <th>Id</th>\n",
       "      <th>Model</th>\n",
       "      <th>Price</th>\n",
       "      <th>Age_08_04</th>\n",
       "      <th>Mfg_Month</th>\n",
       "      <th>Mfg_Year</th>\n",
       "      <th>KM</th>\n",
       "      <th>HP</th>\n",
       "      <th>Met_Color</th>\n",
       "      <th>Color</th>\n",
       "      <th>...</th>\n",
       "      <th>Mistlamps</th>\n",
       "      <th>Sport_Model</th>\n",
       "      <th>Backseat_Divider</th>\n",
       "      <th>Metallic_Rim</th>\n",
       "      <th>Radio_cassette</th>\n",
       "      <th>Parking_Assistant</th>\n",
       "      <th>Tow_Bar</th>\n",
       "      <th>Fuel_Type_CNG</th>\n",
       "      <th>Fuel_Type_Diesel</th>\n",
       "      <th>Fuel_Type_Petrol</th>\n",
       "    </tr>\n",
       "  </thead>\n",
       "  <tbody>\n",
       "    <tr>\n",
       "      <th>0</th>\n",
       "      <td>1</td>\n",
       "      <td>TOYOTA Corolla 2.0 D4D HATCHB TERRA 2/3-Doors</td>\n",
       "      <td>13500</td>\n",
       "      <td>23</td>\n",
       "      <td>10</td>\n",
       "      <td>2002</td>\n",
       "      <td>46986</td>\n",
       "      <td>90</td>\n",
       "      <td>1</td>\n",
       "      <td>Blue</td>\n",
       "      <td>...</td>\n",
       "      <td>0</td>\n",
       "      <td>0</td>\n",
       "      <td>1</td>\n",
       "      <td>0</td>\n",
       "      <td>0</td>\n",
       "      <td>0</td>\n",
       "      <td>0</td>\n",
       "      <td>0</td>\n",
       "      <td>1</td>\n",
       "      <td>0</td>\n",
       "    </tr>\n",
       "    <tr>\n",
       "      <th>1</th>\n",
       "      <td>2</td>\n",
       "      <td>TOYOTA Corolla 2.0 D4D HATCHB TERRA 2/3-Doors</td>\n",
       "      <td>13750</td>\n",
       "      <td>23</td>\n",
       "      <td>10</td>\n",
       "      <td>2002</td>\n",
       "      <td>72937</td>\n",
       "      <td>90</td>\n",
       "      <td>1</td>\n",
       "      <td>Silver</td>\n",
       "      <td>...</td>\n",
       "      <td>0</td>\n",
       "      <td>0</td>\n",
       "      <td>1</td>\n",
       "      <td>0</td>\n",
       "      <td>0</td>\n",
       "      <td>0</td>\n",
       "      <td>0</td>\n",
       "      <td>0</td>\n",
       "      <td>1</td>\n",
       "      <td>0</td>\n",
       "    </tr>\n",
       "    <tr>\n",
       "      <th>2</th>\n",
       "      <td>3</td>\n",
       "      <td>TOYOTA Corolla 2.0 D4D HATCHB TERRA 2/3-Doors</td>\n",
       "      <td>13950</td>\n",
       "      <td>24</td>\n",
       "      <td>9</td>\n",
       "      <td>2002</td>\n",
       "      <td>41711</td>\n",
       "      <td>90</td>\n",
       "      <td>1</td>\n",
       "      <td>Blue</td>\n",
       "      <td>...</td>\n",
       "      <td>0</td>\n",
       "      <td>0</td>\n",
       "      <td>1</td>\n",
       "      <td>0</td>\n",
       "      <td>0</td>\n",
       "      <td>0</td>\n",
       "      <td>0</td>\n",
       "      <td>0</td>\n",
       "      <td>1</td>\n",
       "      <td>0</td>\n",
       "    </tr>\n",
       "    <tr>\n",
       "      <th>3</th>\n",
       "      <td>4</td>\n",
       "      <td>TOYOTA Corolla 2.0 D4D HATCHB TERRA 2/3-Doors</td>\n",
       "      <td>14950</td>\n",
       "      <td>26</td>\n",
       "      <td>7</td>\n",
       "      <td>2002</td>\n",
       "      <td>48000</td>\n",
       "      <td>90</td>\n",
       "      <td>0</td>\n",
       "      <td>Black</td>\n",
       "      <td>...</td>\n",
       "      <td>0</td>\n",
       "      <td>0</td>\n",
       "      <td>1</td>\n",
       "      <td>0</td>\n",
       "      <td>0</td>\n",
       "      <td>0</td>\n",
       "      <td>0</td>\n",
       "      <td>0</td>\n",
       "      <td>1</td>\n",
       "      <td>0</td>\n",
       "    </tr>\n",
       "    <tr>\n",
       "      <th>4</th>\n",
       "      <td>5</td>\n",
       "      <td>TOYOTA Corolla 2.0 D4D HATCHB SOL 2/3-Doors</td>\n",
       "      <td>13750</td>\n",
       "      <td>30</td>\n",
       "      <td>3</td>\n",
       "      <td>2002</td>\n",
       "      <td>38500</td>\n",
       "      <td>90</td>\n",
       "      <td>0</td>\n",
       "      <td>Black</td>\n",
       "      <td>...</td>\n",
       "      <td>1</td>\n",
       "      <td>0</td>\n",
       "      <td>1</td>\n",
       "      <td>0</td>\n",
       "      <td>0</td>\n",
       "      <td>0</td>\n",
       "      <td>0</td>\n",
       "      <td>0</td>\n",
       "      <td>1</td>\n",
       "      <td>0</td>\n",
       "    </tr>\n",
       "  </tbody>\n",
       "</table>\n",
       "<p>5 rows × 41 columns</p>\n",
       "</div>"
      ],
      "text/plain": [
       "   Id                                           Model  Price  Age_08_04  \\\n",
       "0   1   TOYOTA Corolla 2.0 D4D HATCHB TERRA 2/3-Doors  13500         23   \n",
       "1   2   TOYOTA Corolla 2.0 D4D HATCHB TERRA 2/3-Doors  13750         23   \n",
       "2   3   TOYOTA Corolla 2.0 D4D HATCHB TERRA 2/3-Doors  13950         24   \n",
       "3   4   TOYOTA Corolla 2.0 D4D HATCHB TERRA 2/3-Doors  14950         26   \n",
       "4   5     TOYOTA Corolla 2.0 D4D HATCHB SOL 2/3-Doors  13750         30   \n",
       "\n",
       "   Mfg_Month  Mfg_Year     KM  HP  Met_Color   Color  ...  Mistlamps  \\\n",
       "0         10      2002  46986  90          1    Blue  ...          0   \n",
       "1         10      2002  72937  90          1  Silver  ...          0   \n",
       "2          9      2002  41711  90          1    Blue  ...          0   \n",
       "3          7      2002  48000  90          0   Black  ...          0   \n",
       "4          3      2002  38500  90          0   Black  ...          1   \n",
       "\n",
       "   Sport_Model  Backseat_Divider  Metallic_Rim  Radio_cassette  \\\n",
       "0            0                 1             0               0   \n",
       "1            0                 1             0               0   \n",
       "2            0                 1             0               0   \n",
       "3            0                 1             0               0   \n",
       "4            0                 1             0               0   \n",
       "\n",
       "   Parking_Assistant  Tow_Bar  Fuel_Type_CNG  Fuel_Type_Diesel  \\\n",
       "0                  0        0              0                 1   \n",
       "1                  0        0              0                 1   \n",
       "2                  0        0              0                 1   \n",
       "3                  0        0              0                 1   \n",
       "4                  0        0              0                 1   \n",
       "\n",
       "   Fuel_Type_Petrol  \n",
       "0                 0  \n",
       "1                 0  \n",
       "2                 0  \n",
       "3                 0  \n",
       "4                 0  \n",
       "\n",
       "[5 rows x 41 columns]"
      ]
     },
     "execution_count": 21,
     "metadata": {},
     "output_type": "execute_result"
    }
   ],
   "source": [
    "#Get dummies for fuel type \n",
    "df = pd.get_dummies(df, columns=['Fuel_Type'])\n",
    "df.head()"
   ]
  },
  {
   "cell_type": "code",
   "execution_count": 22,
   "metadata": {},
   "outputs": [
    {
     "name": "stdout",
     "output_type": "stream",
     "text": [
      "<class 'pandas.core.frame.DataFrame'>\n",
      "RangeIndex: 1436 entries, 0 to 1435\n",
      "Data columns (total 41 columns):\n",
      "Id                   1436 non-null int64\n",
      "Model                1436 non-null object\n",
      "Price                1436 non-null int64\n",
      "Age_08_04            1436 non-null int64\n",
      "Mfg_Month            1436 non-null int64\n",
      "Mfg_Year             1436 non-null int64\n",
      "KM                   1436 non-null int64\n",
      "HP                   1436 non-null int64\n",
      "Met_Color            1436 non-null int64\n",
      "Color                1436 non-null object\n",
      "Automatic            1436 non-null int64\n",
      "CC                   1436 non-null int64\n",
      "Doors                1436 non-null int64\n",
      "Cylinders            1436 non-null int64\n",
      "Gears                1436 non-null int64\n",
      "Quarterly_Tax        1436 non-null int64\n",
      "Weight               1436 non-null int64\n",
      "Mfr_Guarantee        1436 non-null int64\n",
      "BOVAG_Guarantee      1436 non-null int64\n",
      "Guarantee_Period     1436 non-null int64\n",
      "ABS                  1436 non-null int64\n",
      "Airbag_1             1436 non-null int64\n",
      "Airbag_2             1436 non-null int64\n",
      "Airco                1436 non-null int64\n",
      "Automatic_airco      1436 non-null int64\n",
      "Boardcomputer        1436 non-null int64\n",
      "CD_Player            1436 non-null int64\n",
      "Central_Lock         1436 non-null int64\n",
      "Powered_Windows      1436 non-null int64\n",
      "Power_Steering       1436 non-null int64\n",
      "Radio                1436 non-null int64\n",
      "Mistlamps            1436 non-null int64\n",
      "Sport_Model          1436 non-null int64\n",
      "Backseat_Divider     1436 non-null int64\n",
      "Metallic_Rim         1436 non-null int64\n",
      "Radio_cassette       1436 non-null int64\n",
      "Parking_Assistant    1436 non-null int64\n",
      "Tow_Bar              1436 non-null int64\n",
      "Fuel_Type_CNG        1436 non-null uint8\n",
      "Fuel_Type_Diesel     1436 non-null uint8\n",
      "Fuel_Type_Petrol     1436 non-null uint8\n",
      "dtypes: int64(36), object(2), uint8(3)\n",
      "memory usage: 430.6+ KB\n"
     ]
    }
   ],
   "source": [
    "df.info()"
   ]
  },
  {
   "cell_type": "code",
   "execution_count": 23,
   "metadata": {},
   "outputs": [],
   "source": [
    "y = df['Price']\n",
    "X = df.drop(columns=['Price', 'Color', \n",
    "                     'Id', \"Model\",  \n",
    "                     'Mfg_Month', 'Mfg_Year',\n",
    "                    'Fuel_Type_Petrol'])"
   ]
  },
  {
   "cell_type": "code",
   "execution_count": 24,
   "metadata": {},
   "outputs": [],
   "source": [
    "from sklearn.model_selection import train_test_split\n",
    "x_train, x_test, y_train, y_test = train_test_split(X, y,\n",
    "                                                  test_size = .4,\n",
    "                                                  random_state=20)"
   ]
  },
  {
   "cell_type": "markdown",
   "metadata": {},
   "source": [
    "<h3> The process of supervised machine learning</h3>\n",
    "<img src='train_test_process.jpg' >"
   ]
  },
  {
   "cell_type": "code",
   "execution_count": 25,
   "metadata": {},
   "outputs": [
    {
     "name": "stdout",
     "output_type": "stream",
     "text": [
      "Average error: 10.14\n",
      "Mean absolute error: 936.89\n",
      "Mean absolute error: 936.89\n",
      "Root mean squared error: 1917.60\n",
      "percentage absolute error: 0.09\n",
      "percentage absolute error: 0.09\n",
      "R-squared: 0.73\n"
     ]
    }
   ],
   "source": [
    "import math\n",
    "from statistics import mean\n",
    "from sklearn.linear_model import LinearRegression \n",
    "from sklearn.metrics import mean_squared_error, r2_score, mean_absolute_error\n",
    "regr = LinearRegression()\n",
    "regr.fit(x_train, y_train)\n",
    "y_pred = regr.predict(x_test)\n",
    "print('Average error: %.2f' %mean(y_test - y_pred))\n",
    "print('Mean absolute error: %.2f' %mean_absolute_error(y_test, y_pred))\n",
    "print('Mean absolute error: %.2f' %(mean(abs(y_test - y_pred))))\n",
    "print(\"Root mean squared error: %.2f\"\n",
    "      % math.sqrt(mean_squared_error(y_test, y_pred)))\n",
    "print('percentage absolute error: %.2f' %mean(abs((y_test - y_pred)/y_test)))\n",
    "print('percentage absolute error: %.2f' %(mean(abs(y_test - y_pred))/mean(y_test)))\n",
    "print('R-squared: %.2f' % r2_score(y_test, y_pred))"
   ]
  },
  {
   "cell_type": "code",
   "execution_count": 26,
   "metadata": {
    "scrolled": false
   },
   "outputs": [
    {
     "name": "stdout",
     "output_type": "stream",
     "text": [
      "Coefficients: \n",
      " [['Age_08_04' -108.85571500751234]\n",
      " ['KM' -0.01601378489148326]\n",
      " ['HP' 32.49555675458907]\n",
      " ['Met_Color' -49.81114074712826]\n",
      " ['Automatic' 509.8798352590316]\n",
      " ['CC' -2.5184584134200647]\n",
      " ['Doors' 77.75416967288497]\n",
      " ['Cylinders' -6.400568963726982e-10]\n",
      " ['Gears' 100.98362042369288]\n",
      " ['Quarterly_Tax' 18.214541562723877]\n",
      " ['Weight' 14.134845694203266]\n",
      " ['Mfr_Guarantee' 198.0598768883527]\n",
      " ['BOVAG_Guarantee' 584.3347765744367]\n",
      " ['Guarantee_Period' 71.46347636722696]\n",
      " ['ABS' -203.22924098663648]\n",
      " ['Airbag_1' -258.33417023843504]\n",
      " ['Airbag_2' -69.62317078084213]\n",
      " ['Airco' 197.357028203751]\n",
      " ['Automatic_airco' 2369.9824048844507]\n",
      " ['Boardcomputer' -111.36668825217384]\n",
      " ['CD_Player' 326.0646372270601]\n",
      " ['Central_Lock' 77.74493305929295]\n",
      " ['Powered_Windows' 306.88418107084874]\n",
      " ['Power_Steering' 459.5966022713743]\n",
      " ['Radio' 505.29738949284547]\n",
      " ['Mistlamps' -221.11779960106503]\n",
      " ['Sport_Model' 195.4731038501809]\n",
      " ['Backseat_Divider' -281.2290894475395]\n",
      " ['Metallic_Rim' 211.21822995804942]\n",
      " ['Radio_cassette' -724.5884040102019]\n",
      " ['Parking_Assistant' -532.5594580999261]\n",
      " ['Tow_Bar' -130.54227936757107]\n",
      " ['Fuel_Type_CNG' -2711.8751230876287]\n",
      " ['Fuel_Type_Diesel' -536.5483332276519]]\n"
     ]
    }
   ],
   "source": [
    "import numpy as np\n",
    "coefficients = np.column_stack((X.columns, regr.coef_)) #join column names and coeffcients\n",
    "print('Coefficients: \\n', coefficients)"
   ]
  },
  {
   "cell_type": "code",
   "execution_count": 27,
   "metadata": {},
   "outputs": [
    {
     "data": {
      "image/png": "[encoded data removed]",
      "text/plain": [
       "<Figure size 432x288 with 1 Axes>"
      ]
     },
     "metadata": {
      "needs_background": "light"
     },
     "output_type": "display_data"
    }
   ],
   "source": [
    "%matplotlib inline\n",
    "import matplotlib.pyplot as plt\n",
    "#plot predicted values vs residual\n",
    "#use blue for residuals of training data\n",
    "plt.scatter(regr.predict(x_train), y_train - regr.predict(x_train), c='b') \n",
    "#use green for residuals of test data\n",
    "plt.scatter(y_test, y_test - y_pred, c='g') \n",
    "plt.ylabel('residuals')\n",
    "plt.xlabel('actual value')\n",
    "plt.show()"
   ]
  },
  {
   "cell_type": "markdown",
   "metadata": {},
   "source": [
    "Below we use recursive feature elimination to select the best model with 5 features.<br> \n",
    "the goal of recursive feature elimination (RFE) is to select features by recursively considering smaller and smaller sets of features. First, the estimator is trained on the initial set of features and the importance of each feature is obtained either through a coef_ attribute or through a feature_importances_ attribute. Then, the least important features are pruned from current set of features. That procedure is recursively repeated on the pruned set until the desired number of features to select is eventually reached.\n",
    "<a href='http://scikit-learn.org/stable/modules/generated/sklearn.feature_selection.RFE.html#sklearn.feature_selection.RFE'>more information</a>"
   ]
  },
  {
   "cell_type": "code",
   "execution_count": 28,
   "metadata": {},
   "outputs": [],
   "source": [
    "#need to normalize data before using RFE\n",
    "\n",
    "from sklearn import preprocessing\n",
    "scaler = preprocessing.StandardScaler().fit(x_train)\n",
    "x_train_normalized = pd.DataFrame(scaler.transform(x_train), columns = x_train.columns)\n",
    "x_test_normalized = pd.DataFrame(scaler.transform(x_test), columns = x_test.columns)"
   ]
  },
  {
   "cell_type": "code",
   "execution_count": 29,
   "metadata": {},
   "outputs": [
    {
     "data": {
      "text/plain": [
       "array([ True,  True,  True, False, False, False, False, False, False,\n",
       "       False,  True, False, False, False, False, False, False, False,\n",
       "        True, False, False, False, False, False, False, False, False,\n",
       "       False, False, False, False, False, False, False])"
      ]
     },
     "execution_count": 29,
     "metadata": {},
     "output_type": "execute_result"
    }
   ],
   "source": [
    "from sklearn.feature_selection import RFE\n",
    "regr = LinearRegression()\n",
    "#parameters: estimator, n_features_to_select=None, step=1\n",
    "selector = RFE(regr, 5, step=1) \n",
    "selector.fit(x_train_normalized, y_train)\n",
    "selector.support_"
   ]
  },
  {
   "cell_type": "code",
   "execution_count": 30,
   "metadata": {},
   "outputs": [
    {
     "data": {
      "text/plain": [
       "array([ 1,  1,  1, 28, 17,  2, 20, 30, 29,  3,  1, 13, 10,  8, 19, 24, 26,\n",
       "       14,  1, 22, 11, 25,  9, 23,  5, 15, 18, 12, 16,  4, 27, 21,  7,  6])"
      ]
     },
     "execution_count": 30,
     "metadata": {},
     "output_type": "execute_result"
    }
   ],
   "source": [
    "selector.ranking_"
   ]
  },
  {
   "cell_type": "code",
   "execution_count": 31,
   "metadata": {},
   "outputs": [
    {
     "data": {
      "text/plain": [
       "array([-2149.1125531 ,  -733.50379954,   293.23284952,   731.80111809,\n",
       "         577.26935824])"
      ]
     },
     "execution_count": 31,
     "metadata": {},
     "output_type": "execute_result"
    }
   ],
   "source": [
    "selector.estimator_.coef_"
   ]
  },
  {
   "cell_type": "code",
   "execution_count": 32,
   "metadata": {},
   "outputs": [],
   "source": [
    "def show_best_model(support_array, columns, model, test_data, test_labels):\n",
    "    y_pred = model.predict(test_data.iloc[:, support_array])\n",
    "    r2 = r2_score(test_labels, y_pred)\n",
    "    n = len(y_pred) #size of test set\n",
    "    p = len(model.coef_) #number of features\n",
    "    adjusted_r2 = 1-(1-r2)*(n-1)/(n-p-1)\n",
    "    print('Adjusted R-squared: %.2f' % adjusted_r2)\n",
    "    j = 0;\n",
    "    for i in range(len(support_array)):\n",
    "        if support_array[i] == True:\n",
    "            print(columns[i], model.coef_[j])\n",
    "            j +=1"
   ]
  },
  {
   "cell_type": "code",
   "execution_count": 33,
   "metadata": {},
   "outputs": [
    {
     "name": "stdout",
     "output_type": "stream",
     "text": [
      "Adjusted R-squared: 0.88\n",
      "Age_08_04 -2149.1125531004336\n",
      "KM -733.5037995438827\n",
      "HP 293.2328495218626\n",
      "Weight 731.8011180932692\n",
      "Automatic_airco 577.2693582381627\n"
     ]
    }
   ],
   "source": [
    "show_best_model(selector.support_, x_train.columns, selector.estimator_, x_test_normalized, y_test)"
   ]
  },
  {
   "cell_type": "markdown",
   "metadata": {},
   "source": []
  },
  {
   "cell_type": "code",
   "execution_count": null,
   "metadata": {},
   "outputs": [],
   "source": []
  }
 ],
 "metadata": {
  "kernelspec": {
   "display_name": "Python 3",
   "language": "python",
   "name": "python3"
  },
  "language_info": {
   "codemirror_mode": {
    "name": "ipython",
    "version": 3
   },
   "file_extension": ".py",
   "mimetype": "text/x-python",
   "name": "python",
   "nbconvert_exporter": "python",
   "pygments_lexer": "ipython3",
   "version": "3.7.6"
  }
 },
 "nbformat": 4,
 "nbformat_minor": 2
}
